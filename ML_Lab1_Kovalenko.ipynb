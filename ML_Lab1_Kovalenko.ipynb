{
  "nbformat": 4,
  "nbformat_minor": 0,
  "metadata": {
    "colab": {
      "name": "ЛР1_Коваленко_КМ-72",
      "provenance": [],
      "collapsed_sections": []
    },
    "kernelspec": {
      "display_name": "Python 3",
      "name": "python3"
    },
    "language_info": {
      "name": "python"
    }
  },
  "cells": [
    {
      "cell_type": "markdown",
      "metadata": {
        "id": "zhlaKIKZtjjg"
      },
      "source": [
        "**Лабораторна робота №1. Лінійна і логістична регресія**\n",
        "\n",
        "**Частина 1. Лінійна регресія**\n",
        "\n",
        "Приблизний строк виконання - 8 годин\n",
        "\n",
        "**Рекомендована дата здачі: 25 жовтня 2021 року**\n",
        "\n",
        "Виконала студентка групи [КМ-11мн] [Коваленко Олександра Петрівна]\n",
        "\n",
        "Студент здав роботу: (заповнюється викладачем відповідно до дати повідомлення з роботою у Slack)\n",
        "\n",
        "Студент захистив роботу на оцінку: (заповнюється викладачем)\n",
        "\n",
        "**Зауваження до виконання роботи: метод найменших квадратів, алгоритм градієнтного спуску і механізм К-кратної крос-валідації потрібно запрограмувати власноруч.**\n"
      ]
    },
    {
      "cell_type": "code",
      "metadata": {
        "id": "0hO97Bq887yL"
      },
      "source": [
        "import pandas as pd\n",
        "import numpy as np\n",
        "import seaborn as sns\n",
        "from matplotlib import pyplot as plt\n",
        "import plotly.graph_objects as go\n",
        "from plotly.subplots import make_subplots\n",
        "import random"
      ],
      "execution_count": null,
      "outputs": []
    },
    {
      "cell_type": "markdown",
      "metadata": {
        "id": "-3QeDrxkt1Nc"
      },
      "source": [
        "1. Обрати відповідний файл з даними."
      ]
    },
    {
      "cell_type": "code",
      "metadata": {
        "colab": {
          "base_uri": "https://localhost:8080/",
          "height": 423
        },
        "id": "vPy7lFAst9zl",
        "outputId": "40f81da7-839e-454a-8284-8c2caf07f30f"
      },
      "source": [
        "file_url = \"https://raw.githubusercontent.com/IvanSergeyevichZhuk/ML_KPI/main/Data/Lab1/Part1/MN/MN09-Kovalenko.csv\"\n",
        "df = pd.read_csv(file_url)\n",
        "df = df.set_axis(['values'], axis=1)\n",
        "df = df['values'].str.split(';',expand=True).astype(np.float64)\n",
        "\n",
        "TRAIN = df.iloc[:100]\n",
        "TEST = df.iloc[-25:].reset_index(drop=True)\n",
        "\n",
        "X_train = TRAIN.iloc[:,:-1]\n",
        "Y_train = TRAIN.iloc[:,-1]\n",
        "X_test = TEST.iloc[:,:-1]\n",
        "Y_test = TEST.iloc[:,-1]\n",
        "\n",
        "n = len(X_train[0])\n",
        "\n",
        "train = df.iloc[:200]\n",
        "test = df.iloc[-50:].reset_index(drop=True)\n",
        "\n",
        "train_x = train.iloc[:,:-1]\n",
        "train_y = train.iloc[:,-1]\n",
        "test_x = test.iloc[:,:-1]\n",
        "test_y = test.iloc[:,-1]\n",
        "\n",
        "df"
      ],
      "execution_count": null,
      "outputs": [
        {
          "output_type": "execute_result",
          "data": {
            "text/html": [
              "<div>\n",
              "<style scoped>\n",
              "    .dataframe tbody tr th:only-of-type {\n",
              "        vertical-align: middle;\n",
              "    }\n",
              "\n",
              "    .dataframe tbody tr th {\n",
              "        vertical-align: top;\n",
              "    }\n",
              "\n",
              "    .dataframe thead th {\n",
              "        text-align: right;\n",
              "    }\n",
              "</style>\n",
              "<table border=\"1\" class=\"dataframe\">\n",
              "  <thead>\n",
              "    <tr style=\"text-align: right;\">\n",
              "      <th></th>\n",
              "      <th>0</th>\n",
              "      <th>1</th>\n",
              "      <th>2</th>\n",
              "      <th>3</th>\n",
              "      <th>4</th>\n",
              "      <th>5</th>\n",
              "      <th>6</th>\n",
              "      <th>7</th>\n",
              "    </tr>\n",
              "  </thead>\n",
              "  <tbody>\n",
              "    <tr>\n",
              "      <th>0</th>\n",
              "      <td>0.630</td>\n",
              "      <td>0.455</td>\n",
              "      <td>0.150</td>\n",
              "      <td>1.1315</td>\n",
              "      <td>0.4810</td>\n",
              "      <td>0.2745</td>\n",
              "      <td>0.3050</td>\n",
              "      <td>9.0</td>\n",
              "    </tr>\n",
              "    <tr>\n",
              "      <th>1</th>\n",
              "      <td>0.630</td>\n",
              "      <td>0.480</td>\n",
              "      <td>0.150</td>\n",
              "      <td>1.2710</td>\n",
              "      <td>0.6605</td>\n",
              "      <td>0.2425</td>\n",
              "      <td>0.3100</td>\n",
              "      <td>11.0</td>\n",
              "    </tr>\n",
              "    <tr>\n",
              "      <th>2</th>\n",
              "      <td>0.630</td>\n",
              "      <td>0.490</td>\n",
              "      <td>0.225</td>\n",
              "      <td>1.3360</td>\n",
              "      <td>0.6805</td>\n",
              "      <td>0.2590</td>\n",
              "      <td>0.3245</td>\n",
              "      <td>10.0</td>\n",
              "    </tr>\n",
              "    <tr>\n",
              "      <th>3</th>\n",
              "      <td>0.635</td>\n",
              "      <td>0.505</td>\n",
              "      <td>0.145</td>\n",
              "      <td>1.1345</td>\n",
              "      <td>0.5050</td>\n",
              "      <td>0.2655</td>\n",
              "      <td>0.3150</td>\n",
              "      <td>10.0</td>\n",
              "    </tr>\n",
              "    <tr>\n",
              "      <th>4</th>\n",
              "      <td>0.635</td>\n",
              "      <td>0.510</td>\n",
              "      <td>0.185</td>\n",
              "      <td>1.3080</td>\n",
              "      <td>0.5440</td>\n",
              "      <td>0.3180</td>\n",
              "      <td>0.3770</td>\n",
              "      <td>8.0</td>\n",
              "    </tr>\n",
              "    <tr>\n",
              "      <th>...</th>\n",
              "      <td>...</td>\n",
              "      <td>...</td>\n",
              "      <td>...</td>\n",
              "      <td>...</td>\n",
              "      <td>...</td>\n",
              "      <td>...</td>\n",
              "      <td>...</td>\n",
              "      <td>...</td>\n",
              "    </tr>\n",
              "    <tr>\n",
              "      <th>244</th>\n",
              "      <td>0.690</td>\n",
              "      <td>0.550</td>\n",
              "      <td>0.200</td>\n",
              "      <td>1.5690</td>\n",
              "      <td>0.6870</td>\n",
              "      <td>0.3675</td>\n",
              "      <td>0.4600</td>\n",
              "      <td>12.0</td>\n",
              "    </tr>\n",
              "    <tr>\n",
              "      <th>245</th>\n",
              "      <td>0.700</td>\n",
              "      <td>0.565</td>\n",
              "      <td>0.175</td>\n",
              "      <td>1.8565</td>\n",
              "      <td>0.8445</td>\n",
              "      <td>0.3935</td>\n",
              "      <td>0.5400</td>\n",
              "      <td>10.0</td>\n",
              "    </tr>\n",
              "    <tr>\n",
              "      <th>246</th>\n",
              "      <td>0.700</td>\n",
              "      <td>0.535</td>\n",
              "      <td>0.175</td>\n",
              "      <td>1.7730</td>\n",
              "      <td>0.6805</td>\n",
              "      <td>0.4800</td>\n",
              "      <td>0.5120</td>\n",
              "      <td>15.0</td>\n",
              "    </tr>\n",
              "    <tr>\n",
              "      <th>247</th>\n",
              "      <td>0.705</td>\n",
              "      <td>0.545</td>\n",
              "      <td>0.170</td>\n",
              "      <td>1.5800</td>\n",
              "      <td>0.6435</td>\n",
              "      <td>0.4565</td>\n",
              "      <td>0.2650</td>\n",
              "      <td>11.0</td>\n",
              "    </tr>\n",
              "    <tr>\n",
              "      <th>248</th>\n",
              "      <td>0.710</td>\n",
              "      <td>0.575</td>\n",
              "      <td>0.215</td>\n",
              "      <td>2.0090</td>\n",
              "      <td>0.9895</td>\n",
              "      <td>0.4475</td>\n",
              "      <td>0.5020</td>\n",
              "      <td>11.0</td>\n",
              "    </tr>\n",
              "  </tbody>\n",
              "</table>\n",
              "<p>249 rows × 8 columns</p>\n",
              "</div>"
            ],
            "text/plain": [
              "         0      1      2       3       4       5       6     7\n",
              "0    0.630  0.455  0.150  1.1315  0.4810  0.2745  0.3050   9.0\n",
              "1    0.630  0.480  0.150  1.2710  0.6605  0.2425  0.3100  11.0\n",
              "2    0.630  0.490  0.225  1.3360  0.6805  0.2590  0.3245  10.0\n",
              "3    0.635  0.505  0.145  1.1345  0.5050  0.2655  0.3150  10.0\n",
              "4    0.635  0.510  0.185  1.3080  0.5440  0.3180  0.3770   8.0\n",
              "..     ...    ...    ...     ...     ...     ...     ...   ...\n",
              "244  0.690  0.550  0.200  1.5690  0.6870  0.3675  0.4600  12.0\n",
              "245  0.700  0.565  0.175  1.8565  0.8445  0.3935  0.5400  10.0\n",
              "246  0.700  0.535  0.175  1.7730  0.6805  0.4800  0.5120  15.0\n",
              "247  0.705  0.545  0.170  1.5800  0.6435  0.4565  0.2650  11.0\n",
              "248  0.710  0.575  0.215  2.0090  0.9895  0.4475  0.5020  11.0\n",
              "\n",
              "[249 rows x 8 columns]"
            ]
          },
          "metadata": {},
          "execution_count": 2
        }
      ]
    },
    {
      "cell_type": "markdown",
      "metadata": {
        "id": "t3uOjwBsM_s2"
      },
      "source": [
        "### MNK\n"
      ]
    },
    {
      "cell_type": "markdown",
      "metadata": {
        "id": "cZSHsVF-t-QG"
      },
      "source": [
        "2. Збудувати модель множинної лінійної регресії, використовуючи метод найменших квадратів, обравши в якості залежної змінної останній стовпчик, а всі інші – в якості незалежних змінних. Для побудови моделі використовувати перші 100 записів у файлі з даними. Для перевірки моделі використовувати останні 25 записів."
      ]
    },
    {
      "cell_type": "code",
      "metadata": {
        "id": "0_YxJzN3Bz1F"
      },
      "source": [
        "def fit_MNK(X_train, Y_train):\n",
        "\n",
        "  n = len(X_train)  \n",
        "  y = Y_train\n",
        "  S_y = sum(y)\n",
        "  \n",
        "  S_x0 = sum(X_train[0])\n",
        "  S_x1 = sum(X_train[1])\n",
        "  S_x2 = sum(X_train[2])\n",
        "  S_x3 = sum(X_train[3])\n",
        "  S_x4 = sum(X_train[4])\n",
        "  S_x5 = sum(X_train[5])\n",
        "  S_x6 = sum(X_train[6])\n",
        "  \n",
        "  S_x00 = sum([X_train[0][i] ** 2 for i in range(n)])\n",
        "  S_x11 = sum([X_train[1][i] ** 2 for i in range(n)])\n",
        "  S_x22 = sum([X_train[2][i] ** 2 for i in range(n)])\n",
        "  S_x33 = sum([X_train[3][i] ** 2 for i in range(n)])\n",
        "  S_x44 = sum([X_train[4][i] ** 2 for i in range(n)])\n",
        "  S_x55 = sum([X_train[5][i] ** 2 for i in range(n)])\n",
        "  S_x66 = sum([X_train[6][i] ** 2 for i in range(n)])\n",
        "\n",
        "  S_x0x1 = sum([X_train[0][i] * X_train[1][i] for i in range(n)])\n",
        "  S_x0x2 = sum([X_train[0][i] * X_train[2][i] for i in range(n)])\n",
        "  S_x0x3 = sum([X_train[0][i] * X_train[3][i] for i in range(n)])\n",
        "  S_x0x4 = sum([X_train[0][i] * X_train[4][i] for i in range(n)])\n",
        "  S_x0x5 = sum([X_train[0][i] * X_train[5][i] for i in range(n)])\n",
        "  S_x0x6 = sum([X_train[0][i] * X_train[6][i] for i in range(n)])\n",
        "\n",
        "  S_x1x2 = sum([X_train[1][i] * X_train[2][i] for i in range(n)])\n",
        "  S_x1x3 = sum([X_train[1][i] * X_train[3][i] for i in range(n)])\n",
        "  S_x1x4 = sum([X_train[1][i] * X_train[4][i] for i in range(n)])\n",
        "  S_x1x5 = sum([X_train[1][i] * X_train[5][i] for i in range(n)])\n",
        "  S_x1x6 = sum([X_train[1][i] * X_train[6][i] for i in range(n)])\n",
        "\n",
        "  S_x2x3 = sum([X_train[2][i] * X_train[3][i] for i in range(n)])\n",
        "  S_x2x4 = sum([X_train[2][i] * X_train[4][i] for i in range(n)])\n",
        "  S_x2x5 = sum([X_train[2][i] * X_train[5][i] for i in range(n)])\n",
        "  S_x2x6 = sum([X_train[2][i] * X_train[6][i] for i in range(n)])\n",
        "\n",
        "  S_x3x4 = sum([X_train[3][i] * X_train[4][i] for i in range(n)])\n",
        "  S_x3x5 = sum([X_train[3][i] * X_train[5][i] for i in range(n)])\n",
        "  S_x3x6 = sum([X_train[3][i] * X_train[6][i] for i in range(n)])\n",
        "\n",
        "  S_x4x5 = sum([X_train[4][i] * X_train[5][i] for i in range(n)])\n",
        "  S_x4x6 = sum([X_train[4][i] * X_train[6][i] for i in range(n)])\n",
        "\n",
        "  S_x5x6 = sum([X_train[5][i] * X_train[6][i] for i in range(n)])\n",
        "\n",
        "  S_yx0 = sum([y[i] * X_train[0][i] for i in range(n)])\n",
        "  S_yx1 = sum([y[i] * X_train[1][i] for i in range(n)])\n",
        "  S_yx2 = sum([y[i] * X_train[2][i] for i in range(n)])\n",
        "  S_yx3 = sum([y[i] * X_train[3][i] for i in range(n)])\n",
        "  S_yx4 = sum([y[i] * X_train[4][i] for i in range(n)])\n",
        "  S_yx5 = sum([y[i] * X_train[5][i] for i in range(n)])\n",
        "  S_yx6 = sum([y[i] * X_train[6][i] for i in range(n)])\n",
        "\n",
        "  A = np.array([[n, S_x0, S_x1 ,S_x2, S_x3, S_x4, S_x5, S_x6],\n",
        "     [S_x0, S_x00, S_x0x1, S_x0x2, S_x0x3, S_x0x4, S_x0x5, S_x0x6],\n",
        "     [S_x1, S_x0x1, S_x11, S_x1x2, S_x1x3, S_x1x4, S_x1x5, S_x1x6],\n",
        "     [S_x2, S_x0x2, S_x1x2, S_x22, S_x2x3, S_x2x4, S_x2x5, S_x2x6],\n",
        "     [S_x3, S_x0x3, S_x1x3, S_x2x3, S_x33, S_x3x4, S_x3x5, S_x3x6],\n",
        "     [S_x4, S_x0x4, S_x1x4, S_x2x4, S_x3x4, S_x44, S_x4x5, S_x4x6],\n",
        "     [S_x5, S_x0x5, S_x1x5, S_x2x5, S_x3x5, S_x4x5, S_x55, S_x5x6],\n",
        "     [S_x6, S_x0x6, S_x1x6, S_x2x6, S_x3x6, S_x4x6, S_x5x6, S_x66]])\n",
        "\n",
        "  B = np.array([S_y, S_yx0, S_yx1, S_yx2, S_yx3, S_yx4, S_yx5, S_yx6])\n",
        "  x = np.linalg.solve(A, B)\n",
        "  return x\n"
      ],
      "execution_count": null,
      "outputs": []
    },
    {
      "cell_type": "code",
      "metadata": {
        "id": "kw9WnUh306i7"
      },
      "source": [
        "def predict(x, X_test):\n",
        "  x02 = np.array(X_test[0])\n",
        "  x12 = np.array(X_test[1])\n",
        "  x22 = np.array(X_test[2])\n",
        "  x32 = np.array(X_test[3])\n",
        "  x42 = np.array(X_test[4])\n",
        "  x52 = np.array(X_test[5])\n",
        "  x62 = np.array(X_test[6])\n",
        "\n",
        "  L = x[0] + x[1] * x02 + x[2] *x12 + x[3] * x22 + x[4] * x32 + x[5] * x42 + x[6] * x52 + x[7] * x62\n",
        "  return L\n"
      ],
      "execution_count": null,
      "outputs": []
    },
    {
      "cell_type": "code",
      "metadata": {
        "colab": {
          "base_uri": "https://localhost:8080/"
        },
        "id": "CJLR_m3k1qB8",
        "outputId": "88357f4b-5029-4710-ca43-b02c9708a2a3"
      },
      "source": [
        "MNK = fit_MNK(X_train, Y_train)\n",
        "predict_MNK = predict(MNK, X_test)\n",
        "predict_MNK"
      ],
      "execution_count": null,
      "outputs": [
        {
          "output_type": "execute_result",
          "data": {
            "text/plain": [
              "array([10.36055433, 10.50013788, 10.75037616, 10.29310338,  9.69585373,\n",
              "       10.47926568, 10.03057934, 10.19434169,  9.8785176 ,  9.89066332,\n",
              "       10.16498808, 10.32804928, 10.35582971, 10.86168895, 10.20047098,\n",
              "       10.4033118 , 10.01315899, 10.97589034, 10.340955  , 10.53066314,\n",
              "       10.65226102, 11.23914248, 10.2484652 ,  8.99958261, 11.24992166])"
            ]
          },
          "metadata": {},
          "execution_count": 5
        }
      ]
    },
    {
      "cell_type": "markdown",
      "metadata": {
        "id": "7q-RSkw3uEWO"
      },
      "source": [
        "3. Оцінити статистичну значимість коефіцієнтів отриманої моделі.\n",
        "\n",
        "Додатковий матеріал:\n",
        "\n",
        "*13.7. Определение доверительных интервалов для коэффициентов и функции регрессии*. Теория вероятностей и математическая статистика (рос.), Кремер Н.Ш. - 2-изд. - 2004 - с.484-488 \n"
      ]
    },
    {
      "cell_type": "markdown",
      "metadata": {
        "id": "U8epHMmoy6p4"
      },
      "source": [
        ""
      ]
    },
    {
      "cell_type": "code",
      "metadata": {
        "id": "yXVuXt2c9mq7"
      },
      "source": [
        "def R2(y_test, predict):\n",
        "  n = len(y_test)\n",
        "  y_med = sum(y_test) / n\n",
        "  R_2 = 1 - sum((predict[i] - y_test[i]) ** 2 for i in range(n)) / sum((y_med - y_test[i]) ** 2 for i in range(n))\n",
        "  return R_2"
      ],
      "execution_count": null,
      "outputs": []
    },
    {
      "cell_type": "code",
      "metadata": {
        "colab": {
          "base_uri": "https://localhost:8080/"
        },
        "id": "pnTINcY_8G0O",
        "outputId": "017e3928-da2f-4ddf-df8b-c022adf4a1f4"
      },
      "source": [
        "R_2 = R2(Y_test, predict_MNK)\n",
        "F = (R_2 / (1 - R_2)) * ((n - 8 -1) / 8)\n",
        "F"
      ],
      "execution_count": null,
      "outputs": [
        {
          "output_type": "execute_result",
          "data": {
            "text/plain": [
              "-4.147757117652712"
            ]
          },
          "metadata": {},
          "execution_count": 7
        }
      ]
    },
    {
      "cell_type": "markdown",
      "metadata": {
        "id": "O2NIFCwCw4yL"
      },
      "source": [
        "4. Оцінити адекватність збудованої моделі за допомогою коефіцієнту\n",
        "множинної детермінації.\n",
        "\n",
        "Додатковий матеріал:\n",
        "\n",
        "*13.8. Оценка взаимосвязи переменных. Проверка значимости уравнения множественного регрессии.* Теория вероятностей и математическая статистика (рос.), Кремер Н.Ш. - 2-изд. - 2004 - с.488-491"
      ]
    },
    {
      "cell_type": "code",
      "metadata": {
        "colab": {
          "base_uri": "https://localhost:8080/"
        },
        "id": "fOBnCkr7w7s0",
        "outputId": "471bc5d7-bfb3-4c90-dfb2-b713d5364764"
      },
      "source": [
        "R_2"
      ],
      "execution_count": null,
      "outputs": [
        {
          "output_type": "execute_result",
          "data": {
            "text/plain": [
              "-0.5739058704922879"
            ]
          },
          "metadata": {},
          "execution_count": 8
        }
      ]
    },
    {
      "cell_type": "markdown",
      "metadata": {
        "id": "XyNJfk9JFETt"
      },
      "source": [
        "## MGD"
      ]
    },
    {
      "cell_type": "markdown",
      "metadata": {
        "id": "b7BBDX1-w7G8"
      },
      "source": [
        "5. Збудувати модель множинної лінійної регресії (з тими самими аргументами, що у п. 2), використовуючи метод градієнтного спуску."
      ]
    },
    {
      "cell_type": "code",
      "metadata": {
        "id": "XmvPZU1wyb_n"
      },
      "source": [
        "def fit_MGD(X, Y):\n",
        "\n",
        "  theeta0 = 0\n",
        "  theeta1 = 0\n",
        "  theeta2 = 0\n",
        "  theeta3 = 0\n",
        "  theeta4 = 0\n",
        "  theeta5 = 0\n",
        "  theeta6 = 0\n",
        "  theeta7 = 0\n",
        "\n",
        "  a = 0.0001  \n",
        "  iter = 10000\n",
        "  n = float(len(X[0])) \n",
        "  result = np.zeros(iter)\n",
        "\n",
        "  for i in range(iter): \n",
        "      predict = theeta0 + theeta1*X[0] + theeta2 * X[1] + theeta3 * X[2] + theeta4 * X[3] + theeta5 * X[4] + theeta6 * X[5] + theeta7 * X[6]\n",
        "      d = predict - Y\n",
        "      \n",
        "      cost = (1/2 * n) * sum(d * d) \n",
        "\n",
        "      result[i] =  cost  \n",
        "       \n",
        "      t_1 = (1/n) * sum(d) \n",
        "      t_2 = (1/n) * sum(X[0] * (d)) \n",
        "      t_3 = (1/n) * sum(X[1] * (d)) \n",
        "      t_4 = (1/n) * sum(X[2] * (d))\n",
        "      t_5 = (1/n) * sum(X[3] * (d)) \n",
        "      t_6 = (1/n) * sum(X[4] * (d))\n",
        "      t_7 = (1/n) * sum(X[5] * (d))\n",
        "      t_8 = (1/n) * sum(X[6] * (d))\n",
        "   \n",
        "    \n",
        "      theeta0 = theeta0 - a * t_1 \n",
        "      theeta1 = theeta1 - a * t_2 \n",
        "      theeta2 = theeta2 - a * t_3 \n",
        "      theeta3 = theeta3 - a * t_4 \n",
        "      theeta4 = theeta4 - a * t_5 \n",
        "      theeta5 = theeta5 - a * t_6 \n",
        "      theeta6 = theeta6 - a * t_7 \n",
        "      theeta7 = theeta7 - a * t_8 \n",
        "\n",
        "      theeta = np.array([theeta0, theeta1, theeta2, theeta3, theeta4, theeta5, theeta6, theeta7]) \n",
        "\n",
        "  #print(plt.plot(range(iter),result))\n",
        "\n",
        "  return theeta"
      ],
      "execution_count": null,
      "outputs": []
    },
    {
      "cell_type": "code",
      "metadata": {
        "colab": {
          "base_uri": "https://localhost:8080/"
        },
        "id": "swmN44ZLvPmL",
        "outputId": "9f0a8d5b-f915-4139-8062-1697421dcb2f"
      },
      "source": [
        "MGD = fit_MGD(X_train, Y_train)\n",
        "predict_MGD = predict(MGD, X_test)\n",
        "predict_MGD"
      ],
      "execution_count": null,
      "outputs": [
        {
          "output_type": "execute_result",
          "data": {
            "text/plain": [
              "array([ 9.6886293 , 10.36260266, 10.44343155, 10.70046856, 10.1125047 ,\n",
              "        9.57375522,  9.5882077 ,  9.85673932,  9.58473612,  9.50917883,\n",
              "        9.94090701,  9.66227097, 10.6528561 , 10.72815429,  9.55869284,\n",
              "        9.8914139 , 10.12992248, 10.65789411,  9.94443861, 10.87409399,\n",
              "       10.60801457, 11.60709832, 11.19787981, 10.50544154, 12.20756777])"
            ]
          },
          "metadata": {},
          "execution_count": 10
        }
      ]
    },
    {
      "cell_type": "code",
      "metadata": {
        "colab": {
          "base_uri": "https://localhost:8080/"
        },
        "id": "a3VaP-pmFUKN",
        "outputId": "49c8db0f-51d8-48a3-e998-0082fe0b282d"
      },
      "source": [
        "R_2_MGD = R2(Y_test, predict_MGD)\n",
        "F_MGD = (R_2_MGD / (1 - R_2_MGD)) * ((n - 8 -1) / 8)\n",
        "R_2_MGD, F"
      ],
      "execution_count": null,
      "outputs": [
        {
          "output_type": "execute_result",
          "data": {
            "text/plain": [
              "(-0.5805886520741561, -4.147757117652712)"
            ]
          },
          "metadata": {},
          "execution_count": 11
        }
      ]
    },
    {
      "cell_type": "markdown",
      "metadata": {
        "id": "homNXLsfw8sL"
      },
      "source": [
        "6. 1) Вивести обчислені абсолютні похибки збудованих моделей регресії для записів, призначених для перевірки моделі.\n",
        "\n",
        "2) Візуалізуйте ці похибки, вивівши на графік значення моделі як лінійну функцію і дійсні значення як окремі точки. В якості горизонтальної осі візьміть будь-яку значиму змінну на власний розсуд.\n",
        "\n",
        "Альтернативні варіанти візуалізації:\n",
        "*   confidence bands - https://matplotlib.org/stable/gallery/lines_bars_and_markers/fill_between_demo.html#example-confidence-bands\n",
        "*   errorbar - https://matplotlib.org/stable/gallery/lines_bars_and_markers/errorbar_subsample.html#sphx-glr-gallery-lines-bars-and-markers-errorbar-subsample-py\n",
        "\n",
        "\n"
      ]
    },
    {
      "cell_type": "code",
      "metadata": {
        "id": "_wLTEVy0gF6S"
      },
      "source": [
        "def absolute_error(predict, y_test):\n",
        "  absolute_error = abs(predict-(y_test.to_numpy()))\n",
        "  return absolute_error"
      ],
      "execution_count": null,
      "outputs": []
    },
    {
      "cell_type": "code",
      "metadata": {
        "id": "ZtdF22EDmmbe"
      },
      "source": [
        "def predict_plot(y_test, predict):\n",
        "  fig, ax = plt.subplots(1,1, figsize=(16, 8))\n",
        "  ax.plot(y_test.to_numpy(), 'bo' , label = 'Дійснo')\n",
        "  ax.plot(predict, label = 'Прогноз')\n",
        "  ax.legend(loc=\"upper right\")\n",
        "  ax.set_title('Візуалізація похибки')\n"
      ],
      "execution_count": null,
      "outputs": []
    },
    {
      "cell_type": "code",
      "metadata": {
        "colab": {
          "base_uri": "https://localhost:8080/"
        },
        "id": "iDqscPxlY2Hn",
        "outputId": "883d56b3-bc31-473c-f6a1-a9ae34c04b83"
      },
      "source": [
        "absolute_error_MNK = absolute_error(predict_MNK, Y_test)\n",
        "absolute_error_MNK"
      ],
      "execution_count": null,
      "outputs": [
        {
          "output_type": "execute_result",
          "data": {
            "text/plain": [
              "array([1.36055433, 1.49986212, 0.75037616, 3.70689662, 1.30414627,\n",
              "       0.52073432, 0.96942066, 1.80565831, 0.8785176 , 2.10933668,\n",
              "       0.83501192, 2.67195072, 0.35582971, 0.13831105, 2.79952902,\n",
              "       0.4033118 , 0.01315899, 0.02410966, 0.659045  , 0.46933686,\n",
              "       1.34773898, 1.23914248, 4.7515348 , 2.00041739, 0.24992166])"
            ]
          },
          "metadata": {},
          "execution_count": 14
        }
      ]
    },
    {
      "cell_type": "code",
      "metadata": {
        "colab": {
          "base_uri": "https://localhost:8080/",
          "height": 499
        },
        "id": "blk7N1mEPaSX",
        "outputId": "70a1d623-f03c-4180-8f56-05fa8dd5dd2a"
      },
      "source": [
        "plot_MNK = predict_plot(Y_test, predict_MNK) \n",
        "plot_MNK"
      ],
      "execution_count": null,
      "outputs": [
        {
          "output_type": "display_data",
          "data": {
            "image/png": "[encoded data removed]",
            "text/plain": [
              "<Figure size 1152x576 with 1 Axes>"
            ]
          },
          "metadata": {
            "needs_background": "light"
          }
        }
      ]
    },
    {
      "cell_type": "code",
      "metadata": {
        "colab": {
          "base_uri": "https://localhost:8080/"
        },
        "id": "_65wl-DaaCI6",
        "outputId": "59d693fc-f5ce-4329-c250-66fcb3684973"
      },
      "source": [
        "absolute_error_MGD = absolute_error(predict_MGD, Y_test)\n",
        "absolute_error_MGD"
      ],
      "execution_count": null,
      "outputs": [
        {
          "output_type": "execute_result",
          "data": {
            "text/plain": [
              "array([0.6886293 , 1.63739734, 0.44343155, 3.29953144, 0.8874953 ,\n",
              "       1.42624478, 1.4117923 , 2.14326068, 0.58473612, 2.49082117,\n",
              "       1.05909299, 3.33772903, 0.6528561 , 0.27184571, 3.44130716,\n",
              "       0.1085861 , 0.12992248, 0.34210589, 1.05556139, 0.12590601,\n",
              "       1.39198543, 1.60709832, 3.80212019, 0.49455846, 1.20756777])"
            ]
          },
          "metadata": {},
          "execution_count": 16
        }
      ]
    },
    {
      "cell_type": "code",
      "metadata": {
        "colab": {
          "base_uri": "https://localhost:8080/",
          "height": 499
        },
        "id": "4Acb6fxSY2xw",
        "outputId": "fe3fd20d-165c-4226-9de2-27bf66c59130"
      },
      "source": [
        "plot_MGD = predict_plot(Y_test, predict_MGD) \n",
        "plot_MGD"
      ],
      "execution_count": null,
      "outputs": [
        {
          "output_type": "display_data",
          "data": {
            "image/png": "[encoded data removed]",
            "text/plain": [
              "<Figure size 1152x576 with 1 Axes>"
            ]
          },
          "metadata": {
            "needs_background": "light"
          }
        }
      ]
    },
    {
      "cell_type": "markdown",
      "metadata": {
        "id": "RJdw5uhjxt7j"
      },
      "source": [
        "7. Для отриманих моделей обчисліть значення цільової функції, яку використовували для оптимізації в пунктах 2 та 5."
      ]
    },
    {
      "cell_type": "code",
      "metadata": {
        "colab": {
          "base_uri": "https://localhost:8080/",
          "height": 833
        },
        "id": "poazrhAxxtaS",
        "outputId": "a295712c-7c43-44b2-b659-ba55637faed2"
      },
      "source": [
        "df_pred=pd.DataFrame()\n",
        "df_pred[\"y_actual\"] = Y_test.to_numpy()\n",
        "df_pred[\"MNK\"]=np.round(predict_MNK, 3)\n",
        "df_pred[\"MGD\"]=np.round(predict_MGD, 3)\n",
        "df_pred"
      ],
      "execution_count": null,
      "outputs": [
        {
          "output_type": "execute_result",
          "data": {
            "text/html": [
              "<div>\n",
              "<style scoped>\n",
              "    .dataframe tbody tr th:only-of-type {\n",
              "        vertical-align: middle;\n",
              "    }\n",
              "\n",
              "    .dataframe tbody tr th {\n",
              "        vertical-align: top;\n",
              "    }\n",
              "\n",
              "    .dataframe thead th {\n",
              "        text-align: right;\n",
              "    }\n",
              "</style>\n",
              "<table border=\"1\" class=\"dataframe\">\n",
              "  <thead>\n",
              "    <tr style=\"text-align: right;\">\n",
              "      <th></th>\n",
              "      <th>y_actual</th>\n",
              "      <th>MNK</th>\n",
              "      <th>MGD</th>\n",
              "    </tr>\n",
              "  </thead>\n",
              "  <tbody>\n",
              "    <tr>\n",
              "      <th>0</th>\n",
              "      <td>9.0</td>\n",
              "      <td>10.361</td>\n",
              "      <td>9.689</td>\n",
              "    </tr>\n",
              "    <tr>\n",
              "      <th>1</th>\n",
              "      <td>12.0</td>\n",
              "      <td>10.500</td>\n",
              "      <td>10.363</td>\n",
              "    </tr>\n",
              "    <tr>\n",
              "      <th>2</th>\n",
              "      <td>10.0</td>\n",
              "      <td>10.750</td>\n",
              "      <td>10.443</td>\n",
              "    </tr>\n",
              "    <tr>\n",
              "      <th>3</th>\n",
              "      <td>14.0</td>\n",
              "      <td>10.293</td>\n",
              "      <td>10.700</td>\n",
              "    </tr>\n",
              "    <tr>\n",
              "      <th>4</th>\n",
              "      <td>11.0</td>\n",
              "      <td>9.696</td>\n",
              "      <td>10.113</td>\n",
              "    </tr>\n",
              "    <tr>\n",
              "      <th>5</th>\n",
              "      <td>11.0</td>\n",
              "      <td>10.479</td>\n",
              "      <td>9.574</td>\n",
              "    </tr>\n",
              "    <tr>\n",
              "      <th>6</th>\n",
              "      <td>11.0</td>\n",
              "      <td>10.031</td>\n",
              "      <td>9.588</td>\n",
              "    </tr>\n",
              "    <tr>\n",
              "      <th>7</th>\n",
              "      <td>12.0</td>\n",
              "      <td>10.194</td>\n",
              "      <td>9.857</td>\n",
              "    </tr>\n",
              "    <tr>\n",
              "      <th>8</th>\n",
              "      <td>9.0</td>\n",
              "      <td>9.879</td>\n",
              "      <td>9.585</td>\n",
              "    </tr>\n",
              "    <tr>\n",
              "      <th>9</th>\n",
              "      <td>12.0</td>\n",
              "      <td>9.891</td>\n",
              "      <td>9.509</td>\n",
              "    </tr>\n",
              "    <tr>\n",
              "      <th>10</th>\n",
              "      <td>11.0</td>\n",
              "      <td>10.165</td>\n",
              "      <td>9.941</td>\n",
              "    </tr>\n",
              "    <tr>\n",
              "      <th>11</th>\n",
              "      <td>13.0</td>\n",
              "      <td>10.328</td>\n",
              "      <td>9.662</td>\n",
              "    </tr>\n",
              "    <tr>\n",
              "      <th>12</th>\n",
              "      <td>10.0</td>\n",
              "      <td>10.356</td>\n",
              "      <td>10.653</td>\n",
              "    </tr>\n",
              "    <tr>\n",
              "      <th>13</th>\n",
              "      <td>11.0</td>\n",
              "      <td>10.862</td>\n",
              "      <td>10.728</td>\n",
              "    </tr>\n",
              "    <tr>\n",
              "      <th>14</th>\n",
              "      <td>13.0</td>\n",
              "      <td>10.200</td>\n",
              "      <td>9.559</td>\n",
              "    </tr>\n",
              "    <tr>\n",
              "      <th>15</th>\n",
              "      <td>10.0</td>\n",
              "      <td>10.403</td>\n",
              "      <td>9.891</td>\n",
              "    </tr>\n",
              "    <tr>\n",
              "      <th>16</th>\n",
              "      <td>10.0</td>\n",
              "      <td>10.013</td>\n",
              "      <td>10.130</td>\n",
              "    </tr>\n",
              "    <tr>\n",
              "      <th>17</th>\n",
              "      <td>11.0</td>\n",
              "      <td>10.976</td>\n",
              "      <td>10.658</td>\n",
              "    </tr>\n",
              "    <tr>\n",
              "      <th>18</th>\n",
              "      <td>11.0</td>\n",
              "      <td>10.341</td>\n",
              "      <td>9.944</td>\n",
              "    </tr>\n",
              "    <tr>\n",
              "      <th>19</th>\n",
              "      <td>11.0</td>\n",
              "      <td>10.531</td>\n",
              "      <td>10.874</td>\n",
              "    </tr>\n",
              "    <tr>\n",
              "      <th>20</th>\n",
              "      <td>12.0</td>\n",
              "      <td>10.652</td>\n",
              "      <td>10.608</td>\n",
              "    </tr>\n",
              "    <tr>\n",
              "      <th>21</th>\n",
              "      <td>10.0</td>\n",
              "      <td>11.239</td>\n",
              "      <td>11.607</td>\n",
              "    </tr>\n",
              "    <tr>\n",
              "      <th>22</th>\n",
              "      <td>15.0</td>\n",
              "      <td>10.248</td>\n",
              "      <td>11.198</td>\n",
              "    </tr>\n",
              "    <tr>\n",
              "      <th>23</th>\n",
              "      <td>11.0</td>\n",
              "      <td>9.000</td>\n",
              "      <td>10.505</td>\n",
              "    </tr>\n",
              "    <tr>\n",
              "      <th>24</th>\n",
              "      <td>11.0</td>\n",
              "      <td>11.250</td>\n",
              "      <td>12.208</td>\n",
              "    </tr>\n",
              "  </tbody>\n",
              "</table>\n",
              "</div>"
            ],
            "text/plain": [
              "    y_actual     MNK     MGD\n",
              "0        9.0  10.361   9.689\n",
              "1       12.0  10.500  10.363\n",
              "2       10.0  10.750  10.443\n",
              "3       14.0  10.293  10.700\n",
              "4       11.0   9.696  10.113\n",
              "5       11.0  10.479   9.574\n",
              "6       11.0  10.031   9.588\n",
              "7       12.0  10.194   9.857\n",
              "8        9.0   9.879   9.585\n",
              "9       12.0   9.891   9.509\n",
              "10      11.0  10.165   9.941\n",
              "11      13.0  10.328   9.662\n",
              "12      10.0  10.356  10.653\n",
              "13      11.0  10.862  10.728\n",
              "14      13.0  10.200   9.559\n",
              "15      10.0  10.403   9.891\n",
              "16      10.0  10.013  10.130\n",
              "17      11.0  10.976  10.658\n",
              "18      11.0  10.341   9.944\n",
              "19      11.0  10.531  10.874\n",
              "20      12.0  10.652  10.608\n",
              "21      10.0  11.239  11.607\n",
              "22      15.0  10.248  11.198\n",
              "23      11.0   9.000  10.505\n",
              "24      11.0  11.250  12.208"
            ]
          },
          "metadata": {},
          "execution_count": 18
        }
      ]
    },
    {
      "cell_type": "markdown",
      "metadata": {
        "id": "STjudngR1zI7"
      },
      "source": [
        "8. Виконати пункти 2-7, використовуючи перші 200 записів з файлу для навчання моделей і 50 останніх записів з файлу для тестування."
      ]
    },
    {
      "cell_type": "code",
      "metadata": {
        "colab": {
          "base_uri": "https://localhost:8080/"
        },
        "id": "7CUrmECXPfyp",
        "outputId": "44f8b545-f14f-4026-d6d0-956dd8eec298"
      },
      "source": [
        "MNK2 = fit_MNK(train_x, train_y)\n",
        "predict_MNK2 = predict(MNK2, test_x)\n",
        "predict_MNK2"
      ],
      "execution_count": null,
      "outputs": [
        {
          "output_type": "execute_result",
          "data": {
            "text/plain": [
              "array([10.353302  ,  9.86821064, 10.10886963, 10.14748484, 10.16537268,\n",
              "       10.61597338, 10.13666212, 10.17876257, 10.38382397, 10.32248418,\n",
              "       10.49535276, 10.3807013 , 10.2749198 , 10.14668304,  9.9489742 ,\n",
              "       10.07609125, 10.27273164, 10.15650826, 10.50801471, 10.54449548,\n",
              "       10.529248  , 10.63769642, 10.14845941, 10.42657293, 10.13713108,\n",
              "       10.51860923, 10.94274447, 10.76304291, 10.78706114, 10.29965684,\n",
              "       10.54706853, 10.35182594, 10.41496611, 10.12799672, 10.21626743,\n",
              "       10.74524006, 10.25032019, 11.29106711, 11.08122717, 10.5259397 ,\n",
              "       10.3244172 , 10.13660944, 10.74619698, 10.79729553, 11.22408262,\n",
              "       10.85431379, 11.62947371, 10.54107685, 10.25102176, 11.78683515])"
            ]
          },
          "metadata": {},
          "execution_count": 19
        }
      ]
    },
    {
      "cell_type": "code",
      "metadata": {
        "colab": {
          "base_uri": "https://localhost:8080/"
        },
        "id": "U99d0TKvOuOx",
        "outputId": "851086ee-1f9f-4e0c-c015-1f3c0943e49e"
      },
      "source": [
        "R_2_MNK2 = R2(test_y, predict_MNK2)\n",
        "F_MNK2 = (R_2_MNK2 / (1 - R_2_MNK2)) * ((n - 8 -1) / 8)\n",
        "R_2_MNK2, F_MNK2"
      ],
      "execution_count": null,
      "outputs": [
        {
          "output_type": "execute_result",
          "data": {
            "text/plain": [
              "(-0.018805660337684937, -0.20996584007028765)"
            ]
          },
          "metadata": {},
          "execution_count": 20
        }
      ]
    },
    {
      "cell_type": "code",
      "metadata": {
        "colab": {
          "base_uri": "https://localhost:8080/"
        },
        "id": "rPfnJNKxexEt",
        "outputId": "3261e9ae-e8dc-4fd1-a75c-d96aab2a16b1"
      },
      "source": [
        "MGD2 = fit_MGD(train_x, train_y)\n",
        "predict_MGD2 = predict(MGD2, test_x)\n",
        "predict_MGD2"
      ],
      "execution_count": null,
      "outputs": [
        {
          "output_type": "execute_result",
          "data": {
            "text/plain": [
              "array([10.54994565,  9.87669359,  9.90299374,  9.78853204,  9.92912619,\n",
              "       11.64565808,  9.58613848, 10.05695686, 11.10412989, 10.76696734,\n",
              "        9.89337551, 10.27478118,  9.89713973, 10.2230834 , 10.32856443,\n",
              "        9.79654777, 10.40978431, 10.23526796, 10.04778594, 10.82286363,\n",
              "       10.42638457, 10.12028011,  9.18462788, 10.32401167, 10.71902622,\n",
              "       10.25644355, 11.00617056, 11.09795723, 11.38334075, 10.72616005,\n",
              "       10.12856845, 10.14340689, 10.44292417, 10.13932642, 10.05461687,\n",
              "       10.5340772 , 10.22645446, 11.32633037, 11.41262843, 10.10930034,\n",
              "       10.48076475, 10.74543799, 11.3352504 , 10.5374104 , 11.57185701,\n",
              "       11.27606745, 12.38893794, 11.93425009, 11.15631271, 13.05390114])"
            ]
          },
          "metadata": {},
          "execution_count": 21
        }
      ]
    },
    {
      "cell_type": "code",
      "metadata": {
        "colab": {
          "base_uri": "https://localhost:8080/"
        },
        "id": "R2F76DsBGAHB",
        "outputId": "5823abb3-62bb-4925-fcca-c2630cfa2f4b"
      },
      "source": [
        "R_2_MGD2 = R2(Y_test, predict_MGD2)\n",
        "F_MGD2 = (R_2_MGD2 / (1 - R_2_MGD2)) * ((n - 8 -1) / 8)\n",
        "R_2_MGD, F_MGD2"
      ],
      "execution_count": null,
      "outputs": [
        {
          "output_type": "execute_result",
          "data": {
            "text/plain": [
              "(-0.5805886520741561, -5.43055373891371)"
            ]
          },
          "metadata": {},
          "execution_count": 22
        }
      ]
    },
    {
      "cell_type": "code",
      "metadata": {
        "colab": {
          "base_uri": "https://localhost:8080/"
        },
        "id": "62R5LssIiPSl",
        "outputId": "b28b8a7a-2bd1-4721-db81-27132109dffb"
      },
      "source": [
        "absolute_error_MNK2 = absolute_error(predict_MNK2, test_y)\n",
        "absolute_error_MNK2"
      ],
      "execution_count": null,
      "outputs": [
        {
          "output_type": "execute_result",
          "data": {
            "text/plain": [
              "array([1.646698  , 0.13178936, 1.10886963, 0.14748484, 0.16537268,\n",
              "       0.38402662, 0.13666212, 1.82123743, 3.61617603, 1.32248418,\n",
              "       0.49535276, 1.3807013 , 1.2749198 , 0.14668304, 0.0510258 ,\n",
              "       1.07609125, 1.72726836, 1.15650826, 0.49198529, 0.45550452,\n",
              "       1.529248  , 0.63769642, 1.14845941, 1.57342707, 0.86286892,\n",
              "       1.51860923, 1.05725553, 0.76304291, 3.21293886, 0.70034316,\n",
              "       0.45293147, 0.64817406, 1.58503389, 1.12799672, 1.78373257,\n",
              "       0.25475994, 2.74967981, 1.29106711, 0.08122717, 2.4740603 ,\n",
              "       0.3244172 , 0.13660944, 0.25380302, 0.20270447, 0.22408262,\n",
              "       1.14568621, 1.62947371, 4.45892315, 0.74897824, 0.78683515])"
            ]
          },
          "metadata": {},
          "execution_count": 23
        }
      ]
    },
    {
      "cell_type": "code",
      "metadata": {
        "colab": {
          "base_uri": "https://localhost:8080/",
          "height": 499
        },
        "id": "YGxVMnCqiPJm",
        "outputId": "98343541-c2e2-4763-dd99-7b3fe1e9e8c9"
      },
      "source": [
        "plot_MNK2 = predict_plot(Y_test, predict_MNK2) \n",
        "plot_MNK2"
      ],
      "execution_count": null,
      "outputs": [
        {
          "output_type": "display_data",
          "data": {
            "image/png": "[encoded data removed]",
            "text/plain": [
              "<Figure size 1152x576 with 1 Axes>"
            ]
          },
          "metadata": {
            "needs_background": "light"
          }
        }
      ]
    },
    {
      "cell_type": "code",
      "metadata": {
        "colab": {
          "base_uri": "https://localhost:8080/"
        },
        "id": "2kjnWjTsiPAn",
        "outputId": "ee493f28-e3d6-43d8-ac00-24e82d960e7f"
      },
      "source": [
        "absolute_error_MGD2 = absolute_error(predict_MGD2, test_y)\n",
        "absolute_error_MGD2"
      ],
      "execution_count": null,
      "outputs": [
        {
          "output_type": "execute_result",
          "data": {
            "text/plain": [
              "array([1.45005435, 0.12330641, 0.90299374, 0.21146796, 0.07087381,\n",
              "       0.64565808, 0.41386152, 1.94304314, 2.89587011, 1.76696734,\n",
              "       0.10662449, 1.27478118, 0.89713973, 0.2230834 , 0.32856443,\n",
              "       0.79654777, 1.59021569, 1.23526796, 0.95221406, 0.17713637,\n",
              "       1.42638457, 0.12028011, 0.18462788, 1.67598833, 0.28097378,\n",
              "       1.25644355, 0.99382944, 1.09795723, 2.61665925, 0.27383995,\n",
              "       0.87143155, 0.85659311, 1.55707583, 1.13932642, 1.94538313,\n",
              "       0.4659228 , 2.77354554, 1.32633037, 0.41262843, 2.89069966,\n",
              "       0.48076475, 0.74543799, 0.3352504 , 0.4625896 , 0.57185701,\n",
              "       0.72393255, 2.38893794, 3.06574991, 0.15631271, 2.05390114])"
            ]
          },
          "metadata": {},
          "execution_count": 25
        }
      ]
    },
    {
      "cell_type": "code",
      "metadata": {
        "colab": {
          "base_uri": "https://localhost:8080/",
          "height": 499
        },
        "id": "Ziv6P28DiOm3",
        "outputId": "ad5532e9-3d6d-4a7d-c98b-41b822eeebbb"
      },
      "source": [
        "plot_MGD2 = predict_plot(Y_test, predict_MGD2) \n",
        "plot_MGD2"
      ],
      "execution_count": null,
      "outputs": [
        {
          "output_type": "display_data",
          "data": {
            "image/png": "[encoded data removed]",
            "text/plain": [
              "<Figure size 1152x576 with 1 Axes>"
            ]
          },
          "metadata": {
            "needs_background": "light"
          }
        }
      ]
    },
    {
      "cell_type": "code",
      "metadata": {
        "colab": {
          "base_uri": "https://localhost:8080/",
          "height": 1000
        },
        "id": "wXw7eGhJiJTW",
        "outputId": "74f2dc4a-7b1b-46ba-8f59-e02142f99c48"
      },
      "source": [
        "df_pred=pd.DataFrame()\n",
        "df_pred[\"y_actual\"] = test_y.to_numpy()\n",
        "df_pred[\"MNK\"]=np.round(predict_MNK2, 3)\n",
        "df_pred[\"MGD\"]=np.round(predict_MGD2, 3)\n",
        "df_pred"
      ],
      "execution_count": null,
      "outputs": [
        {
          "output_type": "execute_result",
          "data": {
            "text/html": [
              "<div>\n",
              "<style scoped>\n",
              "    .dataframe tbody tr th:only-of-type {\n",
              "        vertical-align: middle;\n",
              "    }\n",
              "\n",
              "    .dataframe tbody tr th {\n",
              "        vertical-align: top;\n",
              "    }\n",
              "\n",
              "    .dataframe thead th {\n",
              "        text-align: right;\n",
              "    }\n",
              "</style>\n",
              "<table border=\"1\" class=\"dataframe\">\n",
              "  <thead>\n",
              "    <tr style=\"text-align: right;\">\n",
              "      <th></th>\n",
              "      <th>y_actual</th>\n",
              "      <th>MNK</th>\n",
              "      <th>MGD</th>\n",
              "    </tr>\n",
              "  </thead>\n",
              "  <tbody>\n",
              "    <tr>\n",
              "      <th>0</th>\n",
              "      <td>12.0</td>\n",
              "      <td>10.353</td>\n",
              "      <td>10.550</td>\n",
              "    </tr>\n",
              "    <tr>\n",
              "      <th>1</th>\n",
              "      <td>10.0</td>\n",
              "      <td>9.868</td>\n",
              "      <td>9.877</td>\n",
              "    </tr>\n",
              "    <tr>\n",
              "      <th>2</th>\n",
              "      <td>9.0</td>\n",
              "      <td>10.109</td>\n",
              "      <td>9.903</td>\n",
              "    </tr>\n",
              "    <tr>\n",
              "      <th>3</th>\n",
              "      <td>10.0</td>\n",
              "      <td>10.147</td>\n",
              "      <td>9.789</td>\n",
              "    </tr>\n",
              "    <tr>\n",
              "      <th>4</th>\n",
              "      <td>10.0</td>\n",
              "      <td>10.165</td>\n",
              "      <td>9.929</td>\n",
              "    </tr>\n",
              "    <tr>\n",
              "      <th>5</th>\n",
              "      <td>11.0</td>\n",
              "      <td>10.616</td>\n",
              "      <td>11.646</td>\n",
              "    </tr>\n",
              "    <tr>\n",
              "      <th>6</th>\n",
              "      <td>10.0</td>\n",
              "      <td>10.137</td>\n",
              "      <td>9.586</td>\n",
              "    </tr>\n",
              "    <tr>\n",
              "      <th>7</th>\n",
              "      <td>12.0</td>\n",
              "      <td>10.179</td>\n",
              "      <td>10.057</td>\n",
              "    </tr>\n",
              "    <tr>\n",
              "      <th>8</th>\n",
              "      <td>14.0</td>\n",
              "      <td>10.384</td>\n",
              "      <td>11.104</td>\n",
              "    </tr>\n",
              "    <tr>\n",
              "      <th>9</th>\n",
              "      <td>9.0</td>\n",
              "      <td>10.322</td>\n",
              "      <td>10.767</td>\n",
              "    </tr>\n",
              "    <tr>\n",
              "      <th>10</th>\n",
              "      <td>10.0</td>\n",
              "      <td>10.495</td>\n",
              "      <td>9.893</td>\n",
              "    </tr>\n",
              "    <tr>\n",
              "      <th>11</th>\n",
              "      <td>9.0</td>\n",
              "      <td>10.381</td>\n",
              "      <td>10.275</td>\n",
              "    </tr>\n",
              "    <tr>\n",
              "      <th>12</th>\n",
              "      <td>9.0</td>\n",
              "      <td>10.275</td>\n",
              "      <td>9.897</td>\n",
              "    </tr>\n",
              "    <tr>\n",
              "      <th>13</th>\n",
              "      <td>10.0</td>\n",
              "      <td>10.147</td>\n",
              "      <td>10.223</td>\n",
              "    </tr>\n",
              "    <tr>\n",
              "      <th>14</th>\n",
              "      <td>10.0</td>\n",
              "      <td>9.949</td>\n",
              "      <td>10.329</td>\n",
              "    </tr>\n",
              "    <tr>\n",
              "      <th>15</th>\n",
              "      <td>9.0</td>\n",
              "      <td>10.076</td>\n",
              "      <td>9.797</td>\n",
              "    </tr>\n",
              "    <tr>\n",
              "      <th>16</th>\n",
              "      <td>12.0</td>\n",
              "      <td>10.273</td>\n",
              "      <td>10.410</td>\n",
              "    </tr>\n",
              "    <tr>\n",
              "      <th>17</th>\n",
              "      <td>9.0</td>\n",
              "      <td>10.157</td>\n",
              "      <td>10.235</td>\n",
              "    </tr>\n",
              "    <tr>\n",
              "      <th>18</th>\n",
              "      <td>11.0</td>\n",
              "      <td>10.508</td>\n",
              "      <td>10.048</td>\n",
              "    </tr>\n",
              "    <tr>\n",
              "      <th>19</th>\n",
              "      <td>11.0</td>\n",
              "      <td>10.544</td>\n",
              "      <td>10.823</td>\n",
              "    </tr>\n",
              "    <tr>\n",
              "      <th>20</th>\n",
              "      <td>9.0</td>\n",
              "      <td>10.529</td>\n",
              "      <td>10.426</td>\n",
              "    </tr>\n",
              "    <tr>\n",
              "      <th>21</th>\n",
              "      <td>10.0</td>\n",
              "      <td>10.638</td>\n",
              "      <td>10.120</td>\n",
              "    </tr>\n",
              "    <tr>\n",
              "      <th>22</th>\n",
              "      <td>9.0</td>\n",
              "      <td>10.148</td>\n",
              "      <td>9.185</td>\n",
              "    </tr>\n",
              "    <tr>\n",
              "      <th>23</th>\n",
              "      <td>12.0</td>\n",
              "      <td>10.427</td>\n",
              "      <td>10.324</td>\n",
              "    </tr>\n",
              "    <tr>\n",
              "      <th>24</th>\n",
              "      <td>11.0</td>\n",
              "      <td>10.137</td>\n",
              "      <td>10.719</td>\n",
              "    </tr>\n",
              "    <tr>\n",
              "      <th>25</th>\n",
              "      <td>9.0</td>\n",
              "      <td>10.519</td>\n",
              "      <td>10.256</td>\n",
              "    </tr>\n",
              "    <tr>\n",
              "      <th>26</th>\n",
              "      <td>12.0</td>\n",
              "      <td>10.943</td>\n",
              "      <td>11.006</td>\n",
              "    </tr>\n",
              "    <tr>\n",
              "      <th>27</th>\n",
              "      <td>10.0</td>\n",
              "      <td>10.763</td>\n",
              "      <td>11.098</td>\n",
              "    </tr>\n",
              "    <tr>\n",
              "      <th>28</th>\n",
              "      <td>14.0</td>\n",
              "      <td>10.787</td>\n",
              "      <td>11.383</td>\n",
              "    </tr>\n",
              "    <tr>\n",
              "      <th>29</th>\n",
              "      <td>11.0</td>\n",
              "      <td>10.300</td>\n",
              "      <td>10.726</td>\n",
              "    </tr>\n",
              "    <tr>\n",
              "      <th>30</th>\n",
              "      <td>11.0</td>\n",
              "      <td>10.547</td>\n",
              "      <td>10.129</td>\n",
              "    </tr>\n",
              "    <tr>\n",
              "      <th>31</th>\n",
              "      <td>11.0</td>\n",
              "      <td>10.352</td>\n",
              "      <td>10.143</td>\n",
              "    </tr>\n",
              "    <tr>\n",
              "      <th>32</th>\n",
              "      <td>12.0</td>\n",
              "      <td>10.415</td>\n",
              "      <td>10.443</td>\n",
              "    </tr>\n",
              "    <tr>\n",
              "      <th>33</th>\n",
              "      <td>9.0</td>\n",
              "      <td>10.128</td>\n",
              "      <td>10.139</td>\n",
              "    </tr>\n",
              "    <tr>\n",
              "      <th>34</th>\n",
              "      <td>12.0</td>\n",
              "      <td>10.216</td>\n",
              "      <td>10.055</td>\n",
              "    </tr>\n",
              "    <tr>\n",
              "      <th>35</th>\n",
              "      <td>11.0</td>\n",
              "      <td>10.745</td>\n",
              "      <td>10.534</td>\n",
              "    </tr>\n",
              "    <tr>\n",
              "      <th>36</th>\n",
              "      <td>13.0</td>\n",
              "      <td>10.250</td>\n",
              "      <td>10.226</td>\n",
              "    </tr>\n",
              "    <tr>\n",
              "      <th>37</th>\n",
              "      <td>10.0</td>\n",
              "      <td>11.291</td>\n",
              "      <td>11.326</td>\n",
              "    </tr>\n",
              "    <tr>\n",
              "      <th>38</th>\n",
              "      <td>11.0</td>\n",
              "      <td>11.081</td>\n",
              "      <td>11.413</td>\n",
              "    </tr>\n",
              "    <tr>\n",
              "      <th>39</th>\n",
              "      <td>13.0</td>\n",
              "      <td>10.526</td>\n",
              "      <td>10.109</td>\n",
              "    </tr>\n",
              "    <tr>\n",
              "      <th>40</th>\n",
              "      <td>10.0</td>\n",
              "      <td>10.324</td>\n",
              "      <td>10.481</td>\n",
              "    </tr>\n",
              "    <tr>\n",
              "      <th>41</th>\n",
              "      <td>10.0</td>\n",
              "      <td>10.137</td>\n",
              "      <td>10.745</td>\n",
              "    </tr>\n",
              "    <tr>\n",
              "      <th>42</th>\n",
              "      <td>11.0</td>\n",
              "      <td>10.746</td>\n",
              "      <td>11.335</td>\n",
              "    </tr>\n",
              "    <tr>\n",
              "      <th>43</th>\n",
              "      <td>11.0</td>\n",
              "      <td>10.797</td>\n",
              "      <td>10.537</td>\n",
              "    </tr>\n",
              "    <tr>\n",
              "      <th>44</th>\n",
              "      <td>11.0</td>\n",
              "      <td>11.224</td>\n",
              "      <td>11.572</td>\n",
              "    </tr>\n",
              "    <tr>\n",
              "      <th>45</th>\n",
              "      <td>12.0</td>\n",
              "      <td>10.854</td>\n",
              "      <td>11.276</td>\n",
              "    </tr>\n",
              "    <tr>\n",
              "      <th>46</th>\n",
              "      <td>10.0</td>\n",
              "      <td>11.629</td>\n",
              "      <td>12.389</td>\n",
              "    </tr>\n",
              "    <tr>\n",
              "      <th>47</th>\n",
              "      <td>15.0</td>\n",
              "      <td>10.541</td>\n",
              "      <td>11.934</td>\n",
              "    </tr>\n",
              "    <tr>\n",
              "      <th>48</th>\n",
              "      <td>11.0</td>\n",
              "      <td>10.251</td>\n",
              "      <td>11.156</td>\n",
              "    </tr>\n",
              "    <tr>\n",
              "      <th>49</th>\n",
              "      <td>11.0</td>\n",
              "      <td>11.787</td>\n",
              "      <td>13.054</td>\n",
              "    </tr>\n",
              "  </tbody>\n",
              "</table>\n",
              "</div>"
            ],
            "text/plain": [
              "    y_actual     MNK     MGD\n",
              "0       12.0  10.353  10.550\n",
              "1       10.0   9.868   9.877\n",
              "2        9.0  10.109   9.903\n",
              "3       10.0  10.147   9.789\n",
              "4       10.0  10.165   9.929\n",
              "5       11.0  10.616  11.646\n",
              "6       10.0  10.137   9.586\n",
              "7       12.0  10.179  10.057\n",
              "8       14.0  10.384  11.104\n",
              "9        9.0  10.322  10.767\n",
              "10      10.0  10.495   9.893\n",
              "11       9.0  10.381  10.275\n",
              "12       9.0  10.275   9.897\n",
              "13      10.0  10.147  10.223\n",
              "14      10.0   9.949  10.329\n",
              "15       9.0  10.076   9.797\n",
              "16      12.0  10.273  10.410\n",
              "17       9.0  10.157  10.235\n",
              "18      11.0  10.508  10.048\n",
              "19      11.0  10.544  10.823\n",
              "20       9.0  10.529  10.426\n",
              "21      10.0  10.638  10.120\n",
              "22       9.0  10.148   9.185\n",
              "23      12.0  10.427  10.324\n",
              "24      11.0  10.137  10.719\n",
              "25       9.0  10.519  10.256\n",
              "26      12.0  10.943  11.006\n",
              "27      10.0  10.763  11.098\n",
              "28      14.0  10.787  11.383\n",
              "29      11.0  10.300  10.726\n",
              "30      11.0  10.547  10.129\n",
              "31      11.0  10.352  10.143\n",
              "32      12.0  10.415  10.443\n",
              "33       9.0  10.128  10.139\n",
              "34      12.0  10.216  10.055\n",
              "35      11.0  10.745  10.534\n",
              "36      13.0  10.250  10.226\n",
              "37      10.0  11.291  11.326\n",
              "38      11.0  11.081  11.413\n",
              "39      13.0  10.526  10.109\n",
              "40      10.0  10.324  10.481\n",
              "41      10.0  10.137  10.745\n",
              "42      11.0  10.746  11.335\n",
              "43      11.0  10.797  10.537\n",
              "44      11.0  11.224  11.572\n",
              "45      12.0  10.854  11.276\n",
              "46      10.0  11.629  12.389\n",
              "47      15.0  10.541  11.934\n",
              "48      11.0  10.251  11.156\n",
              "49      11.0  11.787  13.054"
            ]
          },
          "metadata": {},
          "execution_count": 27
        }
      ]
    },
    {
      "cell_type": "markdown",
      "metadata": {
        "id": "81a_8sCZ8lix"
      },
      "source": [
        "9. Виконати пункти 2-7, використавши алгоритм k-кратної крос валідацію (K-Fold cross validation) до наданого датасету.\n",
        "\n",
        "Додатковий матеріал: \n",
        "\n",
        "1.   A Gentle Introduction to k-fold Cross-Validation - https://machinelearningmastery.com/k-fold-cross-validation/\n",
        "2.  Cross-validation: evaluating estimator performance - https://scikit-learn.org/stable/modules/cross_validation.html#cross-validation-evaluating-estimator-performance\n",
        "3. Jeff Schneider: Cross Validation - https://www.cs.cmu.edu/~schneide/tut5/node42.html\n",
        "\n"
      ]
    },
    {
      "cell_type": "code",
      "metadata": {
        "id": "l8cfYndxGFWm"
      },
      "source": [
        "S0=(df[:50]).reset_index(drop=True)\n",
        "S1=(df[50:100]).reset_index(drop=True)\n",
        "S2=(df[100:150]).reset_index(drop=True)\n",
        "S3=(df[150:200]).reset_index(drop=True)\n",
        "S4=(df[-50:]).reset_index(drop=True)\n",
        "\n",
        "set0=pd.concat([S4,S3,S1,S2,S0], ignore_index=True)\n",
        "set1=pd.concat([S4,S2,S0,S3,S1], ignore_index=True)\n",
        "set2=pd.concat([S1,S0,S4,S3,S2], ignore_index=True)\n",
        "set3=pd.concat([S0,S4,S1,S2,S3], ignore_index=True)\n",
        "set4=pd.concat([S3,S2,S1,S4,S0], ignore_index=True)"
      ],
      "execution_count": null,
      "outputs": []
    },
    {
      "cell_type": "code",
      "metadata": {
        "id": "VFS-vYoAQ1vH"
      },
      "source": [
        "def k_fold(method, KFV_train, KFV_test):\n",
        "    \n",
        "    KFV_df = method(KFV_train.iloc[:,:-1], KFV_train.iloc[:,-1])\n",
        "    KFV = predict(KFV_df, KFV_test.iloc[:,:-1])\n",
        "    ytest = KFV_test.iloc[:,-1]\n",
        "    n = len(ytest)\n",
        "    y_med = sum(ytest) / len(ytest)\n",
        "    R_2 = 1 - sum((KFV[i] - ytest[i]) ** 2 for i in range(n)) / sum((y_med - ytest[i]) ** 2 for i in range(n)) \n",
        "    F = (R_2 / (1 - R_2)) * ((n - 8 -1) / 8)\n",
        "    KFV_plot = predict_plot(ytest, KFV) \n",
        "    print(R_2, F)\n",
        "    return R_2, F"
      ],
      "execution_count": null,
      "outputs": []
    },
    {
      "cell_type": "code",
      "metadata": {
        "colab": {
          "base_uri": "https://localhost:8080/",
          "height": 1000
        },
        "id": "TgW-0jv10z4r",
        "outputId": "567ee138-7223-4bad-dddb-83aa3697118e"
      },
      "source": [
        "k_fold(fit_MNK, set0, S0)\n",
        "k_fold(fit_MNK, set1, S1)\n",
        "k_fold(fit_MNK, set2, S2)\n",
        "k_fold(fit_MNK, set3, S3)\n",
        "k_fold(fit_MNK, set4, S4)\n"
      ],
      "execution_count": null,
      "outputs": [
        {
          "output_type": "stream",
          "name": "stdout",
          "text": [
            "0.8306546500141943 25.138600390737444\n",
            "0.1365682529735991 0.8106168193376544\n",
            "0.022595671079040924 0.1184799482195147\n",
            "0.23421688764217152 1.5674954563443475\n",
            "0.11939987238265759 0.6948946823535175\n"
          ]
        },
        {
          "output_type": "execute_result",
          "data": {
            "text/plain": [
              "(0.11939987238265759, 0.6948946823535175)"
            ]
          },
          "metadata": {},
          "execution_count": 30
        },
        {
          "output_type": "display_data",
          "data": {
            "image/png": "[encoded data removed]",
            "text/plain": [
              "<Figure size 1152x576 with 1 Axes>"
            ]
          },
          "metadata": {
            "needs_background": "light"
          }
        },
        {
          "output_type": "display_data",
          "data": {
            "image/png": "[encoded data removed]",
            "text/plain": [
              "<Figure size 1152x576 with 1 Axes>"
            ]
          },
          "metadata": {
            "needs_background": "light"
          }
        },
        {
          "output_type": "display_data",
          "data": {
            "image/png": "[encoded data removed]",
            "text/plain": [
              "<Figure size 1152x576 with 1 Axes>"
            ]
          },
          "metadata": {
            "needs_background": "light"
          }
        },
        {
          "output_type": "display_data",
          "data": {
            "image/png": "[encoded data removed]",
            "text/plain": [
              "<Figure size 1152x576 with 1 Axes>"
            ]
          },
          "metadata": {
            "needs_background": "light"
          }
        },
        {
          "output_type": "display_data",
          "data": {
            "image/png": "[encoded data removed]",
            "text/plain": [
              "<Figure size 1152x576 with 1 Axes>"
            ]
          },
          "metadata": {
            "needs_background": "light"
          }
        }
      ]
    },
    {
      "cell_type": "code",
      "metadata": {
        "colab": {
          "base_uri": "https://localhost:8080/",
          "height": 1000
        },
        "id": "L4lzt4IYlLai",
        "outputId": "1c01f36c-497f-4314-a739-8937528a4a80"
      },
      "source": [
        "k_fold(fit_MGD, set0, S0)\n",
        "k_fold(fit_MGD, set1, S1)\n",
        "k_fold(fit_MGD, set2, S2)\n",
        "k_fold(fit_MGD, set3, S3)\n",
        "k_fold(fit_MGD, set4, S4)"
      ],
      "execution_count": null,
      "outputs": [
        {
          "output_type": "stream",
          "name": "stdout",
          "text": [
            "0.561623407534082 6.565861437585649\n",
            "-1.806048480014116 -3.2985882196966827\n",
            "-1.2417271751277257 -2.838816356931126\n",
            "0.19712046464154753 1.2582739213011573\n",
            "0.09892246395509618 0.5626348538164018\n"
          ]
        },
        {
          "output_type": "execute_result",
          "data": {
            "text/plain": [
              "(0.09892246395509618, 0.5626348538164018)"
            ]
          },
          "metadata": {},
          "execution_count": 31
        },
        {
          "output_type": "display_data",
          "data": {
            "image/png": "[encoded data removed]",
            "text/plain": [
              "<Figure size 1152x576 with 1 Axes>"
            ]
          },
          "metadata": {
            "needs_background": "light"
          }
        },
        {
          "output_type": "display_data",
          "data": {
            "image/png": "[encoded data removed]",
            "text/plain": [
              "<Figure size 1152x576 with 1 Axes>"
            ]
          },
          "metadata": {
            "needs_background": "light"
          }
        },
        {
          "output_type": "display_data",
          "data": {
            "image/png": "[encoded data removed]",
            "text/plain": [
              "<Figure size 1152x576 with 1 Axes>"
            ]
          },
          "metadata": {
            "needs_background": "light"
          }
        },
        {
          "output_type": "display_data",
          "data": {
            "image/png": "[encoded data removed]",
            "text/plain": [
              "<Figure size 1152x576 with 1 Axes>"
            ]
          },
          "metadata": {
            "needs_background": "light"
          }
        },
        {
          "output_type": "display_data",
          "data": {
            "image/png": "[encoded data removed]",
            "text/plain": [
              "<Figure size 1152x576 with 1 Axes>"
            ]
          },
          "metadata": {
            "needs_background": "light"
          }
        }
      ]
    },
    {
      "cell_type": "markdown",
      "metadata": {
        "id": "srmn15GHu8C1"
      },
      "source": [
        "10. Проаналізуйте результати, отримані у пунктах 3-9."
      ]
    },
    {
      "cell_type": "markdown",
      "metadata": {
        "id": "JkGsQH2NIzMT"
      },
      "source": [
        "Модель множинної лінійної регресії, використовуючи метод найменших квадратів з даними  для тренування та тестування, 100 та 25 записів відповідно, оцінено статистичну значимість її коефіцієнтів та адекватність за допомогою коефіцієнту множинної детермінації. Для даного набору даних ці значення виявляються від’ємними. Якщо для таких самих кроків обрати більший набір даних 200/50, то зі збільшенням кількості записів зменшиться від’ємне значення R2 та F, хоча все ще залишиться від’ємним. Проте, скориставшись k-кратною крос валідацією, можна досягти суттєвого покращення цих показників. На одній з п’яти так комбінацій даних R2 досягає значення 0.8306546500141943, а F 25.138600390737444. \n",
        "\n",
        "Для градієнтного спуску також були проведені ті ж самі кроки:\n",
        "Для даних 100/50 : R2 =-0.5805886520741561, F=-4.147757117652712 \n",
        "Для більшого набору даних ці значення стають більшими, але все ще від’ємними. І як з попереднім методом, найкращий спосіб підвищення точності прогнозування виявляється метод оскільки k-кратної крос валідації, оскільки за його використання для методу градієнтного спуску R2 = 0.561623407534082 та \n",
        "F = 6.565861437585649.\n",
        "\n",
        "Отже, після проведення аналізу розрахунків, можна прийти висновку, що хоч збільшення набору даних і покращує результати, але не суттєво, на відміну від методу K-кратної крос валідації\n",
        "\n",
        "Самі ж дані та похибки візуалізовані на графіках, де можна наочно відмітити покращення точності передбачення.\n"
      ]
    },
    {
      "cell_type": "markdown",
      "metadata": {
        "id": "mPKpL6-MeS3T"
      },
      "source": [
        "### part 2\n"
      ]
    },
    {
      "cell_type": "markdown",
      "metadata": {
        "id": "vlcx3dk-CQpj"
      },
      "source": [
        "**Захист: завдання №9 + аналіз отриманих у роботі результатів + знання теорії щодо методів і алгоритмів, використанних у роботі.**"
      ]
    },
    {
      "cell_type": "markdown",
      "metadata": {
        "id": "RV2S82OaEdXb"
      },
      "source": [
        "**Частина 2. Логістична регресія**\n",
        "\n",
        "Приблизний строк виконання - 8 годин\n",
        "\n",
        "**Рекомендована дата здачі: 25 жовтня 2021 року**\n",
        "\n",
        "Виконаkf студентrf групи [КМ-11мн] [Коваленко Олександра Петрівна]\n",
        "\n",
        "Студент здав роботу: (заповнюється викладачем відповідно до дати повідомлення з роботою у Slack)\n",
        "\n",
        "Студент захистив роботу на оцінку: (заповнюється викладачем)"
      ]
    },
    {
      "cell_type": "markdown",
      "metadata": {
        "id": "r5-t1qSJEpCE"
      },
      "source": [
        "1. Обрати відповідний файл з даними."
      ]
    },
    {
      "cell_type": "code",
      "metadata": {
        "id": "9MA8g_5HYqtz"
      },
      "source": [
        "import pandas as pd\n",
        "import numpy as np\n",
        "import seaborn as sns\n",
        "from matplotlib import pyplot as plt\n",
        "import plotly.graph_objects as go\n",
        "from plotly.subplots import make_subplots"
      ],
      "execution_count": null,
      "outputs": []
    },
    {
      "cell_type": "code",
      "metadata": {
        "id": "TUc0dbY7ryj0",
        "colab": {
          "base_uri": "https://localhost:8080/",
          "height": 423
        },
        "outputId": "c69bd9b2-7735-44ac-ac7d-b87bc343f167"
      },
      "source": [
        "file_url2 = \"https://raw.githubusercontent.com/Alexandra-Kovalenko1/data/main/MN09-Kovalenko_Part2%20(1).csv\"\n",
        "df2 = pd.read_csv(file_url2, sep=';', decimal=',')\n",
        "df2=df2.set_axis([0, 1, 2, 3, 4, 5, 6, 7] , axis=1).astype(np.float64)\n",
        "\n",
        "TRAIN2 = df2.iloc[:100]\n",
        "TEST2 = df2.iloc[-25:]\n",
        "\n",
        "X_train2 = TRAIN2.iloc[:,:-1]\n",
        "Y_train2 = TRAIN2.iloc[:,-1]\n",
        "X_test2 = TEST2.iloc[:,:-1]\n",
        "Y_test2 = TEST2.iloc[:,-1]\n",
        "\n",
        "train2 = df2.iloc[:200]\n",
        "test2 = df2.iloc[-50:]\n",
        "\n",
        "train_x2 = train2.iloc[:,:-1]\n",
        "train_y2 = train2.iloc[:,-1]\n",
        "test_x2 = test2.iloc[:,:-1]\n",
        "test_y2 = test2.iloc[:,-1]\n",
        "\n",
        "\n",
        "df2"
      ],
      "execution_count": null,
      "outputs": [
        {
          "output_type": "execute_result",
          "data": {
            "text/html": [
              "<div>\n",
              "<style scoped>\n",
              "    .dataframe tbody tr th:only-of-type {\n",
              "        vertical-align: middle;\n",
              "    }\n",
              "\n",
              "    .dataframe tbody tr th {\n",
              "        vertical-align: top;\n",
              "    }\n",
              "\n",
              "    .dataframe thead th {\n",
              "        text-align: right;\n",
              "    }\n",
              "</style>\n",
              "<table border=\"1\" class=\"dataframe\">\n",
              "  <thead>\n",
              "    <tr style=\"text-align: right;\">\n",
              "      <th></th>\n",
              "      <th>0</th>\n",
              "      <th>1</th>\n",
              "      <th>2</th>\n",
              "      <th>3</th>\n",
              "      <th>4</th>\n",
              "      <th>5</th>\n",
              "      <th>6</th>\n",
              "      <th>7</th>\n",
              "    </tr>\n",
              "  </thead>\n",
              "  <tbody>\n",
              "    <tr>\n",
              "      <th>0</th>\n",
              "      <td>0.625</td>\n",
              "      <td>0.475</td>\n",
              "      <td>0.160</td>\n",
              "      <td>1.0845</td>\n",
              "      <td>0.5005</td>\n",
              "      <td>0.2355</td>\n",
              "      <td>0.3105</td>\n",
              "      <td>0.0</td>\n",
              "    </tr>\n",
              "    <tr>\n",
              "      <th>1</th>\n",
              "      <td>0.625</td>\n",
              "      <td>0.500</td>\n",
              "      <td>0.170</td>\n",
              "      <td>1.0985</td>\n",
              "      <td>0.4645</td>\n",
              "      <td>0.2200</td>\n",
              "      <td>0.3540</td>\n",
              "      <td>1.0</td>\n",
              "    </tr>\n",
              "    <tr>\n",
              "      <th>2</th>\n",
              "      <td>0.625</td>\n",
              "      <td>0.470</td>\n",
              "      <td>0.155</td>\n",
              "      <td>1.1955</td>\n",
              "      <td>0.6430</td>\n",
              "      <td>0.2055</td>\n",
              "      <td>0.3145</td>\n",
              "      <td>0.0</td>\n",
              "    </tr>\n",
              "    <tr>\n",
              "      <th>3</th>\n",
              "      <td>0.625</td>\n",
              "      <td>0.485</td>\n",
              "      <td>0.175</td>\n",
              "      <td>1.3620</td>\n",
              "      <td>0.6765</td>\n",
              "      <td>0.2615</td>\n",
              "      <td>0.3705</td>\n",
              "      <td>0.0</td>\n",
              "    </tr>\n",
              "    <tr>\n",
              "      <th>4</th>\n",
              "      <td>0.625</td>\n",
              "      <td>0.485</td>\n",
              "      <td>0.150</td>\n",
              "      <td>1.0440</td>\n",
              "      <td>0.4380</td>\n",
              "      <td>0.2865</td>\n",
              "      <td>0.2780</td>\n",
              "      <td>1.0</td>\n",
              "    </tr>\n",
              "    <tr>\n",
              "      <th>...</th>\n",
              "      <td>...</td>\n",
              "      <td>...</td>\n",
              "      <td>...</td>\n",
              "      <td>...</td>\n",
              "      <td>...</td>\n",
              "      <td>...</td>\n",
              "      <td>...</td>\n",
              "      <td>...</td>\n",
              "    </tr>\n",
              "    <tr>\n",
              "      <th>294</th>\n",
              "      <td>0.725</td>\n",
              "      <td>0.570</td>\n",
              "      <td>0.205</td>\n",
              "      <td>1.6195</td>\n",
              "      <td>0.7440</td>\n",
              "      <td>0.3150</td>\n",
              "      <td>0.4880</td>\n",
              "      <td>0.0</td>\n",
              "    </tr>\n",
              "    <tr>\n",
              "      <th>295</th>\n",
              "      <td>0.750</td>\n",
              "      <td>0.550</td>\n",
              "      <td>0.195</td>\n",
              "      <td>1.8325</td>\n",
              "      <td>0.8300</td>\n",
              "      <td>0.3660</td>\n",
              "      <td>0.4400</td>\n",
              "      <td>0.0</td>\n",
              "    </tr>\n",
              "    <tr>\n",
              "      <th>296</th>\n",
              "      <td>0.760</td>\n",
              "      <td>0.605</td>\n",
              "      <td>0.215</td>\n",
              "      <td>2.1730</td>\n",
              "      <td>0.8010</td>\n",
              "      <td>0.4915</td>\n",
              "      <td>0.6460</td>\n",
              "      <td>0.0</td>\n",
              "    </tr>\n",
              "    <tr>\n",
              "      <th>297</th>\n",
              "      <td>0.135</td>\n",
              "      <td>0.130</td>\n",
              "      <td>0.040</td>\n",
              "      <td>0.0290</td>\n",
              "      <td>0.0125</td>\n",
              "      <td>0.0065</td>\n",
              "      <td>0.0080</td>\n",
              "      <td>1.0</td>\n",
              "    </tr>\n",
              "    <tr>\n",
              "      <th>298</th>\n",
              "      <td>0.160</td>\n",
              "      <td>0.110</td>\n",
              "      <td>0.025</td>\n",
              "      <td>0.0195</td>\n",
              "      <td>0.0075</td>\n",
              "      <td>0.0050</td>\n",
              "      <td>0.0060</td>\n",
              "      <td>1.0</td>\n",
              "    </tr>\n",
              "  </tbody>\n",
              "</table>\n",
              "<p>299 rows × 8 columns</p>\n",
              "</div>"
            ],
            "text/plain": [
              "         0      1      2       3       4       5       6    7\n",
              "0    0.625  0.475  0.160  1.0845  0.5005  0.2355  0.3105  0.0\n",
              "1    0.625  0.500  0.170  1.0985  0.4645  0.2200  0.3540  1.0\n",
              "2    0.625  0.470  0.155  1.1955  0.6430  0.2055  0.3145  0.0\n",
              "3    0.625  0.485  0.175  1.3620  0.6765  0.2615  0.3705  0.0\n",
              "4    0.625  0.485  0.150  1.0440  0.4380  0.2865  0.2780  1.0\n",
              "..     ...    ...    ...     ...     ...     ...     ...  ...\n",
              "294  0.725  0.570  0.205  1.6195  0.7440  0.3150  0.4880  0.0\n",
              "295  0.750  0.550  0.195  1.8325  0.8300  0.3660  0.4400  0.0\n",
              "296  0.760  0.605  0.215  2.1730  0.8010  0.4915  0.6460  0.0\n",
              "297  0.135  0.130  0.040  0.0290  0.0125  0.0065  0.0080  1.0\n",
              "298  0.160  0.110  0.025  0.0195  0.0075  0.0050  0.0060  1.0\n",
              "\n",
              "[299 rows x 8 columns]"
            ]
          },
          "metadata": {},
          "execution_count": 33
        }
      ]
    },
    {
      "cell_type": "markdown",
      "metadata": {
        "id": "SMuqeskkEpy8"
      },
      "source": [
        "2. Збудувати модель множинної логістичної регресії, використовуючи градієнтний спуск, обравши в якості залежної змінної останній стовпчик, а всі інші – в якості незалежних змінних. Для побудови моделі використовувати перші 100 записів у файлі з даними. Для перевірки моделі використовувати останні 25 записів."
      ]
    },
    {
      "cell_type": "code",
      "metadata": {
        "id": "JKNVMEBUVl6l"
      },
      "source": [
        "def fit_MGD_sigmoid(X, Y):\n",
        "\n",
        "  theeta0 = 0\n",
        "  theeta1 = 0\n",
        "  theeta2 = 0\n",
        "  theeta3 = 0\n",
        "  theeta4 = 0\n",
        "  theeta5 = 0\n",
        "  theeta6 = 0\n",
        "  theeta7 = 0\n",
        "\n",
        "  a = 0.0001  \n",
        "  iter = 10000\n",
        "  n = float(len(X[0])) \n",
        "  result = np.zeros(iter)\n",
        "\n",
        "  for i in range(iter): \n",
        "      predict = theeta0 + theeta1*X[0] + theeta2 * X[1] + theeta3 * X[2] + theeta4 * X[3] + theeta5 * X[4] + theeta6 * X[5] + theeta7 * X[6]\n",
        "      d = predict - Y\n",
        "      \n",
        "      cost = (1/2 * n) * sum(d * d) \n",
        "\n",
        "      result[i] =  cost  \n",
        "       \n",
        "      t_1 = (1/n) * sum(d) \n",
        "      t_2 = (1/n) * sum(X[0] * (d)) \n",
        "      t_3 = (1/n) * sum(X[1] * (d)) \n",
        "      t_4 = (1/n) * sum(X[2] * (d))\n",
        "      t_5 = (1/n) * sum(X[3] * (d)) \n",
        "      t_6 = (1/n) * sum(X[4] * (d))\n",
        "      t_7 = (1/n) * sum(X[5] * (d))\n",
        "      t_8 = (1/n) * sum(X[6] * (d))\n",
        "   \n",
        "    \n",
        "      theeta0 = theeta0 - a * t_1 \n",
        "      theeta1 = theeta1 - a * t_2 \n",
        "      theeta2 = theeta2 - a * t_3 \n",
        "      theeta3 = theeta3 - a * t_4 \n",
        "      theeta4 = theeta4 - a * t_5 \n",
        "      theeta5 = theeta5 - a * t_6 \n",
        "      theeta6 = theeta6 - a * t_7 \n",
        "      theeta7 = theeta7 - a * t_8 \n",
        "\n",
        "      theeta = np.array([theeta0, theeta1, theeta2, theeta3, theeta4, theeta5, theeta6, theeta7]) \n",
        "\n",
        "  #print(plt.plot(range(iter),result))\n",
        "\n",
        "  return theeta"
      ],
      "execution_count": null,
      "outputs": []
    },
    {
      "cell_type": "code",
      "metadata": {
        "id": "xmW636U4VTTV"
      },
      "source": [
        "def predict_sigmoid(x, X_test):\n",
        "  x02 = np.array(X_test[0])\n",
        "  x12 = np.array(X_test[1])\n",
        "  x22 = np.array(X_test[2])\n",
        "  x32 = np.array(X_test[3])\n",
        "  x42 = np.array(X_test[4])\n",
        "  x52 = np.array(X_test[5])\n",
        "  x62 = np.array(X_test[6])\n",
        "\n",
        "  predict = x[0] + x[1] * x02 + x[2] *x12 + x[3] * x22 + x[4] * x32 + x[5] * x42 + x[6] * x52 + x[7] * x62\n",
        "  return predict"
      ],
      "execution_count": null,
      "outputs": []
    },
    {
      "cell_type": "code",
      "metadata": {
        "id": "Vsxtyw-_bC3z"
      },
      "source": [
        "def classification(predict):\n",
        "  y_pred = 1/(1+np.exp(-predict))\n",
        "  return y_pred\n"
      ],
      "execution_count": null,
      "outputs": []
    },
    {
      "cell_type": "code",
      "metadata": {
        "id": "dThoMNJlJndX"
      },
      "source": [
        "MGD1 = fit_MGD_sigmoid(X_train2, Y_train2)\n"
      ],
      "execution_count": null,
      "outputs": []
    },
    {
      "cell_type": "code",
      "metadata": {
        "id": "Jrf8tkznz8OS",
        "colab": {
          "base_uri": "https://localhost:8080/",
          "height": 423
        },
        "outputId": "1eb2d3be-34a3-4766-9c68-e7747ebe2f50"
      },
      "source": [
        "predict_MGD_train = predict_sigmoid(MGD1, X_train2)\n",
        "classification_train = classification(predict_MGD_train)\n",
        "\n",
        "df_pred_train = pd.DataFrame()\n",
        "df_pred_train[\"y_actual\"] = Y_train2.to_numpy()\n",
        "df_pred_train[\"y_pred_train\"] = np.round(classification_train, 3)\n",
        "\n",
        "x_positive = df_pred_train[df_pred_train['y_actual'] == 0].max()\n",
        "y_negative = df_pred_train[df_pred_train['y_actual'] == 1].min()\n",
        "step = (x_positive['y_pred_train'] + y_negative['y_pred_train'])/2\n",
        "\n",
        "df_pred_train['class'] = df_pred_train.apply(lambda x: 1 if x['y_pred_train'] <= step \n",
        "                                  else (0 if x['y_pred_train'] > step else 1), axis=1)\n",
        "df_pred_train"
      ],
      "execution_count": null,
      "outputs": [
        {
          "output_type": "execute_result",
          "data": {
            "text/html": [
              "<div>\n",
              "<style scoped>\n",
              "    .dataframe tbody tr th:only-of-type {\n",
              "        vertical-align: middle;\n",
              "    }\n",
              "\n",
              "    .dataframe tbody tr th {\n",
              "        vertical-align: top;\n",
              "    }\n",
              "\n",
              "    .dataframe thead th {\n",
              "        text-align: right;\n",
              "    }\n",
              "</style>\n",
              "<table border=\"1\" class=\"dataframe\">\n",
              "  <thead>\n",
              "    <tr style=\"text-align: right;\">\n",
              "      <th></th>\n",
              "      <th>y_actual</th>\n",
              "      <th>y_pred_train</th>\n",
              "      <th>class</th>\n",
              "    </tr>\n",
              "  </thead>\n",
              "  <tbody>\n",
              "    <tr>\n",
              "      <th>0</th>\n",
              "      <td>0.0</td>\n",
              "      <td>0.568</td>\n",
              "      <td>1</td>\n",
              "    </tr>\n",
              "    <tr>\n",
              "      <th>1</th>\n",
              "      <td>1.0</td>\n",
              "      <td>0.568</td>\n",
              "      <td>1</td>\n",
              "    </tr>\n",
              "    <tr>\n",
              "      <th>2</th>\n",
              "      <td>0.0</td>\n",
              "      <td>0.569</td>\n",
              "      <td>1</td>\n",
              "    </tr>\n",
              "    <tr>\n",
              "      <th>3</th>\n",
              "      <td>0.0</td>\n",
              "      <td>0.572</td>\n",
              "      <td>0</td>\n",
              "    </tr>\n",
              "    <tr>\n",
              "      <th>4</th>\n",
              "      <td>1.0</td>\n",
              "      <td>0.567</td>\n",
              "      <td>1</td>\n",
              "    </tr>\n",
              "    <tr>\n",
              "      <th>...</th>\n",
              "      <td>...</td>\n",
              "      <td>...</td>\n",
              "      <td>...</td>\n",
              "    </tr>\n",
              "    <tr>\n",
              "      <th>95</th>\n",
              "      <td>1.0</td>\n",
              "      <td>0.561</td>\n",
              "      <td>1</td>\n",
              "    </tr>\n",
              "    <tr>\n",
              "      <th>96</th>\n",
              "      <td>1.0</td>\n",
              "      <td>0.561</td>\n",
              "      <td>1</td>\n",
              "    </tr>\n",
              "    <tr>\n",
              "      <th>97</th>\n",
              "      <td>1.0</td>\n",
              "      <td>0.565</td>\n",
              "      <td>1</td>\n",
              "    </tr>\n",
              "    <tr>\n",
              "      <th>98</th>\n",
              "      <td>1.0</td>\n",
              "      <td>0.563</td>\n",
              "      <td>1</td>\n",
              "    </tr>\n",
              "    <tr>\n",
              "      <th>99</th>\n",
              "      <td>0.0</td>\n",
              "      <td>0.569</td>\n",
              "      <td>1</td>\n",
              "    </tr>\n",
              "  </tbody>\n",
              "</table>\n",
              "<p>100 rows × 3 columns</p>\n",
              "</div>"
            ],
            "text/plain": [
              "    y_actual  y_pred_train  class\n",
              "0        0.0         0.568      1\n",
              "1        1.0         0.568      1\n",
              "2        0.0         0.569      1\n",
              "3        0.0         0.572      0\n",
              "4        1.0         0.567      1\n",
              "..       ...           ...    ...\n",
              "95       1.0         0.561      1\n",
              "96       1.0         0.561      1\n",
              "97       1.0         0.565      1\n",
              "98       1.0         0.563      1\n",
              "99       0.0         0.569      1\n",
              "\n",
              "[100 rows x 3 columns]"
            ]
          },
          "metadata": {},
          "execution_count": 38
        }
      ]
    },
    {
      "cell_type": "code",
      "metadata": {
        "id": "1pElAAlTV2tu",
        "colab": {
          "base_uri": "https://localhost:8080/",
          "height": 833
        },
        "outputId": "fa34cf56-96e4-4955-8e6e-e4685f653b1e"
      },
      "source": [
        "predict_MGD_test = predict_sigmoid(MGD1, X_test2)\n",
        "classification_test = classification(predict_MGD_test)\n",
        "\n",
        "df_pred_test = pd.DataFrame()\n",
        "df_pred_test[\"y_actual\"] = Y_test2.to_numpy() \n",
        "df_pred_test[\"y_pred_test\"] = np.round(classification_test, 5)\n",
        "df_pred_test['class'] = df_pred_test.apply(lambda x: 1 if x['y_pred_test'] <= step \n",
        "                                  else (0 if x['y_pred_test'] > step else 1), axis=1)\n",
        "df_pred_test"
      ],
      "execution_count": null,
      "outputs": [
        {
          "output_type": "execute_result",
          "data": {
            "text/html": [
              "<div>\n",
              "<style scoped>\n",
              "    .dataframe tbody tr th:only-of-type {\n",
              "        vertical-align: middle;\n",
              "    }\n",
              "\n",
              "    .dataframe tbody tr th {\n",
              "        vertical-align: top;\n",
              "    }\n",
              "\n",
              "    .dataframe thead th {\n",
              "        text-align: right;\n",
              "    }\n",
              "</style>\n",
              "<table border=\"1\" class=\"dataframe\">\n",
              "  <thead>\n",
              "    <tr style=\"text-align: right;\">\n",
              "      <th></th>\n",
              "      <th>y_actual</th>\n",
              "      <th>y_pred_test</th>\n",
              "      <th>class</th>\n",
              "    </tr>\n",
              "  </thead>\n",
              "  <tbody>\n",
              "    <tr>\n",
              "      <th>0</th>\n",
              "      <td>1.0</td>\n",
              "      <td>0.56945</td>\n",
              "      <td>1</td>\n",
              "    </tr>\n",
              "    <tr>\n",
              "      <th>1</th>\n",
              "      <td>0.0</td>\n",
              "      <td>0.57364</td>\n",
              "      <td>0</td>\n",
              "    </tr>\n",
              "    <tr>\n",
              "      <th>2</th>\n",
              "      <td>0.0</td>\n",
              "      <td>0.57032</td>\n",
              "      <td>1</td>\n",
              "    </tr>\n",
              "    <tr>\n",
              "      <th>3</th>\n",
              "      <td>0.0</td>\n",
              "      <td>0.57026</td>\n",
              "      <td>1</td>\n",
              "    </tr>\n",
              "    <tr>\n",
              "      <th>4</th>\n",
              "      <td>0.0</td>\n",
              "      <td>0.57124</td>\n",
              "      <td>0</td>\n",
              "    </tr>\n",
              "    <tr>\n",
              "      <th>5</th>\n",
              "      <td>0.0</td>\n",
              "      <td>0.57343</td>\n",
              "      <td>0</td>\n",
              "    </tr>\n",
              "    <tr>\n",
              "      <th>6</th>\n",
              "      <td>0.0</td>\n",
              "      <td>0.57323</td>\n",
              "      <td>0</td>\n",
              "    </tr>\n",
              "    <tr>\n",
              "      <th>7</th>\n",
              "      <td>0.0</td>\n",
              "      <td>0.57174</td>\n",
              "      <td>0</td>\n",
              "    </tr>\n",
              "    <tr>\n",
              "      <th>8</th>\n",
              "      <td>0.0</td>\n",
              "      <td>0.57382</td>\n",
              "      <td>0</td>\n",
              "    </tr>\n",
              "    <tr>\n",
              "      <th>9</th>\n",
              "      <td>0.0</td>\n",
              "      <td>0.57635</td>\n",
              "      <td>0</td>\n",
              "    </tr>\n",
              "    <tr>\n",
              "      <th>10</th>\n",
              "      <td>0.0</td>\n",
              "      <td>0.57489</td>\n",
              "      <td>0</td>\n",
              "    </tr>\n",
              "    <tr>\n",
              "      <th>11</th>\n",
              "      <td>0.0</td>\n",
              "      <td>0.57312</td>\n",
              "      <td>0</td>\n",
              "    </tr>\n",
              "    <tr>\n",
              "      <th>12</th>\n",
              "      <td>0.0</td>\n",
              "      <td>0.57724</td>\n",
              "      <td>0</td>\n",
              "    </tr>\n",
              "    <tr>\n",
              "      <th>13</th>\n",
              "      <td>0.0</td>\n",
              "      <td>0.57587</td>\n",
              "      <td>0</td>\n",
              "    </tr>\n",
              "    <tr>\n",
              "      <th>14</th>\n",
              "      <td>0.0</td>\n",
              "      <td>0.57854</td>\n",
              "      <td>0</td>\n",
              "    </tr>\n",
              "    <tr>\n",
              "      <th>15</th>\n",
              "      <td>0.0</td>\n",
              "      <td>0.57419</td>\n",
              "      <td>0</td>\n",
              "    </tr>\n",
              "    <tr>\n",
              "      <th>16</th>\n",
              "      <td>0.0</td>\n",
              "      <td>0.57682</td>\n",
              "      <td>0</td>\n",
              "    </tr>\n",
              "    <tr>\n",
              "      <th>17</th>\n",
              "      <td>0.0</td>\n",
              "      <td>0.58001</td>\n",
              "      <td>0</td>\n",
              "    </tr>\n",
              "    <tr>\n",
              "      <th>18</th>\n",
              "      <td>0.0</td>\n",
              "      <td>0.57793</td>\n",
              "      <td>0</td>\n",
              "    </tr>\n",
              "    <tr>\n",
              "      <th>19</th>\n",
              "      <td>0.0</td>\n",
              "      <td>0.58350</td>\n",
              "      <td>0</td>\n",
              "    </tr>\n",
              "    <tr>\n",
              "      <th>20</th>\n",
              "      <td>0.0</td>\n",
              "      <td>0.57745</td>\n",
              "      <td>0</td>\n",
              "    </tr>\n",
              "    <tr>\n",
              "      <th>21</th>\n",
              "      <td>0.0</td>\n",
              "      <td>0.57998</td>\n",
              "      <td>0</td>\n",
              "    </tr>\n",
              "    <tr>\n",
              "      <th>22</th>\n",
              "      <td>0.0</td>\n",
              "      <td>0.58501</td>\n",
              "      <td>0</td>\n",
              "    </tr>\n",
              "    <tr>\n",
              "      <th>23</th>\n",
              "      <td>1.0</td>\n",
              "      <td>0.54188</td>\n",
              "      <td>1</td>\n",
              "    </tr>\n",
              "    <tr>\n",
              "      <th>24</th>\n",
              "      <td>1.0</td>\n",
              "      <td>0.54186</td>\n",
              "      <td>1</td>\n",
              "    </tr>\n",
              "  </tbody>\n",
              "</table>\n",
              "</div>"
            ],
            "text/plain": [
              "    y_actual  y_pred_test  class\n",
              "0        1.0      0.56945      1\n",
              "1        0.0      0.57364      0\n",
              "2        0.0      0.57032      1\n",
              "3        0.0      0.57026      1\n",
              "4        0.0      0.57124      0\n",
              "5        0.0      0.57343      0\n",
              "6        0.0      0.57323      0\n",
              "7        0.0      0.57174      0\n",
              "8        0.0      0.57382      0\n",
              "9        0.0      0.57635      0\n",
              "10       0.0      0.57489      0\n",
              "11       0.0      0.57312      0\n",
              "12       0.0      0.57724      0\n",
              "13       0.0      0.57587      0\n",
              "14       0.0      0.57854      0\n",
              "15       0.0      0.57419      0\n",
              "16       0.0      0.57682      0\n",
              "17       0.0      0.58001      0\n",
              "18       0.0      0.57793      0\n",
              "19       0.0      0.58350      0\n",
              "20       0.0      0.57745      0\n",
              "21       0.0      0.57998      0\n",
              "22       0.0      0.58501      0\n",
              "23       1.0      0.54188      1\n",
              "24       1.0      0.54186      1"
            ]
          },
          "metadata": {},
          "execution_count": 39
        }
      ]
    },
    {
      "cell_type": "markdown",
      "metadata": {
        "id": "S15T6LBDEqa7"
      },
      "source": [
        "3. Оцінити статистичну значимість коефіцієнтів отриманої моделі.\n",
        "\n",
        "Це можна зробити, як мінімум, двома способами:\n",
        "\n",
        "*   за допомогою перетворення логістичної функції на лінійну і перевіркою значимості коефіцієнтів отриманої лінійної регресії;\n",
        "*   за допомогою статистичних тестів: наприклад, тест Вальда (Wald Test)\n",
        "\n"
      ]
    },
    {
      "cell_type": "code",
      "metadata": {
        "id": "E-0P5r9yuapc"
      },
      "source": [
        "def R2(y_test, predict):\n",
        "  n = len(y_test)\n",
        "  y_med = sum(y_test) / n\n",
        "  R_2 = 1 - sum((predict[i] - y_test[i]) ** 2 for i in range(n)) / sum((y_med - y_test[i]) ** 2 for i in range(n))\n",
        "  return R_2"
      ],
      "execution_count": null,
      "outputs": []
    },
    {
      "cell_type": "code",
      "metadata": {
        "id": "HLEqEJaOEq7l",
        "colab": {
          "base_uri": "https://localhost:8080/"
        },
        "outputId": "d3a14d00-74c3-4294-e5e3-50d08f95da84"
      },
      "source": [
        "R_2 = R2((Y_test2.to_numpy()), predict_MGD_test)\n",
        "n = len(Y_test2.to_numpy())\n",
        "F = (R_2 / (1 - R_2)) * ((n - 8 -1) / 8)\n",
        "F"
      ],
      "execution_count": null,
      "outputs": [
        {
          "output_type": "execute_result",
          "data": {
            "text/plain": [
              "-0.6686743998658129"
            ]
          },
          "metadata": {},
          "execution_count": 41
        }
      ]
    },
    {
      "cell_type": "markdown",
      "metadata": {
        "id": "C0LviNeuErPb"
      },
      "source": [
        "4. Оцінити адекватність збудованої моделі за допомогою коефіцієнту множинної детермінації."
      ]
    },
    {
      "cell_type": "code",
      "metadata": {
        "id": "CAJzRYlhEris",
        "colab": {
          "base_uri": "https://localhost:8080/"
        },
        "outputId": "47046d8e-6898-4636-c8af-97c4a26500d3"
      },
      "source": [
        "R_2"
      ],
      "execution_count": null,
      "outputs": [
        {
          "output_type": "execute_result",
          "data": {
            "text/plain": [
              "-0.5022621061282198"
            ]
          },
          "metadata": {},
          "execution_count": 42
        }
      ]
    },
    {
      "cell_type": "markdown",
      "metadata": {
        "id": "dwIv2Yk6Er7c"
      },
      "source": [
        "5. Для записів, використаних для побудови моделі:\n",
        "\n",
        "1) Обчислити метрики accuracy, точності (precision), повноти (recall), $F_1$, MCC (Коефіцієнт кореляції Метьюса), Каппа Коена.\n",
        "\n",
        "2) Обчислити матрицю помилок (confusion matrix)."
      ]
    },
    {
      "cell_type": "code",
      "metadata": {
        "id": "82eAUeJOTEd3"
      },
      "source": [
        "def metric(actual,predict):\n",
        "  TP = sum((actual == 1) & (predict == 1))\n",
        "  TN = sum((actual == 0) & (predict == 0))\n",
        "  FN = sum((actual == 1) & (predict == 0))\n",
        "  FP = sum((actual == 0) & (predict == 1))\n",
        "\n",
        "  precision = TP / (TP + FP)\n",
        "  recall = TP / (TP + FN)\n",
        "\n",
        "  print(\"accuracy :\", (TP+TN)/(TP+TN+FP+FN))\n",
        "  print(\"precision :\", precision)\n",
        "  print(\"recall :\", recall)\n",
        "  print(\"F1 :\", (2 * precision * recall)/ (precision + recall))\n",
        "  print(\"MCC :\", ((TP * TN) - (FP * FN))/ ((TP + FP) * (TP + FN) * (FN + FP) * (TN + FN))**(1/2))\n",
        "  print(\"confusion_matrix:\\n\", np.array([[TN, FP], [FN, TP]]))\n",
        "  "
      ],
      "execution_count": null,
      "outputs": []
    },
    {
      "cell_type": "code",
      "metadata": {
        "id": "_KNCHy3HlJCX",
        "colab": {
          "base_uri": "https://localhost:8080/"
        },
        "outputId": "4d38f2e7-4286-451e-a87f-ddebd767b9e7"
      },
      "source": [
        "metric11 = metric(df_pred_train[\"y_actual\"], df_pred_train[\"class\"])\n",
        "metric11"
      ],
      "execution_count": null,
      "outputs": [
        {
          "output_type": "stream",
          "name": "stdout",
          "text": [
            "accuracy : 0.81\n",
            "precision : 0.7142857142857143\n",
            "recall : 0.8108108108108109\n",
            "F1 : 0.759493670886076\n",
            "MCC : 1.104973820018925\n",
            "confusion_matrix:\n",
            " [[51 12]\n",
            " [ 7 30]]\n"
          ]
        }
      ]
    },
    {
      "cell_type": "markdown",
      "metadata": {
        "id": "pEMixFEsHw-0"
      },
      "source": [
        "6. Для записів, використаних для перевірки моделі:\n",
        "\n",
        "1) Обчислити метрики accuracy, точності (precision), повноти (recall), $F_1$, MCC (Коефіцієнт кореляції Метьюса), Каппа Коена.\n",
        "\n",
        "2) Обчислити матрицю помилок (confusion matrix)."
      ]
    },
    {
      "cell_type": "code",
      "metadata": {
        "colab": {
          "base_uri": "https://localhost:8080/"
        },
        "id": "YvvJAOP0IT_X",
        "outputId": "0776f52e-cc21-44f0-ddad-e61e39398fb0"
      },
      "source": [
        "metric12 = metric(df_pred_test[\"y_actual\"], df_pred_test[\"class\"])\n",
        "metric12"
      ],
      "execution_count": null,
      "outputs": [
        {
          "output_type": "stream",
          "name": "stdout",
          "text": [
            "accuracy : 0.92\n",
            "precision : 0.6\n",
            "recall : 1.0\n",
            "F1 : 0.7499999999999999\n",
            "MCC : 2.4494897427831783\n",
            "confusion_matrix:\n",
            " [[20  2]\n",
            " [ 0  3]]\n"
          ]
        }
      ]
    },
    {
      "cell_type": "markdown",
      "metadata": {
        "id": "81tW4PaLH-oj"
      },
      "source": [
        "7. Виконати пункти 2-6, використовуючи перші 200 записів з файлу для навчання моделей і 50 останніх записів з файлу для тестування."
      ]
    },
    {
      "cell_type": "code",
      "metadata": {
        "id": "qriJahxeUqUf"
      },
      "source": [
        "MGD2 = fit_MGD_sigmoid(train_x2, train_y2)"
      ],
      "execution_count": null,
      "outputs": []
    },
    {
      "cell_type": "code",
      "metadata": {
        "id": "ow73YkwvK_he",
        "colab": {
          "base_uri": "https://localhost:8080/",
          "height": 423
        },
        "outputId": "3977c0a4-2fdc-4a8d-ba7d-621064ae7dd2"
      },
      "source": [
        "predict_MGD_train2 = predict_sigmoid(MGD2, train_x2)\n",
        "classification_train2 = classification(predict_MGD_train2)\n",
        "df_pred_train2 = pd.DataFrame()\n",
        "df_pred_train2[\"y_actual\"] = train_y2.to_numpy()\n",
        "df_pred_train2[\"y_pred_train\"] = np.round(classification_train2, 3)\n",
        "\n",
        "x_positive = df_pred_train2[df_pred_train2['y_actual'] == 0].max()\n",
        "y_negative = df_pred_train2[df_pred_train2['y_actual'] == 1].min()\n",
        "step = (x_positive['y_pred_train'] + y_negative['y_pred_train'])/2\n",
        "\n",
        "df_pred_train2['class'] = df_pred_train2.apply(lambda x: 1 if x['y_pred_train'] <= step \n",
        "                                  else (0 if x['y_pred_train'] > step else 1), axis=1)\n",
        "df_pred_train2"
      ],
      "execution_count": null,
      "outputs": [
        {
          "output_type": "execute_result",
          "data": {
            "text/html": [
              "<div>\n",
              "<style scoped>\n",
              "    .dataframe tbody tr th:only-of-type {\n",
              "        vertical-align: middle;\n",
              "    }\n",
              "\n",
              "    .dataframe tbody tr th {\n",
              "        vertical-align: top;\n",
              "    }\n",
              "\n",
              "    .dataframe thead th {\n",
              "        text-align: right;\n",
              "    }\n",
              "</style>\n",
              "<table border=\"1\" class=\"dataframe\">\n",
              "  <thead>\n",
              "    <tr style=\"text-align: right;\">\n",
              "      <th></th>\n",
              "      <th>y_actual</th>\n",
              "      <th>y_pred_train</th>\n",
              "      <th>class</th>\n",
              "    </tr>\n",
              "  </thead>\n",
              "  <tbody>\n",
              "    <tr>\n",
              "      <th>0</th>\n",
              "      <td>0.0</td>\n",
              "      <td>0.600</td>\n",
              "      <td>0</td>\n",
              "    </tr>\n",
              "    <tr>\n",
              "      <th>1</th>\n",
              "      <td>1.0</td>\n",
              "      <td>0.601</td>\n",
              "      <td>0</td>\n",
              "    </tr>\n",
              "    <tr>\n",
              "      <th>2</th>\n",
              "      <td>0.0</td>\n",
              "      <td>0.602</td>\n",
              "      <td>0</td>\n",
              "    </tr>\n",
              "    <tr>\n",
              "      <th>3</th>\n",
              "      <td>0.0</td>\n",
              "      <td>0.605</td>\n",
              "      <td>0</td>\n",
              "    </tr>\n",
              "    <tr>\n",
              "      <th>4</th>\n",
              "      <td>1.0</td>\n",
              "      <td>0.599</td>\n",
              "      <td>1</td>\n",
              "    </tr>\n",
              "    <tr>\n",
              "      <th>...</th>\n",
              "      <td>...</td>\n",
              "      <td>...</td>\n",
              "      <td>...</td>\n",
              "    </tr>\n",
              "    <tr>\n",
              "      <th>195</th>\n",
              "      <td>1.0</td>\n",
              "      <td>0.591</td>\n",
              "      <td>1</td>\n",
              "    </tr>\n",
              "    <tr>\n",
              "      <th>196</th>\n",
              "      <td>1.0</td>\n",
              "      <td>0.592</td>\n",
              "      <td>1</td>\n",
              "    </tr>\n",
              "    <tr>\n",
              "      <th>197</th>\n",
              "      <td>1.0</td>\n",
              "      <td>0.594</td>\n",
              "      <td>1</td>\n",
              "    </tr>\n",
              "    <tr>\n",
              "      <th>198</th>\n",
              "      <td>1.0</td>\n",
              "      <td>0.594</td>\n",
              "      <td>1</td>\n",
              "    </tr>\n",
              "    <tr>\n",
              "      <th>199</th>\n",
              "      <td>0.0</td>\n",
              "      <td>0.593</td>\n",
              "      <td>1</td>\n",
              "    </tr>\n",
              "  </tbody>\n",
              "</table>\n",
              "<p>200 rows × 3 columns</p>\n",
              "</div>"
            ],
            "text/plain": [
              "     y_actual  y_pred_train  class\n",
              "0         0.0         0.600      0\n",
              "1         1.0         0.601      0\n",
              "2         0.0         0.602      0\n",
              "3         0.0         0.605      0\n",
              "4         1.0         0.599      1\n",
              "..        ...           ...    ...\n",
              "195       1.0         0.591      1\n",
              "196       1.0         0.592      1\n",
              "197       1.0         0.594      1\n",
              "198       1.0         0.594      1\n",
              "199       0.0         0.593      1\n",
              "\n",
              "[200 rows x 3 columns]"
            ]
          },
          "metadata": {},
          "execution_count": 47
        }
      ]
    },
    {
      "cell_type": "code",
      "metadata": {
        "id": "I__tsFh9LChp",
        "colab": {
          "base_uri": "https://localhost:8080/",
          "height": 1000
        },
        "outputId": "73cc1d95-3d1a-4358-be59-a9487bf564ea"
      },
      "source": [
        "predict_MGD_test2 = predict_sigmoid(MGD2, test_x2)\n",
        "classification_test2 = classification(predict_MGD_test2)\n",
        "df_pred_test2 = pd.DataFrame()\n",
        "df_pred_test2[\"y_actual\"] = test_y2.to_numpy() \n",
        "df_pred_test2[\"y_pred_test\"] = np.round(classification_test2, 5)\n",
        "df_pred_test2['class'] = df_pred_test2.apply(lambda x: 1 if x['y_pred_test'] <= step \n",
        "                                  else (0 if x['y_pred_test'] > step else 1), axis=1)\n",
        "df_pred_test2"
      ],
      "execution_count": null,
      "outputs": [
        {
          "output_type": "execute_result",
          "data": {
            "text/html": [
              "<div>\n",
              "<style scoped>\n",
              "    .dataframe tbody tr th:only-of-type {\n",
              "        vertical-align: middle;\n",
              "    }\n",
              "\n",
              "    .dataframe tbody tr th {\n",
              "        vertical-align: top;\n",
              "    }\n",
              "\n",
              "    .dataframe thead th {\n",
              "        text-align: right;\n",
              "    }\n",
              "</style>\n",
              "<table border=\"1\" class=\"dataframe\">\n",
              "  <thead>\n",
              "    <tr style=\"text-align: right;\">\n",
              "      <th></th>\n",
              "      <th>y_actual</th>\n",
              "      <th>y_pred_test</th>\n",
              "      <th>class</th>\n",
              "    </tr>\n",
              "  </thead>\n",
              "  <tbody>\n",
              "    <tr>\n",
              "      <th>0</th>\n",
              "      <td>0.0</td>\n",
              "      <td>0.60173</td>\n",
              "      <td>0</td>\n",
              "    </tr>\n",
              "    <tr>\n",
              "      <th>1</th>\n",
              "      <td>0.0</td>\n",
              "      <td>0.59934</td>\n",
              "      <td>1</td>\n",
              "    </tr>\n",
              "    <tr>\n",
              "      <th>2</th>\n",
              "      <td>0.0</td>\n",
              "      <td>0.60455</td>\n",
              "      <td>0</td>\n",
              "    </tr>\n",
              "    <tr>\n",
              "      <th>3</th>\n",
              "      <td>0.0</td>\n",
              "      <td>0.59806</td>\n",
              "      <td>1</td>\n",
              "    </tr>\n",
              "    <tr>\n",
              "      <th>4</th>\n",
              "      <td>1.0</td>\n",
              "      <td>0.60289</td>\n",
              "      <td>0</td>\n",
              "    </tr>\n",
              "    <tr>\n",
              "      <th>5</th>\n",
              "      <td>0.0</td>\n",
              "      <td>0.60321</td>\n",
              "      <td>0</td>\n",
              "    </tr>\n",
              "    <tr>\n",
              "      <th>6</th>\n",
              "      <td>0.0</td>\n",
              "      <td>0.60468</td>\n",
              "      <td>0</td>\n",
              "    </tr>\n",
              "    <tr>\n",
              "      <th>7</th>\n",
              "      <td>0.0</td>\n",
              "      <td>0.60393</td>\n",
              "      <td>0</td>\n",
              "    </tr>\n",
              "    <tr>\n",
              "      <th>8</th>\n",
              "      <td>0.0</td>\n",
              "      <td>0.60268</td>\n",
              "      <td>0</td>\n",
              "    </tr>\n",
              "    <tr>\n",
              "      <th>9</th>\n",
              "      <td>0.0</td>\n",
              "      <td>0.60386</td>\n",
              "      <td>0</td>\n",
              "    </tr>\n",
              "    <tr>\n",
              "      <th>10</th>\n",
              "      <td>0.0</td>\n",
              "      <td>0.60296</td>\n",
              "      <td>0</td>\n",
              "    </tr>\n",
              "    <tr>\n",
              "      <th>11</th>\n",
              "      <td>0.0</td>\n",
              "      <td>0.60269</td>\n",
              "      <td>0</td>\n",
              "    </tr>\n",
              "    <tr>\n",
              "      <th>12</th>\n",
              "      <td>0.0</td>\n",
              "      <td>0.60078</td>\n",
              "      <td>0</td>\n",
              "    </tr>\n",
              "    <tr>\n",
              "      <th>13</th>\n",
              "      <td>0.0</td>\n",
              "      <td>0.60419</td>\n",
              "      <td>0</td>\n",
              "    </tr>\n",
              "    <tr>\n",
              "      <th>14</th>\n",
              "      <td>0.0</td>\n",
              "      <td>0.60043</td>\n",
              "      <td>0</td>\n",
              "    </tr>\n",
              "    <tr>\n",
              "      <th>15</th>\n",
              "      <td>1.0</td>\n",
              "      <td>0.60109</td>\n",
              "      <td>0</td>\n",
              "    </tr>\n",
              "    <tr>\n",
              "      <th>16</th>\n",
              "      <td>0.0</td>\n",
              "      <td>0.60586</td>\n",
              "      <td>0</td>\n",
              "    </tr>\n",
              "    <tr>\n",
              "      <th>17</th>\n",
              "      <td>0.0</td>\n",
              "      <td>0.60994</td>\n",
              "      <td>0</td>\n",
              "    </tr>\n",
              "    <tr>\n",
              "      <th>18</th>\n",
              "      <td>0.0</td>\n",
              "      <td>0.60449</td>\n",
              "      <td>0</td>\n",
              "    </tr>\n",
              "    <tr>\n",
              "      <th>19</th>\n",
              "      <td>0.0</td>\n",
              "      <td>0.60876</td>\n",
              "      <td>0</td>\n",
              "    </tr>\n",
              "    <tr>\n",
              "      <th>20</th>\n",
              "      <td>0.0</td>\n",
              "      <td>0.60354</td>\n",
              "      <td>0</td>\n",
              "    </tr>\n",
              "    <tr>\n",
              "      <th>21</th>\n",
              "      <td>0.0</td>\n",
              "      <td>0.60256</td>\n",
              "      <td>0</td>\n",
              "    </tr>\n",
              "    <tr>\n",
              "      <th>22</th>\n",
              "      <td>0.0</td>\n",
              "      <td>0.60566</td>\n",
              "      <td>0</td>\n",
              "    </tr>\n",
              "    <tr>\n",
              "      <th>23</th>\n",
              "      <td>0.0</td>\n",
              "      <td>0.60686</td>\n",
              "      <td>0</td>\n",
              "    </tr>\n",
              "    <tr>\n",
              "      <th>24</th>\n",
              "      <td>0.0</td>\n",
              "      <td>0.60561</td>\n",
              "      <td>0</td>\n",
              "    </tr>\n",
              "    <tr>\n",
              "      <th>25</th>\n",
              "      <td>1.0</td>\n",
              "      <td>0.60242</td>\n",
              "      <td>0</td>\n",
              "    </tr>\n",
              "    <tr>\n",
              "      <th>26</th>\n",
              "      <td>0.0</td>\n",
              "      <td>0.60771</td>\n",
              "      <td>0</td>\n",
              "    </tr>\n",
              "    <tr>\n",
              "      <th>27</th>\n",
              "      <td>0.0</td>\n",
              "      <td>0.60346</td>\n",
              "      <td>0</td>\n",
              "    </tr>\n",
              "    <tr>\n",
              "      <th>28</th>\n",
              "      <td>0.0</td>\n",
              "      <td>0.60334</td>\n",
              "      <td>0</td>\n",
              "    </tr>\n",
              "    <tr>\n",
              "      <th>29</th>\n",
              "      <td>0.0</td>\n",
              "      <td>0.60467</td>\n",
              "      <td>0</td>\n",
              "    </tr>\n",
              "    <tr>\n",
              "      <th>30</th>\n",
              "      <td>0.0</td>\n",
              "      <td>0.60739</td>\n",
              "      <td>0</td>\n",
              "    </tr>\n",
              "    <tr>\n",
              "      <th>31</th>\n",
              "      <td>0.0</td>\n",
              "      <td>0.60722</td>\n",
              "      <td>0</td>\n",
              "    </tr>\n",
              "    <tr>\n",
              "      <th>32</th>\n",
              "      <td>0.0</td>\n",
              "      <td>0.60530</td>\n",
              "      <td>0</td>\n",
              "    </tr>\n",
              "    <tr>\n",
              "      <th>33</th>\n",
              "      <td>0.0</td>\n",
              "      <td>0.60786</td>\n",
              "      <td>0</td>\n",
              "    </tr>\n",
              "    <tr>\n",
              "      <th>34</th>\n",
              "      <td>0.0</td>\n",
              "      <td>0.61111</td>\n",
              "      <td>0</td>\n",
              "    </tr>\n",
              "    <tr>\n",
              "      <th>35</th>\n",
              "      <td>0.0</td>\n",
              "      <td>0.60926</td>\n",
              "      <td>0</td>\n",
              "    </tr>\n",
              "    <tr>\n",
              "      <th>36</th>\n",
              "      <td>0.0</td>\n",
              "      <td>0.60714</td>\n",
              "      <td>0</td>\n",
              "    </tr>\n",
              "    <tr>\n",
              "      <th>37</th>\n",
              "      <td>0.0</td>\n",
              "      <td>0.61226</td>\n",
              "      <td>0</td>\n",
              "    </tr>\n",
              "    <tr>\n",
              "      <th>38</th>\n",
              "      <td>0.0</td>\n",
              "      <td>0.61058</td>\n",
              "      <td>0</td>\n",
              "    </tr>\n",
              "    <tr>\n",
              "      <th>39</th>\n",
              "      <td>0.0</td>\n",
              "      <td>0.61400</td>\n",
              "      <td>0</td>\n",
              "    </tr>\n",
              "    <tr>\n",
              "      <th>40</th>\n",
              "      <td>0.0</td>\n",
              "      <td>0.60856</td>\n",
              "      <td>0</td>\n",
              "    </tr>\n",
              "    <tr>\n",
              "      <th>41</th>\n",
              "      <td>0.0</td>\n",
              "      <td>0.61183</td>\n",
              "      <td>0</td>\n",
              "    </tr>\n",
              "    <tr>\n",
              "      <th>42</th>\n",
              "      <td>0.0</td>\n",
              "      <td>0.61572</td>\n",
              "      <td>0</td>\n",
              "    </tr>\n",
              "    <tr>\n",
              "      <th>43</th>\n",
              "      <td>0.0</td>\n",
              "      <td>0.61335</td>\n",
              "      <td>0</td>\n",
              "    </tr>\n",
              "    <tr>\n",
              "      <th>44</th>\n",
              "      <td>0.0</td>\n",
              "      <td>0.62015</td>\n",
              "      <td>0</td>\n",
              "    </tr>\n",
              "    <tr>\n",
              "      <th>45</th>\n",
              "      <td>0.0</td>\n",
              "      <td>0.61280</td>\n",
              "      <td>0</td>\n",
              "    </tr>\n",
              "    <tr>\n",
              "      <th>46</th>\n",
              "      <td>0.0</td>\n",
              "      <td>0.61590</td>\n",
              "      <td>0</td>\n",
              "    </tr>\n",
              "    <tr>\n",
              "      <th>47</th>\n",
              "      <td>0.0</td>\n",
              "      <td>0.62233</td>\n",
              "      <td>0</td>\n",
              "    </tr>\n",
              "    <tr>\n",
              "      <th>48</th>\n",
              "      <td>1.0</td>\n",
              "      <td>0.56425</td>\n",
              "      <td>1</td>\n",
              "    </tr>\n",
              "    <tr>\n",
              "      <th>49</th>\n",
              "      <td>1.0</td>\n",
              "      <td>0.56424</td>\n",
              "      <td>1</td>\n",
              "    </tr>\n",
              "  </tbody>\n",
              "</table>\n",
              "</div>"
            ],
            "text/plain": [
              "    y_actual  y_pred_test  class\n",
              "0        0.0      0.60173      0\n",
              "1        0.0      0.59934      1\n",
              "2        0.0      0.60455      0\n",
              "3        0.0      0.59806      1\n",
              "4        1.0      0.60289      0\n",
              "5        0.0      0.60321      0\n",
              "6        0.0      0.60468      0\n",
              "7        0.0      0.60393      0\n",
              "8        0.0      0.60268      0\n",
              "9        0.0      0.60386      0\n",
              "10       0.0      0.60296      0\n",
              "11       0.0      0.60269      0\n",
              "12       0.0      0.60078      0\n",
              "13       0.0      0.60419      0\n",
              "14       0.0      0.60043      0\n",
              "15       1.0      0.60109      0\n",
              "16       0.0      0.60586      0\n",
              "17       0.0      0.60994      0\n",
              "18       0.0      0.60449      0\n",
              "19       0.0      0.60876      0\n",
              "20       0.0      0.60354      0\n",
              "21       0.0      0.60256      0\n",
              "22       0.0      0.60566      0\n",
              "23       0.0      0.60686      0\n",
              "24       0.0      0.60561      0\n",
              "25       1.0      0.60242      0\n",
              "26       0.0      0.60771      0\n",
              "27       0.0      0.60346      0\n",
              "28       0.0      0.60334      0\n",
              "29       0.0      0.60467      0\n",
              "30       0.0      0.60739      0\n",
              "31       0.0      0.60722      0\n",
              "32       0.0      0.60530      0\n",
              "33       0.0      0.60786      0\n",
              "34       0.0      0.61111      0\n",
              "35       0.0      0.60926      0\n",
              "36       0.0      0.60714      0\n",
              "37       0.0      0.61226      0\n",
              "38       0.0      0.61058      0\n",
              "39       0.0      0.61400      0\n",
              "40       0.0      0.60856      0\n",
              "41       0.0      0.61183      0\n",
              "42       0.0      0.61572      0\n",
              "43       0.0      0.61335      0\n",
              "44       0.0      0.62015      0\n",
              "45       0.0      0.61280      0\n",
              "46       0.0      0.61590      0\n",
              "47       0.0      0.62233      0\n",
              "48       1.0      0.56425      1\n",
              "49       1.0      0.56424      1"
            ]
          },
          "metadata": {},
          "execution_count": 48
        }
      ]
    },
    {
      "cell_type": "code",
      "metadata": {
        "id": "15Bo61oKLFk4",
        "colab": {
          "base_uri": "https://localhost:8080/"
        },
        "outputId": "a8222b72-f76f-44a2-d318-a1cb2a41869f"
      },
      "source": [
        "R_2 = R2((test_y2.to_numpy()), predict_MGD_test2)\n",
        "n = len(test_y2.to_numpy())\n",
        "F = (R_2 / (1 - R_2)) * ((n - 8 -1) / 8)\n",
        "R_2, F"
      ],
      "execution_count": null,
      "outputs": [
        {
          "output_type": "execute_result",
          "data": {
            "text/plain": [
              "(-1.3707963879421374, -2.963279142795335)"
            ]
          },
          "metadata": {},
          "execution_count": 49
        }
      ]
    },
    {
      "cell_type": "code",
      "metadata": {
        "id": "IIJJqsiULMiB",
        "colab": {
          "base_uri": "https://localhost:8080/"
        },
        "outputId": "e4aafbb9-1e77-452f-e5c7-9967a86341b1"
      },
      "source": [
        "metric21=metric(df_pred_train2[\"y_actual\"], df_pred_train2['class'])\n",
        "metric21"
      ],
      "execution_count": null,
      "outputs": [
        {
          "output_type": "stream",
          "name": "stdout",
          "text": [
            "accuracy : 0.82\n",
            "precision : 0.8469387755102041\n",
            "recall : 0.7980769230769231\n",
            "F1 : 0.821782178217822\n",
            "MCC : 1.0474696765267926\n",
            "confusion_matrix:\n",
            " [[81 15]\n",
            " [21 83]]\n"
          ]
        }
      ]
    },
    {
      "cell_type": "code",
      "metadata": {
        "id": "OGMxnha1LQOq",
        "colab": {
          "base_uri": "https://localhost:8080/"
        },
        "outputId": "06db498f-33a9-46c2-a799-de7e7e0a008f"
      },
      "source": [
        "metric22 = metric(df_pred_test2[\"y_actual\"], df_pred_test2['class'])\n",
        "metric22"
      ],
      "execution_count": null,
      "outputs": [
        {
          "output_type": "stream",
          "name": "stdout",
          "text": [
            "accuracy : 0.9\n",
            "precision : 0.5\n",
            "recall : 0.4\n",
            "F1 : 0.4444444444444445\n",
            "MCC : 1.179535649239177\n",
            "confusion_matrix:\n",
            " [[43  2]\n",
            " [ 3  2]]\n"
          ]
        }
      ]
    },
    {
      "cell_type": "markdown",
      "metadata": {
        "id": "qgF17hncIT1b"
      },
      "source": [
        "8. Виконати пункти 2-6, використавши алгоритм k-кратної крос валідацію (K-Fold cross validation) до наданого датасету."
      ]
    },
    {
      "cell_type": "code",
      "metadata": {
        "id": "rwL2UTnZPWBg"
      },
      "source": [
        "S0=(df2[:50]).reset_index(drop=True)\n",
        "S1=(df2[50:100]).reset_index(drop=True)\n",
        "S2=(df2[100:150]).reset_index(drop=True)\n",
        "S3=(df2[150:200]).reset_index(drop=True)\n",
        "S4=(df2[200:250]).reset_index(drop=True)\n",
        "S5=(df2[-50:]).reset_index(drop=True)\n",
        "\n",
        "set0=pd.concat([S4,S3,S5,S1,S2], ignore_index=True)\n",
        "set1=pd.concat([S4,S2,S0,S3,S5], ignore_index=True)\n",
        "set2=pd.concat([S1,S0,S4,S5,S3], ignore_index=True)\n",
        "set3=pd.concat([S0,S5,S4,S1,S2], ignore_index=True)\n",
        "set4=pd.concat([S3,S2,S1,S5,S0], ignore_index=True)\n",
        "set5=pd.concat([S3,S2,S1,S4,S0], ignore_index=True)"
      ],
      "execution_count": null,
      "outputs": []
    },
    {
      "cell_type": "code",
      "metadata": {
        "id": "GY9B33Z-v5cY"
      },
      "source": [
        "def k_fold(method, KFV_train, KFV_test):\n",
        "\n",
        "    X_train = KFV_train.iloc[:,:-1]\n",
        "    Y_train = KFV_train.iloc[:,-1]\n",
        "    X_test = KFV_test.iloc[:,:-1]\n",
        "    Y_test = KFV_test.iloc[:,-1]\n",
        "\n",
        "    \n",
        "    KFV_fit = method(X_train, Y_train)\n",
        "\n",
        "    KFV_predict_train = predict_sigmoid(KFV_fit, X_train)\n",
        "    classification_train = classification(KFV_predict_train)\n",
        "\n",
        "    df_pred_train = pd.DataFrame()\n",
        "    df_pred_train[\"y_actual\"] = Y_train.to_numpy()\n",
        "    df_pred_train[\"y_pred_train\"] = np.round(classification_train, 3)\n",
        "\n",
        "    x_positive = df_pred_train[df_pred_train['y_actual'] == 0].max()\n",
        "    y_negative = df_pred_train[df_pred_train['y_actual'] == 1].min()\n",
        "    step = (x_positive['y_pred_train'] + y_negative['y_pred_train'])/2\n",
        "    df_pred_train['class'] = df_pred_train.apply(lambda x: 1 if x['y_pred_train'] <= step \n",
        "                                  else (0 if x['y_pred_train'] > step else 1), axis=1)\n",
        "    \n",
        "\n",
        "    KFV_predict_test = predict_sigmoid(KFV_fit, X_test)\n",
        "    classification_test = classification(KFV_predict_test)\n",
        "\n",
        "    df_pred_test = pd.DataFrame()\n",
        "    df_pred_test[\"y_actual\"] = Y_test.to_numpy() \n",
        "    df_pred_test[\"y_pred_test\"] = np.round(classification_test, 5)\n",
        "    df_pred_test['class'] = df_pred_test.apply(lambda x: 1 if x['y_pred_test'] <= step \n",
        "                                               else (0 if x['y_pred_test'] > step else 1), axis=1)\n",
        "\n",
        "\n",
        "    TP = sum(( df_pred_test[\"y_actual\"] == 1) & (df_pred_test['class'] == 1))\n",
        "    TN = sum(( df_pred_test[\"y_actual\"] == 0) & (df_pred_test['class'] == 0))\n",
        "    FN = sum(( df_pred_test[\"y_actual\"] == 1) & (df_pred_test['class'] == 0))\n",
        "    FP = sum(( df_pred_test[\"y_actual\"] == 0) & (df_pred_test['class'] == 1))\n",
        "\n",
        "    accurancy  = (TP+TN)/(TP+TN+FP+FN)\n",
        "    R_2 = R2((Y_test.to_numpy()), KFV_predict_test)\n",
        "\n",
        "    print(accurancy, R_2)\n"
      ],
      "execution_count": null,
      "outputs": []
    },
    {
      "cell_type": "code",
      "metadata": {
        "colab": {
          "base_uri": "https://localhost:8080/"
        },
        "id": "lNAwDg6bv97j",
        "outputId": "4c4ae3a4-262e-4dc8-fcbd-2969546f2c6e"
      },
      "source": [
        "k_fold(fit_MGD_sigmoid, set0, S0)\n",
        "k_fold(fit_MGD_sigmoid, set1, S1)\n",
        "k_fold(fit_MGD_sigmoid, set2, S2)\n",
        "k_fold(fit_MGD_sigmoid, set3, S3)\n",
        "k_fold(fit_MGD_sigmoid, set4, S4)\n",
        "k_fold(fit_MGD_sigmoid, set5, S5)"
      ],
      "execution_count": null,
      "outputs": [
        {
          "output_type": "stream",
          "name": "stdout",
          "text": [
            "0.72 -0.055673745536329644\n",
            "0.88 -0.2710838981021808\n",
            "0.74 -0.3204968148005045\n",
            "0.82 -2.3861270916624377\n",
            "0.56 -0.025504021426494994\n",
            "0.88 -1.3516757453914305\n"
          ]
        }
      ]
    },
    {
      "cell_type": "code",
      "metadata": {
        "id": "rauZilofYrLD"
      },
      "source": [
        "x_train_KFV = set1.iloc[:,:-1]\n",
        "x_test_KFV = S1.iloc[:,:-1]\n",
        "y_train_KFV = set1.iloc[:,-1]\n",
        "y_test_KFV = S1.iloc[:,-1]"
      ],
      "execution_count": null,
      "outputs": []
    },
    {
      "cell_type": "code",
      "metadata": {
        "id": "E0V7UPMtYidE"
      },
      "source": [
        "MGD_KFV = fit_MGD_sigmoid(x_train_KFV, y_train_KFV)"
      ],
      "execution_count": null,
      "outputs": []
    },
    {
      "cell_type": "code",
      "metadata": {
        "id": "QGe7-BQqzUMO",
        "colab": {
          "base_uri": "https://localhost:8080/",
          "height": 423
        },
        "outputId": "fd90de08-3a7c-4554-8d1f-f91f3458ef3f"
      },
      "source": [
        "predict_MGD_KFV = predict_sigmoid(MGD_KFV, x_train_KFV)\n",
        "class_train_KFV = classification(predict_MGD_KFV)\n",
        "\n",
        "df_train_KFV = pd.DataFrame()\n",
        "df_train_KFV[\"y_actual\"] = y_train_KFV.to_numpy()\n",
        "df_train_KFV[\"y_pred_train\"] = np.round(class_train_KFV, 3)\n",
        "\n",
        "x_positive = df_train_KFV[df_train_KFV['y_actual'] == 0].max()\n",
        "y_negative = df_train_KFV[df_train_KFV['y_actual'] == 1].min()\n",
        "step = (x_positive['y_pred_train'] + y_negative['y_pred_train'])/2\n",
        "\n",
        "df_train_KFV['class'] = df_train_KFV.apply(lambda x: 1 if x['y_pred_train'] <= step \n",
        "                                  else (0 if x['y_pred_train'] > step else 1), axis=1)\n",
        "df_train_KFV"
      ],
      "execution_count": null,
      "outputs": [
        {
          "output_type": "execute_result",
          "data": {
            "text/html": [
              "<div>\n",
              "<style scoped>\n",
              "    .dataframe tbody tr th:only-of-type {\n",
              "        vertical-align: middle;\n",
              "    }\n",
              "\n",
              "    .dataframe tbody tr th {\n",
              "        vertical-align: top;\n",
              "    }\n",
              "\n",
              "    .dataframe thead th {\n",
              "        text-align: right;\n",
              "    }\n",
              "</style>\n",
              "<table border=\"1\" class=\"dataframe\">\n",
              "  <thead>\n",
              "    <tr style=\"text-align: right;\">\n",
              "      <th></th>\n",
              "      <th>y_actual</th>\n",
              "      <th>y_pred_train</th>\n",
              "      <th>class</th>\n",
              "    </tr>\n",
              "  </thead>\n",
              "  <tbody>\n",
              "    <tr>\n",
              "      <th>0</th>\n",
              "      <td>1.0</td>\n",
              "      <td>0.574</td>\n",
              "      <td>1</td>\n",
              "    </tr>\n",
              "    <tr>\n",
              "      <th>1</th>\n",
              "      <td>0.0</td>\n",
              "      <td>0.579</td>\n",
              "      <td>0</td>\n",
              "    </tr>\n",
              "    <tr>\n",
              "      <th>2</th>\n",
              "      <td>1.0</td>\n",
              "      <td>0.578</td>\n",
              "      <td>1</td>\n",
              "    </tr>\n",
              "    <tr>\n",
              "      <th>3</th>\n",
              "      <td>1.0</td>\n",
              "      <td>0.579</td>\n",
              "      <td>0</td>\n",
              "    </tr>\n",
              "    <tr>\n",
              "      <th>4</th>\n",
              "      <td>0.0</td>\n",
              "      <td>0.578</td>\n",
              "      <td>1</td>\n",
              "    </tr>\n",
              "    <tr>\n",
              "      <th>...</th>\n",
              "      <td>...</td>\n",
              "      <td>...</td>\n",
              "      <td>...</td>\n",
              "    </tr>\n",
              "    <tr>\n",
              "      <th>245</th>\n",
              "      <td>0.0</td>\n",
              "      <td>0.596</td>\n",
              "      <td>0</td>\n",
              "    </tr>\n",
              "    <tr>\n",
              "      <th>246</th>\n",
              "      <td>0.0</td>\n",
              "      <td>0.600</td>\n",
              "      <td>0</td>\n",
              "    </tr>\n",
              "    <tr>\n",
              "      <th>247</th>\n",
              "      <td>0.0</td>\n",
              "      <td>0.606</td>\n",
              "      <td>0</td>\n",
              "    </tr>\n",
              "    <tr>\n",
              "      <th>248</th>\n",
              "      <td>1.0</td>\n",
              "      <td>0.550</td>\n",
              "      <td>1</td>\n",
              "    </tr>\n",
              "    <tr>\n",
              "      <th>249</th>\n",
              "      <td>1.0</td>\n",
              "      <td>0.550</td>\n",
              "      <td>1</td>\n",
              "    </tr>\n",
              "  </tbody>\n",
              "</table>\n",
              "<p>250 rows × 3 columns</p>\n",
              "</div>"
            ],
            "text/plain": [
              "     y_actual  y_pred_train  class\n",
              "0         1.0         0.574      1\n",
              "1         0.0         0.579      0\n",
              "2         1.0         0.578      1\n",
              "3         1.0         0.579      0\n",
              "4         0.0         0.578      1\n",
              "..        ...           ...    ...\n",
              "245       0.0         0.596      0\n",
              "246       0.0         0.600      0\n",
              "247       0.0         0.606      0\n",
              "248       1.0         0.550      1\n",
              "249       1.0         0.550      1\n",
              "\n",
              "[250 rows x 3 columns]"
            ]
          },
          "metadata": {},
          "execution_count": 72
        }
      ]
    },
    {
      "cell_type": "code",
      "metadata": {
        "colab": {
          "base_uri": "https://localhost:8080/",
          "height": 1000
        },
        "id": "Z1HsjvFp0vgh",
        "outputId": "6ced11a7-b4dd-465d-8d50-a1c205b6a5a8"
      },
      "source": [
        "predict_MGD_KFV = predict_sigmoid(MGD_KFV, x_test_KFV)\n",
        "class_test_KFV = classification(predict_MGD_KFV)\n",
        "df_test_KFV = pd.DataFrame()\n",
        "df_test_KFV[\"y_actual\"] = y_test_KFV.to_numpy() \n",
        "df_test_KFV[\"y_pred_test\"] = np.round(class_test_KFV, 5)\n",
        "df_test_KFV['class'] = df_test_KFV.apply(lambda x: 1 if x['y_pred_test'] <= step \n",
        "                                  else (0 if x['y_pred_test'] > step else 1), axis=1)\n",
        "df_test_KFV"
      ],
      "execution_count": null,
      "outputs": [
        {
          "output_type": "execute_result",
          "data": {
            "text/html": [
              "<div>\n",
              "<style scoped>\n",
              "    .dataframe tbody tr th:only-of-type {\n",
              "        vertical-align: middle;\n",
              "    }\n",
              "\n",
              "    .dataframe tbody tr th {\n",
              "        vertical-align: top;\n",
              "    }\n",
              "\n",
              "    .dataframe thead th {\n",
              "        text-align: right;\n",
              "    }\n",
              "</style>\n",
              "<table border=\"1\" class=\"dataframe\">\n",
              "  <thead>\n",
              "    <tr style=\"text-align: right;\">\n",
              "      <th></th>\n",
              "      <th>y_actual</th>\n",
              "      <th>y_pred_test</th>\n",
              "      <th>class</th>\n",
              "    </tr>\n",
              "  </thead>\n",
              "  <tbody>\n",
              "    <tr>\n",
              "      <th>0</th>\n",
              "      <td>0.0</td>\n",
              "      <td>0.58847</td>\n",
              "      <td>0</td>\n",
              "    </tr>\n",
              "    <tr>\n",
              "      <th>1</th>\n",
              "      <td>0.0</td>\n",
              "      <td>0.59017</td>\n",
              "      <td>0</td>\n",
              "    </tr>\n",
              "    <tr>\n",
              "      <th>2</th>\n",
              "      <td>0.0</td>\n",
              "      <td>0.59154</td>\n",
              "      <td>0</td>\n",
              "    </tr>\n",
              "    <tr>\n",
              "      <th>3</th>\n",
              "      <td>0.0</td>\n",
              "      <td>0.59421</td>\n",
              "      <td>0</td>\n",
              "    </tr>\n",
              "    <tr>\n",
              "      <th>4</th>\n",
              "      <td>0.0</td>\n",
              "      <td>0.59048</td>\n",
              "      <td>0</td>\n",
              "    </tr>\n",
              "    <tr>\n",
              "      <th>5</th>\n",
              "      <td>0.0</td>\n",
              "      <td>0.59571</td>\n",
              "      <td>0</td>\n",
              "    </tr>\n",
              "    <tr>\n",
              "      <th>6</th>\n",
              "      <td>0.0</td>\n",
              "      <td>0.59435</td>\n",
              "      <td>0</td>\n",
              "    </tr>\n",
              "    <tr>\n",
              "      <th>7</th>\n",
              "      <td>0.0</td>\n",
              "      <td>0.59966</td>\n",
              "      <td>0</td>\n",
              "    </tr>\n",
              "    <tr>\n",
              "      <th>8</th>\n",
              "      <td>0.0</td>\n",
              "      <td>0.59734</td>\n",
              "      <td>0</td>\n",
              "    </tr>\n",
              "    <tr>\n",
              "      <th>9</th>\n",
              "      <td>0.0</td>\n",
              "      <td>0.59378</td>\n",
              "      <td>0</td>\n",
              "    </tr>\n",
              "    <tr>\n",
              "      <th>10</th>\n",
              "      <td>0.0</td>\n",
              "      <td>0.60297</td>\n",
              "      <td>0</td>\n",
              "    </tr>\n",
              "    <tr>\n",
              "      <th>11</th>\n",
              "      <td>0.0</td>\n",
              "      <td>0.60250</td>\n",
              "      <td>0</td>\n",
              "    </tr>\n",
              "    <tr>\n",
              "      <th>12</th>\n",
              "      <td>0.0</td>\n",
              "      <td>0.59509</td>\n",
              "      <td>0</td>\n",
              "    </tr>\n",
              "    <tr>\n",
              "      <th>13</th>\n",
              "      <td>0.0</td>\n",
              "      <td>0.60274</td>\n",
              "      <td>0</td>\n",
              "    </tr>\n",
              "    <tr>\n",
              "      <th>14</th>\n",
              "      <td>0.0</td>\n",
              "      <td>0.59997</td>\n",
              "      <td>0</td>\n",
              "    </tr>\n",
              "    <tr>\n",
              "      <th>15</th>\n",
              "      <td>0.0</td>\n",
              "      <td>0.60518</td>\n",
              "      <td>0</td>\n",
              "    </tr>\n",
              "    <tr>\n",
              "      <th>16</th>\n",
              "      <td>1.0</td>\n",
              "      <td>0.59230</td>\n",
              "      <td>0</td>\n",
              "    </tr>\n",
              "    <tr>\n",
              "      <th>17</th>\n",
              "      <td>0.0</td>\n",
              "      <td>0.60515</td>\n",
              "      <td>0</td>\n",
              "    </tr>\n",
              "    <tr>\n",
              "      <th>18</th>\n",
              "      <td>0.0</td>\n",
              "      <td>0.60151</td>\n",
              "      <td>0</td>\n",
              "    </tr>\n",
              "    <tr>\n",
              "      <th>19</th>\n",
              "      <td>0.0</td>\n",
              "      <td>0.59884</td>\n",
              "      <td>0</td>\n",
              "    </tr>\n",
              "    <tr>\n",
              "      <th>20</th>\n",
              "      <td>0.0</td>\n",
              "      <td>0.60474</td>\n",
              "      <td>0</td>\n",
              "    </tr>\n",
              "    <tr>\n",
              "      <th>21</th>\n",
              "      <td>0.0</td>\n",
              "      <td>0.60179</td>\n",
              "      <td>0</td>\n",
              "    </tr>\n",
              "    <tr>\n",
              "      <th>22</th>\n",
              "      <td>0.0</td>\n",
              "      <td>0.60763</td>\n",
              "      <td>0</td>\n",
              "    </tr>\n",
              "    <tr>\n",
              "      <th>23</th>\n",
              "      <td>0.0</td>\n",
              "      <td>0.61293</td>\n",
              "      <td>0</td>\n",
              "    </tr>\n",
              "    <tr>\n",
              "      <th>24</th>\n",
              "      <td>0.0</td>\n",
              "      <td>0.61817</td>\n",
              "      <td>0</td>\n",
              "    </tr>\n",
              "    <tr>\n",
              "      <th>25</th>\n",
              "      <td>1.0</td>\n",
              "      <td>0.55714</td>\n",
              "      <td>1</td>\n",
              "    </tr>\n",
              "    <tr>\n",
              "      <th>26</th>\n",
              "      <td>1.0</td>\n",
              "      <td>0.56294</td>\n",
              "      <td>1</td>\n",
              "    </tr>\n",
              "    <tr>\n",
              "      <th>27</th>\n",
              "      <td>1.0</td>\n",
              "      <td>0.56711</td>\n",
              "      <td>1</td>\n",
              "    </tr>\n",
              "    <tr>\n",
              "      <th>28</th>\n",
              "      <td>1.0</td>\n",
              "      <td>0.56704</td>\n",
              "      <td>1</td>\n",
              "    </tr>\n",
              "    <tr>\n",
              "      <th>29</th>\n",
              "      <td>1.0</td>\n",
              "      <td>0.56854</td>\n",
              "      <td>1</td>\n",
              "    </tr>\n",
              "    <tr>\n",
              "      <th>30</th>\n",
              "      <td>1.0</td>\n",
              "      <td>0.56592</td>\n",
              "      <td>1</td>\n",
              "    </tr>\n",
              "    <tr>\n",
              "      <th>31</th>\n",
              "      <td>1.0</td>\n",
              "      <td>0.56646</td>\n",
              "      <td>1</td>\n",
              "    </tr>\n",
              "    <tr>\n",
              "      <th>32</th>\n",
              "      <td>1.0</td>\n",
              "      <td>0.57341</td>\n",
              "      <td>1</td>\n",
              "    </tr>\n",
              "    <tr>\n",
              "      <th>33</th>\n",
              "      <td>1.0</td>\n",
              "      <td>0.56674</td>\n",
              "      <td>1</td>\n",
              "    </tr>\n",
              "    <tr>\n",
              "      <th>34</th>\n",
              "      <td>0.0</td>\n",
              "      <td>0.57256</td>\n",
              "      <td>1</td>\n",
              "    </tr>\n",
              "    <tr>\n",
              "      <th>35</th>\n",
              "      <td>1.0</td>\n",
              "      <td>0.56976</td>\n",
              "      <td>1</td>\n",
              "    </tr>\n",
              "    <tr>\n",
              "      <th>36</th>\n",
              "      <td>1.0</td>\n",
              "      <td>0.56900</td>\n",
              "      <td>1</td>\n",
              "    </tr>\n",
              "    <tr>\n",
              "      <th>37</th>\n",
              "      <td>1.0</td>\n",
              "      <td>0.57708</td>\n",
              "      <td>1</td>\n",
              "    </tr>\n",
              "    <tr>\n",
              "      <th>38</th>\n",
              "      <td>1.0</td>\n",
              "      <td>0.57495</td>\n",
              "      <td>1</td>\n",
              "    </tr>\n",
              "    <tr>\n",
              "      <th>39</th>\n",
              "      <td>1.0</td>\n",
              "      <td>0.57550</td>\n",
              "      <td>1</td>\n",
              "    </tr>\n",
              "    <tr>\n",
              "      <th>40</th>\n",
              "      <td>1.0</td>\n",
              "      <td>0.57919</td>\n",
              "      <td>0</td>\n",
              "    </tr>\n",
              "    <tr>\n",
              "      <th>41</th>\n",
              "      <td>1.0</td>\n",
              "      <td>0.57677</td>\n",
              "      <td>1</td>\n",
              "    </tr>\n",
              "    <tr>\n",
              "      <th>42</th>\n",
              "      <td>1.0</td>\n",
              "      <td>0.57881</td>\n",
              "      <td>0</td>\n",
              "    </tr>\n",
              "    <tr>\n",
              "      <th>43</th>\n",
              "      <td>0.0</td>\n",
              "      <td>0.57794</td>\n",
              "      <td>1</td>\n",
              "    </tr>\n",
              "    <tr>\n",
              "      <th>44</th>\n",
              "      <td>1.0</td>\n",
              "      <td>0.57241</td>\n",
              "      <td>1</td>\n",
              "    </tr>\n",
              "    <tr>\n",
              "      <th>45</th>\n",
              "      <td>1.0</td>\n",
              "      <td>0.57490</td>\n",
              "      <td>1</td>\n",
              "    </tr>\n",
              "    <tr>\n",
              "      <th>46</th>\n",
              "      <td>1.0</td>\n",
              "      <td>0.57547</td>\n",
              "      <td>1</td>\n",
              "    </tr>\n",
              "    <tr>\n",
              "      <th>47</th>\n",
              "      <td>1.0</td>\n",
              "      <td>0.58054</td>\n",
              "      <td>0</td>\n",
              "    </tr>\n",
              "    <tr>\n",
              "      <th>48</th>\n",
              "      <td>1.0</td>\n",
              "      <td>0.57791</td>\n",
              "      <td>1</td>\n",
              "    </tr>\n",
              "    <tr>\n",
              "      <th>49</th>\n",
              "      <td>0.0</td>\n",
              "      <td>0.58591</td>\n",
              "      <td>0</td>\n",
              "    </tr>\n",
              "  </tbody>\n",
              "</table>\n",
              "</div>"
            ],
            "text/plain": [
              "    y_actual  y_pred_test  class\n",
              "0        0.0      0.58847      0\n",
              "1        0.0      0.59017      0\n",
              "2        0.0      0.59154      0\n",
              "3        0.0      0.59421      0\n",
              "4        0.0      0.59048      0\n",
              "5        0.0      0.59571      0\n",
              "6        0.0      0.59435      0\n",
              "7        0.0      0.59966      0\n",
              "8        0.0      0.59734      0\n",
              "9        0.0      0.59378      0\n",
              "10       0.0      0.60297      0\n",
              "11       0.0      0.60250      0\n",
              "12       0.0      0.59509      0\n",
              "13       0.0      0.60274      0\n",
              "14       0.0      0.59997      0\n",
              "15       0.0      0.60518      0\n",
              "16       1.0      0.59230      0\n",
              "17       0.0      0.60515      0\n",
              "18       0.0      0.60151      0\n",
              "19       0.0      0.59884      0\n",
              "20       0.0      0.60474      0\n",
              "21       0.0      0.60179      0\n",
              "22       0.0      0.60763      0\n",
              "23       0.0      0.61293      0\n",
              "24       0.0      0.61817      0\n",
              "25       1.0      0.55714      1\n",
              "26       1.0      0.56294      1\n",
              "27       1.0      0.56711      1\n",
              "28       1.0      0.56704      1\n",
              "29       1.0      0.56854      1\n",
              "30       1.0      0.56592      1\n",
              "31       1.0      0.56646      1\n",
              "32       1.0      0.57341      1\n",
              "33       1.0      0.56674      1\n",
              "34       0.0      0.57256      1\n",
              "35       1.0      0.56976      1\n",
              "36       1.0      0.56900      1\n",
              "37       1.0      0.57708      1\n",
              "38       1.0      0.57495      1\n",
              "39       1.0      0.57550      1\n",
              "40       1.0      0.57919      0\n",
              "41       1.0      0.57677      1\n",
              "42       1.0      0.57881      0\n",
              "43       0.0      0.57794      1\n",
              "44       1.0      0.57241      1\n",
              "45       1.0      0.57490      1\n",
              "46       1.0      0.57547      1\n",
              "47       1.0      0.58054      0\n",
              "48       1.0      0.57791      1\n",
              "49       0.0      0.58591      0"
            ]
          },
          "metadata": {},
          "execution_count": 73
        }
      ]
    },
    {
      "cell_type": "code",
      "metadata": {
        "colab": {
          "base_uri": "https://localhost:8080/"
        },
        "id": "GCjCdQFP185-",
        "outputId": "ecd57547-f5be-4624-d832-3efa627ebfb0"
      },
      "source": [
        "R_2 = R2(y_test_KFV, predict_MGD_KFV)\n",
        "n = len(y_test_KFV.to_numpy())\n",
        "F = (R_2 / (1 - R_2)) * ((n - 8 -1) / 8)\n",
        "R_2, F"
      ],
      "execution_count": null,
      "outputs": [
        {
          "output_type": "execute_result",
          "data": {
            "text/plain": [
              "(-0.2710838981021808, -1.0930080853419735)"
            ]
          },
          "metadata": {},
          "execution_count": 74
        }
      ]
    },
    {
      "cell_type": "code",
      "metadata": {
        "colab": {
          "base_uri": "https://localhost:8080/"
        },
        "id": "_P4loCMJ6dJh",
        "outputId": "6990f973-05bf-4796-a0c8-23dbf4499050"
      },
      "source": [
        "metric_train_KFV=metric(df_train_KFV[\"y_actual\"], df_train_KFV['class'])\n",
        "metric_train_KFV"
      ],
      "execution_count": null,
      "outputs": [
        {
          "output_type": "stream",
          "name": "stdout",
          "text": [
            "accuracy : 0.772\n",
            "precision : 0.7926829268292683\n",
            "recall : 0.6190476190476191\n",
            "F1 : 0.6951871657754011\n",
            "MCC : 0.8413945878435771\n",
            "confusion_matrix:\n",
            " [[128  17]\n",
            " [ 40  65]]\n"
          ]
        }
      ]
    },
    {
      "cell_type": "code",
      "metadata": {
        "colab": {
          "base_uri": "https://localhost:8080/"
        },
        "id": "XAHhlZkb6yyF",
        "outputId": "6f534d7a-670c-42a0-8986-4991b6832422"
      },
      "source": [
        "metric_test_KFV = metric(df_test_KFV[\"y_actual\"], df_test_KFV['class'])\n",
        "metric_test_KFV"
      ],
      "execution_count": null,
      "outputs": [
        {
          "output_type": "stream",
          "name": "stdout",
          "text": [
            "accuracy : 0.88\n",
            "precision : 0.9047619047619048\n",
            "recall : 0.8260869565217391\n",
            "F1 : 0.8636363636363636\n",
            "MCC : 1.6109004062908807\n",
            "confusion_matrix:\n",
            " [[25  2]\n",
            " [ 4 19]]\n"
          ]
        }
      ]
    },
    {
      "cell_type": "markdown",
      "metadata": {
        "id": "ZspUIs48LrN0"
      },
      "source": [
        "9. Проаналізуйте результати, отримані у пунктах 5-8."
      ]
    },
    {
      "cell_type": "markdown",
      "metadata": {
        "id": "W-Jh_ps_jm78"
      },
      "source": [
        "Для моделі множинної логістичної регресії, використовуючи градієнтний спуску з даними  для тренування та тестування, 100 та 25 записів відповідно, оцінено статистичну значимість її коефіцієнтів та адекватність за допомогою коефіцієнту множинної детермінації. Для даного набору даних ці значення виявляються від’ємними. Проте після проведення K-кратної крос валідації, на відміну від попередньої частини лабораторної роботи значення хоч і збільшуються, але не суттєво. \n",
        "\n",
        "Також можна простежити за метриками, що показник R2 збільшується зі збільшенням набору даних для тренування та використанням валідації, значення метрики accuracy зменшується, що говорить про те, що не слід довіряти лише цій оцінці та переконатись в точності прогнозу використавши інші. Інші ж метрики, показують покращення точності прогнозування моделі за використанням набору даних 200/50 та методу K-кратної крос валідації.\n"
      ]
    },
    {
      "cell_type": "markdown",
      "metadata": {
        "id": "H1PTuvogLlIq"
      },
      "source": [
        "**Захист: завдання №8 + аналіз отриманих у роботі результатів + знання теорії щодо методів і алгоритмів, використанних у роботі.**"
      ]
    }
  ]
}