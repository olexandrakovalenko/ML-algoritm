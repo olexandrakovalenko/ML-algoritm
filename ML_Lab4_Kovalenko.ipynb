{
  "nbformat": 4,
  "nbformat_minor": 0,
  "metadata": {
    "colab": {
      "name": "ML_Lab4_Kovalenko",
      "provenance": [],
      "collapsed_sections": [
        "wztNIqUYpK_T",
        "t3H1LEO5pReK",
        "BXi_zxMypWgK",
        "otdGIaKCpY5O",
        "cSFsSUiJeUz2",
        "lmaf82nM5GNg",
        "ZpI_VhUNE3gi",
        "N_p8rVrVL6Vb",
        "xzQ778tcFLXa"
      ]
    },
    "kernelspec": {
      "name": "python3",
      "display_name": "Python 3"
    },
    "language_info": {
      "name": "python"
    }
  },
  "cells": [
    {
      "cell_type": "markdown",
      "metadata": {
        "id": "Pl4Ouq9qe82t"
      },
      "source": [
        "**Лабораторна робота №4. Аналіз головних компонент (алгоритм PCA)**\n",
        "\n",
        "Приблизний строк виконання - 10 годин\n",
        "\n",
        "**Рекомендована дата здачі: 21 грудня 2021 року**\n",
        "\n",
        "Виконала студентка групи [КМ-11мн] [Коваленко Олександра Петрівна]\n",
        "\n",
        "Студент здав роботу: (заповнюється викладачем відповідно до дати повідомлення з роботою у Slack)\n",
        "\n",
        "Студент захистив роботу на оцінку: (заповнюється викладачем)\n",
        "\n",
        "**Зауваження: для застосування методу РСА можна використовувати бібліотеки для\n",
        "мови Python (наприклад, scikit-learn або аналогічні).**\n",
        "\n",
        "**Також для проведення кластеризації і крос-валідації також можна використовувати бібліотеки.**\n"
      ]
    },
    {
      "cell_type": "code",
      "source": [
        "import pandas as pd\n",
        "import numpy as np\n",
        "import seaborn as sns\n",
        "from matplotlib import pyplot as plt\n",
        "import plotly.graph_objects as go\n",
        "from plotly.subplots import make_subplots\n",
        "import random\n",
        "from sklearn.decomposition import PCA\n",
        "from sklearn.preprocessing import StandardScaler"
      ],
      "metadata": {
        "id": "uXaw4Ribaypo"
      },
      "execution_count": null,
      "outputs": []
    },
    {
      "cell_type": "markdown",
      "metadata": {
        "id": "ynhEYG4SdJuO"
      },
      "source": [
        "#Part 1\n",
        "**Частина 1. Основи аналізу головних компонент**\n",
        "\n",
        "Використовуються набори даних та вхідні/вихідні змінні з:\n",
        "\n",
        "*   лабораторної роботи №1, частини №1 і №2;\n",
        "*   лабораторної роботи №2, частини №1 і №2;\n",
        "*   лабораторної роботи №3, частини №1.\n",
        "\n",
        "Для вище зазначених наборів даних потрібно виконати наступне завдання.\n",
        "\n",
        "1.Застосувавши метод аналізу головних компонент (РСА), визначити:\n",
        "\n",
        "1.   два параметри з найбільшим внеском в дисперсію\n",
        "2.   скільки параметрів треба взяти, щоб їх сумарний внесок в\n",
        "дисперсію був 60%, 80%, 98%\n",
        "3.   яку мінімальну кількість параметрів треба взяти, щоб їх\n",
        "сумарний внесок в дисперсію був не менше 90%.\n",
        "\n",
        "Результати мають бути аргументовані чисельно та графічно.\n"
      ]
    },
    {
      "cell_type": "markdown",
      "source": [
        "###Lab 1, part 1"
      ],
      "metadata": {
        "id": "wztNIqUYpK_T"
      }
    },
    {
      "cell_type": "code",
      "source": [
        "file_url11 = \"https://raw.githubusercontent.com/IvanSergeyevichZhuk/ML_KPI/main/Data/Lab1/Part1/MN/MN09-Kovalenko.csv\"\n",
        "df11 = pd.read_csv(file_url11, sep=';', decimal=',',header=None)\n",
        "df11"
      ],
      "metadata": {
        "id": "fUY9NiLZZMuR",
        "colab": {
          "base_uri": "https://localhost:8080/",
          "height": 423
        },
        "outputId": "3d4c7cbd-3b40-4f31-b2a6-37564b904b61"
      },
      "execution_count": null,
      "outputs": [
        {
          "output_type": "execute_result",
          "data": {
            "text/html": [
              "\n",
              "  <div id=\"df-d45abc17-5d2a-473b-85bc-f1a919058435\">\n",
              "    <div class=\"colab-df-container\">\n",
              "      <div>\n",
              "<style scoped>\n",
              "    .dataframe tbody tr th:only-of-type {\n",
              "        vertical-align: middle;\n",
              "    }\n",
              "\n",
              "    .dataframe tbody tr th {\n",
              "        vertical-align: top;\n",
              "    }\n",
              "\n",
              "    .dataframe thead th {\n",
              "        text-align: right;\n",
              "    }\n",
              "</style>\n",
              "<table border=\"1\" class=\"dataframe\">\n",
              "  <thead>\n",
              "    <tr style=\"text-align: right;\">\n",
              "      <th></th>\n",
              "      <th>0</th>\n",
              "      <th>1</th>\n",
              "      <th>2</th>\n",
              "      <th>3</th>\n",
              "      <th>4</th>\n",
              "      <th>5</th>\n",
              "      <th>6</th>\n",
              "      <th>7</th>\n",
              "    </tr>\n",
              "  </thead>\n",
              "  <tbody>\n",
              "    <tr>\n",
              "      <th>0</th>\n",
              "      <td>0.63</td>\n",
              "      <td>0.5</td>\n",
              "      <td>0.175</td>\n",
              "      <td>1.1105</td>\n",
              "      <td>0.467</td>\n",
              "      <td>0.268</td>\n",
              "      <td>0.329</td>\n",
              "      <td>10</td>\n",
              "    </tr>\n",
              "    <tr>\n",
              "      <th>1</th>\n",
              "      <td>0.63</td>\n",
              "      <td>0.455</td>\n",
              "      <td>0.15</td>\n",
              "      <td>1.1315</td>\n",
              "      <td>0.481</td>\n",
              "      <td>0.2745</td>\n",
              "      <td>0.305</td>\n",
              "      <td>9</td>\n",
              "    </tr>\n",
              "    <tr>\n",
              "      <th>2</th>\n",
              "      <td>0.63</td>\n",
              "      <td>0.48</td>\n",
              "      <td>0.15</td>\n",
              "      <td>1.271</td>\n",
              "      <td>0.6605</td>\n",
              "      <td>0.2425</td>\n",
              "      <td>0.31</td>\n",
              "      <td>11</td>\n",
              "    </tr>\n",
              "    <tr>\n",
              "      <th>3</th>\n",
              "      <td>0.63</td>\n",
              "      <td>0.49</td>\n",
              "      <td>0.225</td>\n",
              "      <td>1.336</td>\n",
              "      <td>0.6805</td>\n",
              "      <td>0.259</td>\n",
              "      <td>0.3245</td>\n",
              "      <td>10</td>\n",
              "    </tr>\n",
              "    <tr>\n",
              "      <th>4</th>\n",
              "      <td>0.635</td>\n",
              "      <td>0.505</td>\n",
              "      <td>0.145</td>\n",
              "      <td>1.1345</td>\n",
              "      <td>0.505</td>\n",
              "      <td>0.2655</td>\n",
              "      <td>0.315</td>\n",
              "      <td>10</td>\n",
              "    </tr>\n",
              "    <tr>\n",
              "      <th>...</th>\n",
              "      <td>...</td>\n",
              "      <td>...</td>\n",
              "      <td>...</td>\n",
              "      <td>...</td>\n",
              "      <td>...</td>\n",
              "      <td>...</td>\n",
              "      <td>...</td>\n",
              "      <td>...</td>\n",
              "    </tr>\n",
              "    <tr>\n",
              "      <th>245</th>\n",
              "      <td>0.69</td>\n",
              "      <td>0.55</td>\n",
              "      <td>0.2</td>\n",
              "      <td>1.569</td>\n",
              "      <td>0.687</td>\n",
              "      <td>0.3675</td>\n",
              "      <td>0.46</td>\n",
              "      <td>12</td>\n",
              "    </tr>\n",
              "    <tr>\n",
              "      <th>246</th>\n",
              "      <td>0.7</td>\n",
              "      <td>0.565</td>\n",
              "      <td>0.175</td>\n",
              "      <td>1.8565</td>\n",
              "      <td>0.8445</td>\n",
              "      <td>0.3935</td>\n",
              "      <td>0.54</td>\n",
              "      <td>10</td>\n",
              "    </tr>\n",
              "    <tr>\n",
              "      <th>247</th>\n",
              "      <td>0.7</td>\n",
              "      <td>0.535</td>\n",
              "      <td>0.175</td>\n",
              "      <td>1.773</td>\n",
              "      <td>0.6805</td>\n",
              "      <td>0.48</td>\n",
              "      <td>0.512</td>\n",
              "      <td>15</td>\n",
              "    </tr>\n",
              "    <tr>\n",
              "      <th>248</th>\n",
              "      <td>0.705</td>\n",
              "      <td>0.545</td>\n",
              "      <td>0.17</td>\n",
              "      <td>1.58</td>\n",
              "      <td>0.6435</td>\n",
              "      <td>0.4565</td>\n",
              "      <td>0.265</td>\n",
              "      <td>11</td>\n",
              "    </tr>\n",
              "    <tr>\n",
              "      <th>249</th>\n",
              "      <td>0.71</td>\n",
              "      <td>0.575</td>\n",
              "      <td>0.215</td>\n",
              "      <td>2.009</td>\n",
              "      <td>0.9895</td>\n",
              "      <td>0.4475</td>\n",
              "      <td>0.502</td>\n",
              "      <td>11</td>\n",
              "    </tr>\n",
              "  </tbody>\n",
              "</table>\n",
              "<p>250 rows × 8 columns</p>\n",
              "</div>\n",
              "      <button class=\"colab-df-convert\" onclick=\"convertToInteractive('df-d45abc17-5d2a-473b-85bc-f1a919058435')\"\n",
              "              title=\"Convert this dataframe to an interactive table.\"\n",
              "              style=\"display:none;\">\n",
              "        \n",
              "  <svg xmlns=\"http://www.w3.org/2000/svg\" height=\"24px\"viewBox=\"0 0 24 24\"\n",
              "       width=\"24px\">\n",
              "    <path d=\"M0 0h24v24H0V0z\" fill=\"none\"/>\n",
              "    <path d=\"M18.56 5.44l.94 2.06.94-2.06 2.06-.94-2.06-.94-.94-2.06-.94 2.06-2.06.94zm-11 1L8.5 8.5l.94-2.06 2.06-.94-2.06-.94L8.5 2.5l-.94 2.06-2.06.94zm10 10l.94 2.06.94-2.06 2.06-.94-2.06-.94-.94-2.06-.94 2.06-2.06.94z\"/><path d=\"M17.41 7.96l-1.37-1.37c-.4-.4-.92-.59-1.43-.59-.52 0-1.04.2-1.43.59L10.3 9.45l-7.72 7.72c-.78.78-.78 2.05 0 2.83L4 21.41c.39.39.9.59 1.41.59.51 0 1.02-.2 1.41-.59l7.78-7.78 2.81-2.81c.8-.78.8-2.07 0-2.86zM5.41 20L4 18.59l7.72-7.72 1.47 1.35L5.41 20z\"/>\n",
              "  </svg>\n",
              "      </button>\n",
              "      \n",
              "  <style>\n",
              "    .colab-df-container {\n",
              "      display:flex;\n",
              "      flex-wrap:wrap;\n",
              "      gap: 12px;\n",
              "    }\n",
              "\n",
              "    .colab-df-convert {\n",
              "      background-color: #E8F0FE;\n",
              "      border: none;\n",
              "      border-radius: 50%;\n",
              "      cursor: pointer;\n",
              "      display: none;\n",
              "      fill: #1967D2;\n",
              "      height: 32px;\n",
              "      padding: 0 0 0 0;\n",
              "      width: 32px;\n",
              "    }\n",
              "\n",
              "    .colab-df-convert:hover {\n",
              "      background-color: #E2EBFA;\n",
              "      box-shadow: 0px 1px 2px rgba(60, 64, 67, 0.3), 0px 1px 3px 1px rgba(60, 64, 67, 0.15);\n",
              "      fill: #174EA6;\n",
              "    }\n",
              "\n",
              "    [theme=dark] .colab-df-convert {\n",
              "      background-color: #3B4455;\n",
              "      fill: #D2E3FC;\n",
              "    }\n",
              "\n",
              "    [theme=dark] .colab-df-convert:hover {\n",
              "      background-color: #434B5C;\n",
              "      box-shadow: 0px 1px 3px 1px rgba(0, 0, 0, 0.15);\n",
              "      filter: drop-shadow(0px 1px 2px rgba(0, 0, 0, 0.3));\n",
              "      fill: #FFFFFF;\n",
              "    }\n",
              "  </style>\n",
              "\n",
              "      <script>\n",
              "        const buttonEl =\n",
              "          document.querySelector('#df-d45abc17-5d2a-473b-85bc-f1a919058435 button.colab-df-convert');\n",
              "        buttonEl.style.display =\n",
              "          google.colab.kernel.accessAllowed ? 'block' : 'none';\n",
              "\n",
              "        async function convertToInteractive(key) {\n",
              "          const element = document.querySelector('#df-d45abc17-5d2a-473b-85bc-f1a919058435');\n",
              "          const dataTable =\n",
              "            await google.colab.kernel.invokeFunction('convertToInteractive',\n",
              "                                                     [key], {});\n",
              "          if (!dataTable) return;\n",
              "\n",
              "          const docLinkHtml = 'Like what you see? Visit the ' +\n",
              "            '<a target=\"_blank\" href=https://colab.research.google.com/notebooks/data_table.ipynb>data table notebook</a>'\n",
              "            + ' to learn more about interactive tables.';\n",
              "          element.innerHTML = '';\n",
              "          dataTable['output_type'] = 'display_data';\n",
              "          await google.colab.output.renderOutput(dataTable, element);\n",
              "          const docLink = document.createElement('div');\n",
              "          docLink.innerHTML = docLinkHtml;\n",
              "          element.appendChild(docLink);\n",
              "        }\n",
              "      </script>\n",
              "    </div>\n",
              "  </div>\n",
              "  "
            ],
            "text/plain": [
              "         0      1      2       3       4       5       6   7\n",
              "0     0.63    0.5  0.175  1.1105   0.467   0.268   0.329  10\n",
              "1     0.63  0.455   0.15  1.1315   0.481  0.2745   0.305   9\n",
              "2     0.63   0.48   0.15   1.271  0.6605  0.2425    0.31  11\n",
              "3     0.63   0.49  0.225   1.336  0.6805   0.259  0.3245  10\n",
              "4    0.635  0.505  0.145  1.1345   0.505  0.2655   0.315  10\n",
              "..     ...    ...    ...     ...     ...     ...     ...  ..\n",
              "245   0.69   0.55    0.2   1.569   0.687  0.3675    0.46  12\n",
              "246    0.7  0.565  0.175  1.8565  0.8445  0.3935    0.54  10\n",
              "247    0.7  0.535  0.175   1.773  0.6805    0.48   0.512  15\n",
              "248  0.705  0.545   0.17    1.58  0.6435  0.4565   0.265  11\n",
              "249   0.71  0.575  0.215   2.009  0.9895  0.4475   0.502  11\n",
              "\n",
              "[250 rows x 8 columns]"
            ]
          },
          "metadata": {},
          "execution_count": 2
        }
      ]
    },
    {
      "cell_type": "code",
      "source": [
        "X_df11 = df11.drop(columns=7)\n",
        "Y_df11 = df11[7]\n",
        "st11 = pd.DataFrame(data = StandardScaler().fit_transform(X_df11))\n",
        "x_train11 = st11[:-50]\n",
        "x_test11 = st11[:50]"
      ],
      "metadata": {
        "id": "IZmE7Lyddy-W"
      },
      "execution_count": null,
      "outputs": []
    },
    {
      "cell_type": "code",
      "source": [
        "pca = PCA()\n",
        "pca_x_train11 = pca.fit_transform(x_train11)\n",
        "pca_x_train11 = pca.transform(x_test11)\n",
        "explained_variance = pca.explained_variance_ratio_\n",
        "explained_variance"
      ],
      "metadata": {
        "colab": {
          "base_uri": "https://localhost:8080/"
        },
        "id": "Vl9AlW0hl3IW",
        "outputId": "7cdf9b38-38da-455f-e319-be8f42e1c589"
      },
      "execution_count": null,
      "outputs": [
        {
          "output_type": "execute_result",
          "data": {
            "text/plain": [
              "array([9.29230505e-01, 2.84282761e-02, 2.03459958e-02, 1.03961246e-02,\n",
              "       8.69158530e-03, 2.23683427e-03, 6.70679000e-04])"
            ]
          },
          "metadata": {},
          "execution_count": 4
        }
      ]
    },
    {
      "cell_type": "code",
      "source": [
        "pca = PCA(0.6)\n",
        "pca_x_train11 = pca.fit_transform(x_train11)\n",
        "pca_x_test11 = pca.transform(x_test11)\n",
        "pca.n_components_"
      ],
      "metadata": {
        "colab": {
          "base_uri": "https://localhost:8080/"
        },
        "id": "BNWsHk52mhBG",
        "outputId": "558f02aa-03fd-4324-b078-2d8bfc30e1bd"
      },
      "execution_count": null,
      "outputs": [
        {
          "output_type": "execute_result",
          "data": {
            "text/plain": [
              "1"
            ]
          },
          "metadata": {},
          "execution_count": 5
        }
      ]
    },
    {
      "cell_type": "code",
      "source": [
        "pca = PCA(0.8)\n",
        "pca_x_train11 = pca.fit_transform(x_train11)\n",
        "pca_x_test11 = pca.transform(x_test11)\n",
        "pca.n_components_"
      ],
      "metadata": {
        "colab": {
          "base_uri": "https://localhost:8080/"
        },
        "id": "9431YGomoluJ",
        "outputId": "fc2bd62e-aff4-4e94-99a6-af0573c11c13"
      },
      "execution_count": null,
      "outputs": [
        {
          "output_type": "execute_result",
          "data": {
            "text/plain": [
              "1"
            ]
          },
          "metadata": {},
          "execution_count": 6
        }
      ]
    },
    {
      "cell_type": "code",
      "source": [
        "pca = PCA(0.98)\n",
        "pca_x_train11 = pca.fit_transform(x_train11)\n",
        "pca_x_test11 = pca.transform(x_test11)\n",
        "pca.n_components_"
      ],
      "metadata": {
        "colab": {
          "base_uri": "https://localhost:8080/"
        },
        "id": "0l1EQZSKooza",
        "outputId": "97ee00f1-3489-4d65-8ad9-3dadd94e9e12"
      },
      "execution_count": null,
      "outputs": [
        {
          "output_type": "execute_result",
          "data": {
            "text/plain": [
              "4"
            ]
          },
          "metadata": {},
          "execution_count": 7
        }
      ]
    },
    {
      "cell_type": "code",
      "source": [
        "pca = PCA(0.9)\n",
        "pca_x_train11 = pca.fit_transform(x_train11)\n",
        "pca_x_test11 = pca.transform(x_test11)\n",
        "pca.n_components_"
      ],
      "metadata": {
        "colab": {
          "base_uri": "https://localhost:8080/"
        },
        "id": "ACFz6Tcrozc-",
        "outputId": "b7ff2b61-2024-4ef1-d307-58109e28beaa"
      },
      "execution_count": null,
      "outputs": [
        {
          "output_type": "execute_result",
          "data": {
            "text/plain": [
              "1"
            ]
          },
          "metadata": {},
          "execution_count": 8
        }
      ]
    },
    {
      "cell_type": "markdown",
      "source": [
        "###Lab 1, part 2"
      ],
      "metadata": {
        "id": "t3H1LEO5pReK"
      }
    },
    {
      "cell_type": "code",
      "source": [
        "file_url12 = \"https://raw.githubusercontent.com/Alexandra-Kovalenko1/data/main/MN09-Kovalenko_Part2%20(1).csv\"\n",
        "df12 = pd.read_csv(file_url12, sep=';', decimal=',',header=None)\n",
        "df12"
      ],
      "metadata": {
        "colab": {
          "base_uri": "https://localhost:8080/",
          "height": 423
        },
        "id": "JnKHXDCnbQEn",
        "outputId": "323cc1c4-5722-43b2-b457-d8cce6406a1d"
      },
      "execution_count": null,
      "outputs": [
        {
          "output_type": "execute_result",
          "data": {
            "text/html": [
              "\n",
              "  <div id=\"df-df0c7898-68d7-4172-b7d0-00015ebf5e89\">\n",
              "    <div class=\"colab-df-container\">\n",
              "      <div>\n",
              "<style scoped>\n",
              "    .dataframe tbody tr th:only-of-type {\n",
              "        vertical-align: middle;\n",
              "    }\n",
              "\n",
              "    .dataframe tbody tr th {\n",
              "        vertical-align: top;\n",
              "    }\n",
              "\n",
              "    .dataframe thead th {\n",
              "        text-align: right;\n",
              "    }\n",
              "</style>\n",
              "<table border=\"1\" class=\"dataframe\">\n",
              "  <thead>\n",
              "    <tr style=\"text-align: right;\">\n",
              "      <th></th>\n",
              "      <th>0</th>\n",
              "      <th>1</th>\n",
              "      <th>2</th>\n",
              "      <th>3</th>\n",
              "      <th>4</th>\n",
              "      <th>5</th>\n",
              "      <th>6</th>\n",
              "      <th>7</th>\n",
              "    </tr>\n",
              "  </thead>\n",
              "  <tbody>\n",
              "    <tr>\n",
              "      <th>0</th>\n",
              "      <td>0.625</td>\n",
              "      <td>0.490</td>\n",
              "      <td>0.165</td>\n",
              "      <td>1.1165</td>\n",
              "      <td>0.4895</td>\n",
              "      <td>0.2615</td>\n",
              "      <td>0.3325</td>\n",
              "      <td>0</td>\n",
              "    </tr>\n",
              "    <tr>\n",
              "      <th>1</th>\n",
              "      <td>0.625</td>\n",
              "      <td>0.475</td>\n",
              "      <td>0.160</td>\n",
              "      <td>1.0845</td>\n",
              "      <td>0.5005</td>\n",
              "      <td>0.2355</td>\n",
              "      <td>0.3105</td>\n",
              "      <td>0</td>\n",
              "    </tr>\n",
              "    <tr>\n",
              "      <th>2</th>\n",
              "      <td>0.625</td>\n",
              "      <td>0.500</td>\n",
              "      <td>0.170</td>\n",
              "      <td>1.0985</td>\n",
              "      <td>0.4645</td>\n",
              "      <td>0.2200</td>\n",
              "      <td>0.3540</td>\n",
              "      <td>1</td>\n",
              "    </tr>\n",
              "    <tr>\n",
              "      <th>3</th>\n",
              "      <td>0.625</td>\n",
              "      <td>0.470</td>\n",
              "      <td>0.155</td>\n",
              "      <td>1.1955</td>\n",
              "      <td>0.6430</td>\n",
              "      <td>0.2055</td>\n",
              "      <td>0.3145</td>\n",
              "      <td>0</td>\n",
              "    </tr>\n",
              "    <tr>\n",
              "      <th>4</th>\n",
              "      <td>0.625</td>\n",
              "      <td>0.485</td>\n",
              "      <td>0.175</td>\n",
              "      <td>1.3620</td>\n",
              "      <td>0.6765</td>\n",
              "      <td>0.2615</td>\n",
              "      <td>0.3705</td>\n",
              "      <td>0</td>\n",
              "    </tr>\n",
              "    <tr>\n",
              "      <th>...</th>\n",
              "      <td>...</td>\n",
              "      <td>...</td>\n",
              "      <td>...</td>\n",
              "      <td>...</td>\n",
              "      <td>...</td>\n",
              "      <td>...</td>\n",
              "      <td>...</td>\n",
              "      <td>...</td>\n",
              "    </tr>\n",
              "    <tr>\n",
              "      <th>295</th>\n",
              "      <td>0.725</td>\n",
              "      <td>0.570</td>\n",
              "      <td>0.205</td>\n",
              "      <td>1.6195</td>\n",
              "      <td>0.7440</td>\n",
              "      <td>0.3150</td>\n",
              "      <td>0.4880</td>\n",
              "      <td>0</td>\n",
              "    </tr>\n",
              "    <tr>\n",
              "      <th>296</th>\n",
              "      <td>0.750</td>\n",
              "      <td>0.550</td>\n",
              "      <td>0.195</td>\n",
              "      <td>1.8325</td>\n",
              "      <td>0.8300</td>\n",
              "      <td>0.3660</td>\n",
              "      <td>0.4400</td>\n",
              "      <td>0</td>\n",
              "    </tr>\n",
              "    <tr>\n",
              "      <th>297</th>\n",
              "      <td>0.760</td>\n",
              "      <td>0.605</td>\n",
              "      <td>0.215</td>\n",
              "      <td>2.1730</td>\n",
              "      <td>0.8010</td>\n",
              "      <td>0.4915</td>\n",
              "      <td>0.6460</td>\n",
              "      <td>0</td>\n",
              "    </tr>\n",
              "    <tr>\n",
              "      <th>298</th>\n",
              "      <td>0.135</td>\n",
              "      <td>0.130</td>\n",
              "      <td>0.040</td>\n",
              "      <td>0.0290</td>\n",
              "      <td>0.0125</td>\n",
              "      <td>0.0065</td>\n",
              "      <td>0.0080</td>\n",
              "      <td>1</td>\n",
              "    </tr>\n",
              "    <tr>\n",
              "      <th>299</th>\n",
              "      <td>0.160</td>\n",
              "      <td>0.110</td>\n",
              "      <td>0.025</td>\n",
              "      <td>0.0195</td>\n",
              "      <td>0.0075</td>\n",
              "      <td>0.0050</td>\n",
              "      <td>0.0060</td>\n",
              "      <td>1</td>\n",
              "    </tr>\n",
              "  </tbody>\n",
              "</table>\n",
              "<p>300 rows × 8 columns</p>\n",
              "</div>\n",
              "      <button class=\"colab-df-convert\" onclick=\"convertToInteractive('df-df0c7898-68d7-4172-b7d0-00015ebf5e89')\"\n",
              "              title=\"Convert this dataframe to an interactive table.\"\n",
              "              style=\"display:none;\">\n",
              "        \n",
              "  <svg xmlns=\"http://www.w3.org/2000/svg\" height=\"24px\"viewBox=\"0 0 24 24\"\n",
              "       width=\"24px\">\n",
              "    <path d=\"M0 0h24v24H0V0z\" fill=\"none\"/>\n",
              "    <path d=\"M18.56 5.44l.94 2.06.94-2.06 2.06-.94-2.06-.94-.94-2.06-.94 2.06-2.06.94zm-11 1L8.5 8.5l.94-2.06 2.06-.94-2.06-.94L8.5 2.5l-.94 2.06-2.06.94zm10 10l.94 2.06.94-2.06 2.06-.94-2.06-.94-.94-2.06-.94 2.06-2.06.94z\"/><path d=\"M17.41 7.96l-1.37-1.37c-.4-.4-.92-.59-1.43-.59-.52 0-1.04.2-1.43.59L10.3 9.45l-7.72 7.72c-.78.78-.78 2.05 0 2.83L4 21.41c.39.39.9.59 1.41.59.51 0 1.02-.2 1.41-.59l7.78-7.78 2.81-2.81c.8-.78.8-2.07 0-2.86zM5.41 20L4 18.59l7.72-7.72 1.47 1.35L5.41 20z\"/>\n",
              "  </svg>\n",
              "      </button>\n",
              "      \n",
              "  <style>\n",
              "    .colab-df-container {\n",
              "      display:flex;\n",
              "      flex-wrap:wrap;\n",
              "      gap: 12px;\n",
              "    }\n",
              "\n",
              "    .colab-df-convert {\n",
              "      background-color: #E8F0FE;\n",
              "      border: none;\n",
              "      border-radius: 50%;\n",
              "      cursor: pointer;\n",
              "      display: none;\n",
              "      fill: #1967D2;\n",
              "      height: 32px;\n",
              "      padding: 0 0 0 0;\n",
              "      width: 32px;\n",
              "    }\n",
              "\n",
              "    .colab-df-convert:hover {\n",
              "      background-color: #E2EBFA;\n",
              "      box-shadow: 0px 1px 2px rgba(60, 64, 67, 0.3), 0px 1px 3px 1px rgba(60, 64, 67, 0.15);\n",
              "      fill: #174EA6;\n",
              "    }\n",
              "\n",
              "    [theme=dark] .colab-df-convert {\n",
              "      background-color: #3B4455;\n",
              "      fill: #D2E3FC;\n",
              "    }\n",
              "\n",
              "    [theme=dark] .colab-df-convert:hover {\n",
              "      background-color: #434B5C;\n",
              "      box-shadow: 0px 1px 3px 1px rgba(0, 0, 0, 0.15);\n",
              "      filter: drop-shadow(0px 1px 2px rgba(0, 0, 0, 0.3));\n",
              "      fill: #FFFFFF;\n",
              "    }\n",
              "  </style>\n",
              "\n",
              "      <script>\n",
              "        const buttonEl =\n",
              "          document.querySelector('#df-df0c7898-68d7-4172-b7d0-00015ebf5e89 button.colab-df-convert');\n",
              "        buttonEl.style.display =\n",
              "          google.colab.kernel.accessAllowed ? 'block' : 'none';\n",
              "\n",
              "        async function convertToInteractive(key) {\n",
              "          const element = document.querySelector('#df-df0c7898-68d7-4172-b7d0-00015ebf5e89');\n",
              "          const dataTable =\n",
              "            await google.colab.kernel.invokeFunction('convertToInteractive',\n",
              "                                                     [key], {});\n",
              "          if (!dataTable) return;\n",
              "\n",
              "          const docLinkHtml = 'Like what you see? Visit the ' +\n",
              "            '<a target=\"_blank\" href=https://colab.research.google.com/notebooks/data_table.ipynb>data table notebook</a>'\n",
              "            + ' to learn more about interactive tables.';\n",
              "          element.innerHTML = '';\n",
              "          dataTable['output_type'] = 'display_data';\n",
              "          await google.colab.output.renderOutput(dataTable, element);\n",
              "          const docLink = document.createElement('div');\n",
              "          docLink.innerHTML = docLinkHtml;\n",
              "          element.appendChild(docLink);\n",
              "        }\n",
              "      </script>\n",
              "    </div>\n",
              "  </div>\n",
              "  "
            ],
            "text/plain": [
              "         0      1      2       3       4       5       6  7\n",
              "0    0.625  0.490  0.165  1.1165  0.4895  0.2615  0.3325  0\n",
              "1    0.625  0.475  0.160  1.0845  0.5005  0.2355  0.3105  0\n",
              "2    0.625  0.500  0.170  1.0985  0.4645  0.2200  0.3540  1\n",
              "3    0.625  0.470  0.155  1.1955  0.6430  0.2055  0.3145  0\n",
              "4    0.625  0.485  0.175  1.3620  0.6765  0.2615  0.3705  0\n",
              "..     ...    ...    ...     ...     ...     ...     ... ..\n",
              "295  0.725  0.570  0.205  1.6195  0.7440  0.3150  0.4880  0\n",
              "296  0.750  0.550  0.195  1.8325  0.8300  0.3660  0.4400  0\n",
              "297  0.760  0.605  0.215  2.1730  0.8010  0.4915  0.6460  0\n",
              "298  0.135  0.130  0.040  0.0290  0.0125  0.0065  0.0080  1\n",
              "299  0.160  0.110  0.025  0.0195  0.0075  0.0050  0.0060  1\n",
              "\n",
              "[300 rows x 8 columns]"
            ]
          },
          "metadata": {},
          "execution_count": 9
        }
      ]
    },
    {
      "cell_type": "code",
      "source": [
        "X_df12 = df12.drop(columns=7)\n",
        "Y_df12 = df12[7]\n",
        "st12 = pd.DataFrame(data = StandardScaler().fit_transform(X_df12))\n",
        "x_train12 = st12[:-50]\n",
        "x_test12 = st12[:50]"
      ],
      "metadata": {
        "id": "UnprAY0rpime"
      },
      "execution_count": null,
      "outputs": []
    },
    {
      "cell_type": "code",
      "source": [
        "pca = PCA()\n",
        "pca_x_train12 = pca.fit_transform(x_train12)\n",
        "pca_x_test12 = pca.transform(x_test12)\n",
        "explained_variance = pca.explained_variance_ratio_\n",
        "explained_variance"
      ],
      "metadata": {
        "colab": {
          "base_uri": "https://localhost:8080/"
        },
        "id": "om4VkLucsP0O",
        "outputId": "c1a96f45-7b7a-4478-b9de-3d617ce14dfe"
      },
      "execution_count": null,
      "outputs": [
        {
          "output_type": "execute_result",
          "data": {
            "text/plain": [
              "array([9.16229112e-01, 3.63309963e-02, 2.39146608e-02, 1.06438793e-02,\n",
              "       9.88548548e-03, 2.23089845e-03, 7.64967306e-04])"
            ]
          },
          "metadata": {},
          "execution_count": 11
        }
      ]
    },
    {
      "cell_type": "code",
      "source": [
        "pca = PCA(0.6)\n",
        "pca_x_train12 = pca.fit_transform(x_train12)\n",
        "pca_x_test12 = pca.transform(x_test12)\n",
        "pca.n_components_"
      ],
      "metadata": {
        "colab": {
          "base_uri": "https://localhost:8080/"
        },
        "id": "L-BB9mhltivg",
        "outputId": "b2a6e20f-9b43-4a6c-c38c-b8c724e84ada"
      },
      "execution_count": null,
      "outputs": [
        {
          "output_type": "execute_result",
          "data": {
            "text/plain": [
              "1"
            ]
          },
          "metadata": {},
          "execution_count": 12
        }
      ]
    },
    {
      "cell_type": "code",
      "source": [
        "pca = PCA(0.8)\n",
        "pca_x_train12 = pca.fit_transform(x_train12)\n",
        "pca_x_test12 = pca.transform(x_test12)\n",
        "pca.n_components_"
      ],
      "metadata": {
        "colab": {
          "base_uri": "https://localhost:8080/"
        },
        "id": "OWQHJmJTuBdH",
        "outputId": "b24ded2f-3520-49c3-e234-d087315913a4"
      },
      "execution_count": null,
      "outputs": [
        {
          "output_type": "execute_result",
          "data": {
            "text/plain": [
              "1"
            ]
          },
          "metadata": {},
          "execution_count": 13
        }
      ]
    },
    {
      "cell_type": "code",
      "source": [
        "pca = PCA(0.98)\n",
        "pca_x_train12 = pca.fit_transform(x_train12)\n",
        "pca_x_test12 = pca.transform(x_test12)\n",
        "pca.n_components_"
      ],
      "metadata": {
        "colab": {
          "base_uri": "https://localhost:8080/"
        },
        "id": "TMk5No01uDT3",
        "outputId": "67f5f010-4ea7-48a7-b314-6e007f4d3ae2"
      },
      "execution_count": null,
      "outputs": [
        {
          "output_type": "execute_result",
          "data": {
            "text/plain": [
              "4"
            ]
          },
          "metadata": {},
          "execution_count": 14
        }
      ]
    },
    {
      "cell_type": "code",
      "source": [
        "pca = PCA(0.9)\n",
        "pca_x_train12 = pca.fit_transform(x_train12)\n",
        "pca_x_test12 = pca.transform(x_test12)\n",
        "pca.n_components_"
      ],
      "metadata": {
        "colab": {
          "base_uri": "https://localhost:8080/"
        },
        "id": "h9PPT5f7uE8r",
        "outputId": "a2e164aa-1817-43c2-d677-a36cd1ccd92c"
      },
      "execution_count": null,
      "outputs": [
        {
          "output_type": "execute_result",
          "data": {
            "text/plain": [
              "1"
            ]
          },
          "metadata": {},
          "execution_count": 15
        }
      ]
    },
    {
      "cell_type": "markdown",
      "source": [
        "###Lab 2, part 1"
      ],
      "metadata": {
        "id": "BXi_zxMypWgK"
      }
    },
    {
      "cell_type": "code",
      "source": [
        "file_url21 = \"https://raw.githubusercontent.com/IvanSergeyevichZhuk/ML_KPI/main/Data/Lab2/Part1/MN/MN09-Kovalenko.csv\"\n",
        "df21 = pd.read_csv(file_url21, header=None)\n",
        "df21 = df21.set_axis([0, 1, 2, 3, 4, 5, 6, 7, 8] , axis=1)\n",
        "df21=pd.get_dummies(data=df21, columns=[0, 1, 2, 3, 4, 5, 6, 7])\n",
        "df21"
      ],
      "metadata": {
        "colab": {
          "base_uri": "https://localhost:8080/",
          "height": 487
        },
        "id": "n7DpDpLkbkTc",
        "outputId": "b923932c-c6de-42b7-f466-90018ad434c3"
      },
      "execution_count": null,
      "outputs": [
        {
          "output_type": "execute_result",
          "data": {
            "text/html": [
              "\n",
              "  <div id=\"df-3df7a105-40e2-45c3-9e98-23ebd80a0bb4\">\n",
              "    <div class=\"colab-df-container\">\n",
              "      <div>\n",
              "<style scoped>\n",
              "    .dataframe tbody tr th:only-of-type {\n",
              "        vertical-align: middle;\n",
              "    }\n",
              "\n",
              "    .dataframe tbody tr th {\n",
              "        vertical-align: top;\n",
              "    }\n",
              "\n",
              "    .dataframe thead th {\n",
              "        text-align: right;\n",
              "    }\n",
              "</style>\n",
              "<table border=\"1\" class=\"dataframe\">\n",
              "  <thead>\n",
              "    <tr style=\"text-align: right;\">\n",
              "      <th></th>\n",
              "      <th>8</th>\n",
              "      <th>0_usual</th>\n",
              "      <th>1_critical</th>\n",
              "      <th>1_improper</th>\n",
              "      <th>2_complete</th>\n",
              "      <th>2_foster</th>\n",
              "      <th>3_1</th>\n",
              "      <th>3_2</th>\n",
              "      <th>3_3</th>\n",
              "      <th>3_more</th>\n",
              "      <th>4_convenient</th>\n",
              "      <th>4_critical</th>\n",
              "      <th>4_less_conv</th>\n",
              "      <th>5_convenient</th>\n",
              "      <th>5_inconv</th>\n",
              "      <th>6_nonprob</th>\n",
              "      <th>6_problematic</th>\n",
              "      <th>6_slightly_prob</th>\n",
              "      <th>7_not_recom</th>\n",
              "      <th>7_priority</th>\n",
              "      <th>7_recommended</th>\n",
              "    </tr>\n",
              "  </thead>\n",
              "  <tbody>\n",
              "    <tr>\n",
              "      <th>0</th>\n",
              "      <td>priority</td>\n",
              "      <td>1</td>\n",
              "      <td>0</td>\n",
              "      <td>1</td>\n",
              "      <td>0</td>\n",
              "      <td>1</td>\n",
              "      <td>1</td>\n",
              "      <td>0</td>\n",
              "      <td>0</td>\n",
              "      <td>0</td>\n",
              "      <td>0</td>\n",
              "      <td>0</td>\n",
              "      <td>1</td>\n",
              "      <td>1</td>\n",
              "      <td>0</td>\n",
              "      <td>0</td>\n",
              "      <td>1</td>\n",
              "      <td>0</td>\n",
              "      <td>0</td>\n",
              "      <td>0</td>\n",
              "      <td>1</td>\n",
              "    </tr>\n",
              "    <tr>\n",
              "      <th>1</th>\n",
              "      <td>priority</td>\n",
              "      <td>1</td>\n",
              "      <td>0</td>\n",
              "      <td>1</td>\n",
              "      <td>0</td>\n",
              "      <td>1</td>\n",
              "      <td>1</td>\n",
              "      <td>0</td>\n",
              "      <td>0</td>\n",
              "      <td>0</td>\n",
              "      <td>0</td>\n",
              "      <td>0</td>\n",
              "      <td>1</td>\n",
              "      <td>1</td>\n",
              "      <td>0</td>\n",
              "      <td>0</td>\n",
              "      <td>1</td>\n",
              "      <td>0</td>\n",
              "      <td>0</td>\n",
              "      <td>1</td>\n",
              "      <td>0</td>\n",
              "    </tr>\n",
              "    <tr>\n",
              "      <th>2</th>\n",
              "      <td>not_recom</td>\n",
              "      <td>1</td>\n",
              "      <td>0</td>\n",
              "      <td>1</td>\n",
              "      <td>0</td>\n",
              "      <td>1</td>\n",
              "      <td>1</td>\n",
              "      <td>0</td>\n",
              "      <td>0</td>\n",
              "      <td>0</td>\n",
              "      <td>0</td>\n",
              "      <td>0</td>\n",
              "      <td>1</td>\n",
              "      <td>1</td>\n",
              "      <td>0</td>\n",
              "      <td>0</td>\n",
              "      <td>1</td>\n",
              "      <td>0</td>\n",
              "      <td>1</td>\n",
              "      <td>0</td>\n",
              "      <td>0</td>\n",
              "    </tr>\n",
              "    <tr>\n",
              "      <th>3</th>\n",
              "      <td>priority</td>\n",
              "      <td>1</td>\n",
              "      <td>0</td>\n",
              "      <td>1</td>\n",
              "      <td>0</td>\n",
              "      <td>1</td>\n",
              "      <td>1</td>\n",
              "      <td>0</td>\n",
              "      <td>0</td>\n",
              "      <td>0</td>\n",
              "      <td>0</td>\n",
              "      <td>0</td>\n",
              "      <td>1</td>\n",
              "      <td>0</td>\n",
              "      <td>1</td>\n",
              "      <td>1</td>\n",
              "      <td>0</td>\n",
              "      <td>0</td>\n",
              "      <td>0</td>\n",
              "      <td>0</td>\n",
              "      <td>1</td>\n",
              "    </tr>\n",
              "    <tr>\n",
              "      <th>4</th>\n",
              "      <td>priority</td>\n",
              "      <td>1</td>\n",
              "      <td>0</td>\n",
              "      <td>1</td>\n",
              "      <td>0</td>\n",
              "      <td>1</td>\n",
              "      <td>1</td>\n",
              "      <td>0</td>\n",
              "      <td>0</td>\n",
              "      <td>0</td>\n",
              "      <td>0</td>\n",
              "      <td>0</td>\n",
              "      <td>1</td>\n",
              "      <td>0</td>\n",
              "      <td>1</td>\n",
              "      <td>1</td>\n",
              "      <td>0</td>\n",
              "      <td>0</td>\n",
              "      <td>0</td>\n",
              "      <td>1</td>\n",
              "      <td>0</td>\n",
              "    </tr>\n",
              "    <tr>\n",
              "      <th>...</th>\n",
              "      <td>...</td>\n",
              "      <td>...</td>\n",
              "      <td>...</td>\n",
              "      <td>...</td>\n",
              "      <td>...</td>\n",
              "      <td>...</td>\n",
              "      <td>...</td>\n",
              "      <td>...</td>\n",
              "      <td>...</td>\n",
              "      <td>...</td>\n",
              "      <td>...</td>\n",
              "      <td>...</td>\n",
              "      <td>...</td>\n",
              "      <td>...</td>\n",
              "      <td>...</td>\n",
              "      <td>...</td>\n",
              "      <td>...</td>\n",
              "      <td>...</td>\n",
              "      <td>...</td>\n",
              "      <td>...</td>\n",
              "      <td>...</td>\n",
              "    </tr>\n",
              "    <tr>\n",
              "      <th>295</th>\n",
              "      <td>spec_prior</td>\n",
              "      <td>1</td>\n",
              "      <td>1</td>\n",
              "      <td>0</td>\n",
              "      <td>1</td>\n",
              "      <td>0</td>\n",
              "      <td>0</td>\n",
              "      <td>1</td>\n",
              "      <td>0</td>\n",
              "      <td>0</td>\n",
              "      <td>0</td>\n",
              "      <td>1</td>\n",
              "      <td>0</td>\n",
              "      <td>0</td>\n",
              "      <td>1</td>\n",
              "      <td>0</td>\n",
              "      <td>0</td>\n",
              "      <td>1</td>\n",
              "      <td>0</td>\n",
              "      <td>1</td>\n",
              "      <td>0</td>\n",
              "    </tr>\n",
              "    <tr>\n",
              "      <th>296</th>\n",
              "      <td>not_recom</td>\n",
              "      <td>1</td>\n",
              "      <td>1</td>\n",
              "      <td>0</td>\n",
              "      <td>1</td>\n",
              "      <td>0</td>\n",
              "      <td>0</td>\n",
              "      <td>1</td>\n",
              "      <td>0</td>\n",
              "      <td>0</td>\n",
              "      <td>0</td>\n",
              "      <td>1</td>\n",
              "      <td>0</td>\n",
              "      <td>0</td>\n",
              "      <td>1</td>\n",
              "      <td>0</td>\n",
              "      <td>0</td>\n",
              "      <td>1</td>\n",
              "      <td>1</td>\n",
              "      <td>0</td>\n",
              "      <td>0</td>\n",
              "    </tr>\n",
              "    <tr>\n",
              "      <th>297</th>\n",
              "      <td>spec_prior</td>\n",
              "      <td>1</td>\n",
              "      <td>1</td>\n",
              "      <td>0</td>\n",
              "      <td>1</td>\n",
              "      <td>0</td>\n",
              "      <td>0</td>\n",
              "      <td>1</td>\n",
              "      <td>0</td>\n",
              "      <td>0</td>\n",
              "      <td>0</td>\n",
              "      <td>1</td>\n",
              "      <td>0</td>\n",
              "      <td>0</td>\n",
              "      <td>1</td>\n",
              "      <td>0</td>\n",
              "      <td>1</td>\n",
              "      <td>0</td>\n",
              "      <td>0</td>\n",
              "      <td>0</td>\n",
              "      <td>1</td>\n",
              "    </tr>\n",
              "    <tr>\n",
              "      <th>298</th>\n",
              "      <td>spec_prior</td>\n",
              "      <td>1</td>\n",
              "      <td>1</td>\n",
              "      <td>0</td>\n",
              "      <td>1</td>\n",
              "      <td>0</td>\n",
              "      <td>0</td>\n",
              "      <td>1</td>\n",
              "      <td>0</td>\n",
              "      <td>0</td>\n",
              "      <td>0</td>\n",
              "      <td>1</td>\n",
              "      <td>0</td>\n",
              "      <td>0</td>\n",
              "      <td>1</td>\n",
              "      <td>0</td>\n",
              "      <td>1</td>\n",
              "      <td>0</td>\n",
              "      <td>0</td>\n",
              "      <td>1</td>\n",
              "      <td>0</td>\n",
              "    </tr>\n",
              "    <tr>\n",
              "      <th>299</th>\n",
              "      <td>not_recom</td>\n",
              "      <td>1</td>\n",
              "      <td>1</td>\n",
              "      <td>0</td>\n",
              "      <td>1</td>\n",
              "      <td>0</td>\n",
              "      <td>0</td>\n",
              "      <td>1</td>\n",
              "      <td>0</td>\n",
              "      <td>0</td>\n",
              "      <td>0</td>\n",
              "      <td>1</td>\n",
              "      <td>0</td>\n",
              "      <td>0</td>\n",
              "      <td>1</td>\n",
              "      <td>0</td>\n",
              "      <td>1</td>\n",
              "      <td>0</td>\n",
              "      <td>1</td>\n",
              "      <td>0</td>\n",
              "      <td>0</td>\n",
              "    </tr>\n",
              "  </tbody>\n",
              "</table>\n",
              "<p>300 rows × 21 columns</p>\n",
              "</div>\n",
              "      <button class=\"colab-df-convert\" onclick=\"convertToInteractive('df-3df7a105-40e2-45c3-9e98-23ebd80a0bb4')\"\n",
              "              title=\"Convert this dataframe to an interactive table.\"\n",
              "              style=\"display:none;\">\n",
              "        \n",
              "  <svg xmlns=\"http://www.w3.org/2000/svg\" height=\"24px\"viewBox=\"0 0 24 24\"\n",
              "       width=\"24px\">\n",
              "    <path d=\"M0 0h24v24H0V0z\" fill=\"none\"/>\n",
              "    <path d=\"M18.56 5.44l.94 2.06.94-2.06 2.06-.94-2.06-.94-.94-2.06-.94 2.06-2.06.94zm-11 1L8.5 8.5l.94-2.06 2.06-.94-2.06-.94L8.5 2.5l-.94 2.06-2.06.94zm10 10l.94 2.06.94-2.06 2.06-.94-2.06-.94-.94-2.06-.94 2.06-2.06.94z\"/><path d=\"M17.41 7.96l-1.37-1.37c-.4-.4-.92-.59-1.43-.59-.52 0-1.04.2-1.43.59L10.3 9.45l-7.72 7.72c-.78.78-.78 2.05 0 2.83L4 21.41c.39.39.9.59 1.41.59.51 0 1.02-.2 1.41-.59l7.78-7.78 2.81-2.81c.8-.78.8-2.07 0-2.86zM5.41 20L4 18.59l7.72-7.72 1.47 1.35L5.41 20z\"/>\n",
              "  </svg>\n",
              "      </button>\n",
              "      \n",
              "  <style>\n",
              "    .colab-df-container {\n",
              "      display:flex;\n",
              "      flex-wrap:wrap;\n",
              "      gap: 12px;\n",
              "    }\n",
              "\n",
              "    .colab-df-convert {\n",
              "      background-color: #E8F0FE;\n",
              "      border: none;\n",
              "      border-radius: 50%;\n",
              "      cursor: pointer;\n",
              "      display: none;\n",
              "      fill: #1967D2;\n",
              "      height: 32px;\n",
              "      padding: 0 0 0 0;\n",
              "      width: 32px;\n",
              "    }\n",
              "\n",
              "    .colab-df-convert:hover {\n",
              "      background-color: #E2EBFA;\n",
              "      box-shadow: 0px 1px 2px rgba(60, 64, 67, 0.3), 0px 1px 3px 1px rgba(60, 64, 67, 0.15);\n",
              "      fill: #174EA6;\n",
              "    }\n",
              "\n",
              "    [theme=dark] .colab-df-convert {\n",
              "      background-color: #3B4455;\n",
              "      fill: #D2E3FC;\n",
              "    }\n",
              "\n",
              "    [theme=dark] .colab-df-convert:hover {\n",
              "      background-color: #434B5C;\n",
              "      box-shadow: 0px 1px 3px 1px rgba(0, 0, 0, 0.15);\n",
              "      filter: drop-shadow(0px 1px 2px rgba(0, 0, 0, 0.3));\n",
              "      fill: #FFFFFF;\n",
              "    }\n",
              "  </style>\n",
              "\n",
              "      <script>\n",
              "        const buttonEl =\n",
              "          document.querySelector('#df-3df7a105-40e2-45c3-9e98-23ebd80a0bb4 button.colab-df-convert');\n",
              "        buttonEl.style.display =\n",
              "          google.colab.kernel.accessAllowed ? 'block' : 'none';\n",
              "\n",
              "        async function convertToInteractive(key) {\n",
              "          const element = document.querySelector('#df-3df7a105-40e2-45c3-9e98-23ebd80a0bb4');\n",
              "          const dataTable =\n",
              "            await google.colab.kernel.invokeFunction('convertToInteractive',\n",
              "                                                     [key], {});\n",
              "          if (!dataTable) return;\n",
              "\n",
              "          const docLinkHtml = 'Like what you see? Visit the ' +\n",
              "            '<a target=\"_blank\" href=https://colab.research.google.com/notebooks/data_table.ipynb>data table notebook</a>'\n",
              "            + ' to learn more about interactive tables.';\n",
              "          element.innerHTML = '';\n",
              "          dataTable['output_type'] = 'display_data';\n",
              "          await google.colab.output.renderOutput(dataTable, element);\n",
              "          const docLink = document.createElement('div');\n",
              "          docLink.innerHTML = docLinkHtml;\n",
              "          element.appendChild(docLink);\n",
              "        }\n",
              "      </script>\n",
              "    </div>\n",
              "  </div>\n",
              "  "
            ],
            "text/plain": [
              "              8  0_usual  1_critical  ...  7_not_recom  7_priority  7_recommended\n",
              "0      priority        1           0  ...            0           0              1\n",
              "1      priority        1           0  ...            0           1              0\n",
              "2     not_recom        1           0  ...            1           0              0\n",
              "3      priority        1           0  ...            0           0              1\n",
              "4      priority        1           0  ...            0           1              0\n",
              "..          ...      ...         ...  ...          ...         ...            ...\n",
              "295  spec_prior        1           1  ...            0           1              0\n",
              "296   not_recom        1           1  ...            1           0              0\n",
              "297  spec_prior        1           1  ...            0           0              1\n",
              "298  spec_prior        1           1  ...            0           1              0\n",
              "299   not_recom        1           1  ...            1           0              0\n",
              "\n",
              "[300 rows x 21 columns]"
            ]
          },
          "metadata": {},
          "execution_count": 16
        }
      ]
    },
    {
      "cell_type": "code",
      "source": [
        "X_df21 = df21.drop(columns=8)\n",
        "Y_df21 = df21[8]\n",
        "st21 = pd.DataFrame(data = StandardScaler().fit_transform(X_df21))\n",
        "x_train21 = st21[:-50]\n",
        "x_test21 = st21[:50]"
      ],
      "metadata": {
        "id": "-Po1cHslp_Jb"
      },
      "execution_count": null,
      "outputs": []
    },
    {
      "cell_type": "code",
      "source": [
        "pca = PCA()\n",
        "pca_x_train21 = pca.fit_transform(x_train21)\n",
        "pca_x_test21 = pca.transform(x_test21)\n",
        "explained_variance = pca.explained_variance_ratio_\n",
        "explained_variance"
      ],
      "metadata": {
        "colab": {
          "base_uri": "https://localhost:8080/"
        },
        "id": "On-14BjiuQ7A",
        "outputId": "e9dc4b8f-a803-49c9-b638-66d7d9b9d270"
      },
      "execution_count": null,
      "outputs": [
        {
          "output_type": "execute_result",
          "data": {
            "text/plain": [
              "array([2.21373497e-01, 1.11238090e-01, 8.74969918e-02, 8.46628402e-02,\n",
              "       8.28780074e-02, 8.17709197e-02, 8.12125047e-02, 8.00968946e-02,\n",
              "       7.82913455e-02, 6.26535291e-02, 2.83253793e-02, 6.11828565e-32,\n",
              "       2.98966805e-32, 6.67226081e-33, 4.49062447e-33, 4.19876260e-33,\n",
              "       1.13987109e-33, 2.66348582e-34, 9.73870111e-36, 0.00000000e+00])"
            ]
          },
          "metadata": {},
          "execution_count": 18
        }
      ]
    },
    {
      "cell_type": "code",
      "source": [
        "pca = PCA(0.6)\n",
        "pca_x_train21 = pca.fit_transform(x_train21)\n",
        "pca_x_test21 = pca.transform(x_test21)\n",
        "pca.n_components_"
      ],
      "metadata": {
        "colab": {
          "base_uri": "https://localhost:8080/"
        },
        "id": "i0NqPXiFuaT_",
        "outputId": "0b73435f-5673-4e3b-b366-5456525f4296"
      },
      "execution_count": null,
      "outputs": [
        {
          "output_type": "execute_result",
          "data": {
            "text/plain": [
              "6"
            ]
          },
          "metadata": {},
          "execution_count": 19
        }
      ]
    },
    {
      "cell_type": "code",
      "source": [
        "pca = PCA(0.8)\n",
        "pca_x_train21 = pca.fit_transform(x_train21)\n",
        "pca_x_test21 = pca.transform(x_test21)\n",
        "pca.n_components_"
      ],
      "metadata": {
        "colab": {
          "base_uri": "https://localhost:8080/"
        },
        "id": "z3wmcHGmuhPt",
        "outputId": "4d7902a0-67d8-4627-a4f4-633ea6604ef8"
      },
      "execution_count": null,
      "outputs": [
        {
          "output_type": "execute_result",
          "data": {
            "text/plain": [
              "8"
            ]
          },
          "metadata": {},
          "execution_count": 20
        }
      ]
    },
    {
      "cell_type": "code",
      "source": [
        "pca = PCA(0.98)\n",
        "pca_x_train21 = pca.fit_transform(x_train21)\n",
        "pca_x_test21 = pca.transform(x_test21)\n",
        "pca.n_components_"
      ],
      "metadata": {
        "colab": {
          "base_uri": "https://localhost:8080/"
        },
        "id": "wpgWLmf1ujk3",
        "outputId": "53cacb1b-6a80-4ad5-ed7b-bfa4981a40d7"
      },
      "execution_count": null,
      "outputs": [
        {
          "output_type": "execute_result",
          "data": {
            "text/plain": [
              "11"
            ]
          },
          "metadata": {},
          "execution_count": 21
        }
      ]
    },
    {
      "cell_type": "code",
      "source": [
        "pca = PCA(0.9)\n",
        "pca_x_train21 = pca.fit_transform(x_train21)\n",
        "pca_x_test21 = pca.transform(x_test21)\n",
        "pca.n_components_"
      ],
      "metadata": {
        "colab": {
          "base_uri": "https://localhost:8080/"
        },
        "id": "I7LUX8e6ulbm",
        "outputId": "b99a3bcf-ffd7-45f9-f265-2dc3e6e99824"
      },
      "execution_count": null,
      "outputs": [
        {
          "output_type": "execute_result",
          "data": {
            "text/plain": [
              "9"
            ]
          },
          "metadata": {},
          "execution_count": 22
        }
      ]
    },
    {
      "cell_type": "markdown",
      "source": [
        "###Lab 2, part 2"
      ],
      "metadata": {
        "id": "otdGIaKCpY5O"
      }
    },
    {
      "cell_type": "code",
      "source": [
        "file_url22 = \"https://raw.githubusercontent.com/Alexandra-Kovalenko1/data/main/MN09-Kovalenko_lab2.csv\"\n",
        "df22 = pd.read_csv(file_url22, sep=';', decimal=',', header=None)\n",
        "df22"
      ],
      "metadata": {
        "colab": {
          "base_uri": "https://localhost:8080/",
          "height": 423
        },
        "id": "PGngjlixcO4H",
        "outputId": "0b75b51e-1f2e-45f9-dede-df9f74fccfbd"
      },
      "execution_count": null,
      "outputs": [
        {
          "output_type": "execute_result",
          "data": {
            "text/html": [
              "\n",
              "  <div id=\"df-55909652-accc-4ce5-821a-d6de84896774\">\n",
              "    <div class=\"colab-df-container\">\n",
              "      <div>\n",
              "<style scoped>\n",
              "    .dataframe tbody tr th:only-of-type {\n",
              "        vertical-align: middle;\n",
              "    }\n",
              "\n",
              "    .dataframe tbody tr th {\n",
              "        vertical-align: top;\n",
              "    }\n",
              "\n",
              "    .dataframe thead th {\n",
              "        text-align: right;\n",
              "    }\n",
              "</style>\n",
              "<table border=\"1\" class=\"dataframe\">\n",
              "  <thead>\n",
              "    <tr style=\"text-align: right;\">\n",
              "      <th></th>\n",
              "      <th>0</th>\n",
              "      <th>1</th>\n",
              "      <th>2</th>\n",
              "      <th>3</th>\n",
              "      <th>4</th>\n",
              "      <th>5</th>\n",
              "      <th>6</th>\n",
              "      <th>7</th>\n",
              "    </tr>\n",
              "  </thead>\n",
              "  <tbody>\n",
              "    <tr>\n",
              "      <th>0</th>\n",
              "      <td>0.395</td>\n",
              "      <td>0.295</td>\n",
              "      <td>0.095</td>\n",
              "      <td>0.2725</td>\n",
              "      <td>0.1150</td>\n",
              "      <td>0.0625</td>\n",
              "      <td>0.0850</td>\n",
              "      <td>8</td>\n",
              "    </tr>\n",
              "    <tr>\n",
              "      <th>1</th>\n",
              "      <td>0.395</td>\n",
              "      <td>0.270</td>\n",
              "      <td>0.100</td>\n",
              "      <td>0.2985</td>\n",
              "      <td>0.1445</td>\n",
              "      <td>0.0610</td>\n",
              "      <td>0.0820</td>\n",
              "      <td>5</td>\n",
              "    </tr>\n",
              "    <tr>\n",
              "      <th>2</th>\n",
              "      <td>0.400</td>\n",
              "      <td>0.290</td>\n",
              "      <td>0.100</td>\n",
              "      <td>0.2675</td>\n",
              "      <td>0.1205</td>\n",
              "      <td>0.0605</td>\n",
              "      <td>0.0765</td>\n",
              "      <td>5</td>\n",
              "    </tr>\n",
              "    <tr>\n",
              "      <th>3</th>\n",
              "      <td>0.405</td>\n",
              "      <td>0.285</td>\n",
              "      <td>0.090</td>\n",
              "      <td>0.2645</td>\n",
              "      <td>0.1265</td>\n",
              "      <td>0.0505</td>\n",
              "      <td>0.0750</td>\n",
              "      <td>6</td>\n",
              "    </tr>\n",
              "    <tr>\n",
              "      <th>4</th>\n",
              "      <td>0.410</td>\n",
              "      <td>0.335</td>\n",
              "      <td>0.110</td>\n",
              "      <td>0.3300</td>\n",
              "      <td>0.1570</td>\n",
              "      <td>0.0705</td>\n",
              "      <td>0.1700</td>\n",
              "      <td>7</td>\n",
              "    </tr>\n",
              "    <tr>\n",
              "      <th>...</th>\n",
              "      <td>...</td>\n",
              "      <td>...</td>\n",
              "      <td>...</td>\n",
              "      <td>...</td>\n",
              "      <td>...</td>\n",
              "      <td>...</td>\n",
              "      <td>...</td>\n",
              "      <td>...</td>\n",
              "    </tr>\n",
              "    <tr>\n",
              "      <th>295</th>\n",
              "      <td>0.365</td>\n",
              "      <td>0.270</td>\n",
              "      <td>0.085</td>\n",
              "      <td>0.2225</td>\n",
              "      <td>0.0935</td>\n",
              "      <td>0.0525</td>\n",
              "      <td>0.0660</td>\n",
              "      <td>7</td>\n",
              "    </tr>\n",
              "    <tr>\n",
              "      <th>296</th>\n",
              "      <td>0.370</td>\n",
              "      <td>0.270</td>\n",
              "      <td>0.095</td>\n",
              "      <td>0.2175</td>\n",
              "      <td>0.0970</td>\n",
              "      <td>0.0460</td>\n",
              "      <td>0.0650</td>\n",
              "      <td>6</td>\n",
              "    </tr>\n",
              "    <tr>\n",
              "      <th>297</th>\n",
              "      <td>0.375</td>\n",
              "      <td>0.280</td>\n",
              "      <td>0.080</td>\n",
              "      <td>0.2165</td>\n",
              "      <td>0.0935</td>\n",
              "      <td>0.0925</td>\n",
              "      <td>0.0700</td>\n",
              "      <td>7</td>\n",
              "    </tr>\n",
              "    <tr>\n",
              "      <th>298</th>\n",
              "      <td>0.380</td>\n",
              "      <td>0.285</td>\n",
              "      <td>0.095</td>\n",
              "      <td>0.2430</td>\n",
              "      <td>0.0895</td>\n",
              "      <td>0.0665</td>\n",
              "      <td>0.0750</td>\n",
              "      <td>7</td>\n",
              "    </tr>\n",
              "    <tr>\n",
              "      <th>299</th>\n",
              "      <td>0.380</td>\n",
              "      <td>0.290</td>\n",
              "      <td>0.100</td>\n",
              "      <td>0.2370</td>\n",
              "      <td>0.1080</td>\n",
              "      <td>0.0395</td>\n",
              "      <td>0.0820</td>\n",
              "      <td>6</td>\n",
              "    </tr>\n",
              "  </tbody>\n",
              "</table>\n",
              "<p>300 rows × 8 columns</p>\n",
              "</div>\n",
              "      <button class=\"colab-df-convert\" onclick=\"convertToInteractive('df-55909652-accc-4ce5-821a-d6de84896774')\"\n",
              "              title=\"Convert this dataframe to an interactive table.\"\n",
              "              style=\"display:none;\">\n",
              "        \n",
              "  <svg xmlns=\"http://www.w3.org/2000/svg\" height=\"24px\"viewBox=\"0 0 24 24\"\n",
              "       width=\"24px\">\n",
              "    <path d=\"M0 0h24v24H0V0z\" fill=\"none\"/>\n",
              "    <path d=\"M18.56 5.44l.94 2.06.94-2.06 2.06-.94-2.06-.94-.94-2.06-.94 2.06-2.06.94zm-11 1L8.5 8.5l.94-2.06 2.06-.94-2.06-.94L8.5 2.5l-.94 2.06-2.06.94zm10 10l.94 2.06.94-2.06 2.06-.94-2.06-.94-.94-2.06-.94 2.06-2.06.94z\"/><path d=\"M17.41 7.96l-1.37-1.37c-.4-.4-.92-.59-1.43-.59-.52 0-1.04.2-1.43.59L10.3 9.45l-7.72 7.72c-.78.78-.78 2.05 0 2.83L4 21.41c.39.39.9.59 1.41.59.51 0 1.02-.2 1.41-.59l7.78-7.78 2.81-2.81c.8-.78.8-2.07 0-2.86zM5.41 20L4 18.59l7.72-7.72 1.47 1.35L5.41 20z\"/>\n",
              "  </svg>\n",
              "      </button>\n",
              "      \n",
              "  <style>\n",
              "    .colab-df-container {\n",
              "      display:flex;\n",
              "      flex-wrap:wrap;\n",
              "      gap: 12px;\n",
              "    }\n",
              "\n",
              "    .colab-df-convert {\n",
              "      background-color: #E8F0FE;\n",
              "      border: none;\n",
              "      border-radius: 50%;\n",
              "      cursor: pointer;\n",
              "      display: none;\n",
              "      fill: #1967D2;\n",
              "      height: 32px;\n",
              "      padding: 0 0 0 0;\n",
              "      width: 32px;\n",
              "    }\n",
              "\n",
              "    .colab-df-convert:hover {\n",
              "      background-color: #E2EBFA;\n",
              "      box-shadow: 0px 1px 2px rgba(60, 64, 67, 0.3), 0px 1px 3px 1px rgba(60, 64, 67, 0.15);\n",
              "      fill: #174EA6;\n",
              "    }\n",
              "\n",
              "    [theme=dark] .colab-df-convert {\n",
              "      background-color: #3B4455;\n",
              "      fill: #D2E3FC;\n",
              "    }\n",
              "\n",
              "    [theme=dark] .colab-df-convert:hover {\n",
              "      background-color: #434B5C;\n",
              "      box-shadow: 0px 1px 3px 1px rgba(0, 0, 0, 0.15);\n",
              "      filter: drop-shadow(0px 1px 2px rgba(0, 0, 0, 0.3));\n",
              "      fill: #FFFFFF;\n",
              "    }\n",
              "  </style>\n",
              "\n",
              "      <script>\n",
              "        const buttonEl =\n",
              "          document.querySelector('#df-55909652-accc-4ce5-821a-d6de84896774 button.colab-df-convert');\n",
              "        buttonEl.style.display =\n",
              "          google.colab.kernel.accessAllowed ? 'block' : 'none';\n",
              "\n",
              "        async function convertToInteractive(key) {\n",
              "          const element = document.querySelector('#df-55909652-accc-4ce5-821a-d6de84896774');\n",
              "          const dataTable =\n",
              "            await google.colab.kernel.invokeFunction('convertToInteractive',\n",
              "                                                     [key], {});\n",
              "          if (!dataTable) return;\n",
              "\n",
              "          const docLinkHtml = 'Like what you see? Visit the ' +\n",
              "            '<a target=\"_blank\" href=https://colab.research.google.com/notebooks/data_table.ipynb>data table notebook</a>'\n",
              "            + ' to learn more about interactive tables.';\n",
              "          element.innerHTML = '';\n",
              "          dataTable['output_type'] = 'display_data';\n",
              "          await google.colab.output.renderOutput(dataTable, element);\n",
              "          const docLink = document.createElement('div');\n",
              "          docLink.innerHTML = docLinkHtml;\n",
              "          element.appendChild(docLink);\n",
              "        }\n",
              "      </script>\n",
              "    </div>\n",
              "  </div>\n",
              "  "
            ],
            "text/plain": [
              "         0      1      2       3       4       5       6  7\n",
              "0    0.395  0.295  0.095  0.2725  0.1150  0.0625  0.0850  8\n",
              "1    0.395  0.270  0.100  0.2985  0.1445  0.0610  0.0820  5\n",
              "2    0.400  0.290  0.100  0.2675  0.1205  0.0605  0.0765  5\n",
              "3    0.405  0.285  0.090  0.2645  0.1265  0.0505  0.0750  6\n",
              "4    0.410  0.335  0.110  0.3300  0.1570  0.0705  0.1700  7\n",
              "..     ...    ...    ...     ...     ...     ...     ... ..\n",
              "295  0.365  0.270  0.085  0.2225  0.0935  0.0525  0.0660  7\n",
              "296  0.370  0.270  0.095  0.2175  0.0970  0.0460  0.0650  6\n",
              "297  0.375  0.280  0.080  0.2165  0.0935  0.0925  0.0700  7\n",
              "298  0.380  0.285  0.095  0.2430  0.0895  0.0665  0.0750  7\n",
              "299  0.380  0.290  0.100  0.2370  0.1080  0.0395  0.0820  6\n",
              "\n",
              "[300 rows x 8 columns]"
            ]
          },
          "metadata": {},
          "execution_count": 23
        }
      ]
    },
    {
      "cell_type": "code",
      "source": [
        "X_df22 = df22.drop(columns = 7)\n",
        "Y_df22 = df22[7]\n",
        "st22 = pd.DataFrame(data = StandardScaler().fit_transform(X_df22))\n",
        "x_train22 = st22[:-50]\n",
        "x_test22 = st22[:50]"
      ],
      "metadata": {
        "id": "BK2sMK8QrgeG"
      },
      "execution_count": null,
      "outputs": []
    },
    {
      "cell_type": "code",
      "source": [
        "pca = PCA()\n",
        "pca_x_train22 = pca.fit_transform(x_train22)\n",
        "pca_x_test22 = pca.transform(x_test22)\n",
        "explained_variance = pca.explained_variance_ratio_\n",
        "explained_variance"
      ],
      "metadata": {
        "colab": {
          "base_uri": "https://localhost:8080/"
        },
        "id": "8iHmNVXeupkW",
        "outputId": "6b07c2cd-7676-4a39-dfd5-19fbd6f6a6fe"
      },
      "execution_count": null,
      "outputs": [
        {
          "output_type": "execute_result",
          "data": {
            "text/plain": [
              "array([9.01598073e-01, 4.67604151e-02, 2.49616073e-02, 1.24070606e-02,\n",
              "       1.09434872e-02, 2.45474473e-03, 8.74612073e-04])"
            ]
          },
          "metadata": {},
          "execution_count": 25
        }
      ]
    },
    {
      "cell_type": "code",
      "source": [
        "pca = PCA(0.6)\n",
        "pca_x_train22 = pca.fit_transform(x_train22)\n",
        "pca_x_test22 = pca.transform(x_test22)\n",
        "pca.n_components_"
      ],
      "metadata": {
        "colab": {
          "base_uri": "https://localhost:8080/"
        },
        "id": "7W2Zh9Ufu-Ny",
        "outputId": "9f1417a3-9aac-4dcf-a1c7-d31ec37f2086"
      },
      "execution_count": null,
      "outputs": [
        {
          "output_type": "execute_result",
          "data": {
            "text/plain": [
              "1"
            ]
          },
          "metadata": {},
          "execution_count": 26
        }
      ]
    },
    {
      "cell_type": "code",
      "source": [
        "pca = PCA(0.75)\n",
        "pca_x_train22 = pca.fit_transform(x_train22)\n",
        "pca_x_test22 = pca.transform(x_test22)\n",
        "pca.n_components_"
      ],
      "metadata": {
        "colab": {
          "base_uri": "https://localhost:8080/"
        },
        "id": "Y9ZQs8mHTsEL",
        "outputId": "dc6249b9-5cff-45df-d1d7-a5dae8e10cab"
      },
      "execution_count": null,
      "outputs": [
        {
          "output_type": "execute_result",
          "data": {
            "text/plain": [
              "1"
            ]
          },
          "metadata": {},
          "execution_count": 27
        }
      ]
    },
    {
      "cell_type": "code",
      "source": [
        "pca = PCA(0.8)\n",
        "pca_x_train22 = pca.fit_transform(x_train22)\n",
        "pca_x_test22 = pca.transform(x_test22)\n",
        "pca.n_components_"
      ],
      "metadata": {
        "colab": {
          "base_uri": "https://localhost:8080/"
        },
        "id": "MdeYfrK3u-ta",
        "outputId": "83f1ae45-ff49-4121-8eef-981a6b61926a"
      },
      "execution_count": null,
      "outputs": [
        {
          "output_type": "execute_result",
          "data": {
            "text/plain": [
              "1"
            ]
          },
          "metadata": {},
          "execution_count": 28
        }
      ]
    },
    {
      "cell_type": "code",
      "source": [
        "pca = PCA(0.98)\n",
        "pca_x_train22 = pca.fit_transform(x_train22)\n",
        "pca_x_test22 = pca.transform(x_test22)\n",
        "pca.n_components_"
      ],
      "metadata": {
        "colab": {
          "base_uri": "https://localhost:8080/"
        },
        "id": "1jKLnaoiu_SO",
        "outputId": "6d28f721-b8ed-479b-fa3c-bf5d5784da31"
      },
      "execution_count": null,
      "outputs": [
        {
          "output_type": "execute_result",
          "data": {
            "text/plain": [
              "4"
            ]
          },
          "metadata": {},
          "execution_count": 29
        }
      ]
    },
    {
      "cell_type": "code",
      "source": [
        "pca = PCA(0.9)\n",
        "pca_x_train22 = pca.fit_transform(x_train22)\n",
        "pca_x_test22 = pca.transform(x_test22)\n",
        "pca.n_components_"
      ],
      "metadata": {
        "colab": {
          "base_uri": "https://localhost:8080/"
        },
        "id": "l0za_e0ou_p7",
        "outputId": "6a20fdda-b4c6-474a-f426-da66a04c0349"
      },
      "execution_count": null,
      "outputs": [
        {
          "output_type": "execute_result",
          "data": {
            "text/plain": [
              "1"
            ]
          },
          "metadata": {},
          "execution_count": 30
        }
      ]
    },
    {
      "cell_type": "markdown",
      "source": [
        "###Lab 3, part 1"
      ],
      "metadata": {
        "id": "bjLVDzhQpaqx"
      }
    },
    {
      "cell_type": "code",
      "source": [
        "file_url3 = \"https://raw.githubusercontent.com/IvanSergeyevichZhuk/ML_KPI/main/Data/Lab3/Part1/MN/MN09-Kovalenko.csv\"\n",
        "df3 = pd.read_csv(file_url3, sep=';', decimal=',',header=None)\n",
        "df3"
      ],
      "metadata": {
        "colab": {
          "base_uri": "https://localhost:8080/",
          "height": 423
        },
        "id": "cILzKvIfcmqC",
        "outputId": "d1fcf1bf-2533-43ee-c2c3-7d81c7575222"
      },
      "execution_count": null,
      "outputs": [
        {
          "output_type": "execute_result",
          "data": {
            "text/html": [
              "\n",
              "  <div id=\"df-0d7d70bf-6296-4266-9776-d3199e0648a5\">\n",
              "    <div class=\"colab-df-container\">\n",
              "      <div>\n",
              "<style scoped>\n",
              "    .dataframe tbody tr th:only-of-type {\n",
              "        vertical-align: middle;\n",
              "    }\n",
              "\n",
              "    .dataframe tbody tr th {\n",
              "        vertical-align: top;\n",
              "    }\n",
              "\n",
              "    .dataframe thead th {\n",
              "        text-align: right;\n",
              "    }\n",
              "</style>\n",
              "<table border=\"1\" class=\"dataframe\">\n",
              "  <thead>\n",
              "    <tr style=\"text-align: right;\">\n",
              "      <th></th>\n",
              "      <th>0</th>\n",
              "      <th>1</th>\n",
              "      <th>2</th>\n",
              "      <th>3</th>\n",
              "      <th>4</th>\n",
              "      <th>5</th>\n",
              "      <th>6</th>\n",
              "      <th>7</th>\n",
              "    </tr>\n",
              "  </thead>\n",
              "  <tbody>\n",
              "    <tr>\n",
              "      <th>0</th>\n",
              "      <td>0.63</td>\n",
              "      <td>0.5</td>\n",
              "      <td>0.175</td>\n",
              "      <td>1.1105</td>\n",
              "      <td>0.467</td>\n",
              "      <td>0.268</td>\n",
              "      <td>0.329</td>\n",
              "      <td>10</td>\n",
              "    </tr>\n",
              "    <tr>\n",
              "      <th>1</th>\n",
              "      <td>0.63</td>\n",
              "      <td>0.455</td>\n",
              "      <td>0.15</td>\n",
              "      <td>1.1315</td>\n",
              "      <td>0.481</td>\n",
              "      <td>0.2745</td>\n",
              "      <td>0.305</td>\n",
              "      <td>9</td>\n",
              "    </tr>\n",
              "    <tr>\n",
              "      <th>2</th>\n",
              "      <td>0.63</td>\n",
              "      <td>0.48</td>\n",
              "      <td>0.15</td>\n",
              "      <td>1.271</td>\n",
              "      <td>0.6605</td>\n",
              "      <td>0.2425</td>\n",
              "      <td>0.31</td>\n",
              "      <td>11</td>\n",
              "    </tr>\n",
              "    <tr>\n",
              "      <th>3</th>\n",
              "      <td>0.63</td>\n",
              "      <td>0.49</td>\n",
              "      <td>0.225</td>\n",
              "      <td>1.336</td>\n",
              "      <td>0.6805</td>\n",
              "      <td>0.259</td>\n",
              "      <td>0.3245</td>\n",
              "      <td>10</td>\n",
              "    </tr>\n",
              "    <tr>\n",
              "      <th>4</th>\n",
              "      <td>0.635</td>\n",
              "      <td>0.505</td>\n",
              "      <td>0.145</td>\n",
              "      <td>1.1345</td>\n",
              "      <td>0.505</td>\n",
              "      <td>0.2655</td>\n",
              "      <td>0.315</td>\n",
              "      <td>10</td>\n",
              "    </tr>\n",
              "    <tr>\n",
              "      <th>...</th>\n",
              "      <td>...</td>\n",
              "      <td>...</td>\n",
              "      <td>...</td>\n",
              "      <td>...</td>\n",
              "      <td>...</td>\n",
              "      <td>...</td>\n",
              "      <td>...</td>\n",
              "      <td>...</td>\n",
              "    </tr>\n",
              "    <tr>\n",
              "      <th>245</th>\n",
              "      <td>0.69</td>\n",
              "      <td>0.55</td>\n",
              "      <td>0.2</td>\n",
              "      <td>1.569</td>\n",
              "      <td>0.687</td>\n",
              "      <td>0.3675</td>\n",
              "      <td>0.46</td>\n",
              "      <td>12</td>\n",
              "    </tr>\n",
              "    <tr>\n",
              "      <th>246</th>\n",
              "      <td>0.7</td>\n",
              "      <td>0.565</td>\n",
              "      <td>0.175</td>\n",
              "      <td>1.8565</td>\n",
              "      <td>0.8445</td>\n",
              "      <td>0.3935</td>\n",
              "      <td>0.54</td>\n",
              "      <td>10</td>\n",
              "    </tr>\n",
              "    <tr>\n",
              "      <th>247</th>\n",
              "      <td>0.7</td>\n",
              "      <td>0.535</td>\n",
              "      <td>0.175</td>\n",
              "      <td>1.773</td>\n",
              "      <td>0.6805</td>\n",
              "      <td>0.48</td>\n",
              "      <td>0.512</td>\n",
              "      <td>15</td>\n",
              "    </tr>\n",
              "    <tr>\n",
              "      <th>248</th>\n",
              "      <td>0.705</td>\n",
              "      <td>0.545</td>\n",
              "      <td>0.17</td>\n",
              "      <td>1.58</td>\n",
              "      <td>0.6435</td>\n",
              "      <td>0.4565</td>\n",
              "      <td>0.265</td>\n",
              "      <td>11</td>\n",
              "    </tr>\n",
              "    <tr>\n",
              "      <th>249</th>\n",
              "      <td>0.71</td>\n",
              "      <td>0.575</td>\n",
              "      <td>0.215</td>\n",
              "      <td>2.009</td>\n",
              "      <td>0.9895</td>\n",
              "      <td>0.4475</td>\n",
              "      <td>0.502</td>\n",
              "      <td>11</td>\n",
              "    </tr>\n",
              "  </tbody>\n",
              "</table>\n",
              "<p>250 rows × 8 columns</p>\n",
              "</div>\n",
              "      <button class=\"colab-df-convert\" onclick=\"convertToInteractive('df-0d7d70bf-6296-4266-9776-d3199e0648a5')\"\n",
              "              title=\"Convert this dataframe to an interactive table.\"\n",
              "              style=\"display:none;\">\n",
              "        \n",
              "  <svg xmlns=\"http://www.w3.org/2000/svg\" height=\"24px\"viewBox=\"0 0 24 24\"\n",
              "       width=\"24px\">\n",
              "    <path d=\"M0 0h24v24H0V0z\" fill=\"none\"/>\n",
              "    <path d=\"M18.56 5.44l.94 2.06.94-2.06 2.06-.94-2.06-.94-.94-2.06-.94 2.06-2.06.94zm-11 1L8.5 8.5l.94-2.06 2.06-.94-2.06-.94L8.5 2.5l-.94 2.06-2.06.94zm10 10l.94 2.06.94-2.06 2.06-.94-2.06-.94-.94-2.06-.94 2.06-2.06.94z\"/><path d=\"M17.41 7.96l-1.37-1.37c-.4-.4-.92-.59-1.43-.59-.52 0-1.04.2-1.43.59L10.3 9.45l-7.72 7.72c-.78.78-.78 2.05 0 2.83L4 21.41c.39.39.9.59 1.41.59.51 0 1.02-.2 1.41-.59l7.78-7.78 2.81-2.81c.8-.78.8-2.07 0-2.86zM5.41 20L4 18.59l7.72-7.72 1.47 1.35L5.41 20z\"/>\n",
              "  </svg>\n",
              "      </button>\n",
              "      \n",
              "  <style>\n",
              "    .colab-df-container {\n",
              "      display:flex;\n",
              "      flex-wrap:wrap;\n",
              "      gap: 12px;\n",
              "    }\n",
              "\n",
              "    .colab-df-convert {\n",
              "      background-color: #E8F0FE;\n",
              "      border: none;\n",
              "      border-radius: 50%;\n",
              "      cursor: pointer;\n",
              "      display: none;\n",
              "      fill: #1967D2;\n",
              "      height: 32px;\n",
              "      padding: 0 0 0 0;\n",
              "      width: 32px;\n",
              "    }\n",
              "\n",
              "    .colab-df-convert:hover {\n",
              "      background-color: #E2EBFA;\n",
              "      box-shadow: 0px 1px 2px rgba(60, 64, 67, 0.3), 0px 1px 3px 1px rgba(60, 64, 67, 0.15);\n",
              "      fill: #174EA6;\n",
              "    }\n",
              "\n",
              "    [theme=dark] .colab-df-convert {\n",
              "      background-color: #3B4455;\n",
              "      fill: #D2E3FC;\n",
              "    }\n",
              "\n",
              "    [theme=dark] .colab-df-convert:hover {\n",
              "      background-color: #434B5C;\n",
              "      box-shadow: 0px 1px 3px 1px rgba(0, 0, 0, 0.15);\n",
              "      filter: drop-shadow(0px 1px 2px rgba(0, 0, 0, 0.3));\n",
              "      fill: #FFFFFF;\n",
              "    }\n",
              "  </style>\n",
              "\n",
              "      <script>\n",
              "        const buttonEl =\n",
              "          document.querySelector('#df-0d7d70bf-6296-4266-9776-d3199e0648a5 button.colab-df-convert');\n",
              "        buttonEl.style.display =\n",
              "          google.colab.kernel.accessAllowed ? 'block' : 'none';\n",
              "\n",
              "        async function convertToInteractive(key) {\n",
              "          const element = document.querySelector('#df-0d7d70bf-6296-4266-9776-d3199e0648a5');\n",
              "          const dataTable =\n",
              "            await google.colab.kernel.invokeFunction('convertToInteractive',\n",
              "                                                     [key], {});\n",
              "          if (!dataTable) return;\n",
              "\n",
              "          const docLinkHtml = 'Like what you see? Visit the ' +\n",
              "            '<a target=\"_blank\" href=https://colab.research.google.com/notebooks/data_table.ipynb>data table notebook</a>'\n",
              "            + ' to learn more about interactive tables.';\n",
              "          element.innerHTML = '';\n",
              "          dataTable['output_type'] = 'display_data';\n",
              "          await google.colab.output.renderOutput(dataTable, element);\n",
              "          const docLink = document.createElement('div');\n",
              "          docLink.innerHTML = docLinkHtml;\n",
              "          element.appendChild(docLink);\n",
              "        }\n",
              "      </script>\n",
              "    </div>\n",
              "  </div>\n",
              "  "
            ],
            "text/plain": [
              "         0      1      2       3       4       5       6   7\n",
              "0     0.63    0.5  0.175  1.1105   0.467   0.268   0.329  10\n",
              "1     0.63  0.455   0.15  1.1315   0.481  0.2745   0.305   9\n",
              "2     0.63   0.48   0.15   1.271  0.6605  0.2425    0.31  11\n",
              "3     0.63   0.49  0.225   1.336  0.6805   0.259  0.3245  10\n",
              "4    0.635  0.505  0.145  1.1345   0.505  0.2655   0.315  10\n",
              "..     ...    ...    ...     ...     ...     ...     ...  ..\n",
              "245   0.69   0.55    0.2   1.569   0.687  0.3675    0.46  12\n",
              "246    0.7  0.565  0.175  1.8565  0.8445  0.3935    0.54  10\n",
              "247    0.7  0.535  0.175   1.773  0.6805    0.48   0.512  15\n",
              "248  0.705  0.545   0.17    1.58  0.6435  0.4565   0.265  11\n",
              "249   0.71  0.575  0.215   2.009  0.9895  0.4475   0.502  11\n",
              "\n",
              "[250 rows x 8 columns]"
            ]
          },
          "metadata": {},
          "execution_count": 31
        }
      ]
    },
    {
      "cell_type": "code",
      "source": [
        "X_df3 = df3.drop(columns = 7)\n",
        "Y_df3 = df3[7]\n",
        "st3 = pd.DataFrame(data = StandardScaler().fit_transform(X_df3))\n",
        "x_train3 = st3[:-50]\n",
        "x_test3 = st3[:50]"
      ],
      "metadata": {
        "id": "--JVu92Jr0Ly"
      },
      "execution_count": null,
      "outputs": []
    },
    {
      "cell_type": "code",
      "source": [
        "pca = PCA()\n",
        "pca_x_train3 = pca.fit_transform(x_train3)\n",
        "pca_x_test3 = pca.transform(x_test3)\n",
        "explained_variance = pca.explained_variance_ratio_\n",
        "explained_variance"
      ],
      "metadata": {
        "colab": {
          "base_uri": "https://localhost:8080/"
        },
        "id": "b7bdZxllvLU5",
        "outputId": "7b76698e-17a5-4701-f46f-6ca23a451027"
      },
      "execution_count": null,
      "outputs": [
        {
          "output_type": "execute_result",
          "data": {
            "text/plain": [
              "array([9.29230505e-01, 2.84282761e-02, 2.03459958e-02, 1.03961246e-02,\n",
              "       8.69158530e-03, 2.23683427e-03, 6.70679000e-04])"
            ]
          },
          "metadata": {},
          "execution_count": 33
        }
      ]
    },
    {
      "cell_type": "code",
      "source": [
        "pca = PCA(0.6)\n",
        "pca_x_train3 = pca.fit_transform(x_train3)\n",
        "pca_x_test3 = pca.transform(x_test3)\n",
        "pca.n_components_"
      ],
      "metadata": {
        "colab": {
          "base_uri": "https://localhost:8080/"
        },
        "id": "Woi9V2gsvQdj",
        "outputId": "0494e1df-17b3-4be5-9065-0d1d3b6bcaff"
      },
      "execution_count": null,
      "outputs": [
        {
          "output_type": "execute_result",
          "data": {
            "text/plain": [
              "1"
            ]
          },
          "metadata": {},
          "execution_count": 34
        }
      ]
    },
    {
      "cell_type": "code",
      "source": [
        "pca = PCA(0.8)\n",
        "pca_x_train3 = pca.fit_transform(x_train3)\n",
        "pca_x_test3 = pca.transform(x_test3)\n",
        "pca.n_components_"
      ],
      "metadata": {
        "colab": {
          "base_uri": "https://localhost:8080/"
        },
        "id": "_zn1M6EwvQ_N",
        "outputId": "142f573a-e419-4193-c519-ebbbf98727a3"
      },
      "execution_count": null,
      "outputs": [
        {
          "output_type": "execute_result",
          "data": {
            "text/plain": [
              "1"
            ]
          },
          "metadata": {},
          "execution_count": 35
        }
      ]
    },
    {
      "cell_type": "code",
      "source": [
        "pca = PCA(0.98)\n",
        "pca_x_train3 = pca.fit_transform(x_train3)\n",
        "pca_x_test3 = pca.transform(x_test3)\n",
        "pca.n_components_"
      ],
      "metadata": {
        "colab": {
          "base_uri": "https://localhost:8080/"
        },
        "id": "iv7Caki8vRgT",
        "outputId": "9eb1cece-7b8c-49dc-e480-1b44b314b96b"
      },
      "execution_count": null,
      "outputs": [
        {
          "output_type": "execute_result",
          "data": {
            "text/plain": [
              "4"
            ]
          },
          "metadata": {},
          "execution_count": 36
        }
      ]
    },
    {
      "cell_type": "code",
      "source": [
        "pca = PCA(0.9)\n",
        "pca_x_train3 = pca.fit_transform(x_train3)\n",
        "pca_x_test3 = pca.transform(x_test3)\n",
        "pca.n_components_"
      ],
      "metadata": {
        "colab": {
          "base_uri": "https://localhost:8080/"
        },
        "id": "vgfy6kdKvRWS",
        "outputId": "366d2940-2be2-4487-803a-6283847f2dae"
      },
      "execution_count": null,
      "outputs": [
        {
          "output_type": "execute_result",
          "data": {
            "text/plain": [
              "1"
            ]
          },
          "metadata": {},
          "execution_count": 37
        }
      ]
    },
    {
      "cell_type": "markdown",
      "metadata": {
        "id": "cSFsSUiJeUz2"
      },
      "source": [
        "#Part 2\n",
        "**Частина 2. Аналіз головних компонент і лінійна регресія.**\n",
        "\n",
        "1. Використовуючи метод РСА, отримайте новий набір даних на основі набору даних для частини №1 лабораторної роботи  № 1. Новий набір даних повинен мати стільки параметрів, щоб їх сумарний внесок в дисперсію був не менше 75%.\n",
        "\n",
        "2. Використовуючи метод кросс-валідації і методи з лабораторної роботи №1, створіть і навчіть модель лінійної регресії на новому наборі даних. Для навчання і тестування моделі використайте стільки ж даних, скільки було використано під час крос валідації у лабораторній роботі №1.\n",
        "\n",
        "3. Порівняйте точність нової моделі з точністю моделі отриманої використанням алгоритму крос-валідації у частині №1 лабораторної роботи №1."
      ]
    },
    {
      "cell_type": "code",
      "source": [
        "import pandas as pd\n",
        "import numpy as np\n",
        "import seaborn as sns\n",
        "from matplotlib import pyplot as plt\n",
        "import plotly.graph_objects as go\n",
        "from plotly.subplots import make_subplots\n",
        "import random\n",
        "from sklearn.decomposition import PCA\n",
        "from sklearn.preprocessing import StandardScaler\n",
        "from sklearn.metrics import r2_score"
      ],
      "metadata": {
        "id": "LUczM1vy4Ehu"
      },
      "execution_count": null,
      "outputs": []
    },
    {
      "cell_type": "code",
      "source": [
        "file_url11 = \"https://raw.githubusercontent.com/IvanSergeyevichZhuk/ML_KPI/main/Data/Lab1/Part1/MN/MN09-Kovalenko.csv\"\n",
        "df11 = pd.read_csv(file_url11, sep=';', decimal=',',header=None)\n",
        "df11"
      ],
      "metadata": {
        "colab": {
          "base_uri": "https://localhost:8080/",
          "height": 423
        },
        "id": "4kZYuJKCv71a",
        "outputId": "40c7c9d8-73fd-4ece-f4d7-984b74d32797"
      },
      "execution_count": null,
      "outputs": [
        {
          "output_type": "execute_result",
          "data": {
            "text/html": [
              "\n",
              "  <div id=\"df-bb2f6089-8264-44b9-b81b-c086fd17515e\">\n",
              "    <div class=\"colab-df-container\">\n",
              "      <div>\n",
              "<style scoped>\n",
              "    .dataframe tbody tr th:only-of-type {\n",
              "        vertical-align: middle;\n",
              "    }\n",
              "\n",
              "    .dataframe tbody tr th {\n",
              "        vertical-align: top;\n",
              "    }\n",
              "\n",
              "    .dataframe thead th {\n",
              "        text-align: right;\n",
              "    }\n",
              "</style>\n",
              "<table border=\"1\" class=\"dataframe\">\n",
              "  <thead>\n",
              "    <tr style=\"text-align: right;\">\n",
              "      <th></th>\n",
              "      <th>0</th>\n",
              "      <th>1</th>\n",
              "      <th>2</th>\n",
              "      <th>3</th>\n",
              "      <th>4</th>\n",
              "      <th>5</th>\n",
              "      <th>6</th>\n",
              "      <th>7</th>\n",
              "    </tr>\n",
              "  </thead>\n",
              "  <tbody>\n",
              "    <tr>\n",
              "      <th>0</th>\n",
              "      <td>0.63</td>\n",
              "      <td>0.5</td>\n",
              "      <td>0.175</td>\n",
              "      <td>1.1105</td>\n",
              "      <td>0.467</td>\n",
              "      <td>0.268</td>\n",
              "      <td>0.329</td>\n",
              "      <td>10</td>\n",
              "    </tr>\n",
              "    <tr>\n",
              "      <th>1</th>\n",
              "      <td>0.63</td>\n",
              "      <td>0.455</td>\n",
              "      <td>0.15</td>\n",
              "      <td>1.1315</td>\n",
              "      <td>0.481</td>\n",
              "      <td>0.2745</td>\n",
              "      <td>0.305</td>\n",
              "      <td>9</td>\n",
              "    </tr>\n",
              "    <tr>\n",
              "      <th>2</th>\n",
              "      <td>0.63</td>\n",
              "      <td>0.48</td>\n",
              "      <td>0.15</td>\n",
              "      <td>1.271</td>\n",
              "      <td>0.6605</td>\n",
              "      <td>0.2425</td>\n",
              "      <td>0.31</td>\n",
              "      <td>11</td>\n",
              "    </tr>\n",
              "    <tr>\n",
              "      <th>3</th>\n",
              "      <td>0.63</td>\n",
              "      <td>0.49</td>\n",
              "      <td>0.225</td>\n",
              "      <td>1.336</td>\n",
              "      <td>0.6805</td>\n",
              "      <td>0.259</td>\n",
              "      <td>0.3245</td>\n",
              "      <td>10</td>\n",
              "    </tr>\n",
              "    <tr>\n",
              "      <th>4</th>\n",
              "      <td>0.635</td>\n",
              "      <td>0.505</td>\n",
              "      <td>0.145</td>\n",
              "      <td>1.1345</td>\n",
              "      <td>0.505</td>\n",
              "      <td>0.2655</td>\n",
              "      <td>0.315</td>\n",
              "      <td>10</td>\n",
              "    </tr>\n",
              "    <tr>\n",
              "      <th>...</th>\n",
              "      <td>...</td>\n",
              "      <td>...</td>\n",
              "      <td>...</td>\n",
              "      <td>...</td>\n",
              "      <td>...</td>\n",
              "      <td>...</td>\n",
              "      <td>...</td>\n",
              "      <td>...</td>\n",
              "    </tr>\n",
              "    <tr>\n",
              "      <th>245</th>\n",
              "      <td>0.69</td>\n",
              "      <td>0.55</td>\n",
              "      <td>0.2</td>\n",
              "      <td>1.569</td>\n",
              "      <td>0.687</td>\n",
              "      <td>0.3675</td>\n",
              "      <td>0.46</td>\n",
              "      <td>12</td>\n",
              "    </tr>\n",
              "    <tr>\n",
              "      <th>246</th>\n",
              "      <td>0.7</td>\n",
              "      <td>0.565</td>\n",
              "      <td>0.175</td>\n",
              "      <td>1.8565</td>\n",
              "      <td>0.8445</td>\n",
              "      <td>0.3935</td>\n",
              "      <td>0.54</td>\n",
              "      <td>10</td>\n",
              "    </tr>\n",
              "    <tr>\n",
              "      <th>247</th>\n",
              "      <td>0.7</td>\n",
              "      <td>0.535</td>\n",
              "      <td>0.175</td>\n",
              "      <td>1.773</td>\n",
              "      <td>0.6805</td>\n",
              "      <td>0.48</td>\n",
              "      <td>0.512</td>\n",
              "      <td>15</td>\n",
              "    </tr>\n",
              "    <tr>\n",
              "      <th>248</th>\n",
              "      <td>0.705</td>\n",
              "      <td>0.545</td>\n",
              "      <td>0.17</td>\n",
              "      <td>1.58</td>\n",
              "      <td>0.6435</td>\n",
              "      <td>0.4565</td>\n",
              "      <td>0.265</td>\n",
              "      <td>11</td>\n",
              "    </tr>\n",
              "    <tr>\n",
              "      <th>249</th>\n",
              "      <td>0.71</td>\n",
              "      <td>0.575</td>\n",
              "      <td>0.215</td>\n",
              "      <td>2.009</td>\n",
              "      <td>0.9895</td>\n",
              "      <td>0.4475</td>\n",
              "      <td>0.502</td>\n",
              "      <td>11</td>\n",
              "    </tr>\n",
              "  </tbody>\n",
              "</table>\n",
              "<p>250 rows × 8 columns</p>\n",
              "</div>\n",
              "      <button class=\"colab-df-convert\" onclick=\"convertToInteractive('df-bb2f6089-8264-44b9-b81b-c086fd17515e')\"\n",
              "              title=\"Convert this dataframe to an interactive table.\"\n",
              "              style=\"display:none;\">\n",
              "        \n",
              "  <svg xmlns=\"http://www.w3.org/2000/svg\" height=\"24px\"viewBox=\"0 0 24 24\"\n",
              "       width=\"24px\">\n",
              "    <path d=\"M0 0h24v24H0V0z\" fill=\"none\"/>\n",
              "    <path d=\"M18.56 5.44l.94 2.06.94-2.06 2.06-.94-2.06-.94-.94-2.06-.94 2.06-2.06.94zm-11 1L8.5 8.5l.94-2.06 2.06-.94-2.06-.94L8.5 2.5l-.94 2.06-2.06.94zm10 10l.94 2.06.94-2.06 2.06-.94-2.06-.94-.94-2.06-.94 2.06-2.06.94z\"/><path d=\"M17.41 7.96l-1.37-1.37c-.4-.4-.92-.59-1.43-.59-.52 0-1.04.2-1.43.59L10.3 9.45l-7.72 7.72c-.78.78-.78 2.05 0 2.83L4 21.41c.39.39.9.59 1.41.59.51 0 1.02-.2 1.41-.59l7.78-7.78 2.81-2.81c.8-.78.8-2.07 0-2.86zM5.41 20L4 18.59l7.72-7.72 1.47 1.35L5.41 20z\"/>\n",
              "  </svg>\n",
              "      </button>\n",
              "      \n",
              "  <style>\n",
              "    .colab-df-container {\n",
              "      display:flex;\n",
              "      flex-wrap:wrap;\n",
              "      gap: 12px;\n",
              "    }\n",
              "\n",
              "    .colab-df-convert {\n",
              "      background-color: #E8F0FE;\n",
              "      border: none;\n",
              "      border-radius: 50%;\n",
              "      cursor: pointer;\n",
              "      display: none;\n",
              "      fill: #1967D2;\n",
              "      height: 32px;\n",
              "      padding: 0 0 0 0;\n",
              "      width: 32px;\n",
              "    }\n",
              "\n",
              "    .colab-df-convert:hover {\n",
              "      background-color: #E2EBFA;\n",
              "      box-shadow: 0px 1px 2px rgba(60, 64, 67, 0.3), 0px 1px 3px 1px rgba(60, 64, 67, 0.15);\n",
              "      fill: #174EA6;\n",
              "    }\n",
              "\n",
              "    [theme=dark] .colab-df-convert {\n",
              "      background-color: #3B4455;\n",
              "      fill: #D2E3FC;\n",
              "    }\n",
              "\n",
              "    [theme=dark] .colab-df-convert:hover {\n",
              "      background-color: #434B5C;\n",
              "      box-shadow: 0px 1px 3px 1px rgba(0, 0, 0, 0.15);\n",
              "      filter: drop-shadow(0px 1px 2px rgba(0, 0, 0, 0.3));\n",
              "      fill: #FFFFFF;\n",
              "    }\n",
              "  </style>\n",
              "\n",
              "      <script>\n",
              "        const buttonEl =\n",
              "          document.querySelector('#df-bb2f6089-8264-44b9-b81b-c086fd17515e button.colab-df-convert');\n",
              "        buttonEl.style.display =\n",
              "          google.colab.kernel.accessAllowed ? 'block' : 'none';\n",
              "\n",
              "        async function convertToInteractive(key) {\n",
              "          const element = document.querySelector('#df-bb2f6089-8264-44b9-b81b-c086fd17515e');\n",
              "          const dataTable =\n",
              "            await google.colab.kernel.invokeFunction('convertToInteractive',\n",
              "                                                     [key], {});\n",
              "          if (!dataTable) return;\n",
              "\n",
              "          const docLinkHtml = 'Like what you see? Visit the ' +\n",
              "            '<a target=\"_blank\" href=https://colab.research.google.com/notebooks/data_table.ipynb>data table notebook</a>'\n",
              "            + ' to learn more about interactive tables.';\n",
              "          element.innerHTML = '';\n",
              "          dataTable['output_type'] = 'display_data';\n",
              "          await google.colab.output.renderOutput(dataTable, element);\n",
              "          const docLink = document.createElement('div');\n",
              "          docLink.innerHTML = docLinkHtml;\n",
              "          element.appendChild(docLink);\n",
              "        }\n",
              "      </script>\n",
              "    </div>\n",
              "  </div>\n",
              "  "
            ],
            "text/plain": [
              "         0      1      2       3       4       5       6   7\n",
              "0     0.63    0.5  0.175  1.1105   0.467   0.268   0.329  10\n",
              "1     0.63  0.455   0.15  1.1315   0.481  0.2745   0.305   9\n",
              "2     0.63   0.48   0.15   1.271  0.6605  0.2425    0.31  11\n",
              "3     0.63   0.49  0.225   1.336  0.6805   0.259  0.3245  10\n",
              "4    0.635  0.505  0.145  1.1345   0.505  0.2655   0.315  10\n",
              "..     ...    ...    ...     ...     ...     ...     ...  ..\n",
              "245   0.69   0.55    0.2   1.569   0.687  0.3675    0.46  12\n",
              "246    0.7  0.565  0.175  1.8565  0.8445  0.3935    0.54  10\n",
              "247    0.7  0.535  0.175   1.773  0.6805    0.48   0.512  15\n",
              "248  0.705  0.545   0.17    1.58  0.6435  0.4565   0.265  11\n",
              "249   0.71  0.575  0.215   2.009  0.9895  0.4475   0.502  11\n",
              "\n",
              "[250 rows x 8 columns]"
            ]
          },
          "metadata": {},
          "execution_count": 39
        }
      ]
    },
    {
      "cell_type": "markdown",
      "source": [
        "###Methods"
      ],
      "metadata": {
        "id": "lmaf82nM5GNg"
      }
    },
    {
      "cell_type": "code",
      "source": [
        "def fit_MNK(X_train, Y_train):\n",
        "\n",
        "  n = len(X_train)  \n",
        "  y = Y_train\n",
        "  S_y = sum(y)\n",
        "\n",
        "  S_x1 = sum(X_train[0])\n",
        "  S_x2 = sum(X_train[1])\n",
        "  S_x1x2 = sum([X_train[0][i] * X_train[1][i] for i in range(n)])\n",
        "  S_x1_2 = sum([X_train[0][i] ** 2 for i in range(n)])\n",
        "  S_x2_2 = sum([X_train[1][i] ** 2 for i in range(n)])\n",
        "\n",
        "  S_yx1 = sum([y[i] * X_train[0][i] for i in range(n)])\n",
        "  S_yx2 = sum([y[i] * X_train[1][i] for i in range(n)])\n",
        "\n",
        "  A = [[n, S_x1, S_x2],\n",
        "     [S_x1, S_x1_2, S_x1x2],\n",
        "     [S_x2, S_x1x2, S_x2_2]]\n",
        "\n",
        "  B = [S_y, S_yx1, S_yx2]\n",
        "\n",
        "\n",
        "  x = np.linalg.solve(A, B)\n",
        "  return x\n",
        "\n",
        "def predict(x, X_test):\n",
        "  x02 = np.array(X_test[0])\n",
        "  x12 = np.array(X_test[1])\n",
        "\n",
        "  L = x[0] + x[1] * x02 + x[2] *x12 \n",
        "  return L\n"
      ],
      "metadata": {
        "id": "a8GJONCm40-s"
      },
      "execution_count": null,
      "outputs": []
    },
    {
      "cell_type": "code",
      "source": [
        "def k_fold(method, KFV_train, KFV_test):\n",
        "\n",
        "    KFV_x_train = KFV_train.iloc[:,:-1]\n",
        "    KFV_y_train = KFV_train.iloc[:,-1]\n",
        "    KFV_x_test = KFV_test.iloc[:,:-1]\n",
        "    KFV_y_test = KFV_test.iloc[:,-1]\n",
        "\n",
        "    sc = StandardScaler()\n",
        "\n",
        "    st_KFV_x_train  = sc.fit_transform(KFV_x_train)\n",
        "    st_KFV_x_test  = sc.transform(KFV_x_test)\n",
        "\n",
        "    pca = PCA(n_components=2)\n",
        "    pca_KFV_x_train = pca.fit_transform(st_KFV_x_train)\n",
        "    pca_KFV_x_test = pca.transform(st_KFV_x_test)\n",
        "    pca_KFV_x_train = pd.DataFrame(data = pca_KFV_x_train)\n",
        "    pca_KFV_x_test = pd.DataFrame(data = pca_KFV_x_test)\n",
        "\n",
        "    KFV_df = method(pca_KFV_x_train, KFV_y_train)\n",
        "    KFV_predict = predict(KFV_df, pca_KFV_x_test)\n",
        "    metric = r2_score(KFV_y_test, KFV_predict)\n",
        "    print(metric)"
      ],
      "metadata": {
        "id": "KXHMMbC4I2hx"
      },
      "execution_count": null,
      "outputs": []
    },
    {
      "cell_type": "code",
      "source": [
        "S0=(df11[:50]).reset_index(drop=True)\n",
        "S1=(df11[50:100]).reset_index(drop=True)\n",
        "S2=(df11[100:150]).reset_index(drop=True)\n",
        "S3=(df11[150:200]).reset_index(drop=True)\n",
        "S4=(df11[-50:]).reset_index(drop=True)\n",
        "\n",
        "set0=pd.concat([S4,S3,S1,S2], ignore_index=True)\n",
        "set1=pd.concat([S4,S2,S0,S3], ignore_index=True)\n",
        "set2=pd.concat([S1,S0,S4,S3], ignore_index=True)\n",
        "set3=pd.concat([S0,S4,S1,S2], ignore_index=True)\n",
        "set4=pd.concat([S3,S2,S1,S0], ignore_index=True)"
      ],
      "metadata": {
        "id": "lLb8PZr95VzA"
      },
      "execution_count": null,
      "outputs": []
    },
    {
      "cell_type": "code",
      "source": [
        "k_fold(fit_MNK, set0, S0)\n",
        "k_fold(fit_MNK, set1, S1)\n",
        "k_fold(fit_MNK, set2, S2)\n",
        "k_fold(fit_MNK, set3, S3)\n",
        "k_fold(fit_MNK, set4, S4)"
      ],
      "metadata": {
        "colab": {
          "base_uri": "https://localhost:8080/"
        },
        "id": "XrEqXvhR-KCR",
        "outputId": "fafd5928-8bfe-4f11-815b-a534eb70ae0c"
      },
      "execution_count": null,
      "outputs": [
        {
          "output_type": "stream",
          "name": "stdout",
          "text": [
            "0.7883455917485586\n",
            "0.14459591964527285\n",
            "-0.02194302641118351\n",
            "0.16868455733025056\n",
            "0.10774600197116091\n"
          ]
        }
      ]
    },
    {
      "cell_type": "markdown",
      "source": [
        "![tempsnip.png](data:image/png;base64,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)"
      ],
      "metadata": {
        "id": "qFTOOO1lKqNy"
      }
    },
    {
      "cell_type": "markdown",
      "metadata": {
        "id": "ZpI_VhUNE3gi"
      },
      "source": [
        "#Part 3\n",
        "**Частина 3. Аналіз головних компонент і логістична регресія.**\n",
        "\n",
        "1. Використовуючи метод РСА, отримайте новий набір даних на основі набору даних для частини №2 лабораторної роботи  № 1. Новий набір даних повинен мати стільки параметрів, щоб їх сумарний внесок в дисперсію був не менше 75%.\n",
        "\n",
        "2. Використовуючи метод кросс-валідації і методи з лабораторної роботи №1, створіть і навчіть модель логістичної регресії на новому наборі даних. Для навчання і тестування моделі використайте стільки ж даних, скільки було використано під час крос валідації у лабораторній роботі №1.\n",
        "\n",
        "3. Порівняйте результати і точність нової моделі з моделлю, отриманою використанням алгоритму крос-валідації у частині №2 лабораторної роботи №1."
      ]
    },
    {
      "cell_type": "code",
      "source": [
        "import pandas as pd\n",
        "import numpy as np\n",
        "import seaborn as sns\n",
        "from matplotlib import pyplot as plt\n",
        "import plotly.graph_objects as go\n",
        "from plotly.subplots import make_subplots\n",
        "import random\n",
        "from sklearn.decomposition import PCA\n",
        "from sklearn.preprocessing import StandardScaler\n",
        "from sklearn.metrics import r2_score"
      ],
      "metadata": {
        "id": "vjOsyEUILg5u"
      },
      "execution_count": null,
      "outputs": []
    },
    {
      "cell_type": "code",
      "source": [
        "file_url12 = \"https://raw.githubusercontent.com/Alexandra-Kovalenko1/data/main/MN09-Kovalenko_Part2%20(1).csv\"\n",
        "df12 = pd.read_csv(file_url12, sep=';', decimal=',',header=None)\n",
        "df12"
      ],
      "metadata": {
        "colab": {
          "base_uri": "https://localhost:8080/",
          "height": 423
        },
        "id": "EB4l-GpzLmwt",
        "outputId": "79bb897e-13e3-4fda-e484-424e5b8f7e2b"
      },
      "execution_count": null,
      "outputs": [
        {
          "output_type": "execute_result",
          "data": {
            "text/html": [
              "\n",
              "  <div id=\"df-0b01cf33-fc2b-4c58-8545-3db3f7481936\">\n",
              "    <div class=\"colab-df-container\">\n",
              "      <div>\n",
              "<style scoped>\n",
              "    .dataframe tbody tr th:only-of-type {\n",
              "        vertical-align: middle;\n",
              "    }\n",
              "\n",
              "    .dataframe tbody tr th {\n",
              "        vertical-align: top;\n",
              "    }\n",
              "\n",
              "    .dataframe thead th {\n",
              "        text-align: right;\n",
              "    }\n",
              "</style>\n",
              "<table border=\"1\" class=\"dataframe\">\n",
              "  <thead>\n",
              "    <tr style=\"text-align: right;\">\n",
              "      <th></th>\n",
              "      <th>0</th>\n",
              "      <th>1</th>\n",
              "      <th>2</th>\n",
              "      <th>3</th>\n",
              "      <th>4</th>\n",
              "      <th>5</th>\n",
              "      <th>6</th>\n",
              "      <th>7</th>\n",
              "    </tr>\n",
              "  </thead>\n",
              "  <tbody>\n",
              "    <tr>\n",
              "      <th>0</th>\n",
              "      <td>0.625</td>\n",
              "      <td>0.490</td>\n",
              "      <td>0.165</td>\n",
              "      <td>1.1165</td>\n",
              "      <td>0.4895</td>\n",
              "      <td>0.2615</td>\n",
              "      <td>0.3325</td>\n",
              "      <td>0</td>\n",
              "    </tr>\n",
              "    <tr>\n",
              "      <th>1</th>\n",
              "      <td>0.625</td>\n",
              "      <td>0.475</td>\n",
              "      <td>0.160</td>\n",
              "      <td>1.0845</td>\n",
              "      <td>0.5005</td>\n",
              "      <td>0.2355</td>\n",
              "      <td>0.3105</td>\n",
              "      <td>0</td>\n",
              "    </tr>\n",
              "    <tr>\n",
              "      <th>2</th>\n",
              "      <td>0.625</td>\n",
              "      <td>0.500</td>\n",
              "      <td>0.170</td>\n",
              "      <td>1.0985</td>\n",
              "      <td>0.4645</td>\n",
              "      <td>0.2200</td>\n",
              "      <td>0.3540</td>\n",
              "      <td>1</td>\n",
              "    </tr>\n",
              "    <tr>\n",
              "      <th>3</th>\n",
              "      <td>0.625</td>\n",
              "      <td>0.470</td>\n",
              "      <td>0.155</td>\n",
              "      <td>1.1955</td>\n",
              "      <td>0.6430</td>\n",
              "      <td>0.2055</td>\n",
              "      <td>0.3145</td>\n",
              "      <td>0</td>\n",
              "    </tr>\n",
              "    <tr>\n",
              "      <th>4</th>\n",
              "      <td>0.625</td>\n",
              "      <td>0.485</td>\n",
              "      <td>0.175</td>\n",
              "      <td>1.3620</td>\n",
              "      <td>0.6765</td>\n",
              "      <td>0.2615</td>\n",
              "      <td>0.3705</td>\n",
              "      <td>0</td>\n",
              "    </tr>\n",
              "    <tr>\n",
              "      <th>...</th>\n",
              "      <td>...</td>\n",
              "      <td>...</td>\n",
              "      <td>...</td>\n",
              "      <td>...</td>\n",
              "      <td>...</td>\n",
              "      <td>...</td>\n",
              "      <td>...</td>\n",
              "      <td>...</td>\n",
              "    </tr>\n",
              "    <tr>\n",
              "      <th>295</th>\n",
              "      <td>0.725</td>\n",
              "      <td>0.570</td>\n",
              "      <td>0.205</td>\n",
              "      <td>1.6195</td>\n",
              "      <td>0.7440</td>\n",
              "      <td>0.3150</td>\n",
              "      <td>0.4880</td>\n",
              "      <td>0</td>\n",
              "    </tr>\n",
              "    <tr>\n",
              "      <th>296</th>\n",
              "      <td>0.750</td>\n",
              "      <td>0.550</td>\n",
              "      <td>0.195</td>\n",
              "      <td>1.8325</td>\n",
              "      <td>0.8300</td>\n",
              "      <td>0.3660</td>\n",
              "      <td>0.4400</td>\n",
              "      <td>0</td>\n",
              "    </tr>\n",
              "    <tr>\n",
              "      <th>297</th>\n",
              "      <td>0.760</td>\n",
              "      <td>0.605</td>\n",
              "      <td>0.215</td>\n",
              "      <td>2.1730</td>\n",
              "      <td>0.8010</td>\n",
              "      <td>0.4915</td>\n",
              "      <td>0.6460</td>\n",
              "      <td>0</td>\n",
              "    </tr>\n",
              "    <tr>\n",
              "      <th>298</th>\n",
              "      <td>0.135</td>\n",
              "      <td>0.130</td>\n",
              "      <td>0.040</td>\n",
              "      <td>0.0290</td>\n",
              "      <td>0.0125</td>\n",
              "      <td>0.0065</td>\n",
              "      <td>0.0080</td>\n",
              "      <td>1</td>\n",
              "    </tr>\n",
              "    <tr>\n",
              "      <th>299</th>\n",
              "      <td>0.160</td>\n",
              "      <td>0.110</td>\n",
              "      <td>0.025</td>\n",
              "      <td>0.0195</td>\n",
              "      <td>0.0075</td>\n",
              "      <td>0.0050</td>\n",
              "      <td>0.0060</td>\n",
              "      <td>1</td>\n",
              "    </tr>\n",
              "  </tbody>\n",
              "</table>\n",
              "<p>300 rows × 8 columns</p>\n",
              "</div>\n",
              "      <button class=\"colab-df-convert\" onclick=\"convertToInteractive('df-0b01cf33-fc2b-4c58-8545-3db3f7481936')\"\n",
              "              title=\"Convert this dataframe to an interactive table.\"\n",
              "              style=\"display:none;\">\n",
              "        \n",
              "  <svg xmlns=\"http://www.w3.org/2000/svg\" height=\"24px\"viewBox=\"0 0 24 24\"\n",
              "       width=\"24px\">\n",
              "    <path d=\"M0 0h24v24H0V0z\" fill=\"none\"/>\n",
              "    <path d=\"M18.56 5.44l.94 2.06.94-2.06 2.06-.94-2.06-.94-.94-2.06-.94 2.06-2.06.94zm-11 1L8.5 8.5l.94-2.06 2.06-.94-2.06-.94L8.5 2.5l-.94 2.06-2.06.94zm10 10l.94 2.06.94-2.06 2.06-.94-2.06-.94-.94-2.06-.94 2.06-2.06.94z\"/><path d=\"M17.41 7.96l-1.37-1.37c-.4-.4-.92-.59-1.43-.59-.52 0-1.04.2-1.43.59L10.3 9.45l-7.72 7.72c-.78.78-.78 2.05 0 2.83L4 21.41c.39.39.9.59 1.41.59.51 0 1.02-.2 1.41-.59l7.78-7.78 2.81-2.81c.8-.78.8-2.07 0-2.86zM5.41 20L4 18.59l7.72-7.72 1.47 1.35L5.41 20z\"/>\n",
              "  </svg>\n",
              "      </button>\n",
              "      \n",
              "  <style>\n",
              "    .colab-df-container {\n",
              "      display:flex;\n",
              "      flex-wrap:wrap;\n",
              "      gap: 12px;\n",
              "    }\n",
              "\n",
              "    .colab-df-convert {\n",
              "      background-color: #E8F0FE;\n",
              "      border: none;\n",
              "      border-radius: 50%;\n",
              "      cursor: pointer;\n",
              "      display: none;\n",
              "      fill: #1967D2;\n",
              "      height: 32px;\n",
              "      padding: 0 0 0 0;\n",
              "      width: 32px;\n",
              "    }\n",
              "\n",
              "    .colab-df-convert:hover {\n",
              "      background-color: #E2EBFA;\n",
              "      box-shadow: 0px 1px 2px rgba(60, 64, 67, 0.3), 0px 1px 3px 1px rgba(60, 64, 67, 0.15);\n",
              "      fill: #174EA6;\n",
              "    }\n",
              "\n",
              "    [theme=dark] .colab-df-convert {\n",
              "      background-color: #3B4455;\n",
              "      fill: #D2E3FC;\n",
              "    }\n",
              "\n",
              "    [theme=dark] .colab-df-convert:hover {\n",
              "      background-color: #434B5C;\n",
              "      box-shadow: 0px 1px 3px 1px rgba(0, 0, 0, 0.15);\n",
              "      filter: drop-shadow(0px 1px 2px rgba(0, 0, 0, 0.3));\n",
              "      fill: #FFFFFF;\n",
              "    }\n",
              "  </style>\n",
              "\n",
              "      <script>\n",
              "        const buttonEl =\n",
              "          document.querySelector('#df-0b01cf33-fc2b-4c58-8545-3db3f7481936 button.colab-df-convert');\n",
              "        buttonEl.style.display =\n",
              "          google.colab.kernel.accessAllowed ? 'block' : 'none';\n",
              "\n",
              "        async function convertToInteractive(key) {\n",
              "          const element = document.querySelector('#df-0b01cf33-fc2b-4c58-8545-3db3f7481936');\n",
              "          const dataTable =\n",
              "            await google.colab.kernel.invokeFunction('convertToInteractive',\n",
              "                                                     [key], {});\n",
              "          if (!dataTable) return;\n",
              "\n",
              "          const docLinkHtml = 'Like what you see? Visit the ' +\n",
              "            '<a target=\"_blank\" href=https://colab.research.google.com/notebooks/data_table.ipynb>data table notebook</a>'\n",
              "            + ' to learn more about interactive tables.';\n",
              "          element.innerHTML = '';\n",
              "          dataTable['output_type'] = 'display_data';\n",
              "          await google.colab.output.renderOutput(dataTable, element);\n",
              "          const docLink = document.createElement('div');\n",
              "          docLink.innerHTML = docLinkHtml;\n",
              "          element.appendChild(docLink);\n",
              "        }\n",
              "      </script>\n",
              "    </div>\n",
              "  </div>\n",
              "  "
            ],
            "text/plain": [
              "         0      1      2       3       4       5       6  7\n",
              "0    0.625  0.490  0.165  1.1165  0.4895  0.2615  0.3325  0\n",
              "1    0.625  0.475  0.160  1.0845  0.5005  0.2355  0.3105  0\n",
              "2    0.625  0.500  0.170  1.0985  0.4645  0.2200  0.3540  1\n",
              "3    0.625  0.470  0.155  1.1955  0.6430  0.2055  0.3145  0\n",
              "4    0.625  0.485  0.175  1.3620  0.6765  0.2615  0.3705  0\n",
              "..     ...    ...    ...     ...     ...     ...     ... ..\n",
              "295  0.725  0.570  0.205  1.6195  0.7440  0.3150  0.4880  0\n",
              "296  0.750  0.550  0.195  1.8325  0.8300  0.3660  0.4400  0\n",
              "297  0.760  0.605  0.215  2.1730  0.8010  0.4915  0.6460  0\n",
              "298  0.135  0.130  0.040  0.0290  0.0125  0.0065  0.0080  1\n",
              "299  0.160  0.110  0.025  0.0195  0.0075  0.0050  0.0060  1\n",
              "\n",
              "[300 rows x 8 columns]"
            ]
          },
          "metadata": {},
          "execution_count": 45
        }
      ]
    },
    {
      "cell_type": "code",
      "source": [
        "S0=(df12[:50]).reset_index(drop=True)\n",
        "S1=(df12[50:100]).reset_index(drop=True)\n",
        "S2=(df12[100:150]).reset_index(drop=True)\n",
        "S3=(df12[150:200]).reset_index(drop=True)\n",
        "S4=(df12[-50:]).reset_index(drop=True)\n",
        "\n",
        "set0=pd.concat([S4,S3,S1,S2], ignore_index=True)\n",
        "set1=pd.concat([S4,S2,S0,S3], ignore_index=True)\n",
        "set2=pd.concat([S1,S0,S4,S3], ignore_index=True)\n",
        "set3=pd.concat([S0,S4,S1,S2], ignore_index=True)\n",
        "set4=pd.concat([S3,S2,S1,S0], ignore_index=True)"
      ],
      "metadata": {
        "id": "lrkeK0cTSmsX"
      },
      "execution_count": null,
      "outputs": []
    },
    {
      "cell_type": "markdown",
      "source": [
        "###Method"
      ],
      "metadata": {
        "id": "N_p8rVrVL6Vb"
      }
    },
    {
      "cell_type": "code",
      "source": [
        "def fit_MGD_sigmoid(X, Y):\n",
        "\n",
        "  theeta0 = 0\n",
        "  theeta1 = 0\n",
        "\n",
        "\n",
        "  a = 0.0001  \n",
        "  iter = 10000\n",
        "  n = float(len(X[0])) \n",
        "  result = np.zeros(iter)\n",
        "\n",
        "  for i in range(iter): \n",
        "      predict = theeta0 + theeta1*X[0] \n",
        "      d = predict - Y\n",
        "      \n",
        "      cost = (1/2 * n) * sum(d * d) \n",
        "\n",
        "      result[i] =  cost  \n",
        "       \n",
        "      t_1 = (1/n) * sum(d) \n",
        "      t_2 = (1/n) * sum(X[0] * (d)) \n",
        "    \n",
        "      theeta0 = theeta0 - a * t_1 \n",
        "      theeta1 = theeta1 - a * t_2 \n",
        "\n",
        "      theeta = np.array([theeta0, theeta1]) \n",
        "\n",
        "  return theeta"
      ],
      "metadata": {
        "id": "PT1eHgFELuc8"
      },
      "execution_count": null,
      "outputs": []
    },
    {
      "cell_type": "code",
      "source": [
        "def predict_sigmoid(x, X_test):\n",
        "  x02 = np.array(X_test[0])\n",
        "\n",
        "  predict = x[0] + x[1] * x02 \n",
        "  return predict"
      ],
      "metadata": {
        "id": "Pj8793mrPF2z"
      },
      "execution_count": null,
      "outputs": []
    },
    {
      "cell_type": "code",
      "source": [
        "def classification(predict):\n",
        "  y_pred = 1/(1+np.exp(-predict))\n",
        "  return y_pred"
      ],
      "metadata": {
        "id": "E000IchXPeuS"
      },
      "execution_count": null,
      "outputs": []
    },
    {
      "cell_type": "code",
      "source": [
        "def k_fold(method, KFV_train, KFV_test):\n",
        "\n",
        "    KFV_x_train = KFV_train.iloc[:,:-1]\n",
        "    KFV_y_train = KFV_train.iloc[:,-1]\n",
        "    KFV_x_test = KFV_test.iloc[:,:-1]\n",
        "    KFV_y_test = KFV_test.iloc[:,-1]\n",
        "\n",
        "    sc = StandardScaler()\n",
        "\n",
        "    st_KFV_x_train  = sc.fit_transform(KFV_x_train)\n",
        "    st_KFV_x_test  = sc.transform(KFV_x_test)\n",
        "\n",
        "    pca = PCA(n_components=1)\n",
        "\n",
        "    pca_KFV_x_train = pca.fit_transform(st_KFV_x_train)\n",
        "    pca_KFV_x_test = pca.transform(st_KFV_x_test)\n",
        "    pca_KFV_x_train = pd.DataFrame(data = pca_KFV_x_train)\n",
        "    pca_KFV_x_test = pd.DataFrame(data = pca_KFV_x_test)\n",
        "\n",
        "\n",
        "    KFV_fit = method(pca_KFV_x_train, KFV_y_train)\n",
        "    KFV_predict_train = predict_sigmoid(KFV_fit, pca_KFV_x_train)\n",
        "    classification_train = classification(KFV_predict_train)\n",
        "\n",
        "    df_pred_train = pd.DataFrame()\n",
        "    df_pred_train[\"y_actual\"] = KFV_y_train.to_numpy()\n",
        "    df_pred_train[\"y_pred_train\"] = np.round(classification_train, 3)\n",
        "\n",
        "    x_positive = df_pred_train[df_pred_train['y_actual'] == 0].max()\n",
        "    y_negative = df_pred_train[df_pred_train['y_actual'] == 1].min()\n",
        "    step = (x_positive['y_pred_train'] + y_negative['y_pred_train'])/2\n",
        "    df_pred_train['class'] = df_pred_train.apply(lambda x: 1 if x['y_pred_train'] <= step \n",
        "                                  else (0 if x['y_pred_train'] > step else 1), axis=1)\n",
        "    \n",
        "\n",
        "    KFV_predict_test = predict_sigmoid(KFV_fit, pca_KFV_x_test)\n",
        "    classification_test = classification(KFV_predict_test)\n",
        "\n",
        "    df_pred_test = pd.DataFrame()\n",
        "    df_pred_test[\"y_actual\"] = KFV_y_test.to_numpy() \n",
        "    df_pred_test[\"y_pred_test\"] = np.round(classification_test, 5)\n",
        "    df_pred_test['class'] = df_pred_test.apply(lambda x: 1 if x['y_pred_test'] <= step \n",
        "                                               else (0 if x['y_pred_test'] > step else 1), axis=1)\n",
        "    metric = r2_score(KFV_y_test, KFV_predict_test)\n",
        "    print(metric)"
      ],
      "metadata": {
        "id": "c0Teu9TjPx0_"
      },
      "execution_count": null,
      "outputs": []
    },
    {
      "cell_type": "code",
      "source": [
        "k_fold(fit_MGD_sigmoid, set0, S0)\n",
        "k_fold(fit_MGD_sigmoid, set1, S1)\n",
        "k_fold(fit_MGD_sigmoid, set2, S2)\n",
        "k_fold(fit_MGD_sigmoid, set3, S3)\n",
        "k_fold(fit_MGD_sigmoid, set4, S4)"
      ],
      "metadata": {
        "colab": {
          "base_uri": "https://localhost:8080/"
        },
        "id": "9bqjKYWWSeBK",
        "outputId": "fa22eeb4-20a8-4e8a-b092-a7539bc17efb"
      },
      "execution_count": null,
      "outputs": [
        {
          "output_type": "stream",
          "name": "stdout",
          "text": [
            "-0.04004491756575779\n",
            "0.33800694591146274\n",
            "0.2397602185769402\n",
            "-0.5883116089382208\n",
            "0.32147743197216316\n"
          ]
        }
      ]
    },
    {
      "cell_type": "markdown",
      "source": [
        "![image.png](data:image/png;base64,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)"
      ],
      "metadata": {
        "id": "mU2U4KaHTMRO"
      }
    },
    {
      "cell_type": "markdown",
      "metadata": {
        "id": "xzQ778tcFLXa"
      },
      "source": [
        "#Part 4\n",
        "**Частина 4. Аналіз головних компонент і метод k-найближчих сусідів.**\n",
        "\n",
        "1. Використовуючи метод РСА, отримайте новий набір даних на основі набору даних для частини №2 лабораторної роботи  № 2. Новий набір даних повинен мати стільки параметрів, щоб їх сумарний внесок в дисперсію був не менше 75%.\n",
        "\n",
        "2. Використовуючи метод кросс-валідації і методи з лабораторної роботи №2, проведіть класифікацію методом k-найближчих сусідів на новому наборі даних. Для навчання і тестування моделі використайте стільки ж даних, скільки було використано під час крос валідації у лабораторній роботі №2.\n",
        "\n",
        "3. Порівняйте результати і точність нової моделі з моделлю, отриманою використанням алгоритму крос-валідації у частині №2 лабораторної роботи №2."
      ]
    },
    {
      "cell_type": "code",
      "source": [
        "import pandas as pd\n",
        "import numpy as np\n",
        "import seaborn as sns\n",
        "from matplotlib import pyplot as plt\n",
        "import plotly.graph_objects as go\n",
        "from plotly.subplots import make_subplots\n",
        "import random\n",
        "from sklearn.decomposition import PCA\n",
        "from sklearn.preprocessing import StandardScaler\n",
        "from sklearn.metrics import r2_score, matthews_corrcoef"
      ],
      "metadata": {
        "id": "2V7-Q5GtTeOv"
      },
      "execution_count": null,
      "outputs": []
    },
    {
      "cell_type": "code",
      "source": [
        "file_url22 = \"https://raw.githubusercontent.com/Alexandra-Kovalenko1/data/main/MN09-Kovalenko_lab2.csv\"\n",
        "df22 = pd.read_csv(file_url22, sep=';', decimal=',', header=None)\n",
        "df22"
      ],
      "metadata": {
        "colab": {
          "base_uri": "https://localhost:8080/",
          "height": 423
        },
        "id": "qrh2MQcFTDjj",
        "outputId": "8928e99f-2cfb-43c5-a6b7-dd1c612b2525"
      },
      "execution_count": null,
      "outputs": [
        {
          "output_type": "execute_result",
          "data": {
            "text/html": [
              "\n",
              "  <div id=\"df-b8dc0ee6-ef42-4c1f-af3e-ab2c9952cc98\">\n",
              "    <div class=\"colab-df-container\">\n",
              "      <div>\n",
              "<style scoped>\n",
              "    .dataframe tbody tr th:only-of-type {\n",
              "        vertical-align: middle;\n",
              "    }\n",
              "\n",
              "    .dataframe tbody tr th {\n",
              "        vertical-align: top;\n",
              "    }\n",
              "\n",
              "    .dataframe thead th {\n",
              "        text-align: right;\n",
              "    }\n",
              "</style>\n",
              "<table border=\"1\" class=\"dataframe\">\n",
              "  <thead>\n",
              "    <tr style=\"text-align: right;\">\n",
              "      <th></th>\n",
              "      <th>0</th>\n",
              "      <th>1</th>\n",
              "      <th>2</th>\n",
              "      <th>3</th>\n",
              "      <th>4</th>\n",
              "      <th>5</th>\n",
              "      <th>6</th>\n",
              "      <th>7</th>\n",
              "    </tr>\n",
              "  </thead>\n",
              "  <tbody>\n",
              "    <tr>\n",
              "      <th>0</th>\n",
              "      <td>0.395</td>\n",
              "      <td>0.295</td>\n",
              "      <td>0.095</td>\n",
              "      <td>0.2725</td>\n",
              "      <td>0.1150</td>\n",
              "      <td>0.0625</td>\n",
              "      <td>0.0850</td>\n",
              "      <td>8</td>\n",
              "    </tr>\n",
              "    <tr>\n",
              "      <th>1</th>\n",
              "      <td>0.395</td>\n",
              "      <td>0.270</td>\n",
              "      <td>0.100</td>\n",
              "      <td>0.2985</td>\n",
              "      <td>0.1445</td>\n",
              "      <td>0.0610</td>\n",
              "      <td>0.0820</td>\n",
              "      <td>5</td>\n",
              "    </tr>\n",
              "    <tr>\n",
              "      <th>2</th>\n",
              "      <td>0.400</td>\n",
              "      <td>0.290</td>\n",
              "      <td>0.100</td>\n",
              "      <td>0.2675</td>\n",
              "      <td>0.1205</td>\n",
              "      <td>0.0605</td>\n",
              "      <td>0.0765</td>\n",
              "      <td>5</td>\n",
              "    </tr>\n",
              "    <tr>\n",
              "      <th>3</th>\n",
              "      <td>0.405</td>\n",
              "      <td>0.285</td>\n",
              "      <td>0.090</td>\n",
              "      <td>0.2645</td>\n",
              "      <td>0.1265</td>\n",
              "      <td>0.0505</td>\n",
              "      <td>0.0750</td>\n",
              "      <td>6</td>\n",
              "    </tr>\n",
              "    <tr>\n",
              "      <th>4</th>\n",
              "      <td>0.410</td>\n",
              "      <td>0.335</td>\n",
              "      <td>0.110</td>\n",
              "      <td>0.3300</td>\n",
              "      <td>0.1570</td>\n",
              "      <td>0.0705</td>\n",
              "      <td>0.1700</td>\n",
              "      <td>7</td>\n",
              "    </tr>\n",
              "    <tr>\n",
              "      <th>...</th>\n",
              "      <td>...</td>\n",
              "      <td>...</td>\n",
              "      <td>...</td>\n",
              "      <td>...</td>\n",
              "      <td>...</td>\n",
              "      <td>...</td>\n",
              "      <td>...</td>\n",
              "      <td>...</td>\n",
              "    </tr>\n",
              "    <tr>\n",
              "      <th>295</th>\n",
              "      <td>0.365</td>\n",
              "      <td>0.270</td>\n",
              "      <td>0.085</td>\n",
              "      <td>0.2225</td>\n",
              "      <td>0.0935</td>\n",
              "      <td>0.0525</td>\n",
              "      <td>0.0660</td>\n",
              "      <td>7</td>\n",
              "    </tr>\n",
              "    <tr>\n",
              "      <th>296</th>\n",
              "      <td>0.370</td>\n",
              "      <td>0.270</td>\n",
              "      <td>0.095</td>\n",
              "      <td>0.2175</td>\n",
              "      <td>0.0970</td>\n",
              "      <td>0.0460</td>\n",
              "      <td>0.0650</td>\n",
              "      <td>6</td>\n",
              "    </tr>\n",
              "    <tr>\n",
              "      <th>297</th>\n",
              "      <td>0.375</td>\n",
              "      <td>0.280</td>\n",
              "      <td>0.080</td>\n",
              "      <td>0.2165</td>\n",
              "      <td>0.0935</td>\n",
              "      <td>0.0925</td>\n",
              "      <td>0.0700</td>\n",
              "      <td>7</td>\n",
              "    </tr>\n",
              "    <tr>\n",
              "      <th>298</th>\n",
              "      <td>0.380</td>\n",
              "      <td>0.285</td>\n",
              "      <td>0.095</td>\n",
              "      <td>0.2430</td>\n",
              "      <td>0.0895</td>\n",
              "      <td>0.0665</td>\n",
              "      <td>0.0750</td>\n",
              "      <td>7</td>\n",
              "    </tr>\n",
              "    <tr>\n",
              "      <th>299</th>\n",
              "      <td>0.380</td>\n",
              "      <td>0.290</td>\n",
              "      <td>0.100</td>\n",
              "      <td>0.2370</td>\n",
              "      <td>0.1080</td>\n",
              "      <td>0.0395</td>\n",
              "      <td>0.0820</td>\n",
              "      <td>6</td>\n",
              "    </tr>\n",
              "  </tbody>\n",
              "</table>\n",
              "<p>300 rows × 8 columns</p>\n",
              "</div>\n",
              "      <button class=\"colab-df-convert\" onclick=\"convertToInteractive('df-b8dc0ee6-ef42-4c1f-af3e-ab2c9952cc98')\"\n",
              "              title=\"Convert this dataframe to an interactive table.\"\n",
              "              style=\"display:none;\">\n",
              "        \n",
              "  <svg xmlns=\"http://www.w3.org/2000/svg\" height=\"24px\"viewBox=\"0 0 24 24\"\n",
              "       width=\"24px\">\n",
              "    <path d=\"M0 0h24v24H0V0z\" fill=\"none\"/>\n",
              "    <path d=\"M18.56 5.44l.94 2.06.94-2.06 2.06-.94-2.06-.94-.94-2.06-.94 2.06-2.06.94zm-11 1L8.5 8.5l.94-2.06 2.06-.94-2.06-.94L8.5 2.5l-.94 2.06-2.06.94zm10 10l.94 2.06.94-2.06 2.06-.94-2.06-.94-.94-2.06-.94 2.06-2.06.94z\"/><path d=\"M17.41 7.96l-1.37-1.37c-.4-.4-.92-.59-1.43-.59-.52 0-1.04.2-1.43.59L10.3 9.45l-7.72 7.72c-.78.78-.78 2.05 0 2.83L4 21.41c.39.39.9.59 1.41.59.51 0 1.02-.2 1.41-.59l7.78-7.78 2.81-2.81c.8-.78.8-2.07 0-2.86zM5.41 20L4 18.59l7.72-7.72 1.47 1.35L5.41 20z\"/>\n",
              "  </svg>\n",
              "      </button>\n",
              "      \n",
              "  <style>\n",
              "    .colab-df-container {\n",
              "      display:flex;\n",
              "      flex-wrap:wrap;\n",
              "      gap: 12px;\n",
              "    }\n",
              "\n",
              "    .colab-df-convert {\n",
              "      background-color: #E8F0FE;\n",
              "      border: none;\n",
              "      border-radius: 50%;\n",
              "      cursor: pointer;\n",
              "      display: none;\n",
              "      fill: #1967D2;\n",
              "      height: 32px;\n",
              "      padding: 0 0 0 0;\n",
              "      width: 32px;\n",
              "    }\n",
              "\n",
              "    .colab-df-convert:hover {\n",
              "      background-color: #E2EBFA;\n",
              "      box-shadow: 0px 1px 2px rgba(60, 64, 67, 0.3), 0px 1px 3px 1px rgba(60, 64, 67, 0.15);\n",
              "      fill: #174EA6;\n",
              "    }\n",
              "\n",
              "    [theme=dark] .colab-df-convert {\n",
              "      background-color: #3B4455;\n",
              "      fill: #D2E3FC;\n",
              "    }\n",
              "\n",
              "    [theme=dark] .colab-df-convert:hover {\n",
              "      background-color: #434B5C;\n",
              "      box-shadow: 0px 1px 3px 1px rgba(0, 0, 0, 0.15);\n",
              "      filter: drop-shadow(0px 1px 2px rgba(0, 0, 0, 0.3));\n",
              "      fill: #FFFFFF;\n",
              "    }\n",
              "  </style>\n",
              "\n",
              "      <script>\n",
              "        const buttonEl =\n",
              "          document.querySelector('#df-b8dc0ee6-ef42-4c1f-af3e-ab2c9952cc98 button.colab-df-convert');\n",
              "        buttonEl.style.display =\n",
              "          google.colab.kernel.accessAllowed ? 'block' : 'none';\n",
              "\n",
              "        async function convertToInteractive(key) {\n",
              "          const element = document.querySelector('#df-b8dc0ee6-ef42-4c1f-af3e-ab2c9952cc98');\n",
              "          const dataTable =\n",
              "            await google.colab.kernel.invokeFunction('convertToInteractive',\n",
              "                                                     [key], {});\n",
              "          if (!dataTable) return;\n",
              "\n",
              "          const docLinkHtml = 'Like what you see? Visit the ' +\n",
              "            '<a target=\"_blank\" href=https://colab.research.google.com/notebooks/data_table.ipynb>data table notebook</a>'\n",
              "            + ' to learn more about interactive tables.';\n",
              "          element.innerHTML = '';\n",
              "          dataTable['output_type'] = 'display_data';\n",
              "          await google.colab.output.renderOutput(dataTable, element);\n",
              "          const docLink = document.createElement('div');\n",
              "          docLink.innerHTML = docLinkHtml;\n",
              "          element.appendChild(docLink);\n",
              "        }\n",
              "      </script>\n",
              "    </div>\n",
              "  </div>\n",
              "  "
            ],
            "text/plain": [
              "         0      1      2       3       4       5       6  7\n",
              "0    0.395  0.295  0.095  0.2725  0.1150  0.0625  0.0850  8\n",
              "1    0.395  0.270  0.100  0.2985  0.1445  0.0610  0.0820  5\n",
              "2    0.400  0.290  0.100  0.2675  0.1205  0.0605  0.0765  5\n",
              "3    0.405  0.285  0.090  0.2645  0.1265  0.0505  0.0750  6\n",
              "4    0.410  0.335  0.110  0.3300  0.1570  0.0705  0.1700  7\n",
              "..     ...    ...    ...     ...     ...     ...     ... ..\n",
              "295  0.365  0.270  0.085  0.2225  0.0935  0.0525  0.0660  7\n",
              "296  0.370  0.270  0.095  0.2175  0.0970  0.0460  0.0650  6\n",
              "297  0.375  0.280  0.080  0.2165  0.0935  0.0925  0.0700  7\n",
              "298  0.380  0.285  0.095  0.2430  0.0895  0.0665  0.0750  7\n",
              "299  0.380  0.290  0.100  0.2370  0.1080  0.0395  0.0820  6\n",
              "\n",
              "[300 rows x 8 columns]"
            ]
          },
          "metadata": {},
          "execution_count": 53
        }
      ]
    },
    {
      "cell_type": "code",
      "source": [
        "train = df22.iloc[:100]\n",
        "test = df22.iloc[-25:]\n",
        "\n",
        "x_train = train.iloc[:,:-1].reset_index(drop=True).to_numpy()\n",
        "x_test = test.iloc[:,:-1].reset_index(drop=True).to_numpy()\n",
        "\n",
        "y_train = train.iloc[:,-1:].reset_index(drop=True).to_numpy()\n",
        "y_test = test.iloc[:,-1:].reset_index(drop=True).to_numpy()"
      ],
      "metadata": {
        "id": "lp1aSmeJa2Lk"
      },
      "execution_count": null,
      "outputs": []
    },
    {
      "cell_type": "code",
      "source": [
        "S0=(df22[:50]).reset_index(drop=True)\n",
        "S1=(df22[50:100]).reset_index(drop=True)\n",
        "S2=(df22[100:150]).reset_index(drop=True)\n",
        "S3=(df22[150:200]).reset_index(drop=True)\n",
        "S4=(df22[200:250]).reset_index(drop=True)\n",
        "S5=(df22[-50:]).reset_index(drop=True)\n",
        "\n",
        "set0=pd.concat([S4,S3,S5,S1,S2], ignore_index=True)\n",
        "set1=pd.concat([S4,S2,S0,S3,S5], ignore_index=True)\n",
        "set2=pd.concat([S1,S0,S4,S5,S3], ignore_index=True)\n",
        "set3=pd.concat([S0,S5,S4,S1,S2], ignore_index=True)\n",
        "set4=pd.concat([S3,S2,S1,S5,S0], ignore_index=True)\n",
        "set5=pd.concat([S3,S2,S1,S4,S0], ignore_index=True)"
      ],
      "metadata": {
        "id": "sp-h6famU0Am"
      },
      "execution_count": null,
      "outputs": []
    },
    {
      "cell_type": "code",
      "source": [
        "def KNN_eucledian(x_train, y_train , x_test, k):\n",
        "\n",
        "    pred = []\n",
        "    for val in x_test: \n",
        "        score_length = []\n",
        "        for j in range(len(x_train)): \n",
        "            score_length.append(np.sqrt(np.sum(((np.array(x_train[j,:])) - val)**2))) \n",
        "        score_lengtht = np.array(score_length) \n",
        "        pred.append(y_train[np.argsort(score_length)[:k]])\n",
        "        x = []\n",
        "        for i in range(len(x_test)):\n",
        "          y = pred \n",
        "          x = np.array(y)\n",
        "          predict = []\n",
        "        for i in x:\n",
        "          predict.append(i[0][0])\n",
        "\n",
        "    return predict"
      ],
      "metadata": {
        "id": "XnZa-qKrTgu_"
      },
      "execution_count": null,
      "outputs": []
    },
    {
      "cell_type": "code",
      "source": [
        "KFV_train = set0\n",
        "KFV_test = S0"
      ],
      "metadata": {
        "id": "WuzciM2FWtgT"
      },
      "execution_count": null,
      "outputs": []
    },
    {
      "cell_type": "code",
      "source": [
        "KFV_x_train = KFV_train.iloc[:,:-1]\n",
        "KFV_y_train = KFV_train.iloc[:,-1].reset_index(drop=True).to_numpy()\n",
        "KFV_x_test = KFV_test.iloc[:,:-1]\n",
        "KFV_y_test = KFV_test.iloc[:,-1].reset_index(drop=True).to_numpy()"
      ],
      "metadata": {
        "id": "777cMdHrcD_r"
      },
      "execution_count": null,
      "outputs": []
    },
    {
      "cell_type": "code",
      "source": [
        "sc = StandardScaler()\n",
        "\n",
        "st_KFV_x_train  = sc.fit_transform(KFV_x_train)\n",
        "st_KFV_x_test  = sc.transform(KFV_x_test)\n",
        "\n",
        "pca = PCA(n_components=4)\n",
        "pca_KFV_x_train = pca.fit_transform(st_KFV_x_train)\n",
        "pca_KFV_x_test = pca.transform(st_KFV_x_test)\n",
        "pca_KFV_x_train = pd.DataFrame(data = pca_KFV_x_train).to_numpy()\n",
        "pca_KFV_x_test = pd.DataFrame(data = pca_KFV_x_test).to_numpy()\n"
      ],
      "metadata": {
        "id": "38CO1-pAWfYP"
      },
      "execution_count": null,
      "outputs": []
    },
    {
      "cell_type": "code",
      "source": [
        "KFV_predict = KNN_eucledian(pca_KFV_x_train, np.array(np.split(KFV_y_train, 250)), pca_KFV_x_test, 3)"
      ],
      "metadata": {
        "id": "rzd6LEwdXTrv"
      },
      "execution_count": null,
      "outputs": []
    },
    {
      "cell_type": "code",
      "source": [
        "def k_fold(method, KFV_train, KFV_test):\n",
        "\n",
        "    KFV_x_train = KFV_train.iloc[:,:-1]\n",
        "    KFV_y_train = KFV_train.iloc[:,-1].reset_index(drop=True).to_numpy()\n",
        "    KFV_x_test = KFV_test.iloc[:,:-1]\n",
        "    KFV_y_test = KFV_test.iloc[:,-1].reset_index(drop=True).to_numpy()\n",
        "\n",
        "    sc = StandardScaler()\n",
        "\n",
        "    st_KFV_x_train  = sc.fit_transform(KFV_x_train)\n",
        "    st_KFV_x_test  = sc.transform(KFV_x_test)\n",
        "\n",
        "    pca = PCA(n_components = 1)\n",
        "    pca_KFV_x_train = pca.fit_transform(st_KFV_x_train)\n",
        "    pca_KFV_x_test = pca.transform(st_KFV_x_test)\n",
        "    pca_KFV_x_train = pd.DataFrame(data = pca_KFV_x_train).to_numpy()\n",
        "    pca_KFV_x_test = pd.DataFrame(data = pca_KFV_x_test).to_numpy()\n",
        "\n",
        "    KFV_predict = method(pca_KFV_x_train, np.array(np.split(KFV_y_train, 250)), pca_KFV_x_test, 3)\n",
        "    print('MCC', matthews_corrcoef(KFV_y_test, KFV_predict))"
      ],
      "metadata": {
        "id": "bO4JSwIZVAsE"
      },
      "execution_count": null,
      "outputs": []
    },
    {
      "cell_type": "code",
      "source": [
        "k_fold(KNN_eucledian, set0, S0)\n",
        "k_fold(KNN_eucledian, set1, S1)\n",
        "k_fold(KNN_eucledian, set2, S2)\n",
        "k_fold(KNN_eucledian, set3, S3)\n",
        "k_fold(KNN_eucledian, set4, S4)\n",
        "k_fold(KNN_eucledian, set5, S5)"
      ],
      "metadata": {
        "colab": {
          "base_uri": "https://localhost:8080/"
        },
        "id": "LQB-Sp67Vy4r",
        "outputId": "a576c9d6-51b5-4088-8d02-97a0410523b5"
      },
      "execution_count": null,
      "outputs": [
        {
          "output_type": "stream",
          "name": "stdout",
          "text": [
            "MCC 0.11363442300185803\n",
            "MCC 0.12336675255577999\n",
            "MCC 0.11088060677103681\n",
            "MCC 0.2722736985822553\n",
            "MCC -0.04753785180285294\n",
            "MCC 0.11027083331248096\n"
          ]
        }
      ]
    },
    {
      "cell_type": "markdown",
      "source": [
        "![image.png](data:image/png;base64,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)"
      ],
      "metadata": {
        "id": "TK6mY2bLeDSg"
      }
    },
    {
      "cell_type": "markdown",
      "metadata": {
        "id": "Z2QB_VqqGAFh"
      },
      "source": [
        "#Part 5\n",
        "**Частина 5. Аналіз головних компонент і кластеризація.**\n",
        "\n",
        "1. Використовуючи метод РСА, отримайте новий набір даних на основі набору даних для частини №1 лабораторної роботи  № 3. Новий набір даних повинен мати стільки параметрів, щоб їх сумарний внесок в дисперсію був не менше 75%.\n",
        "\n",
        "2. Використовуючи методи K-Means і DBSCAN з такими параметрами, як і в частині №1 лабораторної роботи №3, проведіть кластеризацію на новому наборі даних.\n",
        "\n",
        "3. Порівняйте результати і відповідні характеристики нової кластеризації з кластеризацією, отриманою у частині №1 лабораторної роботи №3."
      ]
    },
    {
      "cell_type": "code",
      "source": [
        "from sklearn.preprocessing import StandardScaler\n",
        "from sklearn.cluster import KMeans\n",
        "from sklearn.cluster import DBSCAN\n",
        "import pandas as pd\n",
        "import numpy as np\n",
        "import seaborn as sns\n",
        "from matplotlib import pyplot as plt\n",
        "import plotly.graph_objects as go\n",
        "from plotly.subplots import make_subplots\n",
        "import random\n",
        "from sklearn.decomposition import PCA\n",
        "from sklearn.preprocessing import StandardScaler\n",
        "from sklearn.metrics import r2_score, matthews_corrcoef"
      ],
      "metadata": {
        "id": "xPtRpcfAeQIe"
      },
      "execution_count": null,
      "outputs": []
    },
    {
      "cell_type": "code",
      "source": [
        "file_url3 = \"https://raw.githubusercontent.com/IvanSergeyevichZhuk/ML_KPI/main/Data/Lab3/Part1/MN/MN09-Kovalenko.csv\"\n",
        "df3 = pd.read_csv(file_url3, sep=';', decimal=',',header=None)\n",
        "df3"
      ],
      "metadata": {
        "colab": {
          "base_uri": "https://localhost:8080/",
          "height": 423
        },
        "id": "xWSXH_psfmNw",
        "outputId": "4463147c-3b01-4196-8c38-d1beba2acc36"
      },
      "execution_count": null,
      "outputs": [
        {
          "output_type": "execute_result",
          "data": {
            "text/html": [
              "\n",
              "  <div id=\"df-cb4a4887-3fac-4614-bbb8-1eaf70d7ae12\">\n",
              "    <div class=\"colab-df-container\">\n",
              "      <div>\n",
              "<style scoped>\n",
              "    .dataframe tbody tr th:only-of-type {\n",
              "        vertical-align: middle;\n",
              "    }\n",
              "\n",
              "    .dataframe tbody tr th {\n",
              "        vertical-align: top;\n",
              "    }\n",
              "\n",
              "    .dataframe thead th {\n",
              "        text-align: right;\n",
              "    }\n",
              "</style>\n",
              "<table border=\"1\" class=\"dataframe\">\n",
              "  <thead>\n",
              "    <tr style=\"text-align: right;\">\n",
              "      <th></th>\n",
              "      <th>0</th>\n",
              "      <th>1</th>\n",
              "      <th>2</th>\n",
              "      <th>3</th>\n",
              "      <th>4</th>\n",
              "      <th>5</th>\n",
              "      <th>6</th>\n",
              "      <th>7</th>\n",
              "    </tr>\n",
              "  </thead>\n",
              "  <tbody>\n",
              "    <tr>\n",
              "      <th>0</th>\n",
              "      <td>0.63</td>\n",
              "      <td>0.5</td>\n",
              "      <td>0.175</td>\n",
              "      <td>1.1105</td>\n",
              "      <td>0.467</td>\n",
              "      <td>0.268</td>\n",
              "      <td>0.329</td>\n",
              "      <td>10</td>\n",
              "    </tr>\n",
              "    <tr>\n",
              "      <th>1</th>\n",
              "      <td>0.63</td>\n",
              "      <td>0.455</td>\n",
              "      <td>0.15</td>\n",
              "      <td>1.1315</td>\n",
              "      <td>0.481</td>\n",
              "      <td>0.2745</td>\n",
              "      <td>0.305</td>\n",
              "      <td>9</td>\n",
              "    </tr>\n",
              "    <tr>\n",
              "      <th>2</th>\n",
              "      <td>0.63</td>\n",
              "      <td>0.48</td>\n",
              "      <td>0.15</td>\n",
              "      <td>1.271</td>\n",
              "      <td>0.6605</td>\n",
              "      <td>0.2425</td>\n",
              "      <td>0.31</td>\n",
              "      <td>11</td>\n",
              "    </tr>\n",
              "    <tr>\n",
              "      <th>3</th>\n",
              "      <td>0.63</td>\n",
              "      <td>0.49</td>\n",
              "      <td>0.225</td>\n",
              "      <td>1.336</td>\n",
              "      <td>0.6805</td>\n",
              "      <td>0.259</td>\n",
              "      <td>0.3245</td>\n",
              "      <td>10</td>\n",
              "    </tr>\n",
              "    <tr>\n",
              "      <th>4</th>\n",
              "      <td>0.635</td>\n",
              "      <td>0.505</td>\n",
              "      <td>0.145</td>\n",
              "      <td>1.1345</td>\n",
              "      <td>0.505</td>\n",
              "      <td>0.2655</td>\n",
              "      <td>0.315</td>\n",
              "      <td>10</td>\n",
              "    </tr>\n",
              "    <tr>\n",
              "      <th>...</th>\n",
              "      <td>...</td>\n",
              "      <td>...</td>\n",
              "      <td>...</td>\n",
              "      <td>...</td>\n",
              "      <td>...</td>\n",
              "      <td>...</td>\n",
              "      <td>...</td>\n",
              "      <td>...</td>\n",
              "    </tr>\n",
              "    <tr>\n",
              "      <th>245</th>\n",
              "      <td>0.69</td>\n",
              "      <td>0.55</td>\n",
              "      <td>0.2</td>\n",
              "      <td>1.569</td>\n",
              "      <td>0.687</td>\n",
              "      <td>0.3675</td>\n",
              "      <td>0.46</td>\n",
              "      <td>12</td>\n",
              "    </tr>\n",
              "    <tr>\n",
              "      <th>246</th>\n",
              "      <td>0.7</td>\n",
              "      <td>0.565</td>\n",
              "      <td>0.175</td>\n",
              "      <td>1.8565</td>\n",
              "      <td>0.8445</td>\n",
              "      <td>0.3935</td>\n",
              "      <td>0.54</td>\n",
              "      <td>10</td>\n",
              "    </tr>\n",
              "    <tr>\n",
              "      <th>247</th>\n",
              "      <td>0.7</td>\n",
              "      <td>0.535</td>\n",
              "      <td>0.175</td>\n",
              "      <td>1.773</td>\n",
              "      <td>0.6805</td>\n",
              "      <td>0.48</td>\n",
              "      <td>0.512</td>\n",
              "      <td>15</td>\n",
              "    </tr>\n",
              "    <tr>\n",
              "      <th>248</th>\n",
              "      <td>0.705</td>\n",
              "      <td>0.545</td>\n",
              "      <td>0.17</td>\n",
              "      <td>1.58</td>\n",
              "      <td>0.6435</td>\n",
              "      <td>0.4565</td>\n",
              "      <td>0.265</td>\n",
              "      <td>11</td>\n",
              "    </tr>\n",
              "    <tr>\n",
              "      <th>249</th>\n",
              "      <td>0.71</td>\n",
              "      <td>0.575</td>\n",
              "      <td>0.215</td>\n",
              "      <td>2.009</td>\n",
              "      <td>0.9895</td>\n",
              "      <td>0.4475</td>\n",
              "      <td>0.502</td>\n",
              "      <td>11</td>\n",
              "    </tr>\n",
              "  </tbody>\n",
              "</table>\n",
              "<p>250 rows × 8 columns</p>\n",
              "</div>\n",
              "      <button class=\"colab-df-convert\" onclick=\"convertToInteractive('df-cb4a4887-3fac-4614-bbb8-1eaf70d7ae12')\"\n",
              "              title=\"Convert this dataframe to an interactive table.\"\n",
              "              style=\"display:none;\">\n",
              "        \n",
              "  <svg xmlns=\"http://www.w3.org/2000/svg\" height=\"24px\"viewBox=\"0 0 24 24\"\n",
              "       width=\"24px\">\n",
              "    <path d=\"M0 0h24v24H0V0z\" fill=\"none\"/>\n",
              "    <path d=\"M18.56 5.44l.94 2.06.94-2.06 2.06-.94-2.06-.94-.94-2.06-.94 2.06-2.06.94zm-11 1L8.5 8.5l.94-2.06 2.06-.94-2.06-.94L8.5 2.5l-.94 2.06-2.06.94zm10 10l.94 2.06.94-2.06 2.06-.94-2.06-.94-.94-2.06-.94 2.06-2.06.94z\"/><path d=\"M17.41 7.96l-1.37-1.37c-.4-.4-.92-.59-1.43-.59-.52 0-1.04.2-1.43.59L10.3 9.45l-7.72 7.72c-.78.78-.78 2.05 0 2.83L4 21.41c.39.39.9.59 1.41.59.51 0 1.02-.2 1.41-.59l7.78-7.78 2.81-2.81c.8-.78.8-2.07 0-2.86zM5.41 20L4 18.59l7.72-7.72 1.47 1.35L5.41 20z\"/>\n",
              "  </svg>\n",
              "      </button>\n",
              "      \n",
              "  <style>\n",
              "    .colab-df-container {\n",
              "      display:flex;\n",
              "      flex-wrap:wrap;\n",
              "      gap: 12px;\n",
              "    }\n",
              "\n",
              "    .colab-df-convert {\n",
              "      background-color: #E8F0FE;\n",
              "      border: none;\n",
              "      border-radius: 50%;\n",
              "      cursor: pointer;\n",
              "      display: none;\n",
              "      fill: #1967D2;\n",
              "      height: 32px;\n",
              "      padding: 0 0 0 0;\n",
              "      width: 32px;\n",
              "    }\n",
              "\n",
              "    .colab-df-convert:hover {\n",
              "      background-color: #E2EBFA;\n",
              "      box-shadow: 0px 1px 2px rgba(60, 64, 67, 0.3), 0px 1px 3px 1px rgba(60, 64, 67, 0.15);\n",
              "      fill: #174EA6;\n",
              "    }\n",
              "\n",
              "    [theme=dark] .colab-df-convert {\n",
              "      background-color: #3B4455;\n",
              "      fill: #D2E3FC;\n",
              "    }\n",
              "\n",
              "    [theme=dark] .colab-df-convert:hover {\n",
              "      background-color: #434B5C;\n",
              "      box-shadow: 0px 1px 3px 1px rgba(0, 0, 0, 0.15);\n",
              "      filter: drop-shadow(0px 1px 2px rgba(0, 0, 0, 0.3));\n",
              "      fill: #FFFFFF;\n",
              "    }\n",
              "  </style>\n",
              "\n",
              "      <script>\n",
              "        const buttonEl =\n",
              "          document.querySelector('#df-cb4a4887-3fac-4614-bbb8-1eaf70d7ae12 button.colab-df-convert');\n",
              "        buttonEl.style.display =\n",
              "          google.colab.kernel.accessAllowed ? 'block' : 'none';\n",
              "\n",
              "        async function convertToInteractive(key) {\n",
              "          const element = document.querySelector('#df-cb4a4887-3fac-4614-bbb8-1eaf70d7ae12');\n",
              "          const dataTable =\n",
              "            await google.colab.kernel.invokeFunction('convertToInteractive',\n",
              "                                                     [key], {});\n",
              "          if (!dataTable) return;\n",
              "\n",
              "          const docLinkHtml = 'Like what you see? Visit the ' +\n",
              "            '<a target=\"_blank\" href=https://colab.research.google.com/notebooks/data_table.ipynb>data table notebook</a>'\n",
              "            + ' to learn more about interactive tables.';\n",
              "          element.innerHTML = '';\n",
              "          dataTable['output_type'] = 'display_data';\n",
              "          await google.colab.output.renderOutput(dataTable, element);\n",
              "          const docLink = document.createElement('div');\n",
              "          docLink.innerHTML = docLinkHtml;\n",
              "          element.appendChild(docLink);\n",
              "        }\n",
              "      </script>\n",
              "    </div>\n",
              "  </div>\n",
              "  "
            ],
            "text/plain": [
              "         0      1      2       3       4       5       6   7\n",
              "0     0.63    0.5  0.175  1.1105   0.467   0.268   0.329  10\n",
              "1     0.63  0.455   0.15  1.1315   0.481  0.2745   0.305   9\n",
              "2     0.63   0.48   0.15   1.271  0.6605  0.2425    0.31  11\n",
              "3     0.63   0.49  0.225   1.336  0.6805   0.259  0.3245  10\n",
              "4    0.635  0.505  0.145  1.1345   0.505  0.2655   0.315  10\n",
              "..     ...    ...    ...     ...     ...     ...     ...  ..\n",
              "245   0.69   0.55    0.2   1.569   0.687  0.3675    0.46  12\n",
              "246    0.7  0.565  0.175  1.8565  0.8445  0.3935    0.54  10\n",
              "247    0.7  0.535  0.175   1.773  0.6805    0.48   0.512  15\n",
              "248  0.705  0.545   0.17    1.58  0.6435  0.4565   0.265  11\n",
              "249   0.71  0.575  0.215   2.009  0.9895  0.4475   0.502  11\n",
              "\n",
              "[250 rows x 8 columns]"
            ]
          },
          "metadata": {},
          "execution_count": 64
        }
      ]
    },
    {
      "cell_type": "code",
      "source": [
        "sc = StandardScaler()\n",
        "st = sc.fit_transform(df3)\n",
        "pca = PCA(n_components=2)\n",
        "pca_fit = pca.fit_transform(st)"
      ],
      "metadata": {
        "id": "LC9RAIKefyUg"
      },
      "execution_count": null,
      "outputs": []
    },
    {
      "cell_type": "code",
      "source": [
        "k_means = KMeans(n_clusters=5)\n",
        "k_means.fit(pca_fit)\n",
        "labels2 = k_means.labels_\n",
        "plt.scatter(pca_fit[:,0],pca_fit[:,1], c=labels2, cmap = 'icefire_r')"
      ],
      "metadata": {
        "colab": {
          "base_uri": "https://localhost:8080/",
          "height": 282
        },
        "id": "vS9AAyXYg_AU",
        "outputId": "447c267d-18d2-4999-ccff-c1925f6f4158"
      },
      "execution_count": null,
      "outputs": [
        {
          "output_type": "execute_result",
          "data": {
            "text/plain": [
              "<matplotlib.collections.PathCollection at 0x7f3ed8c69f10>"
            ]
          },
          "metadata": {},
          "execution_count": 66
        },
        {
          "output_type": "display_data",
          "data": {
            "image/png": "[encoded data removed]",
            "text/plain": [
              "<Figure size 432x288 with 1 Axes>"
            ]
          },
          "metadata": {
            "needs_background": "light"
          }
        }
      ]
    },
    {
      "cell_type": "code",
      "source": [
        "class DBSCAN_handmade:\n",
        "\n",
        "  def __init__(self, eps, min_samples):\n",
        "    self.min_samples = min_samples\n",
        "    self.eps = eps\n",
        "\n",
        "  def neighbor(self, x, data):\n",
        "    id = []\n",
        "    for y, dot in enumerate(data):\n",
        "      if x != y and np.linalg.norm(data[x] - dot) <= self.eps:\n",
        "        id.append(y)\n",
        "    return id\n",
        "\n",
        "  def check(self, x, data, cluster):\n",
        "    for id in self.neighbor(x, data):\n",
        "          if self.dot_cluster[id] == -1:\n",
        "            self.dot_cluster[id] = cluster\n",
        "            if len(self.neighbor(x, data)) >= self.min_samples:\n",
        "              self.check\n",
        "\n",
        "  def fit(self, data):\n",
        "    cluster = 0 \n",
        "    self.dot_cluster = [-1] * len(data)\n",
        "    for x, dot_x in enumerate(data):\n",
        "      if self.dot_cluster[x] != -1:\n",
        "        continue\n",
        "      if len(self.neighbor(x, data)) >= self.min_samples:\n",
        "        self.dot_cluster[x] = cluster\n",
        "        self.check(x, data, cluster)\n",
        "      cluster += 1\n",
        "    return self.dot_cluster"
      ],
      "metadata": {
        "id": "VK5K_U3YhbAs"
      },
      "execution_count": null,
      "outputs": []
    },
    {
      "cell_type": "code",
      "source": [
        "DBSCAN_model = DBSCAN_handmade(eps=2, min_samples=10)\n",
        "DBSCAN_model.fit(pca_fit)\n",
        "plt.scatter(pca_fit[:,0], pca_fit[:,1], c = DBSCAN_model.fit(st) , cmap='icefire_r')"
      ],
      "metadata": {
        "colab": {
          "base_uri": "https://localhost:8080/",
          "height": 282
        },
        "id": "j0OJ9Wxth8o4",
        "outputId": "5b78f464-8ffd-4398-ea6f-870bbd88bcf9"
      },
      "execution_count": null,
      "outputs": [
        {
          "output_type": "execute_result",
          "data": {
            "text/plain": [
              "<matplotlib.collections.PathCollection at 0x7f3ed8761990>"
            ]
          },
          "metadata": {},
          "execution_count": 68
        },
        {
          "output_type": "display_data",
          "data": {
            "image/png": "[encoded data removed]",
            "text/plain": [
              "<Figure size 432x288 with 1 Axes>"
            ]
          },
          "metadata": {
            "needs_background": "light"
          }
        }
      ]
    },
    {
      "cell_type": "code",
      "source": [
        ""
      ],
      "metadata": {
        "id": "IvcoOjRotFbB"
      },
      "execution_count": null,
      "outputs": []
    }
  ]
}