{
  "nbformat": 4,
  "nbformat_minor": 0,
  "metadata": {
    "colab": {
      "name": "ML_Lab3_Kovalenko",
      "provenance": [],
      "collapsed_sections": [
        "4eP8fA03qC3E",
        "QdpTMOdqqzU5",
        "TAiDXSyJG5aO",
        "buRXKuiyHGLu",
        "jKfAqx0AHoWd"
      ]
    },
    "kernelspec": {
      "name": "python3",
      "display_name": "Python 3"
    },
    "language_info": {
      "name": "python"
    }
  },
  "cells": [
    {
      "cell_type": "markdown",
      "metadata": {
        "id": "Pl4Ouq9qe82t"
      },
      "source": [
        "**Лабораторна робота №3. Кластеризація**\n",
        "\n",
        "Приблизний строк виконання - 6 годин\n",
        "\n",
        "**Рекомендована дата здачі: 28 листопада 2021 року**\n",
        "\n",
        "Виконала студентка групи [КМ-11мн] [Коваленко Олександра Петрівна]\n",
        "\n",
        "Студент здав роботу: (заповнюється викладачем відповідно до дати повідомлення з роботою у Slack)\n",
        "\n",
        "Студент захистив роботу на оцінку: (заповнюється викладачем)"
      ]
    },
    {
      "cell_type": "markdown",
      "metadata": {
        "id": "ynhEYG4SdJuO"
      },
      "source": [
        "**Частина 1. Основи кластеризації**\n",
        "1. Обрати відповідний файл з даними.\n",
        "2. Обравши всі стовпчики, крім останнього:\n",
        "\n",
        "a) Провести розбиття методом K-means на два та три кластери.\n",
        "Проілюструвати результати розбиття графічно.\n",
        "\n",
        "b) Провести розбиття на аналогічну кількість кластерів за\n",
        "допомогою інших двох методів (один з яких використовує\n",
        "аналогічну метрику, а другий – іншу). Результати розбиття\n",
        "проілюструвати графічно, виконати порівняльний аналіз\n",
        "отриманих результатів із результатами попереднього пункту.\n",
        "\n",
        "c) Збудувати дендрограму для перших 100 записів.\n",
        "\n",
        "d) Обчисліть діаметр, радіус, щільність, міжкластерну відстань і  характеристики близькості (подібності) кластерів.\n",
        "\n",
        "3. Проаналізувати отримані результати, враховуючи останній стовпчик\n",
        "початкових даних.\n",
        "4. Для отримання результатів можна використовувати бібліотеки для\n",
        "мови Python (наприклад, scikit-learn або аналогічні).\n",
        "5. Виконати пункти 2-3, застосувавши метод K-Means і декілька варіантів кількості кластерів. Визначте оптимальну кількість кластерів.\n",
        "6. Виконати пункти 2-3, застосувавши алгоритм DBSCAN і ще один будь-який алгоритм з використаної бібліотеки.\n"
      ]
    },
    {
      "cell_type": "markdown",
      "source": [
        "###Обрати відповідний файл з даними."
      ],
      "metadata": {
        "id": "8jW9AL_6GaRO"
      }
    },
    {
      "cell_type": "code",
      "source": [
        "pip install scipy"
      ],
      "metadata": {
        "colab": {
          "base_uri": "https://localhost:8080/"
        },
        "id": "dB2K7exdNQl3",
        "outputId": "399dcca3-693e-41ed-ebb3-cb9e085d555e"
      },
      "execution_count": null,
      "outputs": [
        {
          "output_type": "stream",
          "name": "stdout",
          "text": [
            "Requirement already satisfied: scipy in /usr/local/lib/python3.7/dist-packages (1.4.1)\n",
            "Requirement already satisfied: numpy>=1.13.3 in /usr/local/lib/python3.7/dist-packages (from scipy) (1.19.5)\n"
          ]
        }
      ]
    },
    {
      "cell_type": "code",
      "source": [
        "from scipy.spatial.distance import cdist"
      ],
      "metadata": {
        "id": "0zcyGcmVNU2e"
      },
      "execution_count": null,
      "outputs": []
    },
    {
      "cell_type": "code",
      "source": [
        "import pandas as pd\n",
        "import numpy as np\n",
        "import seaborn as sns\n",
        "from matplotlib import pyplot as plt\n",
        "import plotly.graph_objects as go\n",
        "from plotly.subplots import make_subplots\n",
        "import math"
      ],
      "metadata": {
        "id": "rDgi7mtB9rXL"
      },
      "execution_count": null,
      "outputs": []
    },
    {
      "cell_type": "code",
      "source": [
        "from sklearn.preprocessing import StandardScaler\n",
        "from sklearn.cluster import KMeans\n",
        "from sklearn.cluster import AgglomerativeClustering\n",
        "from sklearn.cluster import SpectralClustering\n",
        "import plotly.figure_factory as ff\n",
        "from sklearn.cluster import DBSCAN\n",
        "from sklearn.metrics.pairwise import euclidean_distances"
      ],
      "metadata": {
        "id": "7-8hxh6xR4ig"
      },
      "execution_count": null,
      "outputs": []
    },
    {
      "cell_type": "code",
      "source": [
        "file_url = \"https://raw.githubusercontent.com/IvanSergeyevichZhuk/ML_KPI/main/Data/Lab3/Part1/MN/MN09-Kovalenko.csv\"\n",
        "data = pd.read_csv(file_url, sep=';', decimal=',',header=None)\n",
        "data"
      ],
      "metadata": {
        "colab": {
          "base_uri": "https://localhost:8080/",
          "height": 423
        },
        "id": "oW5mgrhh9YBs",
        "outputId": "e41eceea-0257-429f-f1a0-54279eab6659"
      },
      "execution_count": null,
      "outputs": [
        {
          "output_type": "execute_result",
          "data": {
            "text/html": [
              "\n",
              "  <div id=\"df-7bfa18c1-85ca-4bee-939f-fd99c57f5a3a\">\n",
              "    <div class=\"colab-df-container\">\n",
              "      <div>\n",
              "<style scoped>\n",
              "    .dataframe tbody tr th:only-of-type {\n",
              "        vertical-align: middle;\n",
              "    }\n",
              "\n",
              "    .dataframe tbody tr th {\n",
              "        vertical-align: top;\n",
              "    }\n",
              "\n",
              "    .dataframe thead th {\n",
              "        text-align: right;\n",
              "    }\n",
              "</style>\n",
              "<table border=\"1\" class=\"dataframe\">\n",
              "  <thead>\n",
              "    <tr style=\"text-align: right;\">\n",
              "      <th></th>\n",
              "      <th>0</th>\n",
              "      <th>1</th>\n",
              "      <th>2</th>\n",
              "      <th>3</th>\n",
              "      <th>4</th>\n",
              "      <th>5</th>\n",
              "      <th>6</th>\n",
              "      <th>7</th>\n",
              "    </tr>\n",
              "  </thead>\n",
              "  <tbody>\n",
              "    <tr>\n",
              "      <th>0</th>\n",
              "      <td>0.63</td>\n",
              "      <td>0.5</td>\n",
              "      <td>0.175</td>\n",
              "      <td>1.1105</td>\n",
              "      <td>0.467</td>\n",
              "      <td>0.268</td>\n",
              "      <td>0.329</td>\n",
              "      <td>10</td>\n",
              "    </tr>\n",
              "    <tr>\n",
              "      <th>1</th>\n",
              "      <td>0.63</td>\n",
              "      <td>0.455</td>\n",
              "      <td>0.15</td>\n",
              "      <td>1.1315</td>\n",
              "      <td>0.481</td>\n",
              "      <td>0.2745</td>\n",
              "      <td>0.305</td>\n",
              "      <td>9</td>\n",
              "    </tr>\n",
              "    <tr>\n",
              "      <th>2</th>\n",
              "      <td>0.63</td>\n",
              "      <td>0.48</td>\n",
              "      <td>0.15</td>\n",
              "      <td>1.271</td>\n",
              "      <td>0.6605</td>\n",
              "      <td>0.2425</td>\n",
              "      <td>0.31</td>\n",
              "      <td>11</td>\n",
              "    </tr>\n",
              "    <tr>\n",
              "      <th>3</th>\n",
              "      <td>0.63</td>\n",
              "      <td>0.49</td>\n",
              "      <td>0.225</td>\n",
              "      <td>1.336</td>\n",
              "      <td>0.6805</td>\n",
              "      <td>0.259</td>\n",
              "      <td>0.3245</td>\n",
              "      <td>10</td>\n",
              "    </tr>\n",
              "    <tr>\n",
              "      <th>4</th>\n",
              "      <td>0.635</td>\n",
              "      <td>0.505</td>\n",
              "      <td>0.145</td>\n",
              "      <td>1.1345</td>\n",
              "      <td>0.505</td>\n",
              "      <td>0.2655</td>\n",
              "      <td>0.315</td>\n",
              "      <td>10</td>\n",
              "    </tr>\n",
              "    <tr>\n",
              "      <th>...</th>\n",
              "      <td>...</td>\n",
              "      <td>...</td>\n",
              "      <td>...</td>\n",
              "      <td>...</td>\n",
              "      <td>...</td>\n",
              "      <td>...</td>\n",
              "      <td>...</td>\n",
              "      <td>...</td>\n",
              "    </tr>\n",
              "    <tr>\n",
              "      <th>245</th>\n",
              "      <td>0.69</td>\n",
              "      <td>0.55</td>\n",
              "      <td>0.2</td>\n",
              "      <td>1.569</td>\n",
              "      <td>0.687</td>\n",
              "      <td>0.3675</td>\n",
              "      <td>0.46</td>\n",
              "      <td>12</td>\n",
              "    </tr>\n",
              "    <tr>\n",
              "      <th>246</th>\n",
              "      <td>0.7</td>\n",
              "      <td>0.565</td>\n",
              "      <td>0.175</td>\n",
              "      <td>1.8565</td>\n",
              "      <td>0.8445</td>\n",
              "      <td>0.3935</td>\n",
              "      <td>0.54</td>\n",
              "      <td>10</td>\n",
              "    </tr>\n",
              "    <tr>\n",
              "      <th>247</th>\n",
              "      <td>0.7</td>\n",
              "      <td>0.535</td>\n",
              "      <td>0.175</td>\n",
              "      <td>1.773</td>\n",
              "      <td>0.6805</td>\n",
              "      <td>0.48</td>\n",
              "      <td>0.512</td>\n",
              "      <td>15</td>\n",
              "    </tr>\n",
              "    <tr>\n",
              "      <th>248</th>\n",
              "      <td>0.705</td>\n",
              "      <td>0.545</td>\n",
              "      <td>0.17</td>\n",
              "      <td>1.58</td>\n",
              "      <td>0.6435</td>\n",
              "      <td>0.4565</td>\n",
              "      <td>0.265</td>\n",
              "      <td>11</td>\n",
              "    </tr>\n",
              "    <tr>\n",
              "      <th>249</th>\n",
              "      <td>0.71</td>\n",
              "      <td>0.575</td>\n",
              "      <td>0.215</td>\n",
              "      <td>2.009</td>\n",
              "      <td>0.9895</td>\n",
              "      <td>0.4475</td>\n",
              "      <td>0.502</td>\n",
              "      <td>11</td>\n",
              "    </tr>\n",
              "  </tbody>\n",
              "</table>\n",
              "<p>250 rows × 8 columns</p>\n",
              "</div>\n",
              "      <button class=\"colab-df-convert\" onclick=\"convertToInteractive('df-7bfa18c1-85ca-4bee-939f-fd99c57f5a3a')\"\n",
              "              title=\"Convert this dataframe to an interactive table.\"\n",
              "              style=\"display:none;\">\n",
              "        \n",
              "  <svg xmlns=\"http://www.w3.org/2000/svg\" height=\"24px\"viewBox=\"0 0 24 24\"\n",
              "       width=\"24px\">\n",
              "    <path d=\"M0 0h24v24H0V0z\" fill=\"none\"/>\n",
              "    <path d=\"M18.56 5.44l.94 2.06.94-2.06 2.06-.94-2.06-.94-.94-2.06-.94 2.06-2.06.94zm-11 1L8.5 8.5l.94-2.06 2.06-.94-2.06-.94L8.5 2.5l-.94 2.06-2.06.94zm10 10l.94 2.06.94-2.06 2.06-.94-2.06-.94-.94-2.06-.94 2.06-2.06.94z\"/><path d=\"M17.41 7.96l-1.37-1.37c-.4-.4-.92-.59-1.43-.59-.52 0-1.04.2-1.43.59L10.3 9.45l-7.72 7.72c-.78.78-.78 2.05 0 2.83L4 21.41c.39.39.9.59 1.41.59.51 0 1.02-.2 1.41-.59l7.78-7.78 2.81-2.81c.8-.78.8-2.07 0-2.86zM5.41 20L4 18.59l7.72-7.72 1.47 1.35L5.41 20z\"/>\n",
              "  </svg>\n",
              "      </button>\n",
              "      \n",
              "  <style>\n",
              "    .colab-df-container {\n",
              "      display:flex;\n",
              "      flex-wrap:wrap;\n",
              "      gap: 12px;\n",
              "    }\n",
              "\n",
              "    .colab-df-convert {\n",
              "      background-color: #E8F0FE;\n",
              "      border: none;\n",
              "      border-radius: 50%;\n",
              "      cursor: pointer;\n",
              "      display: none;\n",
              "      fill: #1967D2;\n",
              "      height: 32px;\n",
              "      padding: 0 0 0 0;\n",
              "      width: 32px;\n",
              "    }\n",
              "\n",
              "    .colab-df-convert:hover {\n",
              "      background-color: #E2EBFA;\n",
              "      box-shadow: 0px 1px 2px rgba(60, 64, 67, 0.3), 0px 1px 3px 1px rgba(60, 64, 67, 0.15);\n",
              "      fill: #174EA6;\n",
              "    }\n",
              "\n",
              "    [theme=dark] .colab-df-convert {\n",
              "      background-color: #3B4455;\n",
              "      fill: #D2E3FC;\n",
              "    }\n",
              "\n",
              "    [theme=dark] .colab-df-convert:hover {\n",
              "      background-color: #434B5C;\n",
              "      box-shadow: 0px 1px 3px 1px rgba(0, 0, 0, 0.15);\n",
              "      filter: drop-shadow(0px 1px 2px rgba(0, 0, 0, 0.3));\n",
              "      fill: #FFFFFF;\n",
              "    }\n",
              "  </style>\n",
              "\n",
              "      <script>\n",
              "        const buttonEl =\n",
              "          document.querySelector('#df-7bfa18c1-85ca-4bee-939f-fd99c57f5a3a button.colab-df-convert');\n",
              "        buttonEl.style.display =\n",
              "          google.colab.kernel.accessAllowed ? 'block' : 'none';\n",
              "\n",
              "        async function convertToInteractive(key) {\n",
              "          const element = document.querySelector('#df-7bfa18c1-85ca-4bee-939f-fd99c57f5a3a');\n",
              "          const dataTable =\n",
              "            await google.colab.kernel.invokeFunction('convertToInteractive',\n",
              "                                                     [key], {});\n",
              "          if (!dataTable) return;\n",
              "\n",
              "          const docLinkHtml = 'Like what you see? Visit the ' +\n",
              "            '<a target=\"_blank\" href=https://colab.research.google.com/notebooks/data_table.ipynb>data table notebook</a>'\n",
              "            + ' to learn more about interactive tables.';\n",
              "          element.innerHTML = '';\n",
              "          dataTable['output_type'] = 'display_data';\n",
              "          await google.colab.output.renderOutput(dataTable, element);\n",
              "          const docLink = document.createElement('div');\n",
              "          docLink.innerHTML = docLinkHtml;\n",
              "          element.appendChild(docLink);\n",
              "        }\n",
              "      </script>\n",
              "    </div>\n",
              "  </div>\n",
              "  "
            ],
            "text/plain": [
              "         0      1      2       3       4       5       6   7\n",
              "0     0.63    0.5  0.175  1.1105   0.467   0.268   0.329  10\n",
              "1     0.63  0.455   0.15  1.1315   0.481  0.2745   0.305   9\n",
              "2     0.63   0.48   0.15   1.271  0.6605  0.2425    0.31  11\n",
              "3     0.63   0.49  0.225   1.336  0.6805   0.259  0.3245  10\n",
              "4    0.635  0.505  0.145  1.1345   0.505  0.2655   0.315  10\n",
              "..     ...    ...    ...     ...     ...     ...     ...  ..\n",
              "245   0.69   0.55    0.2   1.569   0.687  0.3675    0.46  12\n",
              "246    0.7  0.565  0.175  1.8565  0.8445  0.3935    0.54  10\n",
              "247    0.7  0.535  0.175   1.773  0.6805    0.48   0.512  15\n",
              "248  0.705  0.545   0.17    1.58  0.6435  0.4565   0.265  11\n",
              "249   0.71  0.575  0.215   2.009  0.9895  0.4475   0.502  11\n",
              "\n",
              "[250 rows x 8 columns]"
            ]
          },
          "metadata": {},
          "execution_count": 5
        }
      ]
    },
    {
      "cell_type": "code",
      "source": [
        "data[7].unique()"
      ],
      "metadata": {
        "colab": {
          "base_uri": "https://localhost:8080/"
        },
        "id": "KF3SNb22n_tc",
        "outputId": "fcb60529-90cf-4ef8-81f3-3069573bb460"
      },
      "execution_count": null,
      "outputs": [
        {
          "output_type": "execute_result",
          "data": {
            "text/plain": [
              "array([10,  9, 11,  8, 12, 13,  5,  6,  7, 14, 15])"
            ]
          },
          "metadata": {},
          "execution_count": 6
        }
      ]
    },
    {
      "cell_type": "code",
      "source": [
        "df = data.drop(columns=7)\n",
        "df"
      ],
      "metadata": {
        "colab": {
          "base_uri": "https://localhost:8080/",
          "height": 423
        },
        "id": "w9unmrUToQJA",
        "outputId": "31188996-cb32-49f9-e824-b1d1027bb7ff"
      },
      "execution_count": null,
      "outputs": [
        {
          "output_type": "execute_result",
          "data": {
            "text/html": [
              "\n",
              "  <div id=\"df-51c0a6ee-dab1-4d13-8574-dd50095540e9\">\n",
              "    <div class=\"colab-df-container\">\n",
              "      <div>\n",
              "<style scoped>\n",
              "    .dataframe tbody tr th:only-of-type {\n",
              "        vertical-align: middle;\n",
              "    }\n",
              "\n",
              "    .dataframe tbody tr th {\n",
              "        vertical-align: top;\n",
              "    }\n",
              "\n",
              "    .dataframe thead th {\n",
              "        text-align: right;\n",
              "    }\n",
              "</style>\n",
              "<table border=\"1\" class=\"dataframe\">\n",
              "  <thead>\n",
              "    <tr style=\"text-align: right;\">\n",
              "      <th></th>\n",
              "      <th>0</th>\n",
              "      <th>1</th>\n",
              "      <th>2</th>\n",
              "      <th>3</th>\n",
              "      <th>4</th>\n",
              "      <th>5</th>\n",
              "      <th>6</th>\n",
              "    </tr>\n",
              "  </thead>\n",
              "  <tbody>\n",
              "    <tr>\n",
              "      <th>0</th>\n",
              "      <td>0.63</td>\n",
              "      <td>0.5</td>\n",
              "      <td>0.175</td>\n",
              "      <td>1.1105</td>\n",
              "      <td>0.467</td>\n",
              "      <td>0.268</td>\n",
              "      <td>0.329</td>\n",
              "    </tr>\n",
              "    <tr>\n",
              "      <th>1</th>\n",
              "      <td>0.63</td>\n",
              "      <td>0.455</td>\n",
              "      <td>0.15</td>\n",
              "      <td>1.1315</td>\n",
              "      <td>0.481</td>\n",
              "      <td>0.2745</td>\n",
              "      <td>0.305</td>\n",
              "    </tr>\n",
              "    <tr>\n",
              "      <th>2</th>\n",
              "      <td>0.63</td>\n",
              "      <td>0.48</td>\n",
              "      <td>0.15</td>\n",
              "      <td>1.271</td>\n",
              "      <td>0.6605</td>\n",
              "      <td>0.2425</td>\n",
              "      <td>0.31</td>\n",
              "    </tr>\n",
              "    <tr>\n",
              "      <th>3</th>\n",
              "      <td>0.63</td>\n",
              "      <td>0.49</td>\n",
              "      <td>0.225</td>\n",
              "      <td>1.336</td>\n",
              "      <td>0.6805</td>\n",
              "      <td>0.259</td>\n",
              "      <td>0.3245</td>\n",
              "    </tr>\n",
              "    <tr>\n",
              "      <th>4</th>\n",
              "      <td>0.635</td>\n",
              "      <td>0.505</td>\n",
              "      <td>0.145</td>\n",
              "      <td>1.1345</td>\n",
              "      <td>0.505</td>\n",
              "      <td>0.2655</td>\n",
              "      <td>0.315</td>\n",
              "    </tr>\n",
              "    <tr>\n",
              "      <th>...</th>\n",
              "      <td>...</td>\n",
              "      <td>...</td>\n",
              "      <td>...</td>\n",
              "      <td>...</td>\n",
              "      <td>...</td>\n",
              "      <td>...</td>\n",
              "      <td>...</td>\n",
              "    </tr>\n",
              "    <tr>\n",
              "      <th>245</th>\n",
              "      <td>0.69</td>\n",
              "      <td>0.55</td>\n",
              "      <td>0.2</td>\n",
              "      <td>1.569</td>\n",
              "      <td>0.687</td>\n",
              "      <td>0.3675</td>\n",
              "      <td>0.46</td>\n",
              "    </tr>\n",
              "    <tr>\n",
              "      <th>246</th>\n",
              "      <td>0.7</td>\n",
              "      <td>0.565</td>\n",
              "      <td>0.175</td>\n",
              "      <td>1.8565</td>\n",
              "      <td>0.8445</td>\n",
              "      <td>0.3935</td>\n",
              "      <td>0.54</td>\n",
              "    </tr>\n",
              "    <tr>\n",
              "      <th>247</th>\n",
              "      <td>0.7</td>\n",
              "      <td>0.535</td>\n",
              "      <td>0.175</td>\n",
              "      <td>1.773</td>\n",
              "      <td>0.6805</td>\n",
              "      <td>0.48</td>\n",
              "      <td>0.512</td>\n",
              "    </tr>\n",
              "    <tr>\n",
              "      <th>248</th>\n",
              "      <td>0.705</td>\n",
              "      <td>0.545</td>\n",
              "      <td>0.17</td>\n",
              "      <td>1.58</td>\n",
              "      <td>0.6435</td>\n",
              "      <td>0.4565</td>\n",
              "      <td>0.265</td>\n",
              "    </tr>\n",
              "    <tr>\n",
              "      <th>249</th>\n",
              "      <td>0.71</td>\n",
              "      <td>0.575</td>\n",
              "      <td>0.215</td>\n",
              "      <td>2.009</td>\n",
              "      <td>0.9895</td>\n",
              "      <td>0.4475</td>\n",
              "      <td>0.502</td>\n",
              "    </tr>\n",
              "  </tbody>\n",
              "</table>\n",
              "<p>250 rows × 7 columns</p>\n",
              "</div>\n",
              "      <button class=\"colab-df-convert\" onclick=\"convertToInteractive('df-51c0a6ee-dab1-4d13-8574-dd50095540e9')\"\n",
              "              title=\"Convert this dataframe to an interactive table.\"\n",
              "              style=\"display:none;\">\n",
              "        \n",
              "  <svg xmlns=\"http://www.w3.org/2000/svg\" height=\"24px\"viewBox=\"0 0 24 24\"\n",
              "       width=\"24px\">\n",
              "    <path d=\"M0 0h24v24H0V0z\" fill=\"none\"/>\n",
              "    <path d=\"M18.56 5.44l.94 2.06.94-2.06 2.06-.94-2.06-.94-.94-2.06-.94 2.06-2.06.94zm-11 1L8.5 8.5l.94-2.06 2.06-.94-2.06-.94L8.5 2.5l-.94 2.06-2.06.94zm10 10l.94 2.06.94-2.06 2.06-.94-2.06-.94-.94-2.06-.94 2.06-2.06.94z\"/><path d=\"M17.41 7.96l-1.37-1.37c-.4-.4-.92-.59-1.43-.59-.52 0-1.04.2-1.43.59L10.3 9.45l-7.72 7.72c-.78.78-.78 2.05 0 2.83L4 21.41c.39.39.9.59 1.41.59.51 0 1.02-.2 1.41-.59l7.78-7.78 2.81-2.81c.8-.78.8-2.07 0-2.86zM5.41 20L4 18.59l7.72-7.72 1.47 1.35L5.41 20z\"/>\n",
              "  </svg>\n",
              "      </button>\n",
              "      \n",
              "  <style>\n",
              "    .colab-df-container {\n",
              "      display:flex;\n",
              "      flex-wrap:wrap;\n",
              "      gap: 12px;\n",
              "    }\n",
              "\n",
              "    .colab-df-convert {\n",
              "      background-color: #E8F0FE;\n",
              "      border: none;\n",
              "      border-radius: 50%;\n",
              "      cursor: pointer;\n",
              "      display: none;\n",
              "      fill: #1967D2;\n",
              "      height: 32px;\n",
              "      padding: 0 0 0 0;\n",
              "      width: 32px;\n",
              "    }\n",
              "\n",
              "    .colab-df-convert:hover {\n",
              "      background-color: #E2EBFA;\n",
              "      box-shadow: 0px 1px 2px rgba(60, 64, 67, 0.3), 0px 1px 3px 1px rgba(60, 64, 67, 0.15);\n",
              "      fill: #174EA6;\n",
              "    }\n",
              "\n",
              "    [theme=dark] .colab-df-convert {\n",
              "      background-color: #3B4455;\n",
              "      fill: #D2E3FC;\n",
              "    }\n",
              "\n",
              "    [theme=dark] .colab-df-convert:hover {\n",
              "      background-color: #434B5C;\n",
              "      box-shadow: 0px 1px 3px 1px rgba(0, 0, 0, 0.15);\n",
              "      filter: drop-shadow(0px 1px 2px rgba(0, 0, 0, 0.3));\n",
              "      fill: #FFFFFF;\n",
              "    }\n",
              "  </style>\n",
              "\n",
              "      <script>\n",
              "        const buttonEl =\n",
              "          document.querySelector('#df-51c0a6ee-dab1-4d13-8574-dd50095540e9 button.colab-df-convert');\n",
              "        buttonEl.style.display =\n",
              "          google.colab.kernel.accessAllowed ? 'block' : 'none';\n",
              "\n",
              "        async function convertToInteractive(key) {\n",
              "          const element = document.querySelector('#df-51c0a6ee-dab1-4d13-8574-dd50095540e9');\n",
              "          const dataTable =\n",
              "            await google.colab.kernel.invokeFunction('convertToInteractive',\n",
              "                                                     [key], {});\n",
              "          if (!dataTable) return;\n",
              "\n",
              "          const docLinkHtml = 'Like what you see? Visit the ' +\n",
              "            '<a target=\"_blank\" href=https://colab.research.google.com/notebooks/data_table.ipynb>data table notebook</a>'\n",
              "            + ' to learn more about interactive tables.';\n",
              "          element.innerHTML = '';\n",
              "          dataTable['output_type'] = 'display_data';\n",
              "          await google.colab.output.renderOutput(dataTable, element);\n",
              "          const docLink = document.createElement('div');\n",
              "          docLink.innerHTML = docLinkHtml;\n",
              "          element.appendChild(docLink);\n",
              "        }\n",
              "      </script>\n",
              "    </div>\n",
              "  </div>\n",
              "  "
            ],
            "text/plain": [
              "         0      1      2       3       4       5       6\n",
              "0     0.63    0.5  0.175  1.1105   0.467   0.268   0.329\n",
              "1     0.63  0.455   0.15  1.1315   0.481  0.2745   0.305\n",
              "2     0.63   0.48   0.15   1.271  0.6605  0.2425    0.31\n",
              "3     0.63   0.49  0.225   1.336  0.6805   0.259  0.3245\n",
              "4    0.635  0.505  0.145  1.1345   0.505  0.2655   0.315\n",
              "..     ...    ...    ...     ...     ...     ...     ...\n",
              "245   0.69   0.55    0.2   1.569   0.687  0.3675    0.46\n",
              "246    0.7  0.565  0.175  1.8565  0.8445  0.3935    0.54\n",
              "247    0.7  0.535  0.175   1.773  0.6805    0.48   0.512\n",
              "248  0.705  0.545   0.17    1.58  0.6435  0.4565   0.265\n",
              "249   0.71  0.575  0.215   2.009  0.9895  0.4475   0.502\n",
              "\n",
              "[250 rows x 7 columns]"
            ]
          },
          "metadata": {},
          "execution_count": 7
        }
      ]
    },
    {
      "cell_type": "code",
      "source": [
        "st = StandardScaler().fit_transform(df)\n",
        "st"
      ],
      "metadata": {
        "colab": {
          "base_uri": "https://localhost:8080/"
        },
        "id": "z_i9x-93-TFC",
        "outputId": "6c6add44-09ed-495c-8a1d-41ee0ce86ced"
      },
      "execution_count": null,
      "outputs": [
        {
          "output_type": "execute_result",
          "data": {
            "text/plain": [
              "array([[ 0.59432738,  0.69692043,  0.79236885, ...,  0.11772832,\n",
              "         0.5284843 ,  0.49069186],\n",
              "       [ 0.59432738,  0.14575313,  0.04145068, ...,  0.18092119,\n",
              "         0.59087347,  0.28823338],\n",
              "       [ 0.59432738,  0.45195718,  0.04145068, ...,  0.99114409,\n",
              "         0.28372677,  0.33041223],\n",
              "       ...,\n",
              "       [ 1.30695013,  1.12560611,  0.79236885, ...,  1.08141962,\n",
              "         2.56333121,  2.03443774],\n",
              "       [ 1.35785176,  1.24808773,  0.64218522, ...,  0.91440989,\n",
              "         2.33777035, -0.04919741],\n",
              "       [ 1.40875339,  1.61553259,  1.99383792, ...,  2.47617658,\n",
              "         2.25138534,  1.95008004]])"
            ]
          },
          "metadata": {},
          "execution_count": 8
        }
      ]
    },
    {
      "cell_type": "markdown",
      "source": [
        "###K-means 2"
      ],
      "metadata": {
        "id": "4eP8fA03qC3E"
      }
    },
    {
      "cell_type": "code",
      "source": [
        "k_means2 = KMeans(n_clusters = 2)\n",
        "k_means2.fit(st)\n",
        "centers = k_means2.cluster_centers_\n",
        "labels2 =k_means2.labels_\n",
        "plt.scatter(st[:,0],st[:,1], c=labels2, cmap = 'icefire_r')\n",
        "plt.scatter(centers[0][0],centers[0][1])\n",
        "plt.scatter(centers[1][0],centers[1][1])\n"
      ],
      "metadata": {
        "colab": {
          "base_uri": "https://localhost:8080/",
          "height": 282
        },
        "id": "NrXss2R0ERq2",
        "outputId": "ecff71fd-f5fc-43eb-c8ae-0dd49dd7f8c9"
      },
      "execution_count": null,
      "outputs": [
        {
          "output_type": "execute_result",
          "data": {
            "text/plain": [
              "<matplotlib.collections.PathCollection at 0x7ff2e40b7390>"
            ]
          },
          "metadata": {},
          "execution_count": 9
        },
        {
          "output_type": "display_data",
          "data": {
            "image/png": "[encoded data removed]",
            "text/plain": [
              "<Figure size 432x288 with 1 Axes>"
            ]
          },
          "metadata": {
            "needs_background": "light"
          }
        }
      ]
    },
    {
      "cell_type": "code",
      "source": [
        "dot = pd.DataFrame(data = st)\n",
        "dot[7] = pd.DataFrame(data = labels2)"
      ],
      "metadata": {
        "id": "mBg5ZRikq3N5"
      },
      "execution_count": null,
      "outputs": []
    },
    {
      "cell_type": "code",
      "source": [
        "#діаметри\n",
        "class_0 = dot[dot[7] == 0].reset_index(drop=True).drop(columns = 7)\n",
        "class_1 = dot[dot[7] == 1].reset_index(drop=True).drop(columns = 7)\n",
        "\n",
        "dists0 = euclidean_distances(class_0).max()\n",
        "dists1 = euclidean_distances(class_1).max()\n",
        "\n",
        "dists0, dists1"
      ],
      "metadata": {
        "colab": {
          "base_uri": "https://localhost:8080/"
        },
        "id": "KUoFO0T2q_gN",
        "outputId": "037bb5af-8369-4c64-f03b-4ec44f229b80"
      },
      "execution_count": null,
      "outputs": [
        {
          "output_type": "execute_result",
          "data": {
            "text/plain": [
              "(7.039754338348936, 7.061222880807566)"
            ]
          },
          "metadata": {},
          "execution_count": 11
        }
      ]
    },
    {
      "cell_type": "code",
      "source": [
        "#радіус\n",
        "radius_class_0 = np.linalg.norm(class_0 - centers[0], axis=1).reshape(-1,1).max()\n",
        "radius_class_1 = np.linalg.norm(class_1 - centers[1], axis=1).reshape(-1,1).max()\n",
        "radius_class_0, radius_class_1"
      ],
      "metadata": {
        "colab": {
          "base_uri": "https://localhost:8080/"
        },
        "id": "LzjtbJrrrDCF",
        "outputId": "e2aabfe0-50d3-48d5-98ec-dd23d299ad95"
      },
      "execution_count": null,
      "outputs": [
        {
          "output_type": "execute_result",
          "data": {
            "text/plain": [
              "(4.996744106201441, 4.809822671717987)"
            ]
          },
          "metadata": {},
          "execution_count": 12
        }
      ]
    },
    {
      "cell_type": "code",
      "source": [
        "#міжкластерна відстань\n",
        "class_dists = euclidean_distances(centers).max()\n",
        "class_dists"
      ],
      "metadata": {
        "colab": {
          "base_uri": "https://localhost:8080/"
        },
        "id": "axDG3ehirFlA",
        "outputId": "32d9eb70-7af2-47fa-aa31-dfd9eb0b7e30"
      },
      "execution_count": null,
      "outputs": [
        {
          "output_type": "execute_result",
          "data": {
            "text/plain": [
              "4.2466344865690715"
            ]
          },
          "metadata": {},
          "execution_count": 13
        }
      ]
    },
    {
      "cell_type": "code",
      "source": [
        "#близькість кластерів(одиночний зв'язок)\n",
        "class_0 = dot[dot[7] == 0]\n",
        "class_0 = class_0.reset_index(drop=True).drop(columns = 7)\n",
        "\n",
        "class_1 = dot[dot[7] == 1]\n",
        "class_1 = class_1.reset_index(drop=True).drop(columns = 7)\n",
        "\n",
        "join = cdist(class_0, class_1).min()\n",
        "join"
      ],
      "metadata": {
        "colab": {
          "base_uri": "https://localhost:8080/"
        },
        "id": "034WQp9_rIH9",
        "outputId": "6a6ccce8-80eb-4a90-9256-4b2c9534512f"
      },
      "execution_count": null,
      "outputs": [
        {
          "output_type": "execute_result",
          "data": {
            "text/plain": [
              "0.3451697584216503"
            ]
          },
          "metadata": {},
          "execution_count": 14
        }
      ]
    },
    {
      "cell_type": "markdown",
      "source": [
        "###K-means3"
      ],
      "metadata": {
        "id": "QdpTMOdqqzU5"
      }
    },
    {
      "cell_type": "code",
      "source": [
        "k_means3 = KMeans(n_clusters = 3)\n",
        "k_means3.fit(st)\n",
        "centers = k_means3.cluster_centers_\n",
        "labels3 =k_means3.labels_\n",
        "plt.scatter(st[:,0],st[:,1], c=labels3, cmap = 'icefire_r')\n",
        "plt.scatter(centers[0][0],centers[0][1])\n",
        "plt.scatter(centers[1][0],centers[1][1])\n",
        "plt.scatter(centers[2][0],centers[2][1])"
      ],
      "metadata": {
        "colab": {
          "base_uri": "https://localhost:8080/",
          "height": 282
        },
        "id": "COVuQSLfofk7",
        "outputId": "87ba79fe-95cc-4e06-96b2-9b65ae12b530"
      },
      "execution_count": null,
      "outputs": [
        {
          "output_type": "execute_result",
          "data": {
            "text/plain": [
              "<matplotlib.collections.PathCollection at 0x7ff2da11af90>"
            ]
          },
          "metadata": {},
          "execution_count": 15
        },
        {
          "output_type": "display_data",
          "data": {
            "image/png": "[encoded data removed]",
            "text/plain": [
              "<Figure size 432x288 with 1 Axes>"
            ]
          },
          "metadata": {
            "needs_background": "light"
          }
        }
      ]
    },
    {
      "cell_type": "code",
      "source": [
        "dot = pd.DataFrame(data = st)\n",
        "dot[7] = pd.DataFrame(data = labels3)"
      ],
      "metadata": {
        "id": "KIARcWaCq2LW"
      },
      "execution_count": null,
      "outputs": []
    },
    {
      "cell_type": "code",
      "source": [
        "#діаметри\n",
        "class_0 = dot[dot[7] == 0].reset_index(drop=True).drop(columns = 7)\n",
        "class_1 = dot[dot[7] == 1].reset_index(drop=True).drop(columns = 7)\n",
        "class_2 = dot[dot[7] == 2].reset_index(drop=True).drop(columns = 7)\n",
        "\n",
        "dists0 = euclidean_distances(class_0).max()\n",
        "dists1 = euclidean_distances(class_1).max()\n",
        "dists2 = euclidean_distances(class_2).max()\n",
        "\n",
        "dists0, dists1, dists2"
      ],
      "metadata": {
        "colab": {
          "base_uri": "https://localhost:8080/"
        },
        "id": "6GQVH4aLyWcW",
        "outputId": "259994c6-1933-45fb-8d78-10c9ee266c20"
      },
      "execution_count": null,
      "outputs": [
        {
          "output_type": "execute_result",
          "data": {
            "text/plain": [
              "(5.858455147394272, 4.954141912152787, 3.378021522774352)"
            ]
          },
          "metadata": {},
          "execution_count": 17
        }
      ]
    },
    {
      "cell_type": "code",
      "source": [
        "#радіус\n",
        "radius_class_0 = np.linalg.norm(class_0 - centers[0], axis=1).reshape(-1,1).max()\n",
        "radius_class_1 = np.linalg.norm(class_1 - centers[1], axis=1).reshape(-1,1).max()\n",
        "radius_class_2 = np.linalg.norm(class_2 - centers[2], axis=1).reshape(-1,1).max()\n",
        "radius_class_0, radius_class_1, radius_class_2"
      ],
      "metadata": {
        "colab": {
          "base_uri": "https://localhost:8080/"
        },
        "id": "hscFKKHVug7J",
        "outputId": "01b7bcae-8cf8-4b9a-a1e7-db73e05349ec"
      },
      "execution_count": null,
      "outputs": [
        {
          "output_type": "execute_result",
          "data": {
            "text/plain": [
              "(4.435636615583771, 3.2128493690337594, 1.8686223750316693)"
            ]
          },
          "metadata": {},
          "execution_count": 18
        }
      ]
    },
    {
      "cell_type": "code",
      "source": [
        "#міжкластерна відстань\n",
        "class_dists = euclidean_distances(centers).max()\n",
        "class_dists"
      ],
      "metadata": {
        "colab": {
          "base_uri": "https://localhost:8080/"
        },
        "id": "1uHKjb2quzUi",
        "outputId": "3a750515-0a9d-46c7-a210-0017f2767866"
      },
      "execution_count": null,
      "outputs": [
        {
          "output_type": "execute_result",
          "data": {
            "text/plain": [
              "6.455694601785148"
            ]
          },
          "metadata": {},
          "execution_count": 19
        }
      ]
    },
    {
      "cell_type": "code",
      "source": [
        "#близькість кластерів(одиночний зв'язок)\n",
        "class_0 = dot[dot[7] == 0].reset_index(drop=True).drop(columns = 7)\n",
        "class_1 = dot[dot[7] == 1].reset_index(drop=True).drop(columns = 7)\n",
        "class_2 = dot[dot[7] == 2].reset_index(drop=True).drop(columns = 7)\n",
        "\n",
        "join01 = cdist(class_0, class_1).min()\n",
        "join02 = cdist(class_0, class_2).min()\n",
        "join12 = cdist(class_1, class_2).min()\n",
        "\n",
        "join01, join02, join12"
      ],
      "metadata": {
        "colab": {
          "base_uri": "https://localhost:8080/"
        },
        "id": "poZbZSeqvZVV",
        "outputId": "8ac2f09b-e075-4d73-b5a9-9b9280979498"
      },
      "execution_count": null,
      "outputs": [
        {
          "output_type": "execute_result",
          "data": {
            "text/plain": [
              "(3.4541229243154628, 0.36743886144759935, 0.4254881603752529)"
            ]
          },
          "metadata": {},
          "execution_count": 20
        }
      ]
    },
    {
      "cell_type": "markdown",
      "source": [
        "###Agglomerative"
      ],
      "metadata": {
        "id": "TAiDXSyJG5aO"
      }
    },
    {
      "cell_type": "code",
      "source": [
        "Agglomerat2 = AgglomerativeClustering(n_clusters=2, affinity='euclidean')\n",
        "Agglomerat2 = Agglomerat2.fit_predict(st)\n",
        "plt.scatter(st[:,0],st[:,1], c = Agglomerat2, cmap='icefire_r')"
      ],
      "metadata": {
        "colab": {
          "base_uri": "https://localhost:8080/",
          "height": 282
        },
        "id": "NQxN0LvdFcNu",
        "outputId": "9aced2ea-fc47-44a3-8f1f-0e4c95fe4193"
      },
      "execution_count": null,
      "outputs": [
        {
          "output_type": "execute_result",
          "data": {
            "text/plain": [
              "<matplotlib.collections.PathCollection at 0x7ff2da0aa190>"
            ]
          },
          "metadata": {},
          "execution_count": 21
        },
        {
          "output_type": "display_data",
          "data": {
            "image/png": "[encoded data removed]",
            "text/plain": [
              "<Figure size 432x288 with 1 Axes>"
            ]
          },
          "metadata": {
            "needs_background": "light"
          }
        }
      ]
    },
    {
      "cell_type": "code",
      "source": [
        "Agglomerat3 = AgglomerativeClustering(n_clusters=3, affinity='euclidean')\n",
        "Agglomerat3 = Agglomerat3.fit_predict(st)\n",
        "plt.scatter(st[:,0],st[:,1], c=Agglomerat3, cmap='icefire_r')"
      ],
      "metadata": {
        "colab": {
          "base_uri": "https://localhost:8080/",
          "height": 282
        },
        "id": "_t1xCfM3KNYW",
        "outputId": "b35bb1e7-68fa-423c-d662-20f294013592"
      },
      "execution_count": null,
      "outputs": [
        {
          "output_type": "execute_result",
          "data": {
            "text/plain": [
              "<matplotlib.collections.PathCollection at 0x7ff2da0293d0>"
            ]
          },
          "metadata": {},
          "execution_count": 22
        },
        {
          "output_type": "display_data",
          "data": {
            "image/png": "[encoded data removed]",
            "text/plain": [
              "<Figure size 432x288 with 1 Axes>"
            ]
          },
          "metadata": {
            "needs_background": "light"
          }
        }
      ]
    },
    {
      "cell_type": "markdown",
      "source": [
        "###Spectral"
      ],
      "metadata": {
        "id": "PazDFpKuHDn1"
      }
    },
    {
      "cell_type": "code",
      "source": [
        "Spectral2 = SpectralClustering(n_clusters=2, assign_labels='discretize', random_state=0)\n",
        "Spectral2 = Spectral2.fit_predict(st)\n",
        "plt.scatter(st[:,0],st[:,1], c=Spectral2, cmap='icefire_r')"
      ],
      "metadata": {
        "colab": {
          "base_uri": "https://localhost:8080/",
          "height": 282
        },
        "id": "P6hmSt6AKRdT",
        "outputId": "f3357231-9c92-4f7b-cdde-1d04ba8eb4d6"
      },
      "execution_count": null,
      "outputs": [
        {
          "output_type": "execute_result",
          "data": {
            "text/plain": [
              "<matplotlib.collections.PathCollection at 0x7ff2da0121d0>"
            ]
          },
          "metadata": {},
          "execution_count": 23
        },
        {
          "output_type": "display_data",
          "data": {
            "image/png": "[encoded data removed]",
            "text/plain": [
              "<Figure size 432x288 with 1 Axes>"
            ]
          },
          "metadata": {
            "needs_background": "light"
          }
        }
      ]
    },
    {
      "cell_type": "code",
      "source": [
        "Spectral3 = SpectralClustering(n_clusters=3, assign_labels='discretize', random_state=0)\n",
        "Spectral3p = Spectral3.fit_predict(st)\n",
        "plt.scatter(st[:,0],st[:,1], c=Spectral3p, cmap='icefire_r')"
      ],
      "metadata": {
        "colab": {
          "base_uri": "https://localhost:8080/",
          "height": 282
        },
        "id": "PQJTTp1yX9oT",
        "outputId": "a9aab113-f26e-47b0-8996-95d710ef3d10"
      },
      "execution_count": null,
      "outputs": [
        {
          "output_type": "execute_result",
          "data": {
            "text/plain": [
              "<matplotlib.collections.PathCollection at 0x7ff2d7f30c90>"
            ]
          },
          "metadata": {},
          "execution_count": 24
        },
        {
          "output_type": "display_data",
          "data": {
            "image/png": "[encoded data removed]",
            "text/plain": [
              "<Figure size 432x288 with 1 Axes>"
            ]
          },
          "metadata": {
            "needs_background": "light"
          }
        }
      ]
    },
    {
      "cell_type": "markdown",
      "source": [
        "###Дендрограма для перших 100 записів."
      ],
      "metadata": {
        "id": "buRXKuiyHGLu"
      }
    },
    {
      "cell_type": "code",
      "source": [
        "fig = ff.create_dendrogram(df.values[:100])\n",
        "fig.update_layout(width=1200, height=600)\n",
        "fig.show()"
      ],
      "metadata": {
        "colab": {
          "base_uri": "https://localhost:8080/",
          "height": 617
        },
        "id": "X5kt7X0RNOFg",
        "outputId": "de344753-7424-4b3d-d59a-c1f96bcd15e8"
      },
      "execution_count": null,
      "outputs": [
        {
          "output_type": "display_data",
          "data": {
            "text/html": [
              "<html>\n",
              "<head><meta charset=\"utf-8\" /></head>\n",
              "<body>\n",
              "    <div>\n",
              "            <script src=\"https://cdnjs.cloudflare.com/ajax/libs/mathjax/2.7.5/MathJax.js?config=TeX-AMS-MML_SVG\"></script><script type=\"text/javascript\">if (window.MathJax) {MathJax.Hub.Config({SVG: {font: \"STIX-Web\"}});}</script>\n",
              "                <script type=\"text/javascript\">window.PlotlyConfig = {MathJaxConfig: 'local'};</script>\n",
              "        <script src=\"https://cdn.plot.ly/plotly-latest.min.js\"></script>    \n",
              "            <div id=\"bf727a0a-131e-400d-be0f-dbc88756cc43\" class=\"plotly-graph-div\" style=\"height:600px; width:1200px;\"></div>\n",
              "            <script type=\"text/javascript\">\n",
              "                \n",
              "                    window.PLOTLYENV=window.PLOTLYENV || {};\n",
              "                    \n",
              "                if (document.getElementById(\"bf727a0a-131e-400d-be0f-dbc88756cc43\")) {\n",
              "                    Plotly.newPlot(\n",
              "                        'bf727a0a-131e-400d-be0f-dbc88756cc43',\n",
              "                        [{\"hoverinfo\": \"text\", \"marker\": {\"color\": \"rgb(61,153,112)\"}, \"mode\": \"lines\", \"type\": \"scatter\", \"x\": [35.0, 35.0, 45.0, 45.0], \"xaxis\": \"x\", \"y\": [0.0, 0.02247220505424424, 0.02247220505424424, 0.0], \"yaxis\": \"y\"}, {\"hoverinfo\": \"text\", \"marker\": {\"color\": \"rgb(61,153,112)\"}, \"mode\": \"lines\", \"type\": \"scatter\", \"x\": [25.0, 25.0, 40.0, 40.0], \"xaxis\": \"x\", \"y\": [0.0, 0.043005813560494356, 0.043005813560494356, 0.02247220505424424], \"yaxis\": \"y\"}, {\"hoverinfo\": \"text\", \"marker\": {\"color\": \"rgb(61,153,112)\"}, \"mode\": \"lines\", \"type\": \"scatter\", \"x\": [15.0, 15.0, 32.5, 32.5], \"xaxis\": \"x\", \"y\": [0.0, 0.06881496930174423, 0.06881496930174423, 0.043005813560494356], \"yaxis\": \"y\"}, {\"hoverinfo\": \"text\", \"marker\": {\"color\": \"rgb(61,153,112)\"}, \"mode\": \"lines\", \"type\": \"scatter\", \"x\": [5.0, 5.0, 23.75, 23.75], \"xaxis\": \"x\", \"y\": [0.0, 0.1647824323160694, 0.1647824323160694, 0.06881496930174423], \"yaxis\": \"y\"}, {\"hoverinfo\": \"text\", \"marker\": {\"color\": \"rgb(61,153,112)\"}, \"mode\": \"lines\", \"type\": \"scatter\", \"x\": [55.0, 55.0, 65.0, 65.0], \"xaxis\": \"x\", \"y\": [0.0, 0.02667395733669829, 0.02667395733669829, 0.0], \"yaxis\": \"y\"}, {\"hoverinfo\": \"text\", \"marker\": {\"color\": \"rgb(61,153,112)\"}, \"mode\": \"lines\", \"type\": \"scatter\", \"x\": [85.0, 85.0, 95.0, 95.0], \"xaxis\": \"x\", \"y\": [0.0, 0.03053686296920492, 0.03053686296920492, 0.0], \"yaxis\": \"y\"}, {\"hoverinfo\": \"text\", \"marker\": {\"color\": \"rgb(61,153,112)\"}, \"mode\": \"lines\", \"type\": \"scatter\", \"x\": [75.0, 75.0, 90.0, 90.0], \"xaxis\": \"x\", \"y\": [0.0, 0.04221670285562337, 0.04221670285562337, 0.03053686296920492], \"yaxis\": \"y\"}, {\"hoverinfo\": \"text\", \"marker\": {\"color\": \"rgb(61,153,112)\"}, \"mode\": \"lines\", \"type\": \"scatter\", \"x\": [60.0, 60.0, 82.5, 82.5], \"xaxis\": \"x\", \"y\": [0.02667395733669829, 0.05794393842327253, 0.05794393842327253, 0.04221670285562337], \"yaxis\": \"y\"}, {\"hoverinfo\": \"text\", \"marker\": {\"color\": \"rgb(61,153,112)\"}, \"mode\": \"lines\", \"type\": \"scatter\", \"x\": [115.0, 115.0, 125.0, 125.0], \"xaxis\": \"x\", \"y\": [0.0, 0.021242645786248023, 0.021242645786248023, 0.0], \"yaxis\": \"y\"}, {\"hoverinfo\": \"text\", \"marker\": {\"color\": \"rgb(61,153,112)\"}, \"mode\": \"lines\", \"type\": \"scatter\", \"x\": [135.0, 135.0, 145.0, 145.0], \"xaxis\": \"x\", \"y\": [0.0, 0.022011360703055143, 0.022011360703055143, 0.0], \"yaxis\": \"y\"}, {\"hoverinfo\": \"text\", \"marker\": {\"color\": \"rgb(61,153,112)\"}, \"mode\": \"lines\", \"type\": \"scatter\", \"x\": [120.0, 120.0, 140.0, 140.0], \"xaxis\": \"x\", \"y\": [0.021242645786248023, 0.04101219330881979, 0.04101219330881979, 0.022011360703055143], \"yaxis\": \"y\"}, {\"hoverinfo\": \"text\", \"marker\": {\"color\": \"rgb(61,153,112)\"}, \"mode\": \"lines\", \"type\": \"scatter\", \"x\": [105.0, 105.0, 130.0, 130.0], \"xaxis\": \"x\", \"y\": [0.0, 0.06670269859608378, 0.06670269859608378, 0.04101219330881979], \"yaxis\": \"y\"}, {\"hoverinfo\": \"text\", \"marker\": {\"color\": \"rgb(61,153,112)\"}, \"mode\": \"lines\", \"type\": \"scatter\", \"x\": [71.25, 71.25, 117.5, 117.5], \"xaxis\": \"x\", \"y\": [0.05794393842327253, 0.1151216747619665, 0.1151216747619665, 0.06670269859608378], \"yaxis\": \"y\"}, {\"hoverinfo\": \"text\", \"marker\": {\"color\": \"rgb(61,153,112)\"}, \"mode\": \"lines\", \"type\": \"scatter\", \"x\": [175.0, 175.0, 185.0, 185.0], \"xaxis\": \"x\", \"y\": [0.0, 0.011874342087037925, 0.011874342087037925, 0.0], \"yaxis\": \"y\"}, {\"hoverinfo\": \"text\", \"marker\": {\"color\": \"rgb(61,153,112)\"}, \"mode\": \"lines\", \"type\": \"scatter\", \"x\": [165.0, 165.0, 180.0, 180.0], \"xaxis\": \"x\", \"y\": [0.0, 0.018391574157749523, 0.018391574157749523, 0.011874342087037925], \"yaxis\": \"y\"}, {\"hoverinfo\": \"text\", \"marker\": {\"color\": \"rgb(61,153,112)\"}, \"mode\": \"lines\", \"type\": \"scatter\", \"x\": [155.0, 155.0, 172.5, 172.5], \"xaxis\": \"x\", \"y\": [0.0, 0.03262284475639729, 0.03262284475639729, 0.018391574157749523], \"yaxis\": \"y\"}, {\"hoverinfo\": \"text\", \"marker\": {\"color\": \"rgb(61,153,112)\"}, \"mode\": \"lines\", \"type\": \"scatter\", \"x\": [205.0, 205.0, 215.0, 215.0], \"xaxis\": \"x\", \"y\": [0.0, 0.018607794065928402, 0.018607794065928402, 0.0], \"yaxis\": \"y\"}, {\"hoverinfo\": \"text\", \"marker\": {\"color\": \"rgb(61,153,112)\"}, \"mode\": \"lines\", \"type\": \"scatter\", \"x\": [195.0, 195.0, 210.0, 210.0], \"xaxis\": \"x\", \"y\": [0.0, 0.024682990094394962, 0.024682990094394962, 0.018607794065928402], \"yaxis\": \"y\"}, {\"hoverinfo\": \"text\", \"marker\": {\"color\": \"rgb(61,153,112)\"}, \"mode\": \"lines\", \"type\": \"scatter\", \"x\": [235.0, 235.0, 245.0, 245.0], \"xaxis\": \"x\", \"y\": [0.0, 0.027699277968929053, 0.027699277968929053, 0.0], \"yaxis\": \"y\"}, {\"hoverinfo\": \"text\", \"marker\": {\"color\": \"rgb(61,153,112)\"}, \"mode\": \"lines\", \"type\": \"scatter\", \"x\": [225.0, 225.0, 240.0, 240.0], \"xaxis\": \"x\", \"y\": [0.0, 0.034604912945996553, 0.034604912945996553, 0.027699277968929053], \"yaxis\": \"y\"}, {\"hoverinfo\": \"text\", \"marker\": {\"color\": \"rgb(61,153,112)\"}, \"mode\": \"lines\", \"type\": \"scatter\", \"x\": [202.5, 202.5, 232.5, 232.5], \"xaxis\": \"x\", \"y\": [0.024682990094394962, 0.04562345887808156, 0.04562345887808156, 0.034604912945996553], \"yaxis\": \"y\"}, {\"hoverinfo\": \"text\", \"marker\": {\"color\": \"rgb(61,153,112)\"}, \"mode\": \"lines\", \"type\": \"scatter\", \"x\": [265.0, 265.0, 275.0, 275.0], \"xaxis\": \"x\", \"y\": [0.0, 0.01434398828778106, 0.01434398828778106, 0.0], \"yaxis\": \"y\"}, {\"hoverinfo\": \"text\", \"marker\": {\"color\": \"rgb(61,153,112)\"}, \"mode\": \"lines\", \"type\": \"scatter\", \"x\": [295.0, 295.0, 305.0, 305.0], \"xaxis\": \"x\", \"y\": [0.0, 0.01433527118683145, 0.01433527118683145, 0.0], \"yaxis\": \"y\"}, {\"hoverinfo\": \"text\", \"marker\": {\"color\": \"rgb(61,153,112)\"}, \"mode\": \"lines\", \"type\": \"scatter\", \"x\": [285.0, 285.0, 300.0, 300.0], \"xaxis\": \"x\", \"y\": [0.0, 0.023264780248263693, 0.023264780248263693, 0.01433527118683145], \"yaxis\": \"y\"}, {\"hoverinfo\": \"text\", \"marker\": {\"color\": \"rgb(61,153,112)\"}, \"mode\": \"lines\", \"type\": \"scatter\", \"x\": [270.0, 270.0, 292.5, 292.5], \"xaxis\": \"x\", \"y\": [0.01434398828778106, 0.04221670285562339, 0.04221670285562339, 0.023264780248263693], \"yaxis\": \"y\"}, {\"hoverinfo\": \"text\", \"marker\": {\"color\": \"rgb(61,153,112)\"}, \"mode\": \"lines\", \"type\": \"scatter\", \"x\": [255.0, 255.0, 281.25, 281.25], \"xaxis\": \"x\", \"y\": [0.0, 0.06083584469702053, 0.06083584469702053, 0.04221670285562339], \"yaxis\": \"y\"}, {\"hoverinfo\": \"text\", \"marker\": {\"color\": \"rgb(61,153,112)\"}, \"mode\": \"lines\", \"type\": \"scatter\", \"x\": [217.5, 217.5, 268.125, 268.125], \"xaxis\": \"x\", \"y\": [0.04562345887808156, 0.08607264373771727, 0.08607264373771727, 0.06083584469702053], \"yaxis\": \"y\"}, {\"hoverinfo\": \"text\", \"marker\": {\"color\": \"rgb(61,153,112)\"}, \"mode\": \"lines\", \"type\": \"scatter\", \"x\": [163.75, 163.75, 242.8125, 242.8125], \"xaxis\": \"x\", \"y\": [0.03262284475639729, 0.1190315084336916, 0.1190315084336916, 0.08607264373771727], \"yaxis\": \"y\"}, {\"hoverinfo\": \"text\", \"marker\": {\"color\": \"rgb(61,153,112)\"}, \"mode\": \"lines\", \"type\": \"scatter\", \"x\": [94.375, 94.375, 203.28125, 203.28125], \"xaxis\": \"x\", \"y\": [0.1151216747619665, 0.25862424480315066, 0.25862424480315066, 0.1190315084336916], \"yaxis\": \"y\"}, {\"hoverinfo\": \"text\", \"marker\": {\"color\": \"rgb(61,153,112)\"}, \"mode\": \"lines\", \"type\": \"scatter\", \"x\": [14.375, 14.375, 148.828125, 148.828125], \"xaxis\": \"x\", \"y\": [0.1647824323160694, 0.4625154051488447, 0.4625154051488447, 0.25862424480315066], \"yaxis\": \"y\"}, {\"hoverinfo\": \"text\", \"marker\": {\"color\": \"rgb(61,153,112)\"}, \"mode\": \"lines\", \"type\": \"scatter\", \"x\": [315.0, 315.0, 325.0, 325.0], \"xaxis\": \"x\", \"y\": [0.0, 0.04013103537164224, 0.04013103537164224, 0.0], \"yaxis\": \"y\"}, {\"hoverinfo\": \"text\", \"marker\": {\"color\": \"rgb(61,153,112)\"}, \"mode\": \"lines\", \"type\": \"scatter\", \"x\": [335.0, 335.0, 345.0, 345.0], \"xaxis\": \"x\", \"y\": [0.0, 0.045510987684294436, 0.045510987684294436, 0.0], \"yaxis\": \"y\"}, {\"hoverinfo\": \"text\", \"marker\": {\"color\": \"rgb(61,153,112)\"}, \"mode\": \"lines\", \"type\": \"scatter\", \"x\": [365.0, 365.0, 375.0, 375.0], \"xaxis\": \"x\", \"y\": [0.0, 0.017986105748604927, 0.017986105748604927, 0.0], \"yaxis\": \"y\"}, {\"hoverinfo\": \"text\", \"marker\": {\"color\": \"rgb(61,153,112)\"}, \"mode\": \"lines\", \"type\": \"scatter\", \"x\": [355.0, 355.0, 370.0, 370.0], \"xaxis\": \"x\", \"y\": [0.0, 0.04594834055763057, 0.04594834055763057, 0.017986105748604927], \"yaxis\": \"y\"}, {\"hoverinfo\": \"text\", \"marker\": {\"color\": \"rgb(61,153,112)\"}, \"mode\": \"lines\", \"type\": \"scatter\", \"x\": [340.0, 340.0, 362.5, 362.5], \"xaxis\": \"x\", \"y\": [0.045510987684294436, 0.06559153908851353, 0.06559153908851353, 0.04594834055763057], \"yaxis\": \"y\"}, {\"hoverinfo\": \"text\", \"marker\": {\"color\": \"rgb(61,153,112)\"}, \"mode\": \"lines\", \"type\": \"scatter\", \"x\": [320.0, 320.0, 351.25, 351.25], \"xaxis\": \"x\", \"y\": [0.04013103537164224, 0.07627417649506288, 0.07627417649506288, 0.06559153908851353], \"yaxis\": \"y\"}, {\"hoverinfo\": \"text\", \"marker\": {\"color\": \"rgb(61,153,112)\"}, \"mode\": \"lines\", \"type\": \"scatter\", \"x\": [395.0, 395.0, 405.0, 405.0], \"xaxis\": \"x\", \"y\": [0.0, 0.03070016286601751, 0.03070016286601751, 0.0], \"yaxis\": \"y\"}, {\"hoverinfo\": \"text\", \"marker\": {\"color\": \"rgb(61,153,112)\"}, \"mode\": \"lines\", \"type\": \"scatter\", \"x\": [385.0, 385.0, 400.0, 400.0], \"xaxis\": \"x\", \"y\": [0.0, 0.03775579425730574, 0.03775579425730574, 0.03070016286601751], \"yaxis\": \"y\"}, {\"hoverinfo\": \"text\", \"marker\": {\"color\": \"rgb(61,153,112)\"}, \"mode\": \"lines\", \"type\": \"scatter\", \"x\": [435.0, 435.0, 445.0, 445.0], \"xaxis\": \"x\", \"y\": [0.0, 0.015223337347638342, 0.015223337347638342, 0.0], \"yaxis\": \"y\"}, {\"hoverinfo\": \"text\", \"marker\": {\"color\": \"rgb(61,153,112)\"}, \"mode\": \"lines\", \"type\": \"scatter\", \"x\": [425.0, 425.0, 440.0, 440.0], \"xaxis\": \"x\", \"y\": [0.0, 0.037040518354904246, 0.037040518354904246, 0.015223337347638342], \"yaxis\": \"y\"}, {\"hoverinfo\": \"text\", \"marker\": {\"color\": \"rgb(61,153,112)\"}, \"mode\": \"lines\", \"type\": \"scatter\", \"x\": [415.0, 415.0, 432.5, 432.5], \"xaxis\": \"x\", \"y\": [0.0, 0.05094604989594383, 0.05094604989594383, 0.037040518354904246], \"yaxis\": \"y\"}, {\"hoverinfo\": \"text\", \"marker\": {\"color\": \"rgb(61,153,112)\"}, \"mode\": \"lines\", \"type\": \"scatter\", \"x\": [392.5, 392.5, 423.75, 423.75], \"xaxis\": \"x\", \"y\": [0.03775579425730574, 0.07742738533619743, 0.07742738533619743, 0.05094604989594383], \"yaxis\": \"y\"}, {\"hoverinfo\": \"text\", \"marker\": {\"color\": \"rgb(61,153,112)\"}, \"mode\": \"lines\", \"type\": \"scatter\", \"x\": [335.625, 335.625, 408.125, 408.125], \"xaxis\": \"x\", \"y\": [0.07627417649506288, 0.11913123016237176, 0.11913123016237176, 0.07742738533619743], \"yaxis\": \"y\"}, {\"hoverinfo\": \"text\", \"marker\": {\"color\": \"rgb(61,153,112)\"}, \"mode\": \"lines\", \"type\": \"scatter\", \"x\": [495.0, 495.0, 505.0, 505.0], \"xaxis\": \"x\", \"y\": [0.0, 0.024929901724635835, 0.024929901724635835, 0.0], \"yaxis\": \"y\"}, {\"hoverinfo\": \"text\", \"marker\": {\"color\": \"rgb(61,153,112)\"}, \"mode\": \"lines\", \"type\": \"scatter\", \"x\": [485.0, 485.0, 500.0, 500.0], \"xaxis\": \"x\", \"y\": [0.0, 0.04265852786958314, 0.04265852786958314, 0.024929901724635835], \"yaxis\": \"y\"}, {\"hoverinfo\": \"text\", \"marker\": {\"color\": \"rgb(61,153,112)\"}, \"mode\": \"lines\", \"type\": \"scatter\", \"x\": [475.0, 475.0, 492.5, 492.5], \"xaxis\": \"x\", \"y\": [0.0, 0.0647939040342531, 0.0647939040342531, 0.04265852786958314], \"yaxis\": \"y\"}, {\"hoverinfo\": \"text\", \"marker\": {\"color\": \"rgb(61,153,112)\"}, \"mode\": \"lines\", \"type\": \"scatter\", \"x\": [465.0, 465.0, 483.75, 483.75], \"xaxis\": \"x\", \"y\": [0.0, 0.09994748621151012, 0.09994748621151012, 0.0647939040342531], \"yaxis\": \"y\"}, {\"hoverinfo\": \"text\", \"marker\": {\"color\": \"rgb(61,153,112)\"}, \"mode\": \"lines\", \"type\": \"scatter\", \"x\": [455.0, 455.0, 474.375, 474.375], \"xaxis\": \"x\", \"y\": [0.0, 0.13653754062528003, 0.13653754062528003, 0.09994748621151012], \"yaxis\": \"y\"}, {\"hoverinfo\": \"text\", \"marker\": {\"color\": \"rgb(61,153,112)\"}, \"mode\": \"lines\", \"type\": \"scatter\", \"x\": [371.875, 371.875, 464.6875, 464.6875], \"xaxis\": \"x\", \"y\": [0.11913123016237176, 0.21533810624225339, 0.21533810624225339, 0.13653754062528003], \"yaxis\": \"y\"}, {\"hoverinfo\": \"text\", \"marker\": {\"color\": \"rgb(61,153,112)\"}, \"mode\": \"lines\", \"type\": \"scatter\", \"x\": [515.0, 515.0, 525.0, 525.0], \"xaxis\": \"x\", \"y\": [0.0, 0.048226030315587844, 0.048226030315587844, 0.0], \"yaxis\": \"y\"}, {\"hoverinfo\": \"text\", \"marker\": {\"color\": \"rgb(61,153,112)\"}, \"mode\": \"lines\", \"type\": \"scatter\", \"x\": [555.0, 555.0, 565.0, 565.0], \"xaxis\": \"x\", \"y\": [0.0, 0.038160843806184376, 0.038160843806184376, 0.0], \"yaxis\": \"y\"}, {\"hoverinfo\": \"text\", \"marker\": {\"color\": \"rgb(61,153,112)\"}, \"mode\": \"lines\", \"type\": \"scatter\", \"x\": [595.0, 595.0, 605.0, 605.0], \"xaxis\": \"x\", \"y\": [0.0, 0.02899568933479596, 0.02899568933479596, 0.0], \"yaxis\": \"y\"}, {\"hoverinfo\": \"text\", \"marker\": {\"color\": \"rgb(61,153,112)\"}, \"mode\": \"lines\", \"type\": \"scatter\", \"x\": [585.0, 585.0, 600.0, 600.0], \"xaxis\": \"x\", \"y\": [0.0, 0.03459407463713981, 0.03459407463713981, 0.02899568933479596], \"yaxis\": \"y\"}, {\"hoverinfo\": \"text\", \"marker\": {\"color\": \"rgb(61,153,112)\"}, \"mode\": \"lines\", \"type\": \"scatter\", \"x\": [575.0, 575.0, 592.5, 592.5], \"xaxis\": \"x\", \"y\": [0.0, 0.0477964433823271, 0.0477964433823271, 0.03459407463713981], \"yaxis\": \"y\"}, {\"hoverinfo\": \"text\", \"marker\": {\"color\": \"rgb(61,153,112)\"}, \"mode\": \"lines\", \"type\": \"scatter\", \"x\": [560.0, 560.0, 583.75, 583.75], \"xaxis\": \"x\", \"y\": [0.038160843806184376, 0.061322915781948956, 0.061322915781948956, 0.0477964433823271], \"yaxis\": \"y\"}, {\"hoverinfo\": \"text\", \"marker\": {\"color\": \"rgb(61,153,112)\"}, \"mode\": \"lines\", \"type\": \"scatter\", \"x\": [545.0, 545.0, 571.875, 571.875], \"xaxis\": \"x\", \"y\": [0.0, 0.07831666489323966, 0.07831666489323966, 0.061322915781948956], \"yaxis\": \"y\"}, {\"hoverinfo\": \"text\", \"marker\": {\"color\": \"rgb(61,153,112)\"}, \"mode\": \"lines\", \"type\": \"scatter\", \"x\": [615.0, 615.0, 625.0, 625.0], \"xaxis\": \"x\", \"y\": [0.0, 0.017392527130926063, 0.017392527130926063, 0.0], \"yaxis\": \"y\"}, {\"hoverinfo\": \"text\", \"marker\": {\"color\": \"rgb(61,153,112)\"}, \"mode\": \"lines\", \"type\": \"scatter\", \"x\": [635.0, 635.0, 645.0, 645.0], \"xaxis\": \"x\", \"y\": [0.0, 0.018316659084014197, 0.018316659084014197, 0.0], \"yaxis\": \"y\"}, {\"hoverinfo\": \"text\", \"marker\": {\"color\": \"rgb(61,153,112)\"}, \"mode\": \"lines\", \"type\": \"scatter\", \"x\": [620.0, 620.0, 640.0, 640.0], \"xaxis\": \"x\", \"y\": [0.017392527130926063, 0.0438662740610597, 0.0438662740610597, 0.018316659084014197], \"yaxis\": \"y\"}, {\"hoverinfo\": \"text\", \"marker\": {\"color\": \"rgb(61,153,112)\"}, \"mode\": \"lines\", \"type\": \"scatter\", \"x\": [675.0, 675.0, 685.0, 685.0], \"xaxis\": \"x\", \"y\": [0.0, 0.036307712679264165, 0.036307712679264165, 0.0], \"yaxis\": \"y\"}, {\"hoverinfo\": \"text\", \"marker\": {\"color\": \"rgb(61,153,112)\"}, \"mode\": \"lines\", \"type\": \"scatter\", \"x\": [665.0, 665.0, 680.0, 680.0], \"xaxis\": \"x\", \"y\": [0.0, 0.05057173123396115, 0.05057173123396115, 0.036307712679264165], \"yaxis\": \"y\"}, {\"hoverinfo\": \"text\", \"marker\": {\"color\": \"rgb(61,153,112)\"}, \"mode\": \"lines\", \"type\": \"scatter\", \"x\": [655.0, 655.0, 672.5, 672.5], \"xaxis\": \"x\", \"y\": [0.0, 0.07540557008603542, 0.07540557008603542, 0.05057173123396115], \"yaxis\": \"y\"}, {\"hoverinfo\": \"text\", \"marker\": {\"color\": \"rgb(61,153,112)\"}, \"mode\": \"lines\", \"type\": \"scatter\", \"x\": [630.0, 630.0, 663.75, 663.75], \"xaxis\": \"x\", \"y\": [0.0438662740610597, 0.08183825511336372, 0.08183825511336372, 0.07540557008603542], \"yaxis\": \"y\"}, {\"hoverinfo\": \"text\", \"marker\": {\"color\": \"rgb(61,153,112)\"}, \"mode\": \"lines\", \"type\": \"scatter\", \"x\": [558.4375, 558.4375, 646.875, 646.875], \"xaxis\": \"x\", \"y\": [0.07831666489323966, 0.10751162727816929, 0.10751162727816929, 0.08183825511336372], \"yaxis\": \"y\"}, {\"hoverinfo\": \"text\", \"marker\": {\"color\": \"rgb(61,153,112)\"}, \"mode\": \"lines\", \"type\": \"scatter\", \"x\": [535.0, 535.0, 602.65625, 602.65625], \"xaxis\": \"x\", \"y\": [0.0, 0.140313042872001, 0.140313042872001, 0.10751162727816929], \"yaxis\": \"y\"}, {\"hoverinfo\": \"text\", \"marker\": {\"color\": \"rgb(61,153,112)\"}, \"mode\": \"lines\", \"type\": \"scatter\", \"x\": [520.0, 520.0, 568.828125, 568.828125], \"xaxis\": \"x\", \"y\": [0.048226030315587844, 0.29825618183031843, 0.29825618183031843, 0.140313042872001], \"yaxis\": \"y\"}, {\"hoverinfo\": \"text\", \"marker\": {\"color\": \"rgb(61,153,112)\"}, \"mode\": \"lines\", \"type\": \"scatter\", \"x\": [418.28125, 418.28125, 544.4140625, 544.4140625], \"xaxis\": \"x\", \"y\": [0.21533810624225339, 0.528285197596904, 0.528285197596904, 0.29825618183031843], \"yaxis\": \"y\"}, {\"hoverinfo\": \"text\", \"marker\": {\"color\": \"rgb(61,153,112)\"}, \"mode\": \"lines\", \"type\": \"scatter\", \"x\": [81.6015625, 81.6015625, 481.34765625, 481.34765625], \"xaxis\": \"x\", \"y\": [0.4625154051488447, 1.0075142678890459, 1.0075142678890459, 0.528285197596904], \"yaxis\": \"y\"}, {\"hoverinfo\": \"text\", \"marker\": {\"color\": \"rgb(255,65,54)\"}, \"mode\": \"lines\", \"type\": \"scatter\", \"x\": [695.0, 695.0, 705.0, 705.0], \"xaxis\": \"x\", \"y\": [0.0, 0.356030195348653, 0.356030195348653, 0.0], \"yaxis\": \"y\"}, {\"hoverinfo\": \"text\", \"marker\": {\"color\": \"rgb(255,65,54)\"}, \"mode\": \"lines\", \"type\": \"scatter\", \"x\": [735.0, 735.0, 745.0, 745.0], \"xaxis\": \"x\", \"y\": [0.0, 0.05632273075766125, 0.05632273075766125, 0.0], \"yaxis\": \"y\"}, {\"hoverinfo\": \"text\", \"marker\": {\"color\": \"rgb(255,65,54)\"}, \"mode\": \"lines\", \"type\": \"scatter\", \"x\": [725.0, 725.0, 740.0, 740.0], \"xaxis\": \"x\", \"y\": [0.0, 0.06249199948793441, 0.06249199948793441, 0.05632273075766125], \"yaxis\": \"y\"}, {\"hoverinfo\": \"text\", \"marker\": {\"color\": \"rgb(255,65,54)\"}, \"mode\": \"lines\", \"type\": \"scatter\", \"x\": [715.0, 715.0, 732.5, 732.5], \"xaxis\": \"x\", \"y\": [0.0, 0.14025155970612235, 0.14025155970612235, 0.06249199948793441], \"yaxis\": \"y\"}, {\"hoverinfo\": \"text\", \"marker\": {\"color\": \"rgb(255,65,54)\"}, \"mode\": \"lines\", \"type\": \"scatter\", \"x\": [755.0, 755.0, 765.0, 765.0], \"xaxis\": \"x\", \"y\": [0.0, 0.051935055598314316, 0.051935055598314316, 0.0], \"yaxis\": \"y\"}, {\"hoverinfo\": \"text\", \"marker\": {\"color\": \"rgb(255,65,54)\"}, \"mode\": \"lines\", \"type\": \"scatter\", \"x\": [775.0, 775.0, 785.0, 785.0], \"xaxis\": \"x\", \"y\": [0.0, 0.06192132104533946, 0.06192132104533946, 0.0], \"yaxis\": \"y\"}, {\"hoverinfo\": \"text\", \"marker\": {\"color\": \"rgb(255,65,54)\"}, \"mode\": \"lines\", \"type\": \"scatter\", \"x\": [760.0, 760.0, 780.0, 780.0], \"xaxis\": \"x\", \"y\": [0.051935055598314316, 0.10886918756011728, 0.10886918756011728, 0.06192132104533946], \"yaxis\": \"y\"}, {\"hoverinfo\": \"text\", \"marker\": {\"color\": \"rgb(255,65,54)\"}, \"mode\": \"lines\", \"type\": \"scatter\", \"x\": [805.0, 805.0, 815.0, 815.0], \"xaxis\": \"x\", \"y\": [0.0, 0.09695101856092074, 0.09695101856092074, 0.0], \"yaxis\": \"y\"}, {\"hoverinfo\": \"text\", \"marker\": {\"color\": \"rgb(255,65,54)\"}, \"mode\": \"lines\", \"type\": \"scatter\", \"x\": [795.0, 795.0, 810.0, 810.0], \"xaxis\": \"x\", \"y\": [0.0, 0.13757543385357734, 0.13757543385357734, 0.09695101856092074], \"yaxis\": \"y\"}, {\"hoverinfo\": \"text\", \"marker\": {\"color\": \"rgb(255,65,54)\"}, \"mode\": \"lines\", \"type\": \"scatter\", \"x\": [770.0, 770.0, 802.5, 802.5], \"xaxis\": \"x\", \"y\": [0.10886918756011728, 0.18840713893056182, 0.18840713893056182, 0.13757543385357734], \"yaxis\": \"y\"}, {\"hoverinfo\": \"text\", \"marker\": {\"color\": \"rgb(255,65,54)\"}, \"mode\": \"lines\", \"type\": \"scatter\", \"x\": [723.75, 723.75, 786.25, 786.25], \"xaxis\": \"x\", \"y\": [0.14025155970612235, 0.3622433574270203, 0.3622433574270203, 0.18840713893056182], \"yaxis\": \"y\"}, {\"hoverinfo\": \"text\", \"marker\": {\"color\": \"rgb(255,65,54)\"}, \"mode\": \"lines\", \"type\": \"scatter\", \"x\": [835.0, 835.0, 845.0, 845.0], \"xaxis\": \"x\", \"y\": [0.0, 0.0524547423976135, 0.0524547423976135, 0.0], \"yaxis\": \"y\"}, {\"hoverinfo\": \"text\", \"marker\": {\"color\": \"rgb(255,65,54)\"}, \"mode\": \"lines\", \"type\": \"scatter\", \"x\": [855.0, 855.0, 865.0, 865.0], \"xaxis\": \"x\", \"y\": [0.0, 0.10055471147589252, 0.10055471147589252, 0.0], \"yaxis\": \"y\"}, {\"hoverinfo\": \"text\", \"marker\": {\"color\": \"rgb(255,65,54)\"}, \"mode\": \"lines\", \"type\": \"scatter\", \"x\": [840.0, 840.0, 860.0, 860.0], \"xaxis\": \"x\", \"y\": [0.0524547423976135, 0.16585837331892528, 0.16585837331892528, 0.10055471147589252], \"yaxis\": \"y\"}, {\"hoverinfo\": \"text\", \"marker\": {\"color\": \"rgb(255,65,54)\"}, \"mode\": \"lines\", \"type\": \"scatter\", \"x\": [825.0, 825.0, 850.0, 850.0], \"xaxis\": \"x\", \"y\": [0.0, 0.26930326771132945, 0.26930326771132945, 0.16585837331892528], \"yaxis\": \"y\"}, {\"hoverinfo\": \"text\", \"marker\": {\"color\": \"rgb(255,65,54)\"}, \"mode\": \"lines\", \"type\": \"scatter\", \"x\": [905.0, 905.0, 915.0, 915.0], \"xaxis\": \"x\", \"y\": [0.0, 0.0804456338156396, 0.0804456338156396, 0.0], \"yaxis\": \"y\"}, {\"hoverinfo\": \"text\", \"marker\": {\"color\": \"rgb(255,65,54)\"}, \"mode\": \"lines\", \"type\": \"scatter\", \"x\": [895.0, 895.0, 910.0, 910.0], \"xaxis\": \"x\", \"y\": [0.0, 0.13727253913292342, 0.13727253913292342, 0.0804456338156396], \"yaxis\": \"y\"}, {\"hoverinfo\": \"text\", \"marker\": {\"color\": \"rgb(255,65,54)\"}, \"mode\": \"lines\", \"type\": \"scatter\", \"x\": [885.0, 885.0, 902.5, 902.5], \"xaxis\": \"x\", \"y\": [0.0, 0.14377238956072202, 0.14377238956072202, 0.13727253913292342], \"yaxis\": \"y\"}, {\"hoverinfo\": \"text\", \"marker\": {\"color\": \"rgb(255,65,54)\"}, \"mode\": \"lines\", \"type\": \"scatter\", \"x\": [875.0, 875.0, 893.75, 893.75], \"xaxis\": \"x\", \"y\": [0.0, 0.16919736995591883, 0.16919736995591883, 0.14377238956072202], \"yaxis\": \"y\"}, {\"hoverinfo\": \"text\", \"marker\": {\"color\": \"rgb(255,65,54)\"}, \"mode\": \"lines\", \"type\": \"scatter\", \"x\": [955.0, 955.0, 965.0, 965.0], \"xaxis\": \"x\", \"y\": [0.0, 0.061382000619073986, 0.061382000619073986, 0.0], \"yaxis\": \"y\"}, {\"hoverinfo\": \"text\", \"marker\": {\"color\": \"rgb(255,65,54)\"}, \"mode\": \"lines\", \"type\": \"scatter\", \"x\": [945.0, 945.0, 960.0, 960.0], \"xaxis\": \"x\", \"y\": [0.0, 0.08994164775008298, 0.08994164775008298, 0.061382000619073986], \"yaxis\": \"y\"}, {\"hoverinfo\": \"text\", \"marker\": {\"color\": \"rgb(255,65,54)\"}, \"mode\": \"lines\", \"type\": \"scatter\", \"x\": [935.0, 935.0, 952.5, 952.5], \"xaxis\": \"x\", \"y\": [0.0, 0.11221630897512189, 0.11221630897512189, 0.08994164775008298], \"yaxis\": \"y\"}, {\"hoverinfo\": \"text\", \"marker\": {\"color\": \"rgb(255,65,54)\"}, \"mode\": \"lines\", \"type\": \"scatter\", \"x\": [985.0, 985.0, 995.0, 995.0], \"xaxis\": \"x\", \"y\": [0.0, 0.0636042451413426, 0.0636042451413426, 0.0], \"yaxis\": \"y\"}, {\"hoverinfo\": \"text\", \"marker\": {\"color\": \"rgb(255,65,54)\"}, \"mode\": \"lines\", \"type\": \"scatter\", \"x\": [975.0, 975.0, 990.0, 990.0], \"xaxis\": \"x\", \"y\": [0.0, 0.11662010975813739, 0.11662010975813739, 0.0636042451413426], \"yaxis\": \"y\"}, {\"hoverinfo\": \"text\", \"marker\": {\"color\": \"rgb(255,65,54)\"}, \"mode\": \"lines\", \"type\": \"scatter\", \"x\": [943.75, 943.75, 982.5, 982.5], \"xaxis\": \"x\", \"y\": [0.11221630897512189, 0.14896476093358463, 0.14896476093358463, 0.11662010975813739], \"yaxis\": \"y\"}, {\"hoverinfo\": \"text\", \"marker\": {\"color\": \"rgb(255,65,54)\"}, \"mode\": \"lines\", \"type\": \"scatter\", \"x\": [925.0, 925.0, 963.125, 963.125], \"xaxis\": \"x\", \"y\": [0.0, 0.20642734799439733, 0.20642734799439733, 0.14896476093358463], \"yaxis\": \"y\"}, {\"hoverinfo\": \"text\", \"marker\": {\"color\": \"rgb(255,65,54)\"}, \"mode\": \"lines\", \"type\": \"scatter\", \"x\": [884.375, 884.375, 944.0625, 944.0625], \"xaxis\": \"x\", \"y\": [0.16919736995591883, 0.31825618611426865, 0.31825618611426865, 0.20642734799439733], \"yaxis\": \"y\"}, {\"hoverinfo\": \"text\", \"marker\": {\"color\": \"rgb(255,65,54)\"}, \"mode\": \"lines\", \"type\": \"scatter\", \"x\": [837.5, 837.5, 914.21875, 914.21875], \"xaxis\": \"x\", \"y\": [0.26930326771132945, 0.5265807155603024, 0.5265807155603024, 0.31825618611426865], \"yaxis\": \"y\"}, {\"hoverinfo\": \"text\", \"marker\": {\"color\": \"rgb(255,65,54)\"}, \"mode\": \"lines\", \"type\": \"scatter\", \"x\": [755.0, 755.0, 875.859375, 875.859375], \"xaxis\": \"x\", \"y\": [0.3622433574270203, 0.9407195384385295, 0.9407195384385295, 0.5265807155603024], \"yaxis\": \"y\"}, {\"hoverinfo\": \"text\", \"marker\": {\"color\": \"rgb(255,65,54)\"}, \"mode\": \"lines\", \"type\": \"scatter\", \"x\": [700.0, 700.0, 815.4296875, 815.4296875], \"xaxis\": \"x\", \"y\": [0.356030195348653, 1.435274364015466, 1.435274364015466, 0.9407195384385295], \"yaxis\": \"y\"}, {\"hoverinfo\": \"text\", \"marker\": {\"color\": \"rgb(0,116,217)\"}, \"mode\": \"lines\", \"type\": \"scatter\", \"x\": [281.474609375, 281.474609375, 757.71484375, 757.71484375], \"xaxis\": \"x\", \"y\": [1.0075142678890459, 2.705206369207348, 2.705206369207348, 1.435274364015466], \"yaxis\": \"y\"}],\n",
              "                        {\"autosize\": false, \"height\": 600, \"hovermode\": \"closest\", \"showlegend\": false, \"template\": {\"data\": {\"bar\": [{\"error_x\": {\"color\": \"#2a3f5f\"}, \"error_y\": {\"color\": \"#2a3f5f\"}, \"marker\": {\"line\": {\"color\": \"#E5ECF6\", \"width\": 0.5}}, \"type\": \"bar\"}], \"barpolar\": [{\"marker\": {\"line\": {\"color\": \"#E5ECF6\", \"width\": 0.5}}, \"type\": \"barpolar\"}], \"carpet\": [{\"aaxis\": {\"endlinecolor\": \"#2a3f5f\", \"gridcolor\": \"white\", \"linecolor\": \"white\", \"minorgridcolor\": \"white\", \"startlinecolor\": \"#2a3f5f\"}, \"baxis\": {\"endlinecolor\": \"#2a3f5f\", \"gridcolor\": \"white\", \"linecolor\": \"white\", \"minorgridcolor\": \"white\", \"startlinecolor\": \"#2a3f5f\"}, \"type\": \"carpet\"}], \"choropleth\": [{\"colorbar\": {\"outlinewidth\": 0, \"ticks\": \"\"}, \"type\": \"choropleth\"}], \"contour\": [{\"colorbar\": {\"outlinewidth\": 0, \"ticks\": \"\"}, \"colorscale\": [[0.0, \"#0d0887\"], [0.1111111111111111, \"#46039f\"], [0.2222222222222222, \"#7201a8\"], [0.3333333333333333, \"#9c179e\"], [0.4444444444444444, \"#bd3786\"], [0.5555555555555556, \"#d8576b\"], [0.6666666666666666, \"#ed7953\"], [0.7777777777777778, \"#fb9f3a\"], [0.8888888888888888, \"#fdca26\"], [1.0, \"#f0f921\"]], \"type\": \"contour\"}], \"contourcarpet\": [{\"colorbar\": {\"outlinewidth\": 0, \"ticks\": \"\"}, \"type\": \"contourcarpet\"}], \"heatmap\": [{\"colorbar\": {\"outlinewidth\": 0, \"ticks\": \"\"}, \"colorscale\": [[0.0, \"#0d0887\"], [0.1111111111111111, \"#46039f\"], [0.2222222222222222, \"#7201a8\"], [0.3333333333333333, \"#9c179e\"], [0.4444444444444444, \"#bd3786\"], [0.5555555555555556, \"#d8576b\"], [0.6666666666666666, \"#ed7953\"], [0.7777777777777778, \"#fb9f3a\"], [0.8888888888888888, \"#fdca26\"], [1.0, \"#f0f921\"]], \"type\": \"heatmap\"}], \"heatmapgl\": [{\"colorbar\": {\"outlinewidth\": 0, \"ticks\": \"\"}, \"colorscale\": [[0.0, \"#0d0887\"], [0.1111111111111111, \"#46039f\"], [0.2222222222222222, \"#7201a8\"], [0.3333333333333333, \"#9c179e\"], [0.4444444444444444, \"#bd3786\"], [0.5555555555555556, \"#d8576b\"], [0.6666666666666666, \"#ed7953\"], [0.7777777777777778, \"#fb9f3a\"], [0.8888888888888888, \"#fdca26\"], [1.0, \"#f0f921\"]], \"type\": \"heatmapgl\"}], \"histogram\": [{\"marker\": {\"colorbar\": {\"outlinewidth\": 0, \"ticks\": \"\"}}, \"type\": \"histogram\"}], \"histogram2d\": [{\"colorbar\": {\"outlinewidth\": 0, \"ticks\": \"\"}, \"colorscale\": [[0.0, \"#0d0887\"], [0.1111111111111111, \"#46039f\"], [0.2222222222222222, \"#7201a8\"], [0.3333333333333333, \"#9c179e\"], [0.4444444444444444, \"#bd3786\"], [0.5555555555555556, \"#d8576b\"], [0.6666666666666666, \"#ed7953\"], [0.7777777777777778, \"#fb9f3a\"], [0.8888888888888888, \"#fdca26\"], [1.0, \"#f0f921\"]], \"type\": \"histogram2d\"}], \"histogram2dcontour\": [{\"colorbar\": {\"outlinewidth\": 0, \"ticks\": \"\"}, \"colorscale\": [[0.0, \"#0d0887\"], [0.1111111111111111, \"#46039f\"], [0.2222222222222222, \"#7201a8\"], [0.3333333333333333, \"#9c179e\"], [0.4444444444444444, \"#bd3786\"], [0.5555555555555556, \"#d8576b\"], [0.6666666666666666, \"#ed7953\"], [0.7777777777777778, \"#fb9f3a\"], [0.8888888888888888, \"#fdca26\"], [1.0, \"#f0f921\"]], \"type\": \"histogram2dcontour\"}], \"mesh3d\": [{\"colorbar\": {\"outlinewidth\": 0, \"ticks\": \"\"}, \"type\": \"mesh3d\"}], \"parcoords\": [{\"line\": {\"colorbar\": {\"outlinewidth\": 0, \"ticks\": \"\"}}, \"type\": \"parcoords\"}], \"pie\": [{\"automargin\": true, \"type\": \"pie\"}], \"scatter\": [{\"marker\": {\"colorbar\": {\"outlinewidth\": 0, \"ticks\": \"\"}}, \"type\": \"scatter\"}], \"scatter3d\": [{\"line\": {\"colorbar\": {\"outlinewidth\": 0, \"ticks\": \"\"}}, \"marker\": {\"colorbar\": {\"outlinewidth\": 0, \"ticks\": \"\"}}, \"type\": \"scatter3d\"}], \"scattercarpet\": [{\"marker\": {\"colorbar\": {\"outlinewidth\": 0, \"ticks\": \"\"}}, \"type\": \"scattercarpet\"}], \"scattergeo\": [{\"marker\": {\"colorbar\": {\"outlinewidth\": 0, \"ticks\": \"\"}}, \"type\": \"scattergeo\"}], \"scattergl\": [{\"marker\": {\"colorbar\": {\"outlinewidth\": 0, \"ticks\": \"\"}}, \"type\": \"scattergl\"}], \"scattermapbox\": [{\"marker\": {\"colorbar\": {\"outlinewidth\": 0, \"ticks\": \"\"}}, \"type\": \"scattermapbox\"}], \"scatterpolar\": [{\"marker\": {\"colorbar\": {\"outlinewidth\": 0, \"ticks\": \"\"}}, \"type\": \"scatterpolar\"}], \"scatterpolargl\": [{\"marker\": {\"colorbar\": {\"outlinewidth\": 0, \"ticks\": \"\"}}, \"type\": \"scatterpolargl\"}], \"scatterternary\": [{\"marker\": {\"colorbar\": {\"outlinewidth\": 0, \"ticks\": \"\"}}, \"type\": \"scatterternary\"}], \"surface\": [{\"colorbar\": {\"outlinewidth\": 0, \"ticks\": \"\"}, \"colorscale\": [[0.0, \"#0d0887\"], [0.1111111111111111, \"#46039f\"], [0.2222222222222222, \"#7201a8\"], [0.3333333333333333, \"#9c179e\"], [0.4444444444444444, \"#bd3786\"], [0.5555555555555556, \"#d8576b\"], [0.6666666666666666, \"#ed7953\"], [0.7777777777777778, \"#fb9f3a\"], [0.8888888888888888, \"#fdca26\"], [1.0, \"#f0f921\"]], \"type\": \"surface\"}], \"table\": [{\"cells\": {\"fill\": {\"color\": \"#EBF0F8\"}, \"line\": {\"color\": \"white\"}}, \"header\": {\"fill\": {\"color\": \"#C8D4E3\"}, \"line\": {\"color\": \"white\"}}, \"type\": \"table\"}]}, \"layout\": {\"annotationdefaults\": {\"arrowcolor\": \"#2a3f5f\", \"arrowhead\": 0, \"arrowwidth\": 1}, \"coloraxis\": {\"colorbar\": {\"outlinewidth\": 0, \"ticks\": \"\"}}, \"colorscale\": {\"diverging\": [[0, \"#8e0152\"], [0.1, \"#c51b7d\"], [0.2, \"#de77ae\"], [0.3, \"#f1b6da\"], [0.4, \"#fde0ef\"], [0.5, \"#f7f7f7\"], [0.6, \"#e6f5d0\"], [0.7, \"#b8e186\"], [0.8, \"#7fbc41\"], [0.9, \"#4d9221\"], [1, \"#276419\"]], \"sequential\": [[0.0, \"#0d0887\"], [0.1111111111111111, \"#46039f\"], [0.2222222222222222, \"#7201a8\"], [0.3333333333333333, \"#9c179e\"], [0.4444444444444444, \"#bd3786\"], [0.5555555555555556, \"#d8576b\"], [0.6666666666666666, \"#ed7953\"], [0.7777777777777778, \"#fb9f3a\"], [0.8888888888888888, \"#fdca26\"], [1.0, \"#f0f921\"]], \"sequentialminus\": [[0.0, \"#0d0887\"], [0.1111111111111111, \"#46039f\"], [0.2222222222222222, \"#7201a8\"], [0.3333333333333333, \"#9c179e\"], [0.4444444444444444, \"#bd3786\"], [0.5555555555555556, \"#d8576b\"], [0.6666666666666666, \"#ed7953\"], [0.7777777777777778, \"#fb9f3a\"], [0.8888888888888888, \"#fdca26\"], [1.0, \"#f0f921\"]]}, \"colorway\": [\"#636efa\", \"#EF553B\", \"#00cc96\", \"#ab63fa\", \"#FFA15A\", \"#19d3f3\", \"#FF6692\", \"#B6E880\", \"#FF97FF\", \"#FECB52\"], \"font\": {\"color\": \"#2a3f5f\"}, \"geo\": {\"bgcolor\": \"white\", \"lakecolor\": \"white\", \"landcolor\": \"#E5ECF6\", \"showlakes\": true, \"showland\": true, \"subunitcolor\": \"white\"}, \"hoverlabel\": {\"align\": \"left\"}, \"hovermode\": \"closest\", \"mapbox\": {\"style\": \"light\"}, \"paper_bgcolor\": \"white\", \"plot_bgcolor\": \"#E5ECF6\", \"polar\": {\"angularaxis\": {\"gridcolor\": \"white\", \"linecolor\": \"white\", \"ticks\": \"\"}, \"bgcolor\": \"#E5ECF6\", \"radialaxis\": {\"gridcolor\": \"white\", \"linecolor\": \"white\", \"ticks\": \"\"}}, \"scene\": {\"xaxis\": {\"backgroundcolor\": \"#E5ECF6\", \"gridcolor\": \"white\", \"gridwidth\": 2, \"linecolor\": \"white\", \"showbackground\": true, \"ticks\": \"\", \"zerolinecolor\": \"white\"}, \"yaxis\": {\"backgroundcolor\": \"#E5ECF6\", \"gridcolor\": \"white\", \"gridwidth\": 2, \"linecolor\": \"white\", \"showbackground\": true, \"ticks\": \"\", \"zerolinecolor\": \"white\"}, \"zaxis\": {\"backgroundcolor\": \"#E5ECF6\", \"gridcolor\": \"white\", \"gridwidth\": 2, \"linecolor\": \"white\", \"showbackground\": true, \"ticks\": \"\", \"zerolinecolor\": \"white\"}}, \"shapedefaults\": {\"line\": {\"color\": \"#2a3f5f\"}}, \"ternary\": {\"aaxis\": {\"gridcolor\": \"white\", \"linecolor\": \"white\", \"ticks\": \"\"}, \"baxis\": {\"gridcolor\": \"white\", \"linecolor\": \"white\", \"ticks\": \"\"}, \"bgcolor\": \"#E5ECF6\", \"caxis\": {\"gridcolor\": \"white\", \"linecolor\": \"white\", \"ticks\": \"\"}}, \"title\": {\"x\": 0.05}, \"xaxis\": {\"automargin\": true, \"gridcolor\": \"white\", \"linecolor\": \"white\", \"ticks\": \"\", \"title\": {\"standoff\": 15}, \"zerolinecolor\": \"white\", \"zerolinewidth\": 2}, \"yaxis\": {\"automargin\": true, \"gridcolor\": \"white\", \"linecolor\": \"white\", \"ticks\": \"\", \"title\": {\"standoff\": 15}, \"zerolinecolor\": \"white\", \"zerolinewidth\": 2}}}, \"width\": 1200, \"xaxis\": {\"mirror\": \"allticks\", \"rangemode\": \"tozero\", \"showgrid\": false, \"showline\": true, \"showticklabels\": true, \"tickmode\": \"array\", \"ticks\": \"outside\", \"ticktext\": [\"31\", \"32\", \"35\", \"33\", \"34\", \"54\", \"58\", \"50\", \"52\", \"55\", \"60\", \"59\", \"61\", \"56\", \"57\", \"36\", \"37\", \"38\", \"42\", \"53\", \"47\", \"48\", \"46\", \"49\", \"51\", \"45\", \"39\", \"40\", \"41\", \"43\", \"44\", \"85\", \"86\", \"68\", \"71\", \"72\", \"76\", \"78\", \"63\", \"65\", \"66\", \"70\", \"62\", \"64\", \"67\", \"74\", \"73\", \"98\", \"82\", \"88\", \"90\", \"91\", \"99\", \"95\", \"97\", \"83\", \"93\", \"96\", \"81\", \"79\", \"80\", \"89\", \"94\", \"87\", \"92\", \"69\", \"84\", \"75\", \"77\", \"27\", \"28\", \"13\", \"1\", \"0\", \"4\", \"5\", \"9\", \"16\", \"17\", \"2\", \"3\", \"12\", \"25\", \"29\", \"30\", \"15\", \"23\", \"21\", \"22\", \"24\", \"18\", \"26\", \"19\", \"11\", \"14\", \"6\", \"7\", \"10\", \"8\", \"20\"], \"tickvals\": [5.0, 15.0, 25.0, 35.0, 45.0, 55.0, 65.0, 75.0, 85.0, 95.0, 105.0, 115.0, 125.0, 135.0, 145.0, 155.0, 165.0, 175.0, 185.0, 195.0, 205.0, 215.0, 225.0, 235.0, 245.0, 255.0, 265.0, 275.0, 285.0, 295.0, 305.0, 315.0, 325.0, 335.0, 345.0, 355.0, 365.0, 375.0, 385.0, 395.0, 405.0, 415.0, 425.0, 435.0, 445.0, 455.0, 465.0, 475.0, 485.0, 495.0, 505.0, 515.0, 525.0, 535.0, 545.0, 555.0, 565.0, 575.0, 585.0, 595.0, 605.0, 615.0, 625.0, 635.0, 645.0, 655.0, 665.0, 675.0, 685.0, 695.0, 705.0, 715.0, 725.0, 735.0, 745.0, 755.0, 765.0, 775.0, 785.0, 795.0, 805.0, 815.0, 825.0, 835.0, 845.0, 855.0, 865.0, 875.0, 885.0, 895.0, 905.0, 915.0, 925.0, 935.0, 945.0, 955.0, 965.0, 975.0, 985.0, 995.0], \"type\": \"linear\", \"zeroline\": false}, \"yaxis\": {\"mirror\": \"allticks\", \"rangemode\": \"tozero\", \"showgrid\": false, \"showline\": true, \"showticklabels\": true, \"ticks\": \"outside\", \"type\": \"linear\", \"zeroline\": false}},\n",
              "                        {\"responsive\": true}\n",
              "                    ).then(function(){\n",
              "                            \n",
              "var gd = document.getElementById('bf727a0a-131e-400d-be0f-dbc88756cc43');\n",
              "var x = new MutationObserver(function (mutations, observer) {{\n",
              "        var display = window.getComputedStyle(gd).display;\n",
              "        if (!display || display === 'none') {{\n",
              "            console.log([gd, 'removed!']);\n",
              "            Plotly.purge(gd);\n",
              "            observer.disconnect();\n",
              "        }}\n",
              "}});\n",
              "\n",
              "// Listen for the removal of the full notebook cells\n",
              "var notebookContainer = gd.closest('#notebook-container');\n",
              "if (notebookContainer) {{\n",
              "    x.observe(notebookContainer, {childList: true});\n",
              "}}\n",
              "\n",
              "// Listen for the clearing of the current output cell\n",
              "var outputEl = gd.closest('.output');\n",
              "if (outputEl) {{\n",
              "    x.observe(outputEl, {childList: true});\n",
              "}}\n",
              "\n",
              "                        })\n",
              "                };\n",
              "                \n",
              "            </script>\n",
              "        </div>\n",
              "</body>\n",
              "</html>"
            ]
          },
          "metadata": {}
        }
      ]
    },
    {
      "cell_type": "markdown",
      "source": [
        "###Застосувати метод K-Means і декілька варіантів кількості кластерів. "
      ],
      "metadata": {
        "id": "jKfAqx0AHoWd"
      }
    },
    {
      "cell_type": "code",
      "source": [
        "k_means5 = KMeans(n_clusters = 5)\n",
        "k_means5.fit(st)\n",
        "centers = k_means5.cluster_centers_\n",
        "labels5 =k_means5.labels_\n",
        "plt.scatter(st[:,0],st[:,1], c=labels5, cmap = 'icefire_r')\n",
        "plt.scatter(centers[0][0],centers[0][1])\n",
        "plt.scatter(centers[1][0],centers[1][1])\n",
        "plt.scatter(centers[2][0],centers[2][1])\n",
        "plt.scatter(centers[3][0],centers[3][1])\n",
        "plt.scatter(centers[4][0],centers[4][1])"
      ],
      "metadata": {
        "colab": {
          "base_uri": "https://localhost:8080/",
          "height": 282
        },
        "id": "fzxh4cxAH96F",
        "outputId": "512480d9-b9bb-4f3c-c862-72b7c5494502"
      },
      "execution_count": null,
      "outputs": [
        {
          "output_type": "execute_result",
          "data": {
            "text/plain": [
              "<matplotlib.collections.PathCollection at 0x7ff2d613aed0>"
            ]
          },
          "metadata": {},
          "execution_count": 26
        },
        {
          "output_type": "display_data",
          "data": {
            "image/png": "[encoded data removed]",
            "text/plain": [
              "<Figure size 432x288 with 1 Axes>"
            ]
          },
          "metadata": {
            "needs_background": "light"
          }
        }
      ]
    },
    {
      "cell_type": "code",
      "source": [
        "dot = pd.DataFrame(data = st)\n",
        "dot[7] = pd.DataFrame(data = labels5)"
      ],
      "metadata": {
        "id": "cmO6rR-JWCnk"
      },
      "execution_count": null,
      "outputs": []
    },
    {
      "cell_type": "code",
      "source": [
        "#діаметр\n",
        "class_0 = dot[dot[7] == 0].reset_index(drop=True).drop(columns = 7)\n",
        "class_1 = dot[dot[7] == 1].reset_index(drop=True).drop(columns = 7)\n",
        "class_2 = dot[dot[7] == 2].reset_index(drop=True).drop(columns = 7)\n",
        "class_3 = dot[dot[7] == 3].reset_index(drop=True).drop(columns = 7)\n",
        "class_4 = dot[dot[7] == 4].reset_index(drop=True).drop(columns = 7)\n",
        "\n",
        "dists0 = euclidean_distances(class_0).max()\n",
        "dists1 = euclidean_distances(class_1).max()\n",
        "dists2 = euclidean_distances(class_2).max()\n",
        "dists3 = euclidean_distances(class_3).max()\n",
        "dists4 = euclidean_distances(class_4).max()\n",
        "\n",
        "dists0, dists1, dists2, dists3, dists4"
      ],
      "metadata": {
        "colab": {
          "base_uri": "https://localhost:8080/"
        },
        "id": "9hFS7bA_YOWO",
        "outputId": "a2f8c093-4cba-418b-86e1-e2ce70b7e58a"
      },
      "execution_count": null,
      "outputs": [
        {
          "output_type": "execute_result",
          "data": {
            "text/plain": [
              "(4.571172736382359,\n",
              " 2.314409513262644,\n",
              " 3.8203410860343205,\n",
              " 2.804287543231407,\n",
              " 2.103529775071299)"
            ]
          },
          "metadata": {},
          "execution_count": 28
        }
      ]
    },
    {
      "cell_type": "code",
      "source": [
        "#радіус\n",
        "radius_class_0 = np.linalg.norm(class_0 - centers[0], axis=1).reshape(-1,1).max()\n",
        "radius_class_1 = np.linalg.norm(class_1 - centers[1], axis=1).reshape(-1,1).max()\n",
        "radius_class_2 = np.linalg.norm(class_2 - centers[2], axis=1).reshape(-1,1).max()\n",
        "radius_class_3 = np.linalg.norm(class_3 - centers[3], axis=1).reshape(-1,1).max()\n",
        "radius_class_4 = np.linalg.norm(class_4 - centers[4], axis=1).reshape(-1,1).max()\n",
        "\n",
        "radius_class_0, radius_class_1, radius_class_2, radius_class_3, radius_class_4"
      ],
      "metadata": {
        "colab": {
          "base_uri": "https://localhost:8080/"
        },
        "id": "YCP4oSPuaWBT",
        "outputId": "1ee47ca0-9b54-457d-8557-0893a6cc7188"
      },
      "execution_count": null,
      "outputs": [
        {
          "output_type": "execute_result",
          "data": {
            "text/plain": [
              "(3.5178965450076363,\n",
              " 1.3982087652868616,\n",
              " 2.5794241961985254,\n",
              " 1.8009438370133624,\n",
              " 1.301596160825203)"
            ]
          },
          "metadata": {},
          "execution_count": 29
        }
      ]
    },
    {
      "cell_type": "code",
      "source": [
        "#міжкластерну відстань\n",
        "class_dists = euclidean_distances(centers).max()\n",
        "class_dists"
      ],
      "metadata": {
        "colab": {
          "base_uri": "https://localhost:8080/"
        },
        "id": "2cazqNX3TXJv",
        "outputId": "c82c0b42-c3cd-4b89-8f55-ed7cb3c8c022"
      },
      "execution_count": null,
      "outputs": [
        {
          "output_type": "execute_result",
          "data": {
            "text/plain": [
              "8.079439675213878"
            ]
          },
          "metadata": {},
          "execution_count": 30
        }
      ]
    },
    {
      "cell_type": "code",
      "source": [
        "#близькість кластерів(одиночний зв'язок)\n",
        "class_0 = dot[dot[7] == 0].reset_index(drop=True).drop(columns = 7)\n",
        "class_1 = dot[dot[7] == 1].reset_index(drop=True).drop(columns = 7)\n",
        "class_2 = dot[dot[7] == 2].reset_index(drop=True).drop(columns = 7)\n",
        "class_3 = dot[dot[7] == 3].reset_index(drop=True).drop(columns = 7)\n",
        "class_4 = dot[dot[7] == 4].reset_index(drop=True).drop(columns = 7)\n",
        "\n",
        "join01 = cdist(class_0, class_1).min()\n",
        "join02 = cdist(class_0, class_2).min()\n",
        "join03 = cdist(class_0, class_3).min()\n",
        "join04 = cdist(class_0, class_4).min()\n",
        "\n",
        "join12 = cdist(class_1, class_2).min()\n",
        "join13 = cdist(class_1, class_3).min()\n",
        "join14 = cdist(class_1, class_4).min()\n",
        "\n",
        "join23 = cdist(class_2, class_3).min()\n",
        "join24 = cdist(class_2, class_4).min()\n",
        "\n",
        "join34 = cdist(class_2, class_4).min()\n",
        "\n",
        "\n",
        "join01, join02, join03, join04, join12, join13, join14, join23,join24, join34 "
      ],
      "metadata": {
        "colab": {
          "base_uri": "https://localhost:8080/"
        },
        "id": "jRh0HFSekxYu",
        "outputId": "c272abe7-8fcf-4b7f-9524-4a603b5c5e8e"
      },
      "execution_count": null,
      "outputs": [
        {
          "output_type": "execute_result",
          "data": {
            "text/plain": [
              "(2.122353357208796,\n",
              " 5.9089622716828725,\n",
              " 0.44224520647869014,\n",
              " 3.8859544839176285,\n",
              " 2.394538459246945,\n",
              " 0.25744663105158844,\n",
              " 0.40202386783702415,\n",
              " 4.135406204059271,\n",
              " 0.3538056824243926,\n",
              " 0.3538056824243926)"
            ]
          },
          "metadata": {},
          "execution_count": 31
        }
      ]
    },
    {
      "cell_type": "markdown",
      "source": [
        "###Застосувавши алгоритм DBSCAN і ще один будь-який алгоритм з використаної бібліотеки."
      ],
      "metadata": {
        "id": "pTGSCnrpHzkl"
      }
    },
    {
      "cell_type": "code",
      "source": [
        "DBSCAN_model = DBSCAN(eps=0.6, min_samples=10)\n",
        "DBSCAN_model.fit(st)\n",
        "DBSCAN_label = DBSCAN_model.labels_\n",
        "plt.scatter(st[:,0],st[:,1], c=DBSCAN_label, cmap='icefire_r')"
      ],
      "metadata": {
        "colab": {
          "base_uri": "https://localhost:8080/",
          "height": 282
        },
        "id": "Kb6Fm-DG79-l",
        "outputId": "466e3147-c5b2-4d52-b071-b5c074348c13"
      },
      "execution_count": null,
      "outputs": [
        {
          "output_type": "execute_result",
          "data": {
            "text/plain": [
              "<matplotlib.collections.PathCollection at 0x7ff2d613acd0>"
            ]
          },
          "metadata": {},
          "execution_count": 32
        },
        {
          "output_type": "display_data",
          "data": {
            "image/png": "[encoded data removed]",
            "text/plain": [
              "<Figure size 432x288 with 1 Axes>"
            ]
          },
          "metadata": {
            "needs_background": "light"
          }
        }
      ]
    },
    {
      "cell_type": "markdown",
      "metadata": {
        "id": "cSFsSUiJeUz2"
      },
      "source": [
        "**Частина 2. Власна реалізації алгоритму кластеризації.**\n",
        "1. Обрати відповідний файл з даними.\n",
        "2. Обравши всі стовпчики, крім першого:\n",
        "\n",
        "a) запрограмуйте алгоритм DBSCAN і проведіть розбиття даних за цим методом при різних значеннях $\\epsilon$ (радіуса околу). Для порівняння результатів розбиття можна використовувати бібліотечну реалізацію методу.\n",
        "\n",
        "б) Результати розбиття проілюструвати графічно, виконати порівняльний аналіз отриманих результатів із результатами бібліотечної версії.\n",
        "\n",
        "в) Виконати розбиття даних, використовуючи K-Means і будь-який ще один алгоритм. Для отримання результатів можна використовувати бібліотеки для мови Python.\n",
        "\n",
        "г) Порівняти результати кластеризації."
      ]
    },
    {
      "cell_type": "markdown",
      "source": [
        "###lib and data"
      ],
      "metadata": {
        "id": "zFor4y5QeQ-q"
      }
    },
    {
      "cell_type": "code",
      "source": [
        "import pandas as pd\n",
        "import numpy as np\n",
        "import seaborn as sns\n",
        "from matplotlib import pyplot as plt\n",
        "import plotly.graph_objects as go\n",
        "import math\n",
        "from sklearn.preprocessing import StandardScaler\n",
        "from sklearn.cluster import KMeans\n",
        "from sklearn.cluster import AgglomerativeClustering\n",
        "from sklearn.cluster import DBSCAN"
      ],
      "metadata": {
        "id": "Dmr_aIaB064p"
      },
      "execution_count": null,
      "outputs": []
    },
    {
      "cell_type": "code",
      "source": [
        "file_url = \"https://raw.githubusercontent.com/IvanSergeyevichZhuk/ML_KPI/main/Data/Lab3/Part2/MN/MN09-Kovalenko.csv\"\n",
        "data = pd.read_csv(file_url,names=[0,1,2,3]).astype(\"float64\")\n",
        "data"
      ],
      "metadata": {
        "colab": {
          "base_uri": "https://localhost:8080/",
          "height": 423
        },
        "id": "SneKexyT1Jvs",
        "outputId": "7a3d25ac-ef7c-4471-aa34-1385936b741f"
      },
      "execution_count": null,
      "outputs": [
        {
          "output_type": "execute_result",
          "data": {
            "text/html": [
              "\n",
              "  <div id=\"df-be033137-22bb-43b9-9874-272ed92e9fb4\">\n",
              "    <div class=\"colab-df-container\">\n",
              "      <div>\n",
              "<style scoped>\n",
              "    .dataframe tbody tr th:only-of-type {\n",
              "        vertical-align: middle;\n",
              "    }\n",
              "\n",
              "    .dataframe tbody tr th {\n",
              "        vertical-align: top;\n",
              "    }\n",
              "\n",
              "    .dataframe thead th {\n",
              "        text-align: right;\n",
              "    }\n",
              "</style>\n",
              "<table border=\"1\" class=\"dataframe\">\n",
              "  <thead>\n",
              "    <tr style=\"text-align: right;\">\n",
              "      <th></th>\n",
              "      <th>0</th>\n",
              "      <th>1</th>\n",
              "      <th>2</th>\n",
              "      <th>3</th>\n",
              "    </tr>\n",
              "  </thead>\n",
              "  <tbody>\n",
              "    <tr>\n",
              "      <th>0</th>\n",
              "      <td>95430010.0</td>\n",
              "      <td>9.991931</td>\n",
              "      <td>56.783064</td>\n",
              "      <td>48.408430</td>\n",
              "    </tr>\n",
              "    <tr>\n",
              "      <th>1</th>\n",
              "      <td>95430010.0</td>\n",
              "      <td>9.992832</td>\n",
              "      <td>56.783052</td>\n",
              "      <td>48.345524</td>\n",
              "    </tr>\n",
              "    <tr>\n",
              "      <th>2</th>\n",
              "      <td>95430010.0</td>\n",
              "      <td>9.992983</td>\n",
              "      <td>56.782946</td>\n",
              "      <td>47.814460</td>\n",
              "    </tr>\n",
              "    <tr>\n",
              "      <th>3</th>\n",
              "      <td>95430010.0</td>\n",
              "      <td>9.993015</td>\n",
              "      <td>56.782600</td>\n",
              "      <td>46.632717</td>\n",
              "    </tr>\n",
              "    <tr>\n",
              "      <th>4</th>\n",
              "      <td>95430010.0</td>\n",
              "      <td>9.993154</td>\n",
              "      <td>56.782488</td>\n",
              "      <td>46.536126</td>\n",
              "    </tr>\n",
              "    <tr>\n",
              "      <th>...</th>\n",
              "      <td>...</td>\n",
              "      <td>...</td>\n",
              "      <td>...</td>\n",
              "      <td>...</td>\n",
              "    </tr>\n",
              "    <tr>\n",
              "      <th>495</th>\n",
              "      <td>37759037.0</td>\n",
              "      <td>9.932989</td>\n",
              "      <td>57.028787</td>\n",
              "      <td>39.592208</td>\n",
              "    </tr>\n",
              "    <tr>\n",
              "      <th>496</th>\n",
              "      <td>37759037.0</td>\n",
              "      <td>9.932844</td>\n",
              "      <td>57.028606</td>\n",
              "      <td>37.677818</td>\n",
              "    </tr>\n",
              "    <tr>\n",
              "      <th>497</th>\n",
              "      <td>37759037.0</td>\n",
              "      <td>9.932672</td>\n",
              "      <td>57.028363</td>\n",
              "      <td>35.546436</td>\n",
              "    </tr>\n",
              "    <tr>\n",
              "      <th>498</th>\n",
              "      <td>37759037.0</td>\n",
              "      <td>9.932561</td>\n",
              "      <td>57.028221</td>\n",
              "      <td>34.137492</td>\n",
              "    </tr>\n",
              "    <tr>\n",
              "      <th>499</th>\n",
              "      <td>37759037.0</td>\n",
              "      <td>9.932340</td>\n",
              "      <td>57.027924</td>\n",
              "      <td>31.722583</td>\n",
              "    </tr>\n",
              "  </tbody>\n",
              "</table>\n",
              "<p>500 rows × 4 columns</p>\n",
              "</div>\n",
              "      <button class=\"colab-df-convert\" onclick=\"convertToInteractive('df-be033137-22bb-43b9-9874-272ed92e9fb4')\"\n",
              "              title=\"Convert this dataframe to an interactive table.\"\n",
              "              style=\"display:none;\">\n",
              "        \n",
              "  <svg xmlns=\"http://www.w3.org/2000/svg\" height=\"24px\"viewBox=\"0 0 24 24\"\n",
              "       width=\"24px\">\n",
              "    <path d=\"M0 0h24v24H0V0z\" fill=\"none\"/>\n",
              "    <path d=\"M18.56 5.44l.94 2.06.94-2.06 2.06-.94-2.06-.94-.94-2.06-.94 2.06-2.06.94zm-11 1L8.5 8.5l.94-2.06 2.06-.94-2.06-.94L8.5 2.5l-.94 2.06-2.06.94zm10 10l.94 2.06.94-2.06 2.06-.94-2.06-.94-.94-2.06-.94 2.06-2.06.94z\"/><path d=\"M17.41 7.96l-1.37-1.37c-.4-.4-.92-.59-1.43-.59-.52 0-1.04.2-1.43.59L10.3 9.45l-7.72 7.72c-.78.78-.78 2.05 0 2.83L4 21.41c.39.39.9.59 1.41.59.51 0 1.02-.2 1.41-.59l7.78-7.78 2.81-2.81c.8-.78.8-2.07 0-2.86zM5.41 20L4 18.59l7.72-7.72 1.47 1.35L5.41 20z\"/>\n",
              "  </svg>\n",
              "      </button>\n",
              "      \n",
              "  <style>\n",
              "    .colab-df-container {\n",
              "      display:flex;\n",
              "      flex-wrap:wrap;\n",
              "      gap: 12px;\n",
              "    }\n",
              "\n",
              "    .colab-df-convert {\n",
              "      background-color: #E8F0FE;\n",
              "      border: none;\n",
              "      border-radius: 50%;\n",
              "      cursor: pointer;\n",
              "      display: none;\n",
              "      fill: #1967D2;\n",
              "      height: 32px;\n",
              "      padding: 0 0 0 0;\n",
              "      width: 32px;\n",
              "    }\n",
              "\n",
              "    .colab-df-convert:hover {\n",
              "      background-color: #E2EBFA;\n",
              "      box-shadow: 0px 1px 2px rgba(60, 64, 67, 0.3), 0px 1px 3px 1px rgba(60, 64, 67, 0.15);\n",
              "      fill: #174EA6;\n",
              "    }\n",
              "\n",
              "    [theme=dark] .colab-df-convert {\n",
              "      background-color: #3B4455;\n",
              "      fill: #D2E3FC;\n",
              "    }\n",
              "\n",
              "    [theme=dark] .colab-df-convert:hover {\n",
              "      background-color: #434B5C;\n",
              "      box-shadow: 0px 1px 3px 1px rgba(0, 0, 0, 0.15);\n",
              "      filter: drop-shadow(0px 1px 2px rgba(0, 0, 0, 0.3));\n",
              "      fill: #FFFFFF;\n",
              "    }\n",
              "  </style>\n",
              "\n",
              "      <script>\n",
              "        const buttonEl =\n",
              "          document.querySelector('#df-be033137-22bb-43b9-9874-272ed92e9fb4 button.colab-df-convert');\n",
              "        buttonEl.style.display =\n",
              "          google.colab.kernel.accessAllowed ? 'block' : 'none';\n",
              "\n",
              "        async function convertToInteractive(key) {\n",
              "          const element = document.querySelector('#df-be033137-22bb-43b9-9874-272ed92e9fb4');\n",
              "          const dataTable =\n",
              "            await google.colab.kernel.invokeFunction('convertToInteractive',\n",
              "                                                     [key], {});\n",
              "          if (!dataTable) return;\n",
              "\n",
              "          const docLinkHtml = 'Like what you see? Visit the ' +\n",
              "            '<a target=\"_blank\" href=https://colab.research.google.com/notebooks/data_table.ipynb>data table notebook</a>'\n",
              "            + ' to learn more about interactive tables.';\n",
              "          element.innerHTML = '';\n",
              "          dataTable['output_type'] = 'display_data';\n",
              "          await google.colab.output.renderOutput(dataTable, element);\n",
              "          const docLink = document.createElement('div');\n",
              "          docLink.innerHTML = docLinkHtml;\n",
              "          element.appendChild(docLink);\n",
              "        }\n",
              "      </script>\n",
              "    </div>\n",
              "  </div>\n",
              "  "
            ],
            "text/plain": [
              "              0         1          2          3\n",
              "0    95430010.0  9.991931  56.783064  48.408430\n",
              "1    95430010.0  9.992832  56.783052  48.345524\n",
              "2    95430010.0  9.992983  56.782946  47.814460\n",
              "3    95430010.0  9.993015  56.782600  46.632717\n",
              "4    95430010.0  9.993154  56.782488  46.536126\n",
              "..          ...       ...        ...        ...\n",
              "495  37759037.0  9.932989  57.028787  39.592208\n",
              "496  37759037.0  9.932844  57.028606  37.677818\n",
              "497  37759037.0  9.932672  57.028363  35.546436\n",
              "498  37759037.0  9.932561  57.028221  34.137492\n",
              "499  37759037.0  9.932340  57.027924  31.722583\n",
              "\n",
              "[500 rows x 4 columns]"
            ]
          },
          "metadata": {},
          "execution_count": 34
        }
      ]
    },
    {
      "cell_type": "code",
      "source": [
        "data = data.drop(columns = 0)\n",
        "st = StandardScaler().fit_transform(data)\n",
        "st"
      ],
      "metadata": {
        "colab": {
          "base_uri": "https://localhost:8080/"
        },
        "id": "Pa-9P-9q1LyA",
        "outputId": "970b9133-3ed3-4f82-c0a4-7296752ceaf9"
      },
      "execution_count": null,
      "outputs": [
        {
          "output_type": "execute_result",
          "data": {
            "text/plain": [
              "array([[ 0.80203319, -1.32313248,  1.46795787],\n",
              "       [ 0.80383641, -1.3231995 ,  1.46441507],\n",
              "       [ 0.80413694, -1.32380556,  1.43450618],\n",
              "       ...,\n",
              "       [ 0.68346172,  0.08202646,  0.74358497],\n",
              "       [ 0.68323942,  0.08120788,  0.66423484],\n",
              "       [ 0.68279562,  0.07950771,  0.52822994]])"
            ]
          },
          "metadata": {},
          "execution_count": 35
        }
      ]
    },
    {
      "cell_type": "markdown",
      "source": [
        "### DBSCAN"
      ],
      "metadata": {
        "id": "pGqyYgOSeVSm"
      }
    },
    {
      "cell_type": "code",
      "source": [
        "class DBSCAN_handmade:\n",
        "\n",
        "  def __init__(self, eps, min_samples):\n",
        "    self.min_samples = min_samples\n",
        "    self.eps = eps\n",
        "\n",
        "  def neighbor(self, x, data):\n",
        "    id = []\n",
        "    for y, dot in enumerate(data):\n",
        "      if x != y and np.linalg.norm(data[x] - dot) <= self.eps:\n",
        "        id.append(y)\n",
        "    return id\n",
        "\n",
        "  def check(self, x, data, cluster):\n",
        "    for id in self.neighbor(x, data):\n",
        "          if self.dot_cluster[id] == -1:\n",
        "            self.dot_cluster[id] = cluster\n",
        "            if len(self.neighbor(x, data)) >= self.min_samples:\n",
        "              self.check\n",
        "\n",
        "  def fit(self, data):\n",
        "    cluster = 0 \n",
        "    self.dot_cluster = [-1] * len(data)\n",
        "    for x, dot_x in enumerate(data):\n",
        "      if self.dot_cluster[x] != -1:\n",
        "        continue\n",
        "      if len(self.neighbor(x, data)) >= self.min_samples:\n",
        "        self.dot_cluster[x] = cluster\n",
        "        self.check(x, data, cluster)\n",
        "      cluster += 1\n",
        "    return self.dot_cluster"
      ],
      "metadata": {
        "id": "n3kzrGWl1hls"
      },
      "execution_count": null,
      "outputs": []
    },
    {
      "cell_type": "code",
      "source": [
        "DBSCAN_model = DBSCAN_handmade(eps=0.3, min_samples=10)\n",
        "DBSCAN_model.fit(st)\n",
        "plt.scatter(st[:,0], st[:,2], c = DBSCAN_model.fit(st) , cmap='icefire_r')"
      ],
      "metadata": {
        "colab": {
          "base_uri": "https://localhost:8080/",
          "height": 282
        },
        "id": "BU9WYULa1iM3",
        "outputId": "d0402991-6350-4099-cf8a-d6914027252b"
      },
      "execution_count": null,
      "outputs": [
        {
          "output_type": "execute_result",
          "data": {
            "text/plain": [
              "<matplotlib.collections.PathCollection at 0x7ff2d5bc1d10>"
            ]
          },
          "metadata": {},
          "execution_count": 45
        },
        {
          "output_type": "display_data",
          "data": {
            "image/png": "[encoded data removed]",
            "text/plain": [
              "<Figure size 432x288 with 1 Axes>"
            ]
          },
          "metadata": {
            "needs_background": "light"
          }
        }
      ]
    },
    {
      "cell_type": "code",
      "source": [
        "DBSCAN_model = DBSCAN(eps=0.3, min_samples=10)\n",
        "DBSCAN_model.fit(st)\n",
        "DBSCAN_label = DBSCAN_model.labels_\n",
        "plt.scatter(st[:,0],st[:,2], c=DBSCAN_label, cmap='icefire_r')"
      ],
      "metadata": {
        "colab": {
          "base_uri": "https://localhost:8080/",
          "height": 282
        },
        "id": "5FbFdnnL_6qo",
        "outputId": "44b93797-483e-4910-a94a-90a14375aa7d"
      },
      "execution_count": null,
      "outputs": [
        {
          "output_type": "execute_result",
          "data": {
            "text/plain": [
              "<matplotlib.collections.PathCollection at 0x7ff2d5b38f90>"
            ]
          },
          "metadata": {},
          "execution_count": 46
        },
        {
          "output_type": "display_data",
          "data": {
            "image/png": "[encoded data removed]",
            "text/plain": [
              "<Figure size 432x288 with 1 Axes>"
            ]
          },
          "metadata": {
            "needs_background": "light"
          }
        }
      ]
    },
    {
      "cell_type": "code",
      "source": [
        "DBSCAN_model = DBSCAN_handmade(eps=0.6, min_samples=10)\n",
        "DBSCAN_model.fit(st)\n",
        "plt.scatter(st[:,0],st[:,2], c = DBSCAN_model.fit(st) , cmap='icefire_r')"
      ],
      "metadata": {
        "colab": {
          "base_uri": "https://localhost:8080/",
          "height": 282
        },
        "id": "BYQe85teBcee",
        "outputId": "939ebac9-372d-43a8-9a79-e2cc1b1f7f43"
      },
      "execution_count": null,
      "outputs": [
        {
          "output_type": "execute_result",
          "data": {
            "text/plain": [
              "<matplotlib.collections.PathCollection at 0x7ff2d5fb5fd0>"
            ]
          },
          "metadata": {},
          "execution_count": 47
        },
        {
          "output_type": "display_data",
          "data": {
            "image/png": "[encoded data removed]",
            "text/plain": [
              "<Figure size 432x288 with 1 Axes>"
            ]
          },
          "metadata": {
            "needs_background": "light"
          }
        }
      ]
    },
    {
      "cell_type": "code",
      "source": [
        "DBSCAN_model = DBSCAN(eps=0.6, min_samples=10)\n",
        "DBSCAN_model.fit(st)\n",
        "DBSCAN_label = DBSCAN_model.labels_\n",
        "plt.scatter(st[:,0],st[:,2], c=DBSCAN_label, cmap='icefire_r')"
      ],
      "metadata": {
        "colab": {
          "base_uri": "https://localhost:8080/",
          "height": 282
        },
        "id": "jrbcojjMZfxN",
        "outputId": "a7097ae5-c52f-4242-864d-cfbe2299b871"
      },
      "execution_count": null,
      "outputs": [
        {
          "output_type": "execute_result",
          "data": {
            "text/plain": [
              "<matplotlib.collections.PathCollection at 0x7ff2d5fb5e10>"
            ]
          },
          "metadata": {},
          "execution_count": 48
        },
        {
          "output_type": "display_data",
          "data": {
            "image/png": "[encoded data removed]",
            "text/plain": [
              "<Figure size 432x288 with 1 Axes>"
            ]
          },
          "metadata": {
            "needs_background": "light"
          }
        }
      ]
    },
    {
      "cell_type": "code",
      "source": [
        "DBSCAN_model = DBSCAN_handmade(eps=0.8, min_samples=10)\n",
        "DBSCAN_model.fit(st)\n",
        "plt.scatter(st[:,0],st[:,1], c = DBSCAN_model.fit(st) , cmap='icefire_r')"
      ],
      "metadata": {
        "colab": {
          "base_uri": "https://localhost:8080/",
          "height": 282
        },
        "id": "2eKDcjNEZhtA",
        "outputId": "2bfbbdb5-0bcb-4c8d-82ba-744c73fc8343"
      },
      "execution_count": null,
      "outputs": [
        {
          "output_type": "execute_result",
          "data": {
            "text/plain": [
              "<matplotlib.collections.PathCollection at 0x7ff2d5ef18d0>"
            ]
          },
          "metadata": {},
          "execution_count": 41
        },
        {
          "output_type": "display_data",
          "data": {
            "image/png": "[encoded data removed]",
            "text/plain": [
              "<Figure size 432x288 with 1 Axes>"
            ]
          },
          "metadata": {
            "needs_background": "light"
          }
        }
      ]
    },
    {
      "cell_type": "code",
      "source": [
        "DBSCAN_model = DBSCAN(eps=0.8, min_samples=10)\n",
        "DBSCAN_model.fit(st)\n",
        "DBSCAN_label = DBSCAN_model.labels_\n",
        "plt.scatter(st[:,0],st[:,1], c=DBSCAN_label, cmap='icefire_r')"
      ],
      "metadata": {
        "colab": {
          "base_uri": "https://localhost:8080/",
          "height": 282
        },
        "id": "Y3UZL_NoZjL9",
        "outputId": "7e9b3d5c-6c54-4b7f-a72a-8687ff774c3e"
      },
      "execution_count": null,
      "outputs": [
        {
          "output_type": "execute_result",
          "data": {
            "text/plain": [
              "<matplotlib.collections.PathCollection at 0x7ff2d5ed6c10>"
            ]
          },
          "metadata": {},
          "execution_count": 42
        },
        {
          "output_type": "display_data",
          "data": {
            "image/png": "[encoded data removed]",
            "text/plain": [
              "<Figure size 432x288 with 1 Axes>"
            ]
          },
          "metadata": {
            "needs_background": "light"
          }
        }
      ]
    },
    {
      "cell_type": "markdown",
      "source": [
        "###K-means"
      ],
      "metadata": {
        "id": "zXaR5_19bTfa"
      }
    },
    {
      "cell_type": "code",
      "source": [
        "k_means2 = KMeans(n_clusters = 5)\n",
        "k_means2.fit(st)\n",
        "centers = k_means2.cluster_centers_\n",
        "labels2 =k_means2.labels_\n",
        "plt.scatter(st[:,0],st[:,1], c=labels2, cmap = 'icefire_r')"
      ],
      "metadata": {
        "colab": {
          "base_uri": "https://localhost:8080/",
          "height": 282
        },
        "id": "90ABdeoSaycN",
        "outputId": "d7547b11-8fcb-4e12-cfd3-e8cacf2fe79b"
      },
      "execution_count": null,
      "outputs": [
        {
          "output_type": "execute_result",
          "data": {
            "text/plain": [
              "<matplotlib.collections.PathCollection at 0x7ff2d5e4e050>"
            ]
          },
          "metadata": {},
          "execution_count": 43
        },
        {
          "output_type": "display_data",
          "data": {
            "image/png": "[encoded data removed]",
            "text/plain": [
              "<Figure size 432x288 with 1 Axes>"
            ]
          },
          "metadata": {
            "needs_background": "light"
          }
        }
      ]
    },
    {
      "cell_type": "markdown",
      "source": [
        "###Agglomerate"
      ],
      "metadata": {
        "id": "Pq3eFBsEchcK"
      }
    },
    {
      "cell_type": "code",
      "source": [
        "Agglomerat2 = AgglomerativeClustering(n_clusters=5, affinity='euclidean')\n",
        "Agglomerat2 = Agglomerat2.fit_predict(st)\n",
        "plt.scatter(st[:,0],st[:,1], c = Agglomerat2, cmap='icefire_r')"
      ],
      "metadata": {
        "colab": {
          "base_uri": "https://localhost:8080/",
          "height": 282
        },
        "id": "5ocr9xFqcgRR",
        "outputId": "61612310-5035-424b-8839-42142a6af874"
      },
      "execution_count": null,
      "outputs": [
        {
          "output_type": "execute_result",
          "data": {
            "text/plain": [
              "<matplotlib.collections.PathCollection at 0x7ff2d5db3550>"
            ]
          },
          "metadata": {},
          "execution_count": 44
        },
        {
          "output_type": "display_data",
          "data": {
            "image/png": "[encoded data removed]",
            "text/plain": [
              "<Figure size 432x288 with 1 Axes>"
            ]
          },
          "metadata": {
            "needs_background": "light"
          }
        }
      ]
    }
  ]
}