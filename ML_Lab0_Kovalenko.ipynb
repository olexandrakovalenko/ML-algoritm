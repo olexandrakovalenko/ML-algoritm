{
  "nbformat": 4,
  "nbformat_minor": 0,
  "metadata": {
    "colab": {
      "name": "Лабораторна робота №0",
      "provenance": [],
      "collapsed_sections": []
    },
    "kernelspec": {
      "display_name": "Python 3",
      "name": "python3"
    },
    "language_info": {
      "name": "python"
    }
  },
  "cells": [
    {
      "cell_type": "markdown",
      "metadata": {
        "id": "rFAkpwCKs64O"
      },
      "source": [
        "**Лабораторна робота №0. Аналіз даних із використанням Python**\n",
        "\n",
        "Cтудентки групи КМ-11мн\n",
        "#Коваленко Олександри"
      ]
    },
    {
      "cell_type": "code",
      "metadata": {
        "id": "5O8tTe1bj3Ul"
      },
      "source": [
        "import pandas as pd\n",
        "from matplotlib import pyplot as plt\n",
        "import plotly.graph_objects as go\n",
        "from plotly.subplots import make_subplots"
      ],
      "execution_count": null,
      "outputs": []
    },
    {
      "cell_type": "markdown",
      "metadata": {
        "id": "AtFMQTUpXAnm"
      },
      "source": [
        "1. Відкрити файл з даними MVA_Vehicle_Sales_Counts_by_Month_for_CY_2002_-_2017_Up_to_June.csv"
      ]
    },
    {
      "cell_type": "code",
      "metadata": {
        "colab": {
          "base_uri": "https://localhost:8080/",
          "height": 417
        },
        "id": "vNg9EVLQW_m3",
        "outputId": "15d27b55-db0d-40ee-9993-7a0c2d49f0b7"
      },
      "source": [
        "file_url = \"https://raw.githubusercontent.com/IvanSergeyevichZhuk/ML_KPI/main/MVA_Vehicle_Sales_Counts_by_Month_for_CY_2002_-_2017_Up_to_June.csv\"\n",
        "df = pd.read_csv(file_url)\n",
        "df"
      ],
      "execution_count": null,
      "outputs": [
        {
          "output_type": "execute_result",
          "data": {
            "text/html": [
              "<div>\n",
              "<style scoped>\n",
              "    .dataframe tbody tr th:only-of-type {\n",
              "        vertical-align: middle;\n",
              "    }\n",
              "\n",
              "    .dataframe tbody tr th {\n",
              "        vertical-align: top;\n",
              "    }\n",
              "\n",
              "    .dataframe thead th {\n",
              "        text-align: right;\n",
              "    }\n",
              "</style>\n",
              "<table border=\"1\" class=\"dataframe\">\n",
              "  <thead>\n",
              "    <tr style=\"text-align: right;\">\n",
              "      <th></th>\n",
              "      <th>Year</th>\n",
              "      <th>Month</th>\n",
              "      <th>New</th>\n",
              "      <th>Used</th>\n",
              "      <th>Total Sales New</th>\n",
              "      <th>Total Sales Used</th>\n",
              "    </tr>\n",
              "  </thead>\n",
              "  <tbody>\n",
              "    <tr>\n",
              "      <th>0</th>\n",
              "      <td>2002</td>\n",
              "      <td>JAN</td>\n",
              "      <td>31106</td>\n",
              "      <td>49927</td>\n",
              "      <td>$755015820</td>\n",
              "      <td>$386481929</td>\n",
              "    </tr>\n",
              "    <tr>\n",
              "      <th>1</th>\n",
              "      <td>2002</td>\n",
              "      <td>FEB</td>\n",
              "      <td>27520</td>\n",
              "      <td>50982</td>\n",
              "      <td>$664454223</td>\n",
              "      <td>$361353242</td>\n",
              "    </tr>\n",
              "    <tr>\n",
              "      <th>2</th>\n",
              "      <td>2002</td>\n",
              "      <td>MAR</td>\n",
              "      <td>34225</td>\n",
              "      <td>58794</td>\n",
              "      <td>$805666244</td>\n",
              "      <td>$419385387</td>\n",
              "    </tr>\n",
              "    <tr>\n",
              "      <th>3</th>\n",
              "      <td>2002</td>\n",
              "      <td>APR</td>\n",
              "      <td>36452</td>\n",
              "      <td>59817</td>\n",
              "      <td>$846368297</td>\n",
              "      <td>$433061150</td>\n",
              "    </tr>\n",
              "    <tr>\n",
              "      <th>4</th>\n",
              "      <td>2002</td>\n",
              "      <td>MAY</td>\n",
              "      <td>37359</td>\n",
              "      <td>60577</td>\n",
              "      <td>$855005784</td>\n",
              "      <td>$442569410</td>\n",
              "    </tr>\n",
              "    <tr>\n",
              "      <th>...</th>\n",
              "      <td>...</td>\n",
              "      <td>...</td>\n",
              "      <td>...</td>\n",
              "      <td>...</td>\n",
              "      <td>...</td>\n",
              "      <td>...</td>\n",
              "    </tr>\n",
              "    <tr>\n",
              "      <th>181</th>\n",
              "      <td>2017</td>\n",
              "      <td>FEB</td>\n",
              "      <td>22413</td>\n",
              "      <td>55989</td>\n",
              "      <td>$776222008</td>\n",
              "      <td>$592255229</td>\n",
              "    </tr>\n",
              "    <tr>\n",
              "      <th>182</th>\n",
              "      <td>2017</td>\n",
              "      <td>MAR</td>\n",
              "      <td>27838</td>\n",
              "      <td>72717</td>\n",
              "      <td>$926703144</td>\n",
              "      <td>$744746293</td>\n",
              "    </tr>\n",
              "    <tr>\n",
              "      <th>183</th>\n",
              "      <td>2017</td>\n",
              "      <td>APR</td>\n",
              "      <td>26135</td>\n",
              "      <td>62740</td>\n",
              "      <td>$867722291</td>\n",
              "      <td>$654981615</td>\n",
              "    </tr>\n",
              "    <tr>\n",
              "      <th>184</th>\n",
              "      <td>2017</td>\n",
              "      <td>MAY</td>\n",
              "      <td>28931</td>\n",
              "      <td>68296</td>\n",
              "      <td>$937804113</td>\n",
              "      <td>$718689038</td>\n",
              "    </tr>\n",
              "    <tr>\n",
              "      <th>185</th>\n",
              "      <td>2017</td>\n",
              "      <td>JUN</td>\n",
              "      <td>31835</td>\n",
              "      <td>67827</td>\n",
              "      <td>$1019153457</td>\n",
              "      <td>$720739448</td>\n",
              "    </tr>\n",
              "  </tbody>\n",
              "</table>\n",
              "<p>186 rows × 6 columns</p>\n",
              "</div>"
            ],
            "text/plain": [
              "     Year  Month     New   Used Total Sales New Total Sales Used\n",
              "0     2002    JAN  31106  49927      $755015820       $386481929\n",
              "1     2002    FEB  27520  50982      $664454223       $361353242\n",
              "2     2002    MAR  34225  58794      $805666244       $419385387\n",
              "3     2002    APR  36452  59817      $846368297       $433061150\n",
              "4     2002    MAY  37359  60577      $855005784       $442569410\n",
              "..     ...    ...    ...    ...             ...              ...\n",
              "181   2017    FEB  22413  55989      $776222008       $592255229\n",
              "182   2017    MAR  27838  72717      $926703144       $744746293\n",
              "183   2017    APR  26135  62740      $867722291       $654981615\n",
              "184   2017    MAY  28931  68296      $937804113       $718689038\n",
              "185   2017    JUN  31835  67827     $1019153457       $720739448\n",
              "\n",
              "[186 rows x 6 columns]"
            ]
          },
          "metadata": {},
          "execution_count": 2
        }
      ]
    },
    {
      "cell_type": "markdown",
      "metadata": {
        "id": "XTVxEsenjjas"
      },
      "source": [
        "2. Вивести на екран K+N перших записів з цього файлу, де K – це порядковий номер першої літери імені, N – порядковий номер другої літери прізвища."
      ]
    },
    {
      "cell_type": "code",
      "metadata": {
        "colab": {
          "base_uri": "https://localhost:8080/",
          "height": 1000
        },
        "id": "FY6By5tpjn1l",
        "outputId": "71ff3d10-5b3b-44dd-f452-5ef7fb54720e"
      },
      "source": [
        "letters = \"aбвгдеєжзиіїйклмнопрстуфхцчшщьюя\" #алфавіт у вигляді рядка\n",
        "surname = \"Коваленко\" #прізвище\n",
        "name = \"Олесандра\" #ім'я\n",
        "K = 18\n",
        "N = 18\n",
        "df.head(K+N)"
      ],
      "execution_count": null,
      "outputs": [
        {
          "output_type": "execute_result",
          "data": {
            "text/html": [
              "<div>\n",
              "<style scoped>\n",
              "    .dataframe tbody tr th:only-of-type {\n",
              "        vertical-align: middle;\n",
              "    }\n",
              "\n",
              "    .dataframe tbody tr th {\n",
              "        vertical-align: top;\n",
              "    }\n",
              "\n",
              "    .dataframe thead th {\n",
              "        text-align: right;\n",
              "    }\n",
              "</style>\n",
              "<table border=\"1\" class=\"dataframe\">\n",
              "  <thead>\n",
              "    <tr style=\"text-align: right;\">\n",
              "      <th></th>\n",
              "      <th>Year</th>\n",
              "      <th>Month</th>\n",
              "      <th>New</th>\n",
              "      <th>Used</th>\n",
              "      <th>Total Sales New</th>\n",
              "      <th>Total Sales Used</th>\n",
              "    </tr>\n",
              "  </thead>\n",
              "  <tbody>\n",
              "    <tr>\n",
              "      <th>0</th>\n",
              "      <td>2002</td>\n",
              "      <td>JAN</td>\n",
              "      <td>31106</td>\n",
              "      <td>49927</td>\n",
              "      <td>$755015820</td>\n",
              "      <td>$386481929</td>\n",
              "    </tr>\n",
              "    <tr>\n",
              "      <th>1</th>\n",
              "      <td>2002</td>\n",
              "      <td>FEB</td>\n",
              "      <td>27520</td>\n",
              "      <td>50982</td>\n",
              "      <td>$664454223</td>\n",
              "      <td>$361353242</td>\n",
              "    </tr>\n",
              "    <tr>\n",
              "      <th>2</th>\n",
              "      <td>2002</td>\n",
              "      <td>MAR</td>\n",
              "      <td>34225</td>\n",
              "      <td>58794</td>\n",
              "      <td>$805666244</td>\n",
              "      <td>$419385387</td>\n",
              "    </tr>\n",
              "    <tr>\n",
              "      <th>3</th>\n",
              "      <td>2002</td>\n",
              "      <td>APR</td>\n",
              "      <td>36452</td>\n",
              "      <td>59817</td>\n",
              "      <td>$846368297</td>\n",
              "      <td>$433061150</td>\n",
              "    </tr>\n",
              "    <tr>\n",
              "      <th>4</th>\n",
              "      <td>2002</td>\n",
              "      <td>MAY</td>\n",
              "      <td>37359</td>\n",
              "      <td>60577</td>\n",
              "      <td>$855005784</td>\n",
              "      <td>$442569410</td>\n",
              "    </tr>\n",
              "    <tr>\n",
              "      <th>5</th>\n",
              "      <td>2002</td>\n",
              "      <td>JUN</td>\n",
              "      <td>36348</td>\n",
              "      <td>55415</td>\n",
              "      <td>$830251613</td>\n",
              "      <td>$414731166</td>\n",
              "    </tr>\n",
              "    <tr>\n",
              "      <th>6</th>\n",
              "      <td>2002</td>\n",
              "      <td>JUL</td>\n",
              "      <td>30367</td>\n",
              "      <td>55235</td>\n",
              "      <td>$700530891</td>\n",
              "      <td>$384673023</td>\n",
              "    </tr>\n",
              "    <tr>\n",
              "      <th>7</th>\n",
              "      <td>2002</td>\n",
              "      <td>AUG</td>\n",
              "      <td>38965</td>\n",
              "      <td>60310</td>\n",
              "      <td>$934484212</td>\n",
              "      <td>$455453720</td>\n",
              "    </tr>\n",
              "    <tr>\n",
              "      <th>8</th>\n",
              "      <td>2002</td>\n",
              "      <td>SEP</td>\n",
              "      <td>39740</td>\n",
              "      <td>55485</td>\n",
              "      <td>$950502055</td>\n",
              "      <td>$432112270</td>\n",
              "    </tr>\n",
              "    <tr>\n",
              "      <th>9</th>\n",
              "      <td>2002</td>\n",
              "      <td>OCT</td>\n",
              "      <td>35276</td>\n",
              "      <td>58020</td>\n",
              "      <td>$865326154</td>\n",
              "      <td>$456738532</td>\n",
              "    </tr>\n",
              "    <tr>\n",
              "      <th>10</th>\n",
              "      <td>2002</td>\n",
              "      <td>NOV</td>\n",
              "      <td>27812</td>\n",
              "      <td>49066</td>\n",
              "      <td>$691740703</td>\n",
              "      <td>$379196575</td>\n",
              "    </tr>\n",
              "    <tr>\n",
              "      <th>11</th>\n",
              "      <td>2002</td>\n",
              "      <td>DEC</td>\n",
              "      <td>26994</td>\n",
              "      <td>42461</td>\n",
              "      <td>$673208880</td>\n",
              "      <td>$374453368</td>\n",
              "    </tr>\n",
              "    <tr>\n",
              "      <th>12</th>\n",
              "      <td>2003</td>\n",
              "      <td>JAN</td>\n",
              "      <td>34707</td>\n",
              "      <td>49481</td>\n",
              "      <td>$860730784</td>\n",
              "      <td>$392438833</td>\n",
              "    </tr>\n",
              "    <tr>\n",
              "      <th>13</th>\n",
              "      <td>2003</td>\n",
              "      <td>FEB</td>\n",
              "      <td>24585</td>\n",
              "      <td>41048</td>\n",
              "      <td>$615749948</td>\n",
              "      <td>$323297077</td>\n",
              "    </tr>\n",
              "    <tr>\n",
              "      <th>14</th>\n",
              "      <td>2003</td>\n",
              "      <td>MAR</td>\n",
              "      <td>32705</td>\n",
              "      <td>56513</td>\n",
              "      <td>$791728069</td>\n",
              "      <td>$413899574</td>\n",
              "    </tr>\n",
              "    <tr>\n",
              "      <th>15</th>\n",
              "      <td>2003</td>\n",
              "      <td>APR</td>\n",
              "      <td>37682</td>\n",
              "      <td>61856</td>\n",
              "      <td>$909778220</td>\n",
              "      <td>$458127973</td>\n",
              "    </tr>\n",
              "    <tr>\n",
              "      <th>16</th>\n",
              "      <td>2003</td>\n",
              "      <td>MAY</td>\n",
              "      <td>38472</td>\n",
              "      <td>61742</td>\n",
              "      <td>$917339608</td>\n",
              "      <td>$469734647</td>\n",
              "    </tr>\n",
              "    <tr>\n",
              "      <th>17</th>\n",
              "      <td>2003</td>\n",
              "      <td>JUN</td>\n",
              "      <td>38573</td>\n",
              "      <td>59904</td>\n",
              "      <td>$941898387</td>\n",
              "      <td>$455117890</td>\n",
              "    </tr>\n",
              "    <tr>\n",
              "      <th>18</th>\n",
              "      <td>2003</td>\n",
              "      <td>JUL</td>\n",
              "      <td>41088</td>\n",
              "      <td>62811</td>\n",
              "      <td>$990041754</td>\n",
              "      <td>$489374362</td>\n",
              "    </tr>\n",
              "    <tr>\n",
              "      <th>19</th>\n",
              "      <td>2003</td>\n",
              "      <td>AUG</td>\n",
              "      <td>39556</td>\n",
              "      <td>60829</td>\n",
              "      <td>$985375378</td>\n",
              "      <td>$460316726</td>\n",
              "    </tr>\n",
              "    <tr>\n",
              "      <th>20</th>\n",
              "      <td>2003</td>\n",
              "      <td>SEP</td>\n",
              "      <td>40464</td>\n",
              "      <td>58279</td>\n",
              "      <td>$1012404987</td>\n",
              "      <td>$446119525</td>\n",
              "    </tr>\n",
              "    <tr>\n",
              "      <th>21</th>\n",
              "      <td>2003</td>\n",
              "      <td>OCT</td>\n",
              "      <td>38597</td>\n",
              "      <td>62417</td>\n",
              "      <td>$980365678</td>\n",
              "      <td>$470520906</td>\n",
              "    </tr>\n",
              "    <tr>\n",
              "      <th>22</th>\n",
              "      <td>2003</td>\n",
              "      <td>NOV</td>\n",
              "      <td>30155</td>\n",
              "      <td>50655</td>\n",
              "      <td>$779674957</td>\n",
              "      <td>$385164663</td>\n",
              "    </tr>\n",
              "    <tr>\n",
              "      <th>23</th>\n",
              "      <td>2003</td>\n",
              "      <td>DEC</td>\n",
              "      <td>31668</td>\n",
              "      <td>49823</td>\n",
              "      <td>$838060569</td>\n",
              "      <td>$401959321</td>\n",
              "    </tr>\n",
              "    <tr>\n",
              "      <th>24</th>\n",
              "      <td>2004</td>\n",
              "      <td>JAN</td>\n",
              "      <td>33361</td>\n",
              "      <td>46427</td>\n",
              "      <td>$891062280</td>\n",
              "      <td>$367825717</td>\n",
              "    </tr>\n",
              "    <tr>\n",
              "      <th>25</th>\n",
              "      <td>2004</td>\n",
              "      <td>FEB</td>\n",
              "      <td>27780</td>\n",
              "      <td>50842</td>\n",
              "      <td>$721703209</td>\n",
              "      <td>$377496734</td>\n",
              "    </tr>\n",
              "    <tr>\n",
              "      <th>26</th>\n",
              "      <td>2004</td>\n",
              "      <td>MAR</td>\n",
              "      <td>39340</td>\n",
              "      <td>68766</td>\n",
              "      <td>$975737236</td>\n",
              "      <td>$502144505</td>\n",
              "    </tr>\n",
              "    <tr>\n",
              "      <th>27</th>\n",
              "      <td>2004</td>\n",
              "      <td>APR</td>\n",
              "      <td>37478</td>\n",
              "      <td>64059</td>\n",
              "      <td>$919596999</td>\n",
              "      <td>$472014215</td>\n",
              "    </tr>\n",
              "    <tr>\n",
              "      <th>28</th>\n",
              "      <td>2004</td>\n",
              "      <td>MAY</td>\n",
              "      <td>37819</td>\n",
              "      <td>58589</td>\n",
              "      <td>$916954404</td>\n",
              "      <td>$431929913</td>\n",
              "    </tr>\n",
              "    <tr>\n",
              "      <th>29</th>\n",
              "      <td>2004</td>\n",
              "      <td>JUN</td>\n",
              "      <td>42758</td>\n",
              "      <td>65073</td>\n",
              "      <td>$1038212129</td>\n",
              "      <td>$486125865</td>\n",
              "    </tr>\n",
              "    <tr>\n",
              "      <th>30</th>\n",
              "      <td>2004</td>\n",
              "      <td>JUL</td>\n",
              "      <td>38329</td>\n",
              "      <td>60994</td>\n",
              "      <td>$958264422</td>\n",
              "      <td>$474975823</td>\n",
              "    </tr>\n",
              "    <tr>\n",
              "      <th>31</th>\n",
              "      <td>2004</td>\n",
              "      <td>AUG</td>\n",
              "      <td>37175</td>\n",
              "      <td>61106</td>\n",
              "      <td>$950681015</td>\n",
              "      <td>$470372767</td>\n",
              "    </tr>\n",
              "    <tr>\n",
              "      <th>32</th>\n",
              "      <td>2004</td>\n",
              "      <td>SEP</td>\n",
              "      <td>38712</td>\n",
              "      <td>60238</td>\n",
              "      <td>$1004251102</td>\n",
              "      <td>$478484210</td>\n",
              "    </tr>\n",
              "    <tr>\n",
              "      <th>33</th>\n",
              "      <td>2004</td>\n",
              "      <td>OCT</td>\n",
              "      <td>34839</td>\n",
              "      <td>57046</td>\n",
              "      <td>$913403542</td>\n",
              "      <td>$452470718</td>\n",
              "    </tr>\n",
              "    <tr>\n",
              "      <th>34</th>\n",
              "      <td>2004</td>\n",
              "      <td>NOV</td>\n",
              "      <td>29859</td>\n",
              "      <td>54654</td>\n",
              "      <td>$821585825</td>\n",
              "      <td>$439882689</td>\n",
              "    </tr>\n",
              "    <tr>\n",
              "      <th>35</th>\n",
              "      <td>2004</td>\n",
              "      <td>DEC</td>\n",
              "      <td>31058</td>\n",
              "      <td>51883</td>\n",
              "      <td>$861503861</td>\n",
              "      <td>$431825791</td>\n",
              "    </tr>\n",
              "  </tbody>\n",
              "</table>\n",
              "</div>"
            ],
            "text/plain": [
              "    Year  Month     New   Used Total Sales New Total Sales Used\n",
              "0    2002    JAN  31106  49927      $755015820       $386481929\n",
              "1    2002    FEB  27520  50982      $664454223       $361353242\n",
              "2    2002    MAR  34225  58794      $805666244       $419385387\n",
              "3    2002    APR  36452  59817      $846368297       $433061150\n",
              "4    2002    MAY  37359  60577      $855005784       $442569410\n",
              "5    2002    JUN  36348  55415      $830251613       $414731166\n",
              "6    2002    JUL  30367  55235      $700530891       $384673023\n",
              "7    2002    AUG  38965  60310      $934484212       $455453720\n",
              "8    2002    SEP  39740  55485      $950502055       $432112270\n",
              "9    2002    OCT  35276  58020      $865326154       $456738532\n",
              "10   2002    NOV  27812  49066      $691740703       $379196575\n",
              "11   2002    DEC  26994  42461      $673208880       $374453368\n",
              "12   2003    JAN  34707  49481      $860730784       $392438833\n",
              "13   2003    FEB  24585  41048      $615749948       $323297077\n",
              "14   2003    MAR  32705  56513      $791728069       $413899574\n",
              "15   2003    APR  37682  61856      $909778220       $458127973\n",
              "16   2003    MAY  38472  61742      $917339608       $469734647\n",
              "17   2003    JUN  38573  59904      $941898387       $455117890\n",
              "18   2003    JUL  41088  62811      $990041754       $489374362\n",
              "19   2003    AUG  39556  60829      $985375378       $460316726\n",
              "20   2003    SEP  40464  58279     $1012404987       $446119525\n",
              "21   2003    OCT  38597  62417      $980365678       $470520906\n",
              "22   2003    NOV  30155  50655      $779674957       $385164663\n",
              "23   2003    DEC  31668  49823      $838060569       $401959321\n",
              "24   2004    JAN  33361  46427      $891062280       $367825717\n",
              "25   2004    FEB  27780  50842      $721703209       $377496734\n",
              "26   2004    MAR  39340  68766      $975737236       $502144505\n",
              "27   2004    APR  37478  64059      $919596999       $472014215\n",
              "28   2004    MAY  37819  58589      $916954404       $431929913\n",
              "29   2004    JUN  42758  65073     $1038212129       $486125865\n",
              "30   2004    JUL  38329  60994      $958264422       $474975823\n",
              "31   2004    AUG  37175  61106      $950681015       $470372767\n",
              "32   2004    SEP  38712  60238     $1004251102       $478484210\n",
              "33   2004    OCT  34839  57046      $913403542       $452470718\n",
              "34   2004    NOV  29859  54654      $821585825       $439882689\n",
              "35   2004    DEC  31058  51883      $861503861       $431825791"
            ]
          },
          "metadata": {},
          "execution_count": 3
        }
      ]
    },
    {
      "cell_type": "markdown",
      "metadata": {
        "id": "0gInvzhCljy-"
      },
      "source": [
        "3. Обчислити та вивести:\n",
        "\n",
        "a. загальну кількість транспортних засобів, проданих у 20YY році, де дві останні цифри YY визначаються як збільшений на 3 залишок від ділення порядкового номеру першої літери прізвища на 15"
      ]
    },
    {
      "cell_type": "code",
      "metadata": {
        "colab": {
          "base_uri": "https://localhost:8080/"
        },
        "id": "tiR03nVRlkX-",
        "outputId": "7cb2b1b2-e7a7-4726-f0a3-1c366339b549"
      },
      "source": [
        "N=14\n",
        "YY = N % 15 + 3 + 2000\n",
        "year = df[df['Year '] == YY]\n",
        "total = year.sum(axis=0)\n",
        "total = total['New'] + total['Used']\n",
        "total"
      ],
      "execution_count": null,
      "outputs": [
        {
          "output_type": "execute_result",
          "data": {
            "text/plain": [
              "550131"
            ]
          },
          "metadata": {},
          "execution_count": 4
        }
      ]
    },
    {
      "cell_type": "markdown",
      "metadata": {
        "id": "ffhB8zgVlkzW"
      },
      "source": [
        "b. середній дохід від продажу б/в транспортних засобів в місяці (М %% 12) + 1, де М – це порядковий номер у списку групи, a %% b - ділення a за модулем b"
      ]
    },
    {
      "cell_type": "code",
      "metadata": {
        "colab": {
          "base_uri": "https://localhost:8080/"
        },
        "id": "kTkzpUyDQAFG",
        "outputId": "5e1e7485-c793-4245-bec1-5d1284464dfa"
      },
      "source": [
        "M = 9\n",
        "month = ( M % 12 ) + 1\n",
        "month"
      ],
      "execution_count": null,
      "outputs": [
        {
          "output_type": "execute_result",
          "data": {
            "text/plain": [
              "10"
            ]
          },
          "metadata": {},
          "execution_count": 5
        }
      ]
    },
    {
      "cell_type": "code",
      "metadata": {
        "colab": {
          "base_uri": "https://localhost:8080/"
        },
        "id": "sB-4x8s6llPW",
        "outputId": "1a9ecc7e-5c3e-4ed3-b4ae-a1c9763a77ea"
      },
      "source": [
        "df[df[\"Month \"] == 'OCT'][\"Total Sales Used\"].apply(lambda x: float(x.replace('$',''))).mean()"
      ],
      "execution_count": null,
      "outputs": [
        {
          "output_type": "execute_result",
          "data": {
            "text/plain": [
              "496450506.4"
            ]
          },
          "metadata": {},
          "execution_count": 6
        }
      ]
    },
    {
      "cell_type": "markdown",
      "metadata": {
        "id": "g0ZPTg8Om_FQ"
      },
      "source": [
        "4. Побудувати на одному графіку:\n",
        "\n",
        "a. середню вартість одного нового транспортного засобу в місяці (М+3) %% 4 + 1"
      ]
    },
    {
      "cell_type": "code",
      "metadata": {
        "colab": {
          "base_uri": "https://localhost:8080/"
        },
        "id": "PPYR54ZJOdvI",
        "outputId": "a3d48c10-be85-4561-ce52-4ce9ae22be9b"
      },
      "source": [
        "month_4a = ( M + 3 ) % 4 + 1\n",
        "month_4a"
      ],
      "execution_count": null,
      "outputs": [
        {
          "output_type": "execute_result",
          "data": {
            "text/plain": [
              "1"
            ]
          },
          "metadata": {},
          "execution_count": 7
        }
      ]
    },
    {
      "cell_type": "code",
      "metadata": {
        "colab": {
          "base_uri": "https://localhost:8080/"
        },
        "id": "_29v7uMwm-iQ",
        "outputId": "ead0e14e-2f0c-4668-aa63-b68527d846df"
      },
      "source": [
        "month_4a = df[df[\"Month \"] == \"JAN\"]\n",
        "mean_new_price = sum(month_4a[\"Total Sales New\"].apply(lambda x: float(x.replace('$',''))))/sum(month_4a[\"New\"])\n",
        "mean_new_price"
      ],
      "execution_count": null,
      "outputs": [
        {
          "output_type": "execute_result",
          "data": {
            "text/plain": [
              "29158.097080955373"
            ]
          },
          "metadata": {},
          "execution_count": 8
        }
      ]
    },
    {
      "cell_type": "markdown",
      "metadata": {
        "id": "v7lsS5iNnYo0"
      },
      "source": [
        "b. середню вартість одного б/в транспортного засобу в місяці (М+3) %% 4 + 1"
      ]
    },
    {
      "cell_type": "code",
      "metadata": {
        "colab": {
          "base_uri": "https://localhost:8080/"
        },
        "id": "xhxSHbRMnZ3U",
        "outputId": "2202cb67-a0a4-444a-a09d-7b6761481486"
      },
      "source": [
        "mean_used_price = sum(month_4a[\"Total Sales Used\"].apply(lambda x: float(x.replace('$','')))) / sum(month_4a[\"Used\"])\n",
        "mean_used_price"
      ],
      "execution_count": null,
      "outputs": [
        {
          "output_type": "execute_result",
          "data": {
            "text/plain": [
              "9114.233171926837"
            ]
          },
          "metadata": {},
          "execution_count": 9
        }
      ]
    },
    {
      "cell_type": "code",
      "metadata": {
        "colab": {
          "base_uri": "https://localhost:8080/",
          "height": 298
        },
        "id": "0n1eRt2HQ634",
        "outputId": "0a321f58-4d1c-4024-a1f9-829a5f9b009f"
      },
      "source": [
        "plt.bar(['New', 'Used'],[mean_new_price, mean_used_price])\n",
        "plt.title(\"Mean price JAN\")"
      ],
      "execution_count": null,
      "outputs": [
        {
          "output_type": "execute_result",
          "data": {
            "text/plain": [
              "Text(0.5, 1.0, 'Mean price JAN')"
            ]
          },
          "metadata": {},
          "execution_count": 10
        },
        {
          "output_type": "display_data",
          "data": {
            "image/png": "[encoded data removed]",
            "text/plain": [
              "<Figure size 432x288 with 1 Axes>"
            ]
          },
          "metadata": {
            "needs_background": "light"
          }
        }
      ]
    },
    {
      "cell_type": "markdown",
      "metadata": {
        "id": "od69X4svfFMO"
      },
      "source": [
        "5. \n",
        "    a. Створіть нову змінну в датасеті, яка показує загальну кількість проданих автомобілів по місяцю. Назвіть цю змінну All. \n",
        "\n",
        "    b. Створіть нову змінну в датасеті, яка показує загальний дохід по всіх проданих автомобілях по місяцю. Назвіть цю змінну Total Sales All.\n",
        "    \n",
        "    c. Згрупуйте датасет за змінною Month і знайдіть суму, мінімум, максимум, середнє значення (mean), стандартне відхилення (standard deviation), медіану для змінних All, New,\tUsed,\tTotal Sales New,\tTotal Sales Used, Total Sales All. Результати агрегації знайдіть, використовуючи один метод і подайте у вигляді одного датафрейму.\n",
        "\n",
        "    d. Візуалізуйте результати агрегацій для місяцю (М %% 5) + 1 та будь-яких інших трьох місяців з датасету на одному графіку. Проаналізуйте отримані графіки."
      ]
    },
    {
      "cell_type": "code",
      "metadata": {
        "id": "rv0kRMeAaLwg"
      },
      "source": [
        "df['Total Sales New'] = df['Total Sales New'].apply(lambda x: float(x.replace('$','')))\n",
        "df['Total Sales Used'] = df['Total Sales Used'].apply(lambda x: float(x.replace('$','')))"
      ],
      "execution_count": null,
      "outputs": []
    },
    {
      "cell_type": "markdown",
      "metadata": {
        "id": "tT4Z1a5kJuiy"
      },
      "source": [
        "### 5.a"
      ]
    },
    {
      "cell_type": "code",
      "metadata": {
        "colab": {
          "base_uri": "https://localhost:8080/",
          "height": 203
        },
        "id": "rsDXqsMdlTxI",
        "outputId": "700cb6c3-a853-434e-916d-995b2c61a4da"
      },
      "source": [
        "df['All'] = df['Used']+df['New']\n",
        "df.head()"
      ],
      "execution_count": null,
      "outputs": [
        {
          "output_type": "execute_result",
          "data": {
            "text/html": [
              "<div>\n",
              "<style scoped>\n",
              "    .dataframe tbody tr th:only-of-type {\n",
              "        vertical-align: middle;\n",
              "    }\n",
              "\n",
              "    .dataframe tbody tr th {\n",
              "        vertical-align: top;\n",
              "    }\n",
              "\n",
              "    .dataframe thead th {\n",
              "        text-align: right;\n",
              "    }\n",
              "</style>\n",
              "<table border=\"1\" class=\"dataframe\">\n",
              "  <thead>\n",
              "    <tr style=\"text-align: right;\">\n",
              "      <th></th>\n",
              "      <th>Year</th>\n",
              "      <th>Month</th>\n",
              "      <th>New</th>\n",
              "      <th>Used</th>\n",
              "      <th>Total Sales New</th>\n",
              "      <th>Total Sales Used</th>\n",
              "      <th>All</th>\n",
              "    </tr>\n",
              "  </thead>\n",
              "  <tbody>\n",
              "    <tr>\n",
              "      <th>0</th>\n",
              "      <td>2002</td>\n",
              "      <td>JAN</td>\n",
              "      <td>31106</td>\n",
              "      <td>49927</td>\n",
              "      <td>755015820.0</td>\n",
              "      <td>386481929.0</td>\n",
              "      <td>81033</td>\n",
              "    </tr>\n",
              "    <tr>\n",
              "      <th>1</th>\n",
              "      <td>2002</td>\n",
              "      <td>FEB</td>\n",
              "      <td>27520</td>\n",
              "      <td>50982</td>\n",
              "      <td>664454223.0</td>\n",
              "      <td>361353242.0</td>\n",
              "      <td>78502</td>\n",
              "    </tr>\n",
              "    <tr>\n",
              "      <th>2</th>\n",
              "      <td>2002</td>\n",
              "      <td>MAR</td>\n",
              "      <td>34225</td>\n",
              "      <td>58794</td>\n",
              "      <td>805666244.0</td>\n",
              "      <td>419385387.0</td>\n",
              "      <td>93019</td>\n",
              "    </tr>\n",
              "    <tr>\n",
              "      <th>3</th>\n",
              "      <td>2002</td>\n",
              "      <td>APR</td>\n",
              "      <td>36452</td>\n",
              "      <td>59817</td>\n",
              "      <td>846368297.0</td>\n",
              "      <td>433061150.0</td>\n",
              "      <td>96269</td>\n",
              "    </tr>\n",
              "    <tr>\n",
              "      <th>4</th>\n",
              "      <td>2002</td>\n",
              "      <td>MAY</td>\n",
              "      <td>37359</td>\n",
              "      <td>60577</td>\n",
              "      <td>855005784.0</td>\n",
              "      <td>442569410.0</td>\n",
              "      <td>97936</td>\n",
              "    </tr>\n",
              "  </tbody>\n",
              "</table>\n",
              "</div>"
            ],
            "text/plain": [
              "   Year  Month     New   Used  Total Sales New  Total Sales Used    All\n",
              "0   2002    JAN  31106  49927      755015820.0       386481929.0  81033\n",
              "1   2002    FEB  27520  50982      664454223.0       361353242.0  78502\n",
              "2   2002    MAR  34225  58794      805666244.0       419385387.0  93019\n",
              "3   2002    APR  36452  59817      846368297.0       433061150.0  96269\n",
              "4   2002    MAY  37359  60577      855005784.0       442569410.0  97936"
            ]
          },
          "metadata": {},
          "execution_count": 12
        }
      ]
    },
    {
      "cell_type": "markdown",
      "metadata": {
        "id": "xg4OkBqrZ2b-"
      },
      "source": [
        "### 5.b"
      ]
    },
    {
      "cell_type": "code",
      "metadata": {
        "colab": {
          "base_uri": "https://localhost:8080/",
          "height": 417
        },
        "id": "PYyYkfy5lUW8",
        "outputId": "0702e439-8e13-44f0-a0d2-931cabc8031c"
      },
      "source": [
        "df['Total Sales All'] = df['Total Sales New']+df['Total Sales Used']\n",
        "df"
      ],
      "execution_count": null,
      "outputs": [
        {
          "output_type": "execute_result",
          "data": {
            "text/html": [
              "<div>\n",
              "<style scoped>\n",
              "    .dataframe tbody tr th:only-of-type {\n",
              "        vertical-align: middle;\n",
              "    }\n",
              "\n",
              "    .dataframe tbody tr th {\n",
              "        vertical-align: top;\n",
              "    }\n",
              "\n",
              "    .dataframe thead th {\n",
              "        text-align: right;\n",
              "    }\n",
              "</style>\n",
              "<table border=\"1\" class=\"dataframe\">\n",
              "  <thead>\n",
              "    <tr style=\"text-align: right;\">\n",
              "      <th></th>\n",
              "      <th>Year</th>\n",
              "      <th>Month</th>\n",
              "      <th>New</th>\n",
              "      <th>Used</th>\n",
              "      <th>Total Sales New</th>\n",
              "      <th>Total Sales Used</th>\n",
              "      <th>All</th>\n",
              "      <th>Total Sales All</th>\n",
              "    </tr>\n",
              "  </thead>\n",
              "  <tbody>\n",
              "    <tr>\n",
              "      <th>0</th>\n",
              "      <td>2002</td>\n",
              "      <td>JAN</td>\n",
              "      <td>31106</td>\n",
              "      <td>49927</td>\n",
              "      <td>7.550158e+08</td>\n",
              "      <td>386481929.0</td>\n",
              "      <td>81033</td>\n",
              "      <td>1.141498e+09</td>\n",
              "    </tr>\n",
              "    <tr>\n",
              "      <th>1</th>\n",
              "      <td>2002</td>\n",
              "      <td>FEB</td>\n",
              "      <td>27520</td>\n",
              "      <td>50982</td>\n",
              "      <td>6.644542e+08</td>\n",
              "      <td>361353242.0</td>\n",
              "      <td>78502</td>\n",
              "      <td>1.025807e+09</td>\n",
              "    </tr>\n",
              "    <tr>\n",
              "      <th>2</th>\n",
              "      <td>2002</td>\n",
              "      <td>MAR</td>\n",
              "      <td>34225</td>\n",
              "      <td>58794</td>\n",
              "      <td>8.056662e+08</td>\n",
              "      <td>419385387.0</td>\n",
              "      <td>93019</td>\n",
              "      <td>1.225052e+09</td>\n",
              "    </tr>\n",
              "    <tr>\n",
              "      <th>3</th>\n",
              "      <td>2002</td>\n",
              "      <td>APR</td>\n",
              "      <td>36452</td>\n",
              "      <td>59817</td>\n",
              "      <td>8.463683e+08</td>\n",
              "      <td>433061150.0</td>\n",
              "      <td>96269</td>\n",
              "      <td>1.279429e+09</td>\n",
              "    </tr>\n",
              "    <tr>\n",
              "      <th>4</th>\n",
              "      <td>2002</td>\n",
              "      <td>MAY</td>\n",
              "      <td>37359</td>\n",
              "      <td>60577</td>\n",
              "      <td>8.550058e+08</td>\n",
              "      <td>442569410.0</td>\n",
              "      <td>97936</td>\n",
              "      <td>1.297575e+09</td>\n",
              "    </tr>\n",
              "    <tr>\n",
              "      <th>...</th>\n",
              "      <td>...</td>\n",
              "      <td>...</td>\n",
              "      <td>...</td>\n",
              "      <td>...</td>\n",
              "      <td>...</td>\n",
              "      <td>...</td>\n",
              "      <td>...</td>\n",
              "      <td>...</td>\n",
              "    </tr>\n",
              "    <tr>\n",
              "      <th>181</th>\n",
              "      <td>2017</td>\n",
              "      <td>FEB</td>\n",
              "      <td>22413</td>\n",
              "      <td>55989</td>\n",
              "      <td>7.762220e+08</td>\n",
              "      <td>592255229.0</td>\n",
              "      <td>78402</td>\n",
              "      <td>1.368477e+09</td>\n",
              "    </tr>\n",
              "    <tr>\n",
              "      <th>182</th>\n",
              "      <td>2017</td>\n",
              "      <td>MAR</td>\n",
              "      <td>27838</td>\n",
              "      <td>72717</td>\n",
              "      <td>9.267031e+08</td>\n",
              "      <td>744746293.0</td>\n",
              "      <td>100555</td>\n",
              "      <td>1.671449e+09</td>\n",
              "    </tr>\n",
              "    <tr>\n",
              "      <th>183</th>\n",
              "      <td>2017</td>\n",
              "      <td>APR</td>\n",
              "      <td>26135</td>\n",
              "      <td>62740</td>\n",
              "      <td>8.677223e+08</td>\n",
              "      <td>654981615.0</td>\n",
              "      <td>88875</td>\n",
              "      <td>1.522704e+09</td>\n",
              "    </tr>\n",
              "    <tr>\n",
              "      <th>184</th>\n",
              "      <td>2017</td>\n",
              "      <td>MAY</td>\n",
              "      <td>28931</td>\n",
              "      <td>68296</td>\n",
              "      <td>9.378041e+08</td>\n",
              "      <td>718689038.0</td>\n",
              "      <td>97227</td>\n",
              "      <td>1.656493e+09</td>\n",
              "    </tr>\n",
              "    <tr>\n",
              "      <th>185</th>\n",
              "      <td>2017</td>\n",
              "      <td>JUN</td>\n",
              "      <td>31835</td>\n",
              "      <td>67827</td>\n",
              "      <td>1.019153e+09</td>\n",
              "      <td>720739448.0</td>\n",
              "      <td>99662</td>\n",
              "      <td>1.739893e+09</td>\n",
              "    </tr>\n",
              "  </tbody>\n",
              "</table>\n",
              "<p>186 rows × 8 columns</p>\n",
              "</div>"
            ],
            "text/plain": [
              "     Year  Month     New  ...  Total Sales Used     All  Total Sales All\n",
              "0     2002    JAN  31106  ...       386481929.0   81033     1.141498e+09\n",
              "1     2002    FEB  27520  ...       361353242.0   78502     1.025807e+09\n",
              "2     2002    MAR  34225  ...       419385387.0   93019     1.225052e+09\n",
              "3     2002    APR  36452  ...       433061150.0   96269     1.279429e+09\n",
              "4     2002    MAY  37359  ...       442569410.0   97936     1.297575e+09\n",
              "..     ...    ...    ...  ...               ...     ...              ...\n",
              "181   2017    FEB  22413  ...       592255229.0   78402     1.368477e+09\n",
              "182   2017    MAR  27838  ...       744746293.0  100555     1.671449e+09\n",
              "183   2017    APR  26135  ...       654981615.0   88875     1.522704e+09\n",
              "184   2017    MAY  28931  ...       718689038.0   97227     1.656493e+09\n",
              "185   2017    JUN  31835  ...       720739448.0   99662     1.739893e+09\n",
              "\n",
              "[186 rows x 8 columns]"
            ]
          },
          "metadata": {},
          "execution_count": 13
        }
      ]
    },
    {
      "cell_type": "markdown",
      "metadata": {
        "id": "-VpLzYa0awTE"
      },
      "source": [
        "### 5.c"
      ]
    },
    {
      "cell_type": "code",
      "metadata": {
        "colab": {
          "base_uri": "https://localhost:8080/",
          "height": 500
        },
        "id": "TbVZLh-1lVNC",
        "outputId": "3966bca1-c6f1-4663-cb00-f888c61909e4"
      },
      "source": [
        "aggregations = ['sum', 'min', 'max', 'mean', 'std','var']\n",
        "res = df[['Month ', 'All', 'New', 'Used','Total Sales New', 'Total Sales Used', 'Total Sales All']].groupby('Month ').agg(aggregations)\n",
        "res"
      ],
      "execution_count": null,
      "outputs": [
        {
          "output_type": "execute_result",
          "data": {
            "text/html": [
              "<div>\n",
              "<style scoped>\n",
              "    .dataframe tbody tr th:only-of-type {\n",
              "        vertical-align: middle;\n",
              "    }\n",
              "\n",
              "    .dataframe tbody tr th {\n",
              "        vertical-align: top;\n",
              "    }\n",
              "\n",
              "    .dataframe thead tr th {\n",
              "        text-align: left;\n",
              "    }\n",
              "\n",
              "    .dataframe thead tr:last-of-type th {\n",
              "        text-align: right;\n",
              "    }\n",
              "</style>\n",
              "<table border=\"1\" class=\"dataframe\">\n",
              "  <thead>\n",
              "    <tr>\n",
              "      <th></th>\n",
              "      <th colspan=\"6\" halign=\"left\">All</th>\n",
              "      <th colspan=\"6\" halign=\"left\">New</th>\n",
              "      <th colspan=\"6\" halign=\"left\">Used</th>\n",
              "      <th colspan=\"6\" halign=\"left\">Total Sales New</th>\n",
              "      <th colspan=\"6\" halign=\"left\">Total Sales Used</th>\n",
              "      <th colspan=\"6\" halign=\"left\">Total Sales All</th>\n",
              "    </tr>\n",
              "    <tr>\n",
              "      <th></th>\n",
              "      <th>sum</th>\n",
              "      <th>min</th>\n",
              "      <th>max</th>\n",
              "      <th>mean</th>\n",
              "      <th>std</th>\n",
              "      <th>var</th>\n",
              "      <th>sum</th>\n",
              "      <th>min</th>\n",
              "      <th>max</th>\n",
              "      <th>mean</th>\n",
              "      <th>std</th>\n",
              "      <th>var</th>\n",
              "      <th>sum</th>\n",
              "      <th>min</th>\n",
              "      <th>max</th>\n",
              "      <th>mean</th>\n",
              "      <th>std</th>\n",
              "      <th>var</th>\n",
              "      <th>sum</th>\n",
              "      <th>min</th>\n",
              "      <th>max</th>\n",
              "      <th>mean</th>\n",
              "      <th>std</th>\n",
              "      <th>var</th>\n",
              "      <th>sum</th>\n",
              "      <th>min</th>\n",
              "      <th>max</th>\n",
              "      <th>mean</th>\n",
              "      <th>std</th>\n",
              "      <th>var</th>\n",
              "      <th>sum</th>\n",
              "      <th>min</th>\n",
              "      <th>max</th>\n",
              "      <th>mean</th>\n",
              "      <th>std</th>\n",
              "      <th>var</th>\n",
              "    </tr>\n",
              "    <tr>\n",
              "      <th>Month</th>\n",
              "      <th></th>\n",
              "      <th></th>\n",
              "      <th></th>\n",
              "      <th></th>\n",
              "      <th></th>\n",
              "      <th></th>\n",
              "      <th></th>\n",
              "      <th></th>\n",
              "      <th></th>\n",
              "      <th></th>\n",
              "      <th></th>\n",
              "      <th></th>\n",
              "      <th></th>\n",
              "      <th></th>\n",
              "      <th></th>\n",
              "      <th></th>\n",
              "      <th></th>\n",
              "      <th></th>\n",
              "      <th></th>\n",
              "      <th></th>\n",
              "      <th></th>\n",
              "      <th></th>\n",
              "      <th></th>\n",
              "      <th></th>\n",
              "      <th></th>\n",
              "      <th></th>\n",
              "      <th></th>\n",
              "      <th></th>\n",
              "      <th></th>\n",
              "      <th></th>\n",
              "      <th></th>\n",
              "      <th></th>\n",
              "      <th></th>\n",
              "      <th></th>\n",
              "      <th></th>\n",
              "      <th></th>\n",
              "    </tr>\n",
              "  </thead>\n",
              "  <tbody>\n",
              "    <tr>\n",
              "      <th>APR</th>\n",
              "      <td>1466716</td>\n",
              "      <td>76536</td>\n",
              "      <td>101537</td>\n",
              "      <td>91669.750000</td>\n",
              "      <td>6674.275466</td>\n",
              "      <td>4.454595e+07</td>\n",
              "      <td>496058</td>\n",
              "      <td>20905</td>\n",
              "      <td>37682</td>\n",
              "      <td>31003.625000</td>\n",
              "      <td>4905.814181</td>\n",
              "      <td>2.406701e+07</td>\n",
              "      <td>970658</td>\n",
              "      <td>55631</td>\n",
              "      <td>66793</td>\n",
              "      <td>60666.125000</td>\n",
              "      <td>3003.810533</td>\n",
              "      <td>9.022878e+06</td>\n",
              "      <td>1.340144e+10</td>\n",
              "      <td>526701218.0</td>\n",
              "      <td>9.880465e+08</td>\n",
              "      <td>8.375903e+08</td>\n",
              "      <td>1.172341e+08</td>\n",
              "      <td>1.374384e+16</td>\n",
              "      <td>8.208778e+09</td>\n",
              "      <td>390447902.0</td>\n",
              "      <td>693293383.0</td>\n",
              "      <td>5.130486e+08</td>\n",
              "      <td>8.327912e+07</td>\n",
              "      <td>6.935412e+15</td>\n",
              "      <td>2.161022e+10</td>\n",
              "      <td>9.171491e+08</td>\n",
              "      <td>1.636796e+09</td>\n",
              "      <td>1.350639e+09</td>\n",
              "      <td>1.789251e+08</td>\n",
              "      <td>3.201418e+16</td>\n",
              "    </tr>\n",
              "    <tr>\n",
              "      <th>AUG</th>\n",
              "      <td>1383367</td>\n",
              "      <td>77683</td>\n",
              "      <td>115136</td>\n",
              "      <td>92224.466667</td>\n",
              "      <td>11013.142233</td>\n",
              "      <td>1.212893e+08</td>\n",
              "      <td>481108</td>\n",
              "      <td>23512</td>\n",
              "      <td>45547</td>\n",
              "      <td>32073.866667</td>\n",
              "      <td>6508.993348</td>\n",
              "      <td>4.236699e+07</td>\n",
              "      <td>902259</td>\n",
              "      <td>52432</td>\n",
              "      <td>70887</td>\n",
              "      <td>60150.600000</td>\n",
              "      <td>5543.465082</td>\n",
              "      <td>3.073001e+07</td>\n",
              "      <td>1.329656e+10</td>\n",
              "      <td>651209293.0</td>\n",
              "      <td>1.207717e+09</td>\n",
              "      <td>8.864376e+08</td>\n",
              "      <td>1.543809e+08</td>\n",
              "      <td>2.383347e+16</td>\n",
              "      <td>7.799118e+09</td>\n",
              "      <td>388684275.0</td>\n",
              "      <td>780694327.0</td>\n",
              "      <td>5.199412e+08</td>\n",
              "      <td>9.486593e+07</td>\n",
              "      <td>8.999544e+15</td>\n",
              "      <td>2.109568e+10</td>\n",
              "      <td>1.039894e+09</td>\n",
              "      <td>1.775096e+09</td>\n",
              "      <td>1.406379e+09</td>\n",
              "      <td>2.215463e+08</td>\n",
              "      <td>4.908277e+16</td>\n",
              "    </tr>\n",
              "    <tr>\n",
              "      <th>DEC</th>\n",
              "      <td>1088165</td>\n",
              "      <td>59831</td>\n",
              "      <td>85654</td>\n",
              "      <td>72544.333333</td>\n",
              "      <td>8620.908633</td>\n",
              "      <td>7.432007e+07</td>\n",
              "      <td>378158</td>\n",
              "      <td>17220</td>\n",
              "      <td>31668</td>\n",
              "      <td>25210.533333</td>\n",
              "      <td>4309.853608</td>\n",
              "      <td>1.857484e+07</td>\n",
              "      <td>710007</td>\n",
              "      <td>41588</td>\n",
              "      <td>56592</td>\n",
              "      <td>47333.800000</td>\n",
              "      <td>5044.593346</td>\n",
              "      <td>2.544792e+07</td>\n",
              "      <td>1.112898e+10</td>\n",
              "      <td>469069897.0</td>\n",
              "      <td>9.696412e+08</td>\n",
              "      <td>7.419322e+08</td>\n",
              "      <td>1.373322e+08</td>\n",
              "      <td>1.886012e+16</td>\n",
              "      <td>6.606352e+09</td>\n",
              "      <td>329674280.0</td>\n",
              "      <td>655654762.0</td>\n",
              "      <td>4.404235e+08</td>\n",
              "      <td>9.117077e+07</td>\n",
              "      <td>8.312110e+15</td>\n",
              "      <td>1.773534e+10</td>\n",
              "      <td>7.987442e+08</td>\n",
              "      <td>1.591566e+09</td>\n",
              "      <td>1.182356e+09</td>\n",
              "      <td>2.191896e+08</td>\n",
              "      <td>4.804408e+16</td>\n",
              "    </tr>\n",
              "    <tr>\n",
              "      <th>FEB</th>\n",
              "      <td>1154443</td>\n",
              "      <td>53741</td>\n",
              "      <td>82441</td>\n",
              "      <td>72152.687500</td>\n",
              "      <td>7441.922643</td>\n",
              "      <td>5.538221e+07</td>\n",
              "      <td>361067</td>\n",
              "      <td>14779</td>\n",
              "      <td>27780</td>\n",
              "      <td>22566.687500</td>\n",
              "      <td>3934.509672</td>\n",
              "      <td>1.548037e+07</td>\n",
              "      <td>793376</td>\n",
              "      <td>38932</td>\n",
              "      <td>58184</td>\n",
              "      <td>49586.000000</td>\n",
              "      <td>4820.461928</td>\n",
              "      <td>2.323685e+07</td>\n",
              "      <td>1.029195e+10</td>\n",
              "      <td>405189138.0</td>\n",
              "      <td>8.134733e+08</td>\n",
              "      <td>6.432471e+08</td>\n",
              "      <td>1.108527e+08</td>\n",
              "      <td>1.228832e+16</td>\n",
              "      <td>6.605948e+09</td>\n",
              "      <td>296703782.0</td>\n",
              "      <td>592255229.0</td>\n",
              "      <td>4.128717e+08</td>\n",
              "      <td>8.143809e+07</td>\n",
              "      <td>6.632163e+15</td>\n",
              "      <td>1.689790e+10</td>\n",
              "      <td>7.018929e+08</td>\n",
              "      <td>1.394478e+09</td>\n",
              "      <td>1.056119e+09</td>\n",
              "      <td>1.811288e+08</td>\n",
              "      <td>3.280764e+16</td>\n",
              "    </tr>\n",
              "    <tr>\n",
              "      <th>JAN</th>\n",
              "      <td>1209726</td>\n",
              "      <td>59217</td>\n",
              "      <td>85410</td>\n",
              "      <td>75607.875000</td>\n",
              "      <td>8386.920864</td>\n",
              "      <td>7.034044e+07</td>\n",
              "      <td>448914</td>\n",
              "      <td>17963</td>\n",
              "      <td>34707</td>\n",
              "      <td>28057.125000</td>\n",
              "      <td>4860.329315</td>\n",
              "      <td>2.362280e+07</td>\n",
              "      <td>760812</td>\n",
              "      <td>40588</td>\n",
              "      <td>56583</td>\n",
              "      <td>47550.750000</td>\n",
              "      <td>4167.094423</td>\n",
              "      <td>1.736468e+07</td>\n",
              "      <td>1.308948e+10</td>\n",
              "      <td>504208132.0</td>\n",
              "      <td>1.000285e+09</td>\n",
              "      <td>8.180924e+08</td>\n",
              "      <td>1.373767e+08</td>\n",
              "      <td>1.887235e+16</td>\n",
              "      <td>6.934218e+09</td>\n",
              "      <td>316999705.0</td>\n",
              "      <td>674078790.0</td>\n",
              "      <td>4.333886e+08</td>\n",
              "      <td>8.654328e+07</td>\n",
              "      <td>7.489739e+15</td>\n",
              "      <td>2.002370e+10</td>\n",
              "      <td>8.247287e+08</td>\n",
              "      <td>1.674364e+09</td>\n",
              "      <td>1.251481e+09</td>\n",
              "      <td>2.097591e+08</td>\n",
              "      <td>4.399889e+16</td>\n",
              "    </tr>\n",
              "    <tr>\n",
              "      <th>JUL</th>\n",
              "      <td>1342629</td>\n",
              "      <td>73703</td>\n",
              "      <td>103899</td>\n",
              "      <td>89508.600000</td>\n",
              "      <td>8764.703351</td>\n",
              "      <td>7.682002e+07</td>\n",
              "      <td>471263</td>\n",
              "      <td>22836</td>\n",
              "      <td>41088</td>\n",
              "      <td>31417.533333</td>\n",
              "      <td>5807.887812</td>\n",
              "      <td>3.373156e+07</td>\n",
              "      <td>871366</td>\n",
              "      <td>50549</td>\n",
              "      <td>62920</td>\n",
              "      <td>58091.066667</td>\n",
              "      <td>3779.549869</td>\n",
              "      <td>1.428500e+07</td>\n",
              "      <td>1.285974e+10</td>\n",
              "      <td>602063511.0</td>\n",
              "      <td>1.062988e+09</td>\n",
              "      <td>8.573162e+08</td>\n",
              "      <td>1.551481e+08</td>\n",
              "      <td>2.407093e+16</td>\n",
              "      <td>7.565865e+09</td>\n",
              "      <td>384673023.0</td>\n",
              "      <td>691521741.0</td>\n",
              "      <td>5.043910e+08</td>\n",
              "      <td>8.404161e+07</td>\n",
              "      <td>7.062993e+15</td>\n",
              "      <td>2.042561e+10</td>\n",
              "      <td>1.033708e+09</td>\n",
              "      <td>1.713443e+09</td>\n",
              "      <td>1.361707e+09</td>\n",
              "      <td>2.215741e+08</td>\n",
              "      <td>4.909509e+16</td>\n",
              "    </tr>\n",
              "    <tr>\n",
              "      <th>JUN</th>\n",
              "      <td>1492278</td>\n",
              "      <td>81241</td>\n",
              "      <td>107831</td>\n",
              "      <td>93267.375000</td>\n",
              "      <td>8663.035526</td>\n",
              "      <td>7.504818e+07</td>\n",
              "      <td>537569</td>\n",
              "      <td>24509</td>\n",
              "      <td>42758</td>\n",
              "      <td>33598.062500</td>\n",
              "      <td>5320.336098</td>\n",
              "      <td>2.830598e+07</td>\n",
              "      <td>954709</td>\n",
              "      <td>53038</td>\n",
              "      <td>68750</td>\n",
              "      <td>59669.312500</td>\n",
              "      <td>5057.308253</td>\n",
              "      <td>2.557637e+07</td>\n",
              "      <td>1.443668e+10</td>\n",
              "      <td>627433850.0</td>\n",
              "      <td>1.094448e+09</td>\n",
              "      <td>9.022927e+08</td>\n",
              "      <td>1.401524e+08</td>\n",
              "      <td>1.964268e+16</td>\n",
              "      <td>8.334784e+09</td>\n",
              "      <td>411152753.0</td>\n",
              "      <td>751886189.0</td>\n",
              "      <td>5.209240e+08</td>\n",
              "      <td>9.710358e+07</td>\n",
              "      <td>9.429105e+15</td>\n",
              "      <td>2.277147e+10</td>\n",
              "      <td>1.038587e+09</td>\n",
              "      <td>1.846334e+09</td>\n",
              "      <td>1.423217e+09</td>\n",
              "      <td>2.179888e+08</td>\n",
              "      <td>4.751914e+16</td>\n",
              "    </tr>\n",
              "    <tr>\n",
              "      <th>MAR</th>\n",
              "      <td>1478849</td>\n",
              "      <td>74792</td>\n",
              "      <td>108106</td>\n",
              "      <td>92428.062500</td>\n",
              "      <td>8753.048600</td>\n",
              "      <td>7.661586e+07</td>\n",
              "      <td>472270</td>\n",
              "      <td>17844</td>\n",
              "      <td>39340</td>\n",
              "      <td>29516.875000</td>\n",
              "      <td>5326.998641</td>\n",
              "      <td>2.837691e+07</td>\n",
              "      <td>1006579</td>\n",
              "      <td>55978</td>\n",
              "      <td>73163</td>\n",
              "      <td>62911.187500</td>\n",
              "      <td>5383.942226</td>\n",
              "      <td>2.898683e+07</td>\n",
              "      <td>1.299688e+10</td>\n",
              "      <td>465300148.0</td>\n",
              "      <td>9.886095e+08</td>\n",
              "      <td>8.123051e+08</td>\n",
              "      <td>1.363026e+08</td>\n",
              "      <td>1.857840e+16</td>\n",
              "      <td>8.295032e+09</td>\n",
              "      <td>390527459.0</td>\n",
              "      <td>744746293.0</td>\n",
              "      <td>5.184395e+08</td>\n",
              "      <td>9.758751e+07</td>\n",
              "      <td>9.523322e+15</td>\n",
              "      <td>2.129191e+10</td>\n",
              "      <td>8.558276e+08</td>\n",
              "      <td>1.712475e+09</td>\n",
              "      <td>1.330745e+09</td>\n",
              "      <td>2.120491e+08</td>\n",
              "      <td>4.496481e+16</td>\n",
              "    </tr>\n",
              "    <tr>\n",
              "      <th>MAY</th>\n",
              "      <td>1447290</td>\n",
              "      <td>70930</td>\n",
              "      <td>100611</td>\n",
              "      <td>90455.625000</td>\n",
              "      <td>9126.430006</td>\n",
              "      <td>8.329172e+07</td>\n",
              "      <td>503418</td>\n",
              "      <td>19781</td>\n",
              "      <td>38472</td>\n",
              "      <td>31463.625000</td>\n",
              "      <td>5361.901850</td>\n",
              "      <td>2.874999e+07</td>\n",
              "      <td>943872</td>\n",
              "      <td>51149</td>\n",
              "      <td>68296</td>\n",
              "      <td>58992.000000</td>\n",
              "      <td>4795.425111</td>\n",
              "      <td>2.299610e+07</td>\n",
              "      <td>1.346094e+10</td>\n",
              "      <td>501252689.0</td>\n",
              "      <td>1.018043e+09</td>\n",
              "      <td>8.413089e+08</td>\n",
              "      <td>1.350713e+08</td>\n",
              "      <td>1.824425e+16</td>\n",
              "      <td>8.100821e+09</td>\n",
              "      <td>366133295.0</td>\n",
              "      <td>718689038.0</td>\n",
              "      <td>5.063013e+08</td>\n",
              "      <td>9.704094e+07</td>\n",
              "      <td>9.416944e+15</td>\n",
              "      <td>2.156176e+10</td>\n",
              "      <td>8.673860e+08</td>\n",
              "      <td>1.730826e+09</td>\n",
              "      <td>1.347610e+09</td>\n",
              "      <td>2.147897e+08</td>\n",
              "      <td>4.613461e+16</td>\n",
              "    </tr>\n",
              "    <tr>\n",
              "      <th>NOV</th>\n",
              "      <td>1111276</td>\n",
              "      <td>56645</td>\n",
              "      <td>84513</td>\n",
              "      <td>74085.066667</td>\n",
              "      <td>8391.291578</td>\n",
              "      <td>7.041377e+07</td>\n",
              "      <td>370221</td>\n",
              "      <td>16842</td>\n",
              "      <td>30155</td>\n",
              "      <td>24681.400000</td>\n",
              "      <td>4102.449039</td>\n",
              "      <td>1.683009e+07</td>\n",
              "      <td>741055</td>\n",
              "      <td>39803</td>\n",
              "      <td>58037</td>\n",
              "      <td>49403.666667</td>\n",
              "      <td>4779.188240</td>\n",
              "      <td>2.284064e+07</td>\n",
              "      <td>1.069741e+10</td>\n",
              "      <td>447337415.0</td>\n",
              "      <td>8.582136e+08</td>\n",
              "      <td>7.131609e+08</td>\n",
              "      <td>1.147905e+08</td>\n",
              "      <td>1.317687e+16</td>\n",
              "      <td>6.562341e+09</td>\n",
              "      <td>295521964.0</td>\n",
              "      <td>641353419.0</td>\n",
              "      <td>4.374894e+08</td>\n",
              "      <td>8.436457e+07</td>\n",
              "      <td>7.117381e+15</td>\n",
              "      <td>1.725975e+10</td>\n",
              "      <td>7.428594e+08</td>\n",
              "      <td>1.499198e+09</td>\n",
              "      <td>1.150650e+09</td>\n",
              "      <td>1.901742e+08</td>\n",
              "      <td>3.616622e+16</td>\n",
              "    </tr>\n",
              "    <tr>\n",
              "      <th>OCT</th>\n",
              "      <td>1285225</td>\n",
              "      <td>71500</td>\n",
              "      <td>101014</td>\n",
              "      <td>85681.666667</td>\n",
              "      <td>9373.359031</td>\n",
              "      <td>8.785986e+07</td>\n",
              "      <td>436502</td>\n",
              "      <td>20717</td>\n",
              "      <td>38597</td>\n",
              "      <td>29100.133333</td>\n",
              "      <td>5373.914839</td>\n",
              "      <td>2.887896e+07</td>\n",
              "      <td>848723</td>\n",
              "      <td>49497</td>\n",
              "      <td>62954</td>\n",
              "      <td>56581.533333</td>\n",
              "      <td>4555.763537</td>\n",
              "      <td>2.075498e+07</td>\n",
              "      <td>1.235990e+10</td>\n",
              "      <td>593186195.0</td>\n",
              "      <td>9.917478e+08</td>\n",
              "      <td>8.239931e+08</td>\n",
              "      <td>1.317269e+08</td>\n",
              "      <td>1.735197e+16</td>\n",
              "      <td>7.446758e+09</td>\n",
              "      <td>382437406.0</td>\n",
              "      <td>685808210.0</td>\n",
              "      <td>4.964505e+08</td>\n",
              "      <td>8.811535e+07</td>\n",
              "      <td>7.764315e+15</td>\n",
              "      <td>1.980665e+10</td>\n",
              "      <td>9.771386e+08</td>\n",
              "      <td>1.645077e+09</td>\n",
              "      <td>1.320444e+09</td>\n",
              "      <td>2.045463e+08</td>\n",
              "      <td>4.183917e+16</td>\n",
              "    </tr>\n",
              "    <tr>\n",
              "      <th>SEP</th>\n",
              "      <td>1324154</td>\n",
              "      <td>75334</td>\n",
              "      <td>101850</td>\n",
              "      <td>88276.933333</td>\n",
              "      <td>9140.498591</td>\n",
              "      <td>8.354871e+07</td>\n",
              "      <td>475069</td>\n",
              "      <td>24520</td>\n",
              "      <td>40464</td>\n",
              "      <td>31671.266667</td>\n",
              "      <td>5650.531308</td>\n",
              "      <td>3.192850e+07</td>\n",
              "      <td>849085</td>\n",
              "      <td>50389</td>\n",
              "      <td>66056</td>\n",
              "      <td>56605.666667</td>\n",
              "      <td>4830.389864</td>\n",
              "      <td>2.333267e+07</td>\n",
              "      <td>1.321559e+10</td>\n",
              "      <td>692681798.0</td>\n",
              "      <td>1.035533e+09</td>\n",
              "      <td>8.810393e+08</td>\n",
              "      <td>1.298564e+08</td>\n",
              "      <td>1.686269e+16</td>\n",
              "      <td>7.415477e+09</td>\n",
              "      <td>398834140.0</td>\n",
              "      <td>742588270.0</td>\n",
              "      <td>4.943651e+08</td>\n",
              "      <td>9.142764e+07</td>\n",
              "      <td>8.359014e+15</td>\n",
              "      <td>2.063107e+10</td>\n",
              "      <td>1.096834e+09</td>\n",
              "      <td>1.719232e+09</td>\n",
              "      <td>1.375404e+09</td>\n",
              "      <td>1.976088e+08</td>\n",
              "      <td>3.904922e+16</td>\n",
              "    </tr>\n",
              "  </tbody>\n",
              "</table>\n",
              "</div>"
            ],
            "text/plain": [
              "            All                 ... Total Sales All                            \n",
              "            sum    min     max  ...            mean           std           var\n",
              "Month                           ...                                            \n",
              "APR     1466716  76536  101537  ...    1.350639e+09  1.789251e+08  3.201418e+16\n",
              "AUG     1383367  77683  115136  ...    1.406379e+09  2.215463e+08  4.908277e+16\n",
              "DEC     1088165  59831   85654  ...    1.182356e+09  2.191896e+08  4.804408e+16\n",
              "FEB     1154443  53741   82441  ...    1.056119e+09  1.811288e+08  3.280764e+16\n",
              "JAN     1209726  59217   85410  ...    1.251481e+09  2.097591e+08  4.399889e+16\n",
              "JUL     1342629  73703  103899  ...    1.361707e+09  2.215741e+08  4.909509e+16\n",
              "JUN     1492278  81241  107831  ...    1.423217e+09  2.179888e+08  4.751914e+16\n",
              "MAR     1478849  74792  108106  ...    1.330745e+09  2.120491e+08  4.496481e+16\n",
              "MAY     1447290  70930  100611  ...    1.347610e+09  2.147897e+08  4.613461e+16\n",
              "NOV     1111276  56645   84513  ...    1.150650e+09  1.901742e+08  3.616622e+16\n",
              "OCT     1285225  71500  101014  ...    1.320444e+09  2.045463e+08  4.183917e+16\n",
              "SEP     1324154  75334  101850  ...    1.375404e+09  1.976088e+08  3.904922e+16\n",
              "\n",
              "[12 rows x 36 columns]"
            ]
          },
          "metadata": {},
          "execution_count": 14
        }
      ]
    },
    {
      "cell_type": "markdown",
      "metadata": {
        "id": "8-IPtmUoa3lO"
      },
      "source": [
        "### 5.d"
      ]
    },
    {
      "cell_type": "code",
      "metadata": {
        "colab": {
          "base_uri": "https://localhost:8080/"
        },
        "id": "6P8M6R1avXM6",
        "outputId": "d89e3a39-dd65-43ad-9070-a7d939abc4da"
      },
      "source": [
        "month_5d = (M % 5) + 1\n",
        "month_5d\n"
      ],
      "execution_count": null,
      "outputs": [
        {
          "output_type": "execute_result",
          "data": {
            "text/plain": [
              "5"
            ]
          },
          "metadata": {},
          "execution_count": 15
        }
      ]
    },
    {
      "cell_type": "code",
      "metadata": {
        "id": "eOpg-aGAslHc"
      },
      "source": [
        ""
      ],
      "execution_count": null,
      "outputs": []
    },
    {
      "cell_type": "markdown",
      "metadata": {
        "id": "AR-V2ZWcnFTJ"
      },
      "source": [
        "6. Візуалізуйте, використовуючи методи бібліотеки Pandas і датафрейм з агрегованими даними:\n",
        "\n",
        "    а. зміну середньомісячного доходу по всім автомобілям;\n",
        "\n",
        "    b. зміну місячної медіани кількості всіх проданих автомобілів;\n",
        "    \n",
        "    c. зміну мінімального і максимального середньомісячного доходу від продажу нових автомобілів\n",
        "\n",
        "Проаналізуйте отримані результати.\n",
        "\n"
      ]
    },
    {
      "cell_type": "markdown",
      "metadata": {
        "id": "BkF2qW967li9"
      },
      "source": [
        "###6.a"
      ]
    },
    {
      "cell_type": "code",
      "metadata": {
        "colab": {
          "base_uri": "https://localhost:8080/",
          "height": 281
        },
        "id": "cmDEo0_owaxb",
        "outputId": "c090d079-9ab2-49f3-a3a1-7f99e8104fe0"
      },
      "source": [
        "res_a = res[\"Total Sales All\"]\n",
        "res_a = res_a[\"mean\"]\n",
        "plt.plot(res_a)\n",
        "plt.title(\"Cередньомісячний дохід по всім автомобілям\")\n",
        "plt.show()"
      ],
      "execution_count": null,
      "outputs": [
        {
          "output_type": "display_data",
          "data": {
            "image/png": "[encoded data removed]",
            "text/plain": [
              "<Figure size 432x288 with 1 Axes>"
            ]
          },
          "metadata": {
            "needs_background": "light"
          }
        }
      ]
    },
    {
      "cell_type": "code",
      "metadata": {
        "colab": {
          "base_uri": "https://localhost:8080/",
          "height": 281
        },
        "id": "fFK69RkZp1RX",
        "outputId": "6e3c5114-1bca-4359-ffb1-0fca555da27f"
      },
      "source": [
        "res_b = res[\"All\"]\n",
        "res_b = res_b[\"var\"]\n",
        "plt.plot(res_b)\n",
        "plt.title(\"Місячна медіана кількості проданих автомобілів\")\n",
        "plt.show()"
      ],
      "execution_count": null,
      "outputs": [
        {
          "output_type": "display_data",
          "data": {
            "image/png": "[encoded data removed]",
            "text/plain": [
              "<Figure size 432x288 with 1 Axes>"
            ]
          },
          "metadata": {
            "needs_background": "light"
          }
        }
      ]
    },
    {
      "cell_type": "code",
      "metadata": {
        "colab": {
          "base_uri": "https://localhost:8080/",
          "height": 281
        },
        "id": "wyKWp7Vbp3Ok",
        "outputId": "6b4acb67-f055-4de8-e45f-8d216bc14d68"
      },
      "source": [
        "res_c = res[\"Total Sales New\"]\n",
        "x1 = res_c[['min']]\n",
        "x2 = res_c[['max']]\n",
        "plt.plot(x1, label = 'min')\n",
        "plt.plot(x2, label = 'max')\n",
        "plt.title(\"Середньомісячний дохід від продажу нових автомобілів\")\n",
        "plt.legend()\n",
        "plt.show()"
      ],
      "execution_count": null,
      "outputs": [
        {
          "output_type": "display_data",
          "data": {
            "image/png": "[encoded data removed]",
            "text/plain": [
              "<Figure size 432x288 with 1 Axes>"
            ]
          },
          "metadata": {
            "needs_background": "light"
          }
        }
      ]
    },
    {
      "cell_type": "markdown",
      "metadata": {
        "id": "eSe4B6blp-d0"
      },
      "source": [
        "7. Побудуйте на двох різних графіках наступні дані для року 20YY:\n",
        "    \n",
        "    7.1. місячний дохід по всім автомобілям і по новим;\n",
        "    \n",
        "    7.2  місячну кількість всіх проданих автомобілів і нових проданих автомобілів.\n",
        "\n",
        "    7.3. Обчисліть також середнє значення, стандартне відхилення, медіану, мінімальне і максимальне значення вказаних в 7.1 і 7.2 даних для року 20YY\n",
        "\n",
        "    Проаналізуйте отримані результати."
      ]
    },
    {
      "cell_type": "code",
      "metadata": {
        "id": "WQ3VueO9YSK9"
      },
      "source": [
        "year = df[df['Year '] == YY]"
      ],
      "execution_count": null,
      "outputs": []
    },
    {
      "cell_type": "markdown",
      "metadata": {
        "id": "tlmA5qv-bZ_g"
      },
      "source": [
        "###7.1"
      ]
    },
    {
      "cell_type": "code",
      "metadata": {
        "colab": {
          "base_uri": "https://localhost:8080/",
          "height": 281
        },
        "id": "G_KPdfMfp96e",
        "outputId": "cfe38876-9e44-48bb-fff4-6a541a604e95"
      },
      "source": [
        "plt.plot(year['Month '],year[\"Total Sales All\"], label = 'All')\n",
        "plt.plot(year['Month '], year[\"Total Sales New\"], label = 'New')\n",
        "plt.title(\"Місячний дохід по всім і новим автомобілям\")\n",
        "plt.legend()\n",
        "plt.show()\n"
      ],
      "execution_count": null,
      "outputs": [
        {
          "output_type": "display_data",
          "data": {
            "image/png": "[encoded data removed]",
            "text/plain": [
              "<Figure size 432x288 with 1 Axes>"
            ]
          },
          "metadata": {
            "needs_background": "light"
          }
        }
      ]
    },
    {
      "cell_type": "markdown",
      "metadata": {
        "id": "XG0HvhQmbd3e"
      },
      "source": [
        "###7.2"
      ]
    },
    {
      "cell_type": "code",
      "metadata": {
        "colab": {
          "base_uri": "https://localhost:8080/",
          "height": 281
        },
        "id": "svA3wgHDsDqo",
        "outputId": "d06f3bd2-e22b-48f9-ea98-162242bc65b8"
      },
      "source": [
        "plt.plot(year['Month '],year[\"All\"], label = 'All')\n",
        "plt.plot(year['Month '], year[\"New\"], label = 'New')\n",
        "plt.title(\"Місячна кількість всіх і нових проданих автомобілів\")\n",
        "plt.legend()\n",
        "plt.show()"
      ],
      "execution_count": null,
      "outputs": [
        {
          "output_type": "display_data",
          "data": {
            "image/png": "[encoded data removed]",
            "text/plain": [
              "<Figure size 432x288 with 1 Axes>"
            ]
          },
          "metadata": {
            "needs_background": "light"
          }
        }
      ]
    },
    {
      "cell_type": "markdown",
      "metadata": {
        "id": "eOl0DV31bjEw"
      },
      "source": [
        "###7.3"
      ]
    },
    {
      "cell_type": "code",
      "metadata": {
        "colab": {
          "base_uri": "https://localhost:8080/",
          "height": 162
        },
        "id": "2Z4UottTsE3w",
        "outputId": "2ff099f3-9f28-46f2-fe08-f97edf6ad3b2"
      },
      "source": [
        "aggregations = [ 'mean', 'std', 'var', 'min', 'max']\n",
        "result = year[['Year ', 'All', 'New', 'Total Sales Used', 'Total Sales All']].groupby('Year ').agg(aggregations)\n",
        "result"
      ],
      "execution_count": null,
      "outputs": [
        {
          "output_type": "execute_result",
          "data": {
            "text/html": [
              "<div>\n",
              "<style scoped>\n",
              "    .dataframe tbody tr th:only-of-type {\n",
              "        vertical-align: middle;\n",
              "    }\n",
              "\n",
              "    .dataframe tbody tr th {\n",
              "        vertical-align: top;\n",
              "    }\n",
              "\n",
              "    .dataframe thead tr th {\n",
              "        text-align: left;\n",
              "    }\n",
              "\n",
              "    .dataframe thead tr:last-of-type th {\n",
              "        text-align: right;\n",
              "    }\n",
              "</style>\n",
              "<table border=\"1\" class=\"dataframe\">\n",
              "  <thead>\n",
              "    <tr>\n",
              "      <th></th>\n",
              "      <th colspan=\"5\" halign=\"left\">All</th>\n",
              "      <th colspan=\"5\" halign=\"left\">New</th>\n",
              "      <th colspan=\"5\" halign=\"left\">Total Sales Used</th>\n",
              "      <th colspan=\"5\" halign=\"left\">Total Sales All</th>\n",
              "    </tr>\n",
              "    <tr>\n",
              "      <th></th>\n",
              "      <th>mean</th>\n",
              "      <th>std</th>\n",
              "      <th>var</th>\n",
              "      <th>min</th>\n",
              "      <th>max</th>\n",
              "      <th>mean</th>\n",
              "      <th>std</th>\n",
              "      <th>var</th>\n",
              "      <th>min</th>\n",
              "      <th>max</th>\n",
              "      <th>mean</th>\n",
              "      <th>std</th>\n",
              "      <th>var</th>\n",
              "      <th>min</th>\n",
              "      <th>max</th>\n",
              "      <th>mean</th>\n",
              "      <th>std</th>\n",
              "      <th>var</th>\n",
              "      <th>min</th>\n",
              "      <th>max</th>\n",
              "    </tr>\n",
              "    <tr>\n",
              "      <th>Year</th>\n",
              "      <th></th>\n",
              "      <th></th>\n",
              "      <th></th>\n",
              "      <th></th>\n",
              "      <th></th>\n",
              "      <th></th>\n",
              "      <th></th>\n",
              "      <th></th>\n",
              "      <th></th>\n",
              "      <th></th>\n",
              "      <th></th>\n",
              "      <th></th>\n",
              "      <th></th>\n",
              "      <th></th>\n",
              "      <th></th>\n",
              "      <th></th>\n",
              "      <th></th>\n",
              "      <th></th>\n",
              "      <th></th>\n",
              "      <th></th>\n",
              "    </tr>\n",
              "  </thead>\n",
              "  <tbody>\n",
              "    <tr>\n",
              "      <th>2017</th>\n",
              "      <td>91688.5</td>\n",
              "      <td>8907.670105</td>\n",
              "      <td>79346586.7</td>\n",
              "      <td>78402</td>\n",
              "      <td>100555</td>\n",
              "      <td>27663.166667</td>\n",
              "      <td>3171.6309</td>\n",
              "      <td>1.005924e+07</td>\n",
              "      <td>22413</td>\n",
              "      <td>31835</td>\n",
              "      <td>6.842484e+08</td>\n",
              "      <td>5.585778e+07</td>\n",
              "      <td>3.120092e+15</td>\n",
              "      <td>592255229.0</td>\n",
              "      <td>744746293.0</td>\n",
              "      <td>1.605563e+09</td>\n",
              "      <td>1.362265e+08</td>\n",
              "      <td>1.855766e+16</td>\n",
              "      <td>1.368477e+09</td>\n",
              "      <td>1.739893e+09</td>\n",
              "    </tr>\n",
              "  </tbody>\n",
              "</table>\n",
              "</div>"
            ],
            "text/plain": [
              "           All               ... Total Sales All              \n",
              "          mean          std  ...             min           max\n",
              "Year                         ...                              \n",
              "2017   91688.5  8907.670105  ...    1.368477e+09  1.739893e+09\n",
              "\n",
              "[1 rows x 20 columns]"
            ]
          },
          "metadata": {},
          "execution_count": 22
        }
      ]
    },
    {
      "cell_type": "code",
      "metadata": {
        "colab": {
          "base_uri": "https://localhost:8080/",
          "height": 162
        },
        "id": "UPqZ2BOMQJHt",
        "outputId": "a1139f72-11df-4ff6-ff29-350fc81ad6c6"
      },
      "source": [
        "chart_df = result.loc[[2017]]\n",
        "chart_df"
      ],
      "execution_count": null,
      "outputs": [
        {
          "output_type": "execute_result",
          "data": {
            "text/html": [
              "<div>\n",
              "<style scoped>\n",
              "    .dataframe tbody tr th:only-of-type {\n",
              "        vertical-align: middle;\n",
              "    }\n",
              "\n",
              "    .dataframe tbody tr th {\n",
              "        vertical-align: top;\n",
              "    }\n",
              "\n",
              "    .dataframe thead tr th {\n",
              "        text-align: left;\n",
              "    }\n",
              "\n",
              "    .dataframe thead tr:last-of-type th {\n",
              "        text-align: right;\n",
              "    }\n",
              "</style>\n",
              "<table border=\"1\" class=\"dataframe\">\n",
              "  <thead>\n",
              "    <tr>\n",
              "      <th></th>\n",
              "      <th colspan=\"5\" halign=\"left\">All</th>\n",
              "      <th colspan=\"5\" halign=\"left\">New</th>\n",
              "      <th colspan=\"5\" halign=\"left\">Total Sales Used</th>\n",
              "      <th colspan=\"5\" halign=\"left\">Total Sales All</th>\n",
              "    </tr>\n",
              "    <tr>\n",
              "      <th></th>\n",
              "      <th>mean</th>\n",
              "      <th>std</th>\n",
              "      <th>var</th>\n",
              "      <th>min</th>\n",
              "      <th>max</th>\n",
              "      <th>mean</th>\n",
              "      <th>std</th>\n",
              "      <th>var</th>\n",
              "      <th>min</th>\n",
              "      <th>max</th>\n",
              "      <th>mean</th>\n",
              "      <th>std</th>\n",
              "      <th>var</th>\n",
              "      <th>min</th>\n",
              "      <th>max</th>\n",
              "      <th>mean</th>\n",
              "      <th>std</th>\n",
              "      <th>var</th>\n",
              "      <th>min</th>\n",
              "      <th>max</th>\n",
              "    </tr>\n",
              "    <tr>\n",
              "      <th>Year</th>\n",
              "      <th></th>\n",
              "      <th></th>\n",
              "      <th></th>\n",
              "      <th></th>\n",
              "      <th></th>\n",
              "      <th></th>\n",
              "      <th></th>\n",
              "      <th></th>\n",
              "      <th></th>\n",
              "      <th></th>\n",
              "      <th></th>\n",
              "      <th></th>\n",
              "      <th></th>\n",
              "      <th></th>\n",
              "      <th></th>\n",
              "      <th></th>\n",
              "      <th></th>\n",
              "      <th></th>\n",
              "      <th></th>\n",
              "      <th></th>\n",
              "    </tr>\n",
              "  </thead>\n",
              "  <tbody>\n",
              "    <tr>\n",
              "      <th>2017</th>\n",
              "      <td>91688.5</td>\n",
              "      <td>8907.670105</td>\n",
              "      <td>79346586.7</td>\n",
              "      <td>78402</td>\n",
              "      <td>100555</td>\n",
              "      <td>27663.166667</td>\n",
              "      <td>3171.6309</td>\n",
              "      <td>1.005924e+07</td>\n",
              "      <td>22413</td>\n",
              "      <td>31835</td>\n",
              "      <td>6.842484e+08</td>\n",
              "      <td>5.585778e+07</td>\n",
              "      <td>3.120092e+15</td>\n",
              "      <td>592255229.0</td>\n",
              "      <td>744746293.0</td>\n",
              "      <td>1.605563e+09</td>\n",
              "      <td>1.362265e+08</td>\n",
              "      <td>1.855766e+16</td>\n",
              "      <td>1.368477e+09</td>\n",
              "      <td>1.739893e+09</td>\n",
              "    </tr>\n",
              "  </tbody>\n",
              "</table>\n",
              "</div>"
            ],
            "text/plain": [
              "           All               ... Total Sales All              \n",
              "          mean          std  ...             min           max\n",
              "Year                         ...                              \n",
              "2017   91688.5  8907.670105  ...    1.368477e+09  1.739893e+09\n",
              "\n",
              "[1 rows x 20 columns]"
            ]
          },
          "metadata": {},
          "execution_count": 23
        }
      ]
    },
    {
      "cell_type": "code",
      "metadata": {
        "colab": {
          "base_uri": "https://localhost:8080/",
          "height": 281
        },
        "id": "2p7yQLQiLfbv",
        "outputId": "febd3040-d3b0-427a-d051-6a0e2326c62c"
      },
      "source": [
        "res_a = res[\"All\"]\n",
        "res_b = res[\"New\"]\n",
        "\n",
        "plt.plot(res_a[['mean']], label = 'All')\n",
        "plt.plot(res_b[['mean']], label = 'New')\n",
        "\n",
        "plt.title(\"Середнє значення вказаних в 7.1 даних для року 2017\")\n",
        "plt.legend()\n",
        "plt.show()"
      ],
      "execution_count": null,
      "outputs": [
        {
          "output_type": "display_data",
          "data": {
            "image/png": "[encoded data removed]",
            "text/plain": [
              "<Figure size 432x288 with 1 Axes>"
            ]
          },
          "metadata": {
            "needs_background": "light"
          }
        }
      ]
    },
    {
      "cell_type": "code",
      "metadata": {
        "colab": {
          "base_uri": "https://localhost:8080/",
          "height": 281
        },
        "id": "Rp2r6bR3Qd65",
        "outputId": "39f50d62-16fb-431a-f9a0-29d519657add"
      },
      "source": [
        "plt.plot(res_a[['std']], label = 'All')\n",
        "plt.plot(res_b[['std']], label = 'New')\n",
        "\n",
        "plt.title(\"Cтандартне відхилення вказаних в 7.1 даних для року 2017\")\n",
        "plt.legend()\n",
        "plt.show()"
      ],
      "execution_count": null,
      "outputs": [
        {
          "output_type": "display_data",
          "data": {
            "image/png": "[encoded data removed]",
            "text/plain": [
              "<Figure size 432x288 with 1 Axes>"
            ]
          },
          "metadata": {
            "needs_background": "light"
          }
        }
      ]
    },
    {
      "cell_type": "code",
      "metadata": {
        "colab": {
          "base_uri": "https://localhost:8080/",
          "height": 281
        },
        "id": "3co05VPzQo8m",
        "outputId": "b7511ded-197c-4b81-a015-199018da7af5"
      },
      "source": [
        "plt.plot(res_a[['min']], label = 'All')\n",
        "plt.plot(res_b[['var']], label = 'New')\n",
        "\n",
        "plt.title(\"Медіана вказаних в 7.1 даних для року 2017\")\n",
        "plt.legend()\n",
        "plt.show()"
      ],
      "execution_count": null,
      "outputs": [
        {
          "output_type": "display_data",
          "data": {
            "image/png": "[encoded data removed]",
            "text/plain": [
              "<Figure size 432x288 with 1 Axes>"
            ]
          },
          "metadata": {
            "needs_background": "light"
          }
        }
      ]
    },
    {
      "cell_type": "code",
      "metadata": {
        "colab": {
          "base_uri": "https://localhost:8080/",
          "height": 281
        },
        "id": "JpJBz5fxQxEO",
        "outputId": "2ea55403-f8e8-40ed-a320-5c5610cae275"
      },
      "source": [
        "plt.plot(res_a[['min']], label = 'All')\n",
        "plt.plot(res_b[['min']], label = 'New')\n",
        "\n",
        "plt.title(\"Мінімальне значення вказаних в 7.1 даних для року 2017\")\n",
        "plt.legend()\n",
        "plt.show()"
      ],
      "execution_count": null,
      "outputs": [
        {
          "output_type": "display_data",
          "data": {
            "image/png": "[encoded data removed]",
            "text/plain": [
              "<Figure size 432x288 with 1 Axes>"
            ]
          },
          "metadata": {
            "needs_background": "light"
          }
        }
      ]
    },
    {
      "cell_type": "code",
      "metadata": {
        "colab": {
          "base_uri": "https://localhost:8080/",
          "height": 281
        },
        "id": "wZx2eMOAQ1Gk",
        "outputId": "e792da00-f970-4b7f-eec3-fdb44c65600d"
      },
      "source": [
        "plt.plot(res_a[['max']], label = 'All')\n",
        "plt.plot(res_b[['max']], label = 'New')\n",
        "\n",
        "plt.title(\"Максимальне значення вказаних в 7.1 даних для року 2017\")\n",
        "plt.legend()\n",
        "plt.show()"
      ],
      "execution_count": null,
      "outputs": [
        {
          "output_type": "display_data",
          "data": {
            "image/png": "[encoded data removed]",
            "text/plain": [
              "<Figure size 432x288 with 1 Axes>"
            ]
          },
          "metadata": {
            "needs_background": "light"
          }
        }
      ]
    },
    {
      "cell_type": "code",
      "metadata": {
        "colab": {
          "base_uri": "https://localhost:8080/",
          "height": 281
        },
        "id": "Aib8KmCCSmLu",
        "outputId": "f4e6e3be-fe66-443f-8c3b-02b888927fb2"
      },
      "source": [
        "res_a = res['Total Sales Used']\n",
        "res_b = res['Total Sales All']\n",
        "\n",
        "plt.plot(res_a[['mean']], label = 'All')\n",
        "plt.plot(res_b[['mean']], label = 'New')\n",
        "\n",
        "plt.title(\"Середнє значення вказаних в 7.2 даних для року 2017\")\n",
        "plt.legend()\n",
        "plt.show()"
      ],
      "execution_count": null,
      "outputs": [
        {
          "output_type": "display_data",
          "data": {
            "image/png": "[encoded data removed]",
            "text/plain": [
              "<Figure size 432x288 with 1 Axes>"
            ]
          },
          "metadata": {
            "needs_background": "light"
          }
        }
      ]
    },
    {
      "cell_type": "code",
      "metadata": {
        "colab": {
          "base_uri": "https://localhost:8080/",
          "height": 281
        },
        "id": "Uh_JNWJ1S9ie",
        "outputId": "6bc99630-a4ee-4930-86f3-b003e50e9ace"
      },
      "source": [
        "plt.plot(res_a[['std']], label = 'All')\n",
        "plt.plot(res_b[['std']], label = 'New')\n",
        "\n",
        "plt.title(\"Cтандартне відхилення вказаних в 7.2 даних для року 2017\")\n",
        "plt.legend()\n",
        "plt.show()"
      ],
      "execution_count": null,
      "outputs": [
        {
          "output_type": "display_data",
          "data": {
            "image/png": "[encoded data removed]",
            "text/plain": [
              "<Figure size 432x288 with 1 Axes>"
            ]
          },
          "metadata": {
            "needs_background": "light"
          }
        }
      ]
    },
    {
      "cell_type": "code",
      "metadata": {
        "colab": {
          "base_uri": "https://localhost:8080/",
          "height": 281
        },
        "id": "ge8Hf2NqTG2i",
        "outputId": "6d33ff4d-7293-454e-b8fc-c20a98d0eb52"
      },
      "source": [
        "plt.plot(res_a[['min']], label = 'All')\n",
        "plt.plot(res_b[['var']], label = 'New')\n",
        "\n",
        "plt.title(\"Медіана вказаних в 7.2 даних для року 2017\")\n",
        "plt.legend()\n",
        "plt.show()"
      ],
      "execution_count": null,
      "outputs": [
        {
          "output_type": "display_data",
          "data": {
            "image/png": "[encoded data removed]",
            "text/plain": [
              "<Figure size 432x288 with 1 Axes>"
            ]
          },
          "metadata": {
            "needs_background": "light"
          }
        }
      ]
    },
    {
      "cell_type": "code",
      "metadata": {
        "colab": {
          "base_uri": "https://localhost:8080/",
          "height": 281
        },
        "id": "fY9zVOqzTJfd",
        "outputId": "a8c58fca-ce81-48db-9fd2-21d3d0f3de55"
      },
      "source": [
        "plt.plot(res_a[['min']], label = 'All')\n",
        "plt.plot(res_b[['min']], label = 'New')\n",
        "\n",
        "plt.title(\"Мінімальне значення вказаних в 7.2 даних для року 2017\")\n",
        "plt.legend()\n",
        "plt.show()"
      ],
      "execution_count": null,
      "outputs": [
        {
          "output_type": "display_data",
          "data": {
            "image/png": "[encoded data removed]",
            "text/plain": [
              "<Figure size 432x288 with 1 Axes>"
            ]
          },
          "metadata": {
            "needs_background": "light"
          }
        }
      ]
    },
    {
      "cell_type": "code",
      "metadata": {
        "colab": {
          "base_uri": "https://localhost:8080/",
          "height": 281
        },
        "id": "VX4jr04OTMio",
        "outputId": "fd552cb5-855d-435e-afa9-4d079fcad8db"
      },
      "source": [
        "plt.plot(res_a[['max']], label = 'All')\n",
        "plt.plot(res_b[['max']], label = 'New')\n",
        "\n",
        "plt.title(\"Максимальне значення вказаних в 7.2 даних для року 2017\")\n",
        "plt.legend()\n",
        "plt.show()"
      ],
      "execution_count": null,
      "outputs": [
        {
          "output_type": "display_data",
          "data": {
            "image/png": "[encoded data removed]",
            "text/plain": [
              "<Figure size 432x288 with 1 Axes>"
            ]
          },
          "metadata": {
            "needs_background": "light"
          }
        }
      ]
    }
  ]
}