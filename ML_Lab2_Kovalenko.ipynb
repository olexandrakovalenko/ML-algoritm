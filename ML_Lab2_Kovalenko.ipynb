{
  "nbformat": 4,
  "nbformat_minor": 0,
  "metadata": {
    "colab": {
      "name": "ML_Lab2_Kovalenko",
      "provenance": [],
      "collapsed_sections": [
        "ecGe7ZY1C0Ve",
        "t_Cl-QifUZee",
        "BTQS5ZZuITdY",
        "beFRcFpZIhwy",
        "fe0dcqvQIo5a",
        "CD1Cz9u_VRsu",
        "T7OLmZBQHlyR",
        "n7Jvll06HpBw",
        "imyhcOOgb20V",
        "QyqAQW3NhPjC",
        "MIJxUIb4hrSy",
        "WVXPYVzDiR8Y",
        "MBwsINaai5Xp",
        "hw3MqLsRbJSt",
        "nTeHrMsiIxhd",
        "YzYyoM7wI1G5",
        "sOBP-kAHJAOR"
      ]
    },
    "kernelspec": {
      "name": "python3",
      "display_name": "Python 3"
    },
    "language_info": {
      "name": "python"
    }
  },
  "cells": [
    {
      "cell_type": "markdown",
      "metadata": {
        "id": "YYUejghmVjRs"
      },
      "source": [
        "**Лабораторна робота №2. Методи класифікації**\n",
        "\n",
        "Приблизний строк виконання - 12 годин\n",
        "\n",
        "**Рекомендована дата здачі: 28 листопада 2021 року**\n",
        "\n",
        "Виконала студентка групи [КМ-11мн] [Коваленко Олександра Петрівна]\n",
        "\n",
        "Студент здав роботу: (заповнюється викладачем відповідно до дати повідомлення з роботою у Slack)\n",
        "\n",
        "Студент захистив роботу на оцінку: (заповнюється викладачем)\n",
        "\n",
        "**Зауваження до виконання роботи: алгоритми побудови (створення) дерева рішень, k найближчих сусідів, Наївного Байєсівського класифікатора і механізм К-кратної крос-валідації потрібно запрограмувати власноруч.**"
      ]
    },
    {
      "cell_type": "markdown",
      "metadata": {
        "id": "ecGe7ZY1C0Ve"
      },
      "source": [
        "###lib"
      ]
    },
    {
      "cell_type": "code",
      "metadata": {
        "colab": {
          "base_uri": "https://localhost:8080/"
        },
        "id": "aFfm-hHLr_sj",
        "outputId": "10d5a3a6-19eb-4024-cd37-2806b171bfc2"
      },
      "source": [
        "pip install scipy"
      ],
      "execution_count": null,
      "outputs": [
        {
          "output_type": "stream",
          "name": "stdout",
          "text": [
            "Requirement already satisfied: scipy in /usr/local/lib/python3.7/dist-packages (1.4.1)\n",
            "Requirement already satisfied: numpy>=1.13.3 in /usr/local/lib/python3.7/dist-packages (from scipy) (1.19.5)\n"
          ]
        }
      ]
    },
    {
      "cell_type": "code",
      "metadata": {
        "colab": {
          "base_uri": "https://localhost:8080/"
        },
        "id": "76HnJz8yCI-G",
        "outputId": "36b124ea-2aba-4111-bf42-a859f76751c9"
      },
      "source": [
        "pip install scikit-plot"
      ],
      "execution_count": null,
      "outputs": [
        {
          "output_type": "stream",
          "name": "stdout",
          "text": [
            "Requirement already satisfied: scikit-plot in /usr/local/lib/python3.7/dist-packages (0.3.7)\n",
            "Requirement already satisfied: scipy>=0.9 in /usr/local/lib/python3.7/dist-packages (from scikit-plot) (1.4.1)\n",
            "Requirement already satisfied: scikit-learn>=0.18 in /usr/local/lib/python3.7/dist-packages (from scikit-plot) (1.0.1)\n",
            "Requirement already satisfied: matplotlib>=1.4.0 in /usr/local/lib/python3.7/dist-packages (from scikit-plot) (3.2.2)\n",
            "Requirement already satisfied: joblib>=0.10 in /usr/local/lib/python3.7/dist-packages (from scikit-plot) (1.1.0)\n",
            "Requirement already satisfied: kiwisolver>=1.0.1 in /usr/local/lib/python3.7/dist-packages (from matplotlib>=1.4.0->scikit-plot) (1.3.2)\n",
            "Requirement already satisfied: numpy>=1.11 in /usr/local/lib/python3.7/dist-packages (from matplotlib>=1.4.0->scikit-plot) (1.19.5)\n",
            "Requirement already satisfied: python-dateutil>=2.1 in /usr/local/lib/python3.7/dist-packages (from matplotlib>=1.4.0->scikit-plot) (2.8.2)\n",
            "Requirement already satisfied: cycler>=0.10 in /usr/local/lib/python3.7/dist-packages (from matplotlib>=1.4.0->scikit-plot) (0.11.0)\n",
            "Requirement already satisfied: pyparsing!=2.0.4,!=2.1.2,!=2.1.6,>=2.0.1 in /usr/local/lib/python3.7/dist-packages (from matplotlib>=1.4.0->scikit-plot) (3.0.6)\n",
            "Requirement already satisfied: six>=1.5 in /usr/local/lib/python3.7/dist-packages (from python-dateutil>=2.1->matplotlib>=1.4.0->scikit-plot) (1.15.0)\n",
            "Requirement already satisfied: threadpoolctl>=2.0.0 in /usr/local/lib/python3.7/dist-packages (from scikit-learn>=0.18->scikit-plot) (3.0.0)\n"
          ]
        }
      ]
    },
    {
      "cell_type": "code",
      "metadata": {
        "id": "Gf6eH36MVghe"
      },
      "source": [
        "import pandas as pd\n",
        "import numpy as np\n",
        "import seaborn as sns\n",
        "from matplotlib import pyplot as plt\n",
        "import plotly.graph_objects as go\n",
        "from plotly.subplots import make_subplots"
      ],
      "execution_count": null,
      "outputs": []
    },
    {
      "cell_type": "code",
      "metadata": {
        "id": "2-sQtRWTpNUa"
      },
      "source": [
        "import scikitplot as skplt\n",
        "from scipy.stats import mode"
      ],
      "execution_count": null,
      "outputs": []
    },
    {
      "cell_type": "markdown",
      "metadata": {
        "id": "3pu0jOvbVqkO"
      },
      "source": [
        "**Лабораторна робота №2. Методи класифікації**\n",
        "\n",
        "Приблизний строк виконання - 12 годин\n",
        "\n",
        "**Рекомендована дата здачі: 28 листопада 2021 року**\n",
        "\n",
        "Виконав студент групи [№ групи] [ПІБ студента/студентки]\n",
        "\n",
        "Студент здав роботу: (заповнюється викладачем відповідно до дати повідомлення з роботою у Slack)\n",
        "\n",
        "Студент захистив роботу на оцінку: (заповнюється викладачем)\n",
        "\n",
        "**Зауваження до виконання роботи: алгоритми побудови (створення) дерева рішень, k найближчих сусідів, Наївного Байєсівського класифікатора і механізм К-кратної крос-валідації потрібно запрограмувати власноруч.**"
      ]
    },
    {
      "cell_type": "markdown",
      "metadata": {
        "id": "t_Cl-QifUZee"
      },
      "source": [
        "###**Частина 1. Дерева рішень**\n",
        "1. Обрати відповідний файл з даними.\n",
        "2. Збудувати дерево прийняття рішень для визначення значення цільової характеристики (останній стовпчик) на основі вхідних аргументів (інші стовпчики). Записи у файлі з даними потрібно розділити на навчальну та відкладену вибірки.\n",
        "3. Параметри дерева та алгоритм його побудови обрати самостійно.\n",
        "Дерево не повинно бути занадто гіллястим, за потреби використовуйте процедуру обрізання. Використовувати бібліотечні функції забороняється.\n",
        "4. Оцінити якість збудованого дерева за допомогою методу відкладеної вибірки. Надати графічне порівняння результатів, отриманих за допомогою застосування збудованого дерева прийняття рішень до відкладеної вибірки, із фактичними значеннями цільової характеристики.\n",
        "5. Застосувати для визначення цільової характеристики на даних відкладеної вибірки метод k найближчих сусідів. Визначити кількість сусідів, при якій метод дає найкращу точність.\n",
        "6. Порівняти результати з п.п. 4 та 5.\n"
      ]
    },
    {
      "cell_type": "code",
      "metadata": {
        "id": "jYht3BjuRCH-"
      },
      "source": [
        "#pd.options.display.max_rows = 300"
      ],
      "execution_count": null,
      "outputs": []
    },
    {
      "cell_type": "code",
      "metadata": {
        "colab": {
          "base_uri": "https://localhost:8080/"
        },
        "id": "RTreCMI-v9aP",
        "outputId": "fad241ae-bcc5-4a8a-e242-ef2cd1ef7545"
      },
      "source": [
        "file_url = \"https://raw.githubusercontent.com/IvanSergeyevichZhuk/ML_KPI/main/Data/Lab2/Part1/MN/MN09-Kovalenko.csv\"\n",
        "data = pd.read_csv(file_url, header=None)\n",
        "data = data.set_axis([0, 1, 2, 3, 4, 5, 6, 7, 8] , axis=1)\n",
        "data=pd.get_dummies(data=data, columns=[0, 1, 2, 3, 4, 5, 6, 7])\n",
        "data"
      ],
      "execution_count": null,
      "outputs": [
        {
          "output_type": "execute_result",
          "data": {
            "text/html": [
              "\n",
              "  <div id=\"df-43eb5f16-76c3-48e6-af4c-f241e5c9966e\">\n",
              "    <div class=\"colab-df-container\">\n",
              "      <div>\n",
              "<style scoped>\n",
              "    .dataframe tbody tr th:only-of-type {\n",
              "        vertical-align: middle;\n",
              "    }\n",
              "\n",
              "    .dataframe tbody tr th {\n",
              "        vertical-align: top;\n",
              "    }\n",
              "\n",
              "    .dataframe thead th {\n",
              "        text-align: right;\n",
              "    }\n",
              "</style>\n",
              "<table border=\"1\" class=\"dataframe\">\n",
              "  <thead>\n",
              "    <tr style=\"text-align: right;\">\n",
              "      <th></th>\n",
              "      <th>8</th>\n",
              "      <th>0_usual</th>\n",
              "      <th>1_critical</th>\n",
              "      <th>1_improper</th>\n",
              "      <th>2_complete</th>\n",
              "      <th>2_foster</th>\n",
              "      <th>3_1</th>\n",
              "      <th>3_2</th>\n",
              "      <th>3_3</th>\n",
              "      <th>3_more</th>\n",
              "      <th>4_convenient</th>\n",
              "      <th>4_critical</th>\n",
              "      <th>4_less_conv</th>\n",
              "      <th>5_convenient</th>\n",
              "      <th>5_inconv</th>\n",
              "      <th>6_nonprob</th>\n",
              "      <th>6_problematic</th>\n",
              "      <th>6_slightly_prob</th>\n",
              "      <th>7_not_recom</th>\n",
              "      <th>7_priority</th>\n",
              "      <th>7_recommended</th>\n",
              "    </tr>\n",
              "  </thead>\n",
              "  <tbody>\n",
              "    <tr>\n",
              "      <th>0</th>\n",
              "      <td>priority</td>\n",
              "      <td>1</td>\n",
              "      <td>0</td>\n",
              "      <td>1</td>\n",
              "      <td>0</td>\n",
              "      <td>1</td>\n",
              "      <td>1</td>\n",
              "      <td>0</td>\n",
              "      <td>0</td>\n",
              "      <td>0</td>\n",
              "      <td>0</td>\n",
              "      <td>0</td>\n",
              "      <td>1</td>\n",
              "      <td>1</td>\n",
              "      <td>0</td>\n",
              "      <td>0</td>\n",
              "      <td>1</td>\n",
              "      <td>0</td>\n",
              "      <td>0</td>\n",
              "      <td>0</td>\n",
              "      <td>1</td>\n",
              "    </tr>\n",
              "    <tr>\n",
              "      <th>1</th>\n",
              "      <td>priority</td>\n",
              "      <td>1</td>\n",
              "      <td>0</td>\n",
              "      <td>1</td>\n",
              "      <td>0</td>\n",
              "      <td>1</td>\n",
              "      <td>1</td>\n",
              "      <td>0</td>\n",
              "      <td>0</td>\n",
              "      <td>0</td>\n",
              "      <td>0</td>\n",
              "      <td>0</td>\n",
              "      <td>1</td>\n",
              "      <td>1</td>\n",
              "      <td>0</td>\n",
              "      <td>0</td>\n",
              "      <td>1</td>\n",
              "      <td>0</td>\n",
              "      <td>0</td>\n",
              "      <td>1</td>\n",
              "      <td>0</td>\n",
              "    </tr>\n",
              "    <tr>\n",
              "      <th>2</th>\n",
              "      <td>not_recom</td>\n",
              "      <td>1</td>\n",
              "      <td>0</td>\n",
              "      <td>1</td>\n",
              "      <td>0</td>\n",
              "      <td>1</td>\n",
              "      <td>1</td>\n",
              "      <td>0</td>\n",
              "      <td>0</td>\n",
              "      <td>0</td>\n",
              "      <td>0</td>\n",
              "      <td>0</td>\n",
              "      <td>1</td>\n",
              "      <td>1</td>\n",
              "      <td>0</td>\n",
              "      <td>0</td>\n",
              "      <td>1</td>\n",
              "      <td>0</td>\n",
              "      <td>1</td>\n",
              "      <td>0</td>\n",
              "      <td>0</td>\n",
              "    </tr>\n",
              "    <tr>\n",
              "      <th>3</th>\n",
              "      <td>priority</td>\n",
              "      <td>1</td>\n",
              "      <td>0</td>\n",
              "      <td>1</td>\n",
              "      <td>0</td>\n",
              "      <td>1</td>\n",
              "      <td>1</td>\n",
              "      <td>0</td>\n",
              "      <td>0</td>\n",
              "      <td>0</td>\n",
              "      <td>0</td>\n",
              "      <td>0</td>\n",
              "      <td>1</td>\n",
              "      <td>0</td>\n",
              "      <td>1</td>\n",
              "      <td>1</td>\n",
              "      <td>0</td>\n",
              "      <td>0</td>\n",
              "      <td>0</td>\n",
              "      <td>0</td>\n",
              "      <td>1</td>\n",
              "    </tr>\n",
              "    <tr>\n",
              "      <th>4</th>\n",
              "      <td>priority</td>\n",
              "      <td>1</td>\n",
              "      <td>0</td>\n",
              "      <td>1</td>\n",
              "      <td>0</td>\n",
              "      <td>1</td>\n",
              "      <td>1</td>\n",
              "      <td>0</td>\n",
              "      <td>0</td>\n",
              "      <td>0</td>\n",
              "      <td>0</td>\n",
              "      <td>0</td>\n",
              "      <td>1</td>\n",
              "      <td>0</td>\n",
              "      <td>1</td>\n",
              "      <td>1</td>\n",
              "      <td>0</td>\n",
              "      <td>0</td>\n",
              "      <td>0</td>\n",
              "      <td>1</td>\n",
              "      <td>0</td>\n",
              "    </tr>\n",
              "    <tr>\n",
              "      <th>...</th>\n",
              "      <td>...</td>\n",
              "      <td>...</td>\n",
              "      <td>...</td>\n",
              "      <td>...</td>\n",
              "      <td>...</td>\n",
              "      <td>...</td>\n",
              "      <td>...</td>\n",
              "      <td>...</td>\n",
              "      <td>...</td>\n",
              "      <td>...</td>\n",
              "      <td>...</td>\n",
              "      <td>...</td>\n",
              "      <td>...</td>\n",
              "      <td>...</td>\n",
              "      <td>...</td>\n",
              "      <td>...</td>\n",
              "      <td>...</td>\n",
              "      <td>...</td>\n",
              "      <td>...</td>\n",
              "      <td>...</td>\n",
              "      <td>...</td>\n",
              "    </tr>\n",
              "    <tr>\n",
              "      <th>295</th>\n",
              "      <td>spec_prior</td>\n",
              "      <td>1</td>\n",
              "      <td>1</td>\n",
              "      <td>0</td>\n",
              "      <td>1</td>\n",
              "      <td>0</td>\n",
              "      <td>0</td>\n",
              "      <td>1</td>\n",
              "      <td>0</td>\n",
              "      <td>0</td>\n",
              "      <td>0</td>\n",
              "      <td>1</td>\n",
              "      <td>0</td>\n",
              "      <td>0</td>\n",
              "      <td>1</td>\n",
              "      <td>0</td>\n",
              "      <td>0</td>\n",
              "      <td>1</td>\n",
              "      <td>0</td>\n",
              "      <td>1</td>\n",
              "      <td>0</td>\n",
              "    </tr>\n",
              "    <tr>\n",
              "      <th>296</th>\n",
              "      <td>not_recom</td>\n",
              "      <td>1</td>\n",
              "      <td>1</td>\n",
              "      <td>0</td>\n",
              "      <td>1</td>\n",
              "      <td>0</td>\n",
              "      <td>0</td>\n",
              "      <td>1</td>\n",
              "      <td>0</td>\n",
              "      <td>0</td>\n",
              "      <td>0</td>\n",
              "      <td>1</td>\n",
              "      <td>0</td>\n",
              "      <td>0</td>\n",
              "      <td>1</td>\n",
              "      <td>0</td>\n",
              "      <td>0</td>\n",
              "      <td>1</td>\n",
              "      <td>1</td>\n",
              "      <td>0</td>\n",
              "      <td>0</td>\n",
              "    </tr>\n",
              "    <tr>\n",
              "      <th>297</th>\n",
              "      <td>spec_prior</td>\n",
              "      <td>1</td>\n",
              "      <td>1</td>\n",
              "      <td>0</td>\n",
              "      <td>1</td>\n",
              "      <td>0</td>\n",
              "      <td>0</td>\n",
              "      <td>1</td>\n",
              "      <td>0</td>\n",
              "      <td>0</td>\n",
              "      <td>0</td>\n",
              "      <td>1</td>\n",
              "      <td>0</td>\n",
              "      <td>0</td>\n",
              "      <td>1</td>\n",
              "      <td>0</td>\n",
              "      <td>1</td>\n",
              "      <td>0</td>\n",
              "      <td>0</td>\n",
              "      <td>0</td>\n",
              "      <td>1</td>\n",
              "    </tr>\n",
              "    <tr>\n",
              "      <th>298</th>\n",
              "      <td>spec_prior</td>\n",
              "      <td>1</td>\n",
              "      <td>1</td>\n",
              "      <td>0</td>\n",
              "      <td>1</td>\n",
              "      <td>0</td>\n",
              "      <td>0</td>\n",
              "      <td>1</td>\n",
              "      <td>0</td>\n",
              "      <td>0</td>\n",
              "      <td>0</td>\n",
              "      <td>1</td>\n",
              "      <td>0</td>\n",
              "      <td>0</td>\n",
              "      <td>1</td>\n",
              "      <td>0</td>\n",
              "      <td>1</td>\n",
              "      <td>0</td>\n",
              "      <td>0</td>\n",
              "      <td>1</td>\n",
              "      <td>0</td>\n",
              "    </tr>\n",
              "    <tr>\n",
              "      <th>299</th>\n",
              "      <td>not_recom</td>\n",
              "      <td>1</td>\n",
              "      <td>1</td>\n",
              "      <td>0</td>\n",
              "      <td>1</td>\n",
              "      <td>0</td>\n",
              "      <td>0</td>\n",
              "      <td>1</td>\n",
              "      <td>0</td>\n",
              "      <td>0</td>\n",
              "      <td>0</td>\n",
              "      <td>1</td>\n",
              "      <td>0</td>\n",
              "      <td>0</td>\n",
              "      <td>1</td>\n",
              "      <td>0</td>\n",
              "      <td>1</td>\n",
              "      <td>0</td>\n",
              "      <td>1</td>\n",
              "      <td>0</td>\n",
              "      <td>0</td>\n",
              "    </tr>\n",
              "  </tbody>\n",
              "</table>\n",
              "<p>300 rows × 21 columns</p>\n",
              "</div>\n",
              "      <button class=\"colab-df-convert\" onclick=\"convertToInteractive('df-43eb5f16-76c3-48e6-af4c-f241e5c9966e')\"\n",
              "              title=\"Convert this dataframe to an interactive table.\"\n",
              "              style=\"display:none;\">\n",
              "        \n",
              "  <svg xmlns=\"http://www.w3.org/2000/svg\" height=\"24px\"viewBox=\"0 0 24 24\"\n",
              "       width=\"24px\">\n",
              "    <path d=\"M0 0h24v24H0V0z\" fill=\"none\"/>\n",
              "    <path d=\"M18.56 5.44l.94 2.06.94-2.06 2.06-.94-2.06-.94-.94-2.06-.94 2.06-2.06.94zm-11 1L8.5 8.5l.94-2.06 2.06-.94-2.06-.94L8.5 2.5l-.94 2.06-2.06.94zm10 10l.94 2.06.94-2.06 2.06-.94-2.06-.94-.94-2.06-.94 2.06-2.06.94z\"/><path d=\"M17.41 7.96l-1.37-1.37c-.4-.4-.92-.59-1.43-.59-.52 0-1.04.2-1.43.59L10.3 9.45l-7.72 7.72c-.78.78-.78 2.05 0 2.83L4 21.41c.39.39.9.59 1.41.59.51 0 1.02-.2 1.41-.59l7.78-7.78 2.81-2.81c.8-.78.8-2.07 0-2.86zM5.41 20L4 18.59l7.72-7.72 1.47 1.35L5.41 20z\"/>\n",
              "  </svg>\n",
              "      </button>\n",
              "      \n",
              "  <style>\n",
              "    .colab-df-container {\n",
              "      display:flex;\n",
              "      flex-wrap:wrap;\n",
              "      gap: 12px;\n",
              "    }\n",
              "\n",
              "    .colab-df-convert {\n",
              "      background-color: #E8F0FE;\n",
              "      border: none;\n",
              "      border-radius: 50%;\n",
              "      cursor: pointer;\n",
              "      display: none;\n",
              "      fill: #1967D2;\n",
              "      height: 32px;\n",
              "      padding: 0 0 0 0;\n",
              "      width: 32px;\n",
              "    }\n",
              "\n",
              "    .colab-df-convert:hover {\n",
              "      background-color: #E2EBFA;\n",
              "      box-shadow: 0px 1px 2px rgba(60, 64, 67, 0.3), 0px 1px 3px 1px rgba(60, 64, 67, 0.15);\n",
              "      fill: #174EA6;\n",
              "    }\n",
              "\n",
              "    [theme=dark] .colab-df-convert {\n",
              "      background-color: #3B4455;\n",
              "      fill: #D2E3FC;\n",
              "    }\n",
              "\n",
              "    [theme=dark] .colab-df-convert:hover {\n",
              "      background-color: #434B5C;\n",
              "      box-shadow: 0px 1px 3px 1px rgba(0, 0, 0, 0.15);\n",
              "      filter: drop-shadow(0px 1px 2px rgba(0, 0, 0, 0.3));\n",
              "      fill: #FFFFFF;\n",
              "    }\n",
              "  </style>\n",
              "\n",
              "      <script>\n",
              "        const buttonEl =\n",
              "          document.querySelector('#df-43eb5f16-76c3-48e6-af4c-f241e5c9966e button.colab-df-convert');\n",
              "        buttonEl.style.display =\n",
              "          google.colab.kernel.accessAllowed ? 'block' : 'none';\n",
              "\n",
              "        async function convertToInteractive(key) {\n",
              "          const element = document.querySelector('#df-43eb5f16-76c3-48e6-af4c-f241e5c9966e');\n",
              "          const dataTable =\n",
              "            await google.colab.kernel.invokeFunction('convertToInteractive',\n",
              "                                                     [key], {});\n",
              "          if (!dataTable) return;\n",
              "\n",
              "          const docLinkHtml = 'Like what you see? Visit the ' +\n",
              "            '<a target=\"_blank\" href=https://colab.research.google.com/notebooks/data_table.ipynb>data table notebook</a>'\n",
              "            + ' to learn more about interactive tables.';\n",
              "          element.innerHTML = '';\n",
              "          dataTable['output_type'] = 'display_data';\n",
              "          await google.colab.output.renderOutput(dataTable, element);\n",
              "          const docLink = document.createElement('div');\n",
              "          docLink.innerHTML = docLinkHtml;\n",
              "          element.appendChild(docLink);\n",
              "        }\n",
              "      </script>\n",
              "    </div>\n",
              "  </div>\n",
              "  "
            ],
            "text/plain": [
              "              8  0_usual  1_critical  ...  7_not_recom  7_priority  7_recommended\n",
              "0      priority        1           0  ...            0           0              1\n",
              "1      priority        1           0  ...            0           1              0\n",
              "2     not_recom        1           0  ...            1           0              0\n",
              "3      priority        1           0  ...            0           0              1\n",
              "4      priority        1           0  ...            0           1              0\n",
              "..          ...      ...         ...  ...          ...         ...            ...\n",
              "295  spec_prior        1           1  ...            0           1              0\n",
              "296   not_recom        1           1  ...            1           0              0\n",
              "297  spec_prior        1           1  ...            0           0              1\n",
              "298  spec_prior        1           1  ...            0           1              0\n",
              "299   not_recom        1           1  ...            1           0              0\n",
              "\n",
              "[300 rows x 21 columns]"
            ]
          },
          "metadata": {},
          "execution_count": 17
        }
      ]
    },
    {
      "cell_type": "code",
      "metadata": {
        "colab": {
          "base_uri": "https://localhost:8080/"
        },
        "id": "9C2L7NiRut4J",
        "outputId": "4c7824d6-3859-4511-8372-cfba6612fd20"
      },
      "source": [
        "data[8].unique()"
      ],
      "execution_count": null,
      "outputs": [
        {
          "output_type": "execute_result",
          "data": {
            "text/plain": [
              "array(['priority', 'not_recom', 'very_recom', 'spec_prior'], dtype=object)"
            ]
          },
          "metadata": {},
          "execution_count": 18
        }
      ]
    },
    {
      "cell_type": "code",
      "metadata": {
        "id": "NI1EJE4VxCkU"
      },
      "source": [
        "TRAIN = data.iloc[:200]\n",
        "TEST = data.iloc[-50:].reset_index(drop = True)\n",
        "\n",
        "X_train = TRAIN.iloc[:,1:]\n",
        "X_test = TEST.iloc[:,1:]\n",
        "\n",
        "Y_train = TRAIN.iloc[:,:1]\n",
        "Y_test = TEST.iloc[:,:1]"
      ],
      "execution_count": null,
      "outputs": []
    },
    {
      "cell_type": "markdown",
      "metadata": {
        "id": "BTQS5ZZuITdY"
      },
      "source": [
        "### Desicion Tree"
      ]
    },
    {
      "cell_type": "code",
      "metadata": {
        "id": "Wu992XND27jJ"
      },
      "source": [
        "class DTC:\n",
        "\n",
        "    def __init__(self, max_depth = 5, depth = 1):\n",
        "        self.max_depth = max_depth\n",
        "        self.depth = depth\n",
        "        self.left = None\n",
        "        self.right = None\n",
        "    \n",
        "    def fit(self, x_train, x_test):\n",
        "        self.x_train = x_train\n",
        "        self.x_test = x_test\n",
        "        self.columns = self.x_train.columns.tolist()\n",
        "        self.columns.remove(x_test)\n",
        "        if self.depth <= self.max_depth:\n",
        "            self.__validate_x_train()\n",
        "            self.impurity_score = self.gini(self.x_train[self.x_test])\n",
        "            self.criteria, self.split_feature, self.information_gain = self.splt()\n",
        "            if self.criteria is not None and self.information_gain > 0: self.branches()\n",
        "        else: \n",
        "            print(\"Stopping splitting as Max depth reached\")\n",
        "    \n",
        "    def branches(self):\n",
        "        self.left = DTC(max_depth = self.max_depth, depth = self.depth + 1)\n",
        "        self.right = DTC(max_depth = self.max_depth, depth = self.depth + 1)\n",
        "        left_rows = self.x_train[self.x_train[self.split_feature] <= self.criteria] \n",
        "        right_rows = self.x_train[self.x_train[self.split_feature] > self.criteria] \n",
        "        self.left.fit(x_train = left_rows, x_test = self.x_test)\n",
        "        self.right.fit(x_train = right_rows, x_test = self.x_test)\n",
        "    \n",
        "    def gini(self, x_train):\n",
        "        if x_train is None or x_train.empty:\n",
        "          return 0\n",
        "        gini_impurity = 1.\n",
        "        classes = np.unique(x_train)\n",
        "        n_vals = len(x_train)\n",
        "        for cl in classes:\n",
        "            gini_impurity -= np.square(np.sum(x_train==cl)/n_vals) \n",
        "        return gini_impurity\n",
        "    \n",
        "    def splt(self):\n",
        "        best_split = {}\n",
        "        for col in self.columns:\n",
        "            information_gain, split = self.splt_for_column(col)\n",
        "            if split is None: continue\n",
        "            if not best_split or best_split[\"information_gain\"] < information_gain:\n",
        "                best_split = {\"split\": split, \"col\": col, \"information_gain\": information_gain}\n",
        "        return best_split.get(\"split\"), best_split.get(\"col\"), best_split.get(\"information_gain\")\n",
        "\n",
        "    def splt_for_column(self, col):\n",
        "        x = self.x_train[col]\n",
        "        unique_values = x.unique()\n",
        "        if len(unique_values) == 1:\n",
        "           return None, None\n",
        "        information_gain = None\n",
        "        split = None\n",
        "        for val in unique_values:\n",
        "            left = x <= val\n",
        "            right = x > val\n",
        "            left_x_train = self.x_train[left]\n",
        "            right_x_train = self.x_train[right]\n",
        "            left_impurity = self.gini(left_x_train[self.x_test])\n",
        "            right_impurity = self.gini(right_x_train[self.x_test])\n",
        "            score = self.impurity_score - ((len(left_x_train)/len(self.x_train)) * left_impurity + (len(right_x_train)/len(self.x_train)) * right_impurity)\n",
        "            if information_gain is None or score > information_gain: \n",
        "                information_gain = score \n",
        "                split = val\n",
        "        return information_gain, split\n",
        "\n",
        "    def predict(self, x_train):\n",
        "        return np.array([self.__flow_x_train_thru_tree(row) for _, row in x_train.iterrows()])\n",
        "\n",
        "    def __validate_x_train(self):\n",
        "        non_numeric_columns = self.x_train[self.columns].select_dtypes(include=['category', 'object', 'bool']).columns.tolist()\n",
        "        if(len(set(self.columns).intersection(set(non_numeric_columns))) != 0):\n",
        "            raise RuntimeError(\"Not all columns are numeric\")\n",
        "\n",
        "    def __flow_x_train_thru_tree(self, row):\n",
        "        if self.is_leaf_node:\n",
        "          return self.probability\n",
        "        tree = self.left if row[self.split_feature] <= self.criteria else self.right\n",
        "        return tree.__flow_x_train_thru_tree(row)\n",
        "        \n",
        "    @property\n",
        "    def is_leaf_node(self):\n",
        "      return self.left is None\n",
        "    @property\n",
        "    def probability(self): \n",
        "        return mode(self.x_train[self.x_test])[0][0]"
      ],
      "execution_count": null,
      "outputs": []
    },
    {
      "cell_type": "code",
      "metadata": {
        "colab": {
          "base_uri": "https://localhost:8080/"
        },
        "id": "G8tiRaqn3NIp",
        "outputId": "1f82d1a1-dc76-46ff-e472-8766fd78e4eb"
      },
      "source": [
        "clf = DTC(max_depth= 3)\n",
        "fit = clf.fit(TRAIN, 8)\n",
        "predict = clf.predict(X_test)\n",
        "predict"
      ],
      "execution_count": null,
      "outputs": [
        {
          "output_type": "stream",
          "name": "stdout",
          "text": [
            "Stopping splitting as Max depth reached\n",
            "Stopping splitting as Max depth reached\n"
          ]
        },
        {
          "output_type": "execute_result",
          "data": {
            "text/plain": [
              "array(['priority', 'not_recom', 'priority', 'priority', 'not_recom',\n",
              "       'priority', 'priority', 'not_recom', 'priority', 'priority',\n",
              "       'not_recom', 'priority', 'priority', 'not_recom', 'priority',\n",
              "       'priority', 'not_recom', 'priority', 'priority', 'not_recom',\n",
              "       'priority', 'priority', 'not_recom', 'priority', 'priority',\n",
              "       'not_recom', 'priority', 'priority', 'not_recom', 'priority',\n",
              "       'priority', 'not_recom', 'priority', 'priority', 'not_recom',\n",
              "       'priority', 'priority', 'not_recom', 'priority', 'priority',\n",
              "       'not_recom', 'priority', 'priority', 'not_recom', 'priority',\n",
              "       'priority', 'not_recom', 'priority', 'priority', 'not_recom'],\n",
              "      dtype='<U9')"
            ]
          },
          "metadata": {},
          "execution_count": 21
        }
      ]
    },
    {
      "cell_type": "code",
      "metadata": {
        "colab": {
          "base_uri": "https://localhost:8080/",
          "height": 1000
        },
        "id": "wtHC_c2Fo975",
        "outputId": "12777e3b-5078-464a-fde9-d95ad32016c5"
      },
      "source": [
        "df = pd.DataFrame()\n",
        "df[\"actual\"] = Y_test[8].to_numpy()\n",
        "df[\"predict_DTC\"] = predict\n",
        "df"
      ],
      "execution_count": null,
      "outputs": [
        {
          "output_type": "execute_result",
          "data": {
            "text/html": [
              "\n",
              "  <div id=\"df-eafd98a1-a805-4b29-bb68-738d11f382a8\">\n",
              "    <div class=\"colab-df-container\">\n",
              "      <div>\n",
              "<style scoped>\n",
              "    .dataframe tbody tr th:only-of-type {\n",
              "        vertical-align: middle;\n",
              "    }\n",
              "\n",
              "    .dataframe tbody tr th {\n",
              "        vertical-align: top;\n",
              "    }\n",
              "\n",
              "    .dataframe thead th {\n",
              "        text-align: right;\n",
              "    }\n",
              "</style>\n",
              "<table border=\"1\" class=\"dataframe\">\n",
              "  <thead>\n",
              "    <tr style=\"text-align: right;\">\n",
              "      <th></th>\n",
              "      <th>actual</th>\n",
              "      <th>predict_DTC</th>\n",
              "    </tr>\n",
              "  </thead>\n",
              "  <tbody>\n",
              "    <tr>\n",
              "      <th>0</th>\n",
              "      <td>priority</td>\n",
              "      <td>priority</td>\n",
              "    </tr>\n",
              "    <tr>\n",
              "      <th>1</th>\n",
              "      <td>not_recom</td>\n",
              "      <td>not_recom</td>\n",
              "    </tr>\n",
              "    <tr>\n",
              "      <th>2</th>\n",
              "      <td>priority</td>\n",
              "      <td>priority</td>\n",
              "    </tr>\n",
              "    <tr>\n",
              "      <th>3</th>\n",
              "      <td>priority</td>\n",
              "      <td>priority</td>\n",
              "    </tr>\n",
              "    <tr>\n",
              "      <th>4</th>\n",
              "      <td>not_recom</td>\n",
              "      <td>not_recom</td>\n",
              "    </tr>\n",
              "    <tr>\n",
              "      <th>5</th>\n",
              "      <td>priority</td>\n",
              "      <td>priority</td>\n",
              "    </tr>\n",
              "    <tr>\n",
              "      <th>6</th>\n",
              "      <td>priority</td>\n",
              "      <td>priority</td>\n",
              "    </tr>\n",
              "    <tr>\n",
              "      <th>7</th>\n",
              "      <td>not_recom</td>\n",
              "      <td>not_recom</td>\n",
              "    </tr>\n",
              "    <tr>\n",
              "      <th>8</th>\n",
              "      <td>priority</td>\n",
              "      <td>priority</td>\n",
              "    </tr>\n",
              "    <tr>\n",
              "      <th>9</th>\n",
              "      <td>priority</td>\n",
              "      <td>priority</td>\n",
              "    </tr>\n",
              "    <tr>\n",
              "      <th>10</th>\n",
              "      <td>not_recom</td>\n",
              "      <td>not_recom</td>\n",
              "    </tr>\n",
              "    <tr>\n",
              "      <th>11</th>\n",
              "      <td>priority</td>\n",
              "      <td>priority</td>\n",
              "    </tr>\n",
              "    <tr>\n",
              "      <th>12</th>\n",
              "      <td>priority</td>\n",
              "      <td>priority</td>\n",
              "    </tr>\n",
              "    <tr>\n",
              "      <th>13</th>\n",
              "      <td>not_recom</td>\n",
              "      <td>not_recom</td>\n",
              "    </tr>\n",
              "    <tr>\n",
              "      <th>14</th>\n",
              "      <td>priority</td>\n",
              "      <td>priority</td>\n",
              "    </tr>\n",
              "    <tr>\n",
              "      <th>15</th>\n",
              "      <td>priority</td>\n",
              "      <td>priority</td>\n",
              "    </tr>\n",
              "    <tr>\n",
              "      <th>16</th>\n",
              "      <td>not_recom</td>\n",
              "      <td>not_recom</td>\n",
              "    </tr>\n",
              "    <tr>\n",
              "      <th>17</th>\n",
              "      <td>priority</td>\n",
              "      <td>priority</td>\n",
              "    </tr>\n",
              "    <tr>\n",
              "      <th>18</th>\n",
              "      <td>priority</td>\n",
              "      <td>priority</td>\n",
              "    </tr>\n",
              "    <tr>\n",
              "      <th>19</th>\n",
              "      <td>not_recom</td>\n",
              "      <td>not_recom</td>\n",
              "    </tr>\n",
              "    <tr>\n",
              "      <th>20</th>\n",
              "      <td>priority</td>\n",
              "      <td>priority</td>\n",
              "    </tr>\n",
              "    <tr>\n",
              "      <th>21</th>\n",
              "      <td>priority</td>\n",
              "      <td>priority</td>\n",
              "    </tr>\n",
              "    <tr>\n",
              "      <th>22</th>\n",
              "      <td>not_recom</td>\n",
              "      <td>not_recom</td>\n",
              "    </tr>\n",
              "    <tr>\n",
              "      <th>23</th>\n",
              "      <td>priority</td>\n",
              "      <td>priority</td>\n",
              "    </tr>\n",
              "    <tr>\n",
              "      <th>24</th>\n",
              "      <td>priority</td>\n",
              "      <td>priority</td>\n",
              "    </tr>\n",
              "    <tr>\n",
              "      <th>25</th>\n",
              "      <td>not_recom</td>\n",
              "      <td>not_recom</td>\n",
              "    </tr>\n",
              "    <tr>\n",
              "      <th>26</th>\n",
              "      <td>priority</td>\n",
              "      <td>priority</td>\n",
              "    </tr>\n",
              "    <tr>\n",
              "      <th>27</th>\n",
              "      <td>priority</td>\n",
              "      <td>priority</td>\n",
              "    </tr>\n",
              "    <tr>\n",
              "      <th>28</th>\n",
              "      <td>not_recom</td>\n",
              "      <td>not_recom</td>\n",
              "    </tr>\n",
              "    <tr>\n",
              "      <th>29</th>\n",
              "      <td>priority</td>\n",
              "      <td>priority</td>\n",
              "    </tr>\n",
              "    <tr>\n",
              "      <th>30</th>\n",
              "      <td>priority</td>\n",
              "      <td>priority</td>\n",
              "    </tr>\n",
              "    <tr>\n",
              "      <th>31</th>\n",
              "      <td>not_recom</td>\n",
              "      <td>not_recom</td>\n",
              "    </tr>\n",
              "    <tr>\n",
              "      <th>32</th>\n",
              "      <td>priority</td>\n",
              "      <td>priority</td>\n",
              "    </tr>\n",
              "    <tr>\n",
              "      <th>33</th>\n",
              "      <td>spec_prior</td>\n",
              "      <td>priority</td>\n",
              "    </tr>\n",
              "    <tr>\n",
              "      <th>34</th>\n",
              "      <td>not_recom</td>\n",
              "      <td>not_recom</td>\n",
              "    </tr>\n",
              "    <tr>\n",
              "      <th>35</th>\n",
              "      <td>priority</td>\n",
              "      <td>priority</td>\n",
              "    </tr>\n",
              "    <tr>\n",
              "      <th>36</th>\n",
              "      <td>spec_prior</td>\n",
              "      <td>priority</td>\n",
              "    </tr>\n",
              "    <tr>\n",
              "      <th>37</th>\n",
              "      <td>not_recom</td>\n",
              "      <td>not_recom</td>\n",
              "    </tr>\n",
              "    <tr>\n",
              "      <th>38</th>\n",
              "      <td>spec_prior</td>\n",
              "      <td>priority</td>\n",
              "    </tr>\n",
              "    <tr>\n",
              "      <th>39</th>\n",
              "      <td>spec_prior</td>\n",
              "      <td>priority</td>\n",
              "    </tr>\n",
              "    <tr>\n",
              "      <th>40</th>\n",
              "      <td>not_recom</td>\n",
              "      <td>not_recom</td>\n",
              "    </tr>\n",
              "    <tr>\n",
              "      <th>41</th>\n",
              "      <td>priority</td>\n",
              "      <td>priority</td>\n",
              "    </tr>\n",
              "    <tr>\n",
              "      <th>42</th>\n",
              "      <td>spec_prior</td>\n",
              "      <td>priority</td>\n",
              "    </tr>\n",
              "    <tr>\n",
              "      <th>43</th>\n",
              "      <td>not_recom</td>\n",
              "      <td>not_recom</td>\n",
              "    </tr>\n",
              "    <tr>\n",
              "      <th>44</th>\n",
              "      <td>priority</td>\n",
              "      <td>priority</td>\n",
              "    </tr>\n",
              "    <tr>\n",
              "      <th>45</th>\n",
              "      <td>spec_prior</td>\n",
              "      <td>priority</td>\n",
              "    </tr>\n",
              "    <tr>\n",
              "      <th>46</th>\n",
              "      <td>not_recom</td>\n",
              "      <td>not_recom</td>\n",
              "    </tr>\n",
              "    <tr>\n",
              "      <th>47</th>\n",
              "      <td>spec_prior</td>\n",
              "      <td>priority</td>\n",
              "    </tr>\n",
              "    <tr>\n",
              "      <th>48</th>\n",
              "      <td>spec_prior</td>\n",
              "      <td>priority</td>\n",
              "    </tr>\n",
              "    <tr>\n",
              "      <th>49</th>\n",
              "      <td>not_recom</td>\n",
              "      <td>not_recom</td>\n",
              "    </tr>\n",
              "  </tbody>\n",
              "</table>\n",
              "</div>\n",
              "      <button class=\"colab-df-convert\" onclick=\"convertToInteractive('df-eafd98a1-a805-4b29-bb68-738d11f382a8')\"\n",
              "              title=\"Convert this dataframe to an interactive table.\"\n",
              "              style=\"display:none;\">\n",
              "        \n",
              "  <svg xmlns=\"http://www.w3.org/2000/svg\" height=\"24px\"viewBox=\"0 0 24 24\"\n",
              "       width=\"24px\">\n",
              "    <path d=\"M0 0h24v24H0V0z\" fill=\"none\"/>\n",
              "    <path d=\"M18.56 5.44l.94 2.06.94-2.06 2.06-.94-2.06-.94-.94-2.06-.94 2.06-2.06.94zm-11 1L8.5 8.5l.94-2.06 2.06-.94-2.06-.94L8.5 2.5l-.94 2.06-2.06.94zm10 10l.94 2.06.94-2.06 2.06-.94-2.06-.94-.94-2.06-.94 2.06-2.06.94z\"/><path d=\"M17.41 7.96l-1.37-1.37c-.4-.4-.92-.59-1.43-.59-.52 0-1.04.2-1.43.59L10.3 9.45l-7.72 7.72c-.78.78-.78 2.05 0 2.83L4 21.41c.39.39.9.59 1.41.59.51 0 1.02-.2 1.41-.59l7.78-7.78 2.81-2.81c.8-.78.8-2.07 0-2.86zM5.41 20L4 18.59l7.72-7.72 1.47 1.35L5.41 20z\"/>\n",
              "  </svg>\n",
              "      </button>\n",
              "      \n",
              "  <style>\n",
              "    .colab-df-container {\n",
              "      display:flex;\n",
              "      flex-wrap:wrap;\n",
              "      gap: 12px;\n",
              "    }\n",
              "\n",
              "    .colab-df-convert {\n",
              "      background-color: #E8F0FE;\n",
              "      border: none;\n",
              "      border-radius: 50%;\n",
              "      cursor: pointer;\n",
              "      display: none;\n",
              "      fill: #1967D2;\n",
              "      height: 32px;\n",
              "      padding: 0 0 0 0;\n",
              "      width: 32px;\n",
              "    }\n",
              "\n",
              "    .colab-df-convert:hover {\n",
              "      background-color: #E2EBFA;\n",
              "      box-shadow: 0px 1px 2px rgba(60, 64, 67, 0.3), 0px 1px 3px 1px rgba(60, 64, 67, 0.15);\n",
              "      fill: #174EA6;\n",
              "    }\n",
              "\n",
              "    [theme=dark] .colab-df-convert {\n",
              "      background-color: #3B4455;\n",
              "      fill: #D2E3FC;\n",
              "    }\n",
              "\n",
              "    [theme=dark] .colab-df-convert:hover {\n",
              "      background-color: #434B5C;\n",
              "      box-shadow: 0px 1px 3px 1px rgba(0, 0, 0, 0.15);\n",
              "      filter: drop-shadow(0px 1px 2px rgba(0, 0, 0, 0.3));\n",
              "      fill: #FFFFFF;\n",
              "    }\n",
              "  </style>\n",
              "\n",
              "      <script>\n",
              "        const buttonEl =\n",
              "          document.querySelector('#df-eafd98a1-a805-4b29-bb68-738d11f382a8 button.colab-df-convert');\n",
              "        buttonEl.style.display =\n",
              "          google.colab.kernel.accessAllowed ? 'block' : 'none';\n",
              "\n",
              "        async function convertToInteractive(key) {\n",
              "          const element = document.querySelector('#df-eafd98a1-a805-4b29-bb68-738d11f382a8');\n",
              "          const dataTable =\n",
              "            await google.colab.kernel.invokeFunction('convertToInteractive',\n",
              "                                                     [key], {});\n",
              "          if (!dataTable) return;\n",
              "\n",
              "          const docLinkHtml = 'Like what you see? Visit the ' +\n",
              "            '<a target=\"_blank\" href=https://colab.research.google.com/notebooks/data_table.ipynb>data table notebook</a>'\n",
              "            + ' to learn more about interactive tables.';\n",
              "          element.innerHTML = '';\n",
              "          dataTable['output_type'] = 'display_data';\n",
              "          await google.colab.output.renderOutput(dataTable, element);\n",
              "          const docLink = document.createElement('div');\n",
              "          docLink.innerHTML = docLinkHtml;\n",
              "          element.appendChild(docLink);\n",
              "        }\n",
              "      </script>\n",
              "    </div>\n",
              "  </div>\n",
              "  "
            ],
            "text/plain": [
              "        actual predict_DTC\n",
              "0     priority    priority\n",
              "1    not_recom   not_recom\n",
              "2     priority    priority\n",
              "3     priority    priority\n",
              "4    not_recom   not_recom\n",
              "5     priority    priority\n",
              "6     priority    priority\n",
              "7    not_recom   not_recom\n",
              "8     priority    priority\n",
              "9     priority    priority\n",
              "10   not_recom   not_recom\n",
              "11    priority    priority\n",
              "12    priority    priority\n",
              "13   not_recom   not_recom\n",
              "14    priority    priority\n",
              "15    priority    priority\n",
              "16   not_recom   not_recom\n",
              "17    priority    priority\n",
              "18    priority    priority\n",
              "19   not_recom   not_recom\n",
              "20    priority    priority\n",
              "21    priority    priority\n",
              "22   not_recom   not_recom\n",
              "23    priority    priority\n",
              "24    priority    priority\n",
              "25   not_recom   not_recom\n",
              "26    priority    priority\n",
              "27    priority    priority\n",
              "28   not_recom   not_recom\n",
              "29    priority    priority\n",
              "30    priority    priority\n",
              "31   not_recom   not_recom\n",
              "32    priority    priority\n",
              "33  spec_prior    priority\n",
              "34   not_recom   not_recom\n",
              "35    priority    priority\n",
              "36  spec_prior    priority\n",
              "37   not_recom   not_recom\n",
              "38  spec_prior    priority\n",
              "39  spec_prior    priority\n",
              "40   not_recom   not_recom\n",
              "41    priority    priority\n",
              "42  spec_prior    priority\n",
              "43   not_recom   not_recom\n",
              "44    priority    priority\n",
              "45  spec_prior    priority\n",
              "46   not_recom   not_recom\n",
              "47  spec_prior    priority\n",
              "48  spec_prior    priority\n",
              "49   not_recom   not_recom"
            ]
          },
          "metadata": {},
          "execution_count": 22
        }
      ]
    },
    {
      "cell_type": "markdown",
      "metadata": {
        "id": "beFRcFpZIhwy"
      },
      "source": [
        "###Оцінка"
      ]
    },
    {
      "cell_type": "code",
      "metadata": {
        "id": "_W9q__joaRIR",
        "colab": {
          "base_uri": "https://localhost:8080/"
        },
        "outputId": "64541310-291d-4bc6-ac31-c202f760edb2"
      },
      "source": [
        "deferred_sampling = (df[\"actual\"] == df[\"predict_DTC\"])\n",
        "np.count_nonzero(deferred_sampling == True)/len(df[\"predict_DTC\"])"
      ],
      "execution_count": null,
      "outputs": [
        {
          "output_type": "execute_result",
          "data": {
            "text/plain": [
              "0.84"
            ]
          },
          "metadata": {},
          "execution_count": 23
        }
      ]
    },
    {
      "cell_type": "code",
      "metadata": {
        "id": "KVf8DRM7kjE6"
      },
      "source": [
        "def metric(actual, predict):\n",
        "  T_priority = sum((actual == 'priority') & (predict == 'priority'))\n",
        "  F_priority_not_recom = sum((actual == 'priority') & (predict == 'not_recom'))\n",
        "  F_priority_very_recom = sum((actual == 'priority') & (predict == 'very_recom'))\n",
        "  F_priority_spec_prior = sum((actual == 'priority') & (predict == 'spec_prior'))\n",
        "\n",
        "  T_not_recom = sum((actual == 'not_recom') & (predict == 'not_recom'))\n",
        "  F_not_recom_priority = sum((actual == 'not_recom') & (predict == 'priority'))\n",
        "  F_not_recom_very_recom = sum((actual == 'not_recom') & (predict == 'very_recom'))\n",
        "  F_not_recom_spec_prior = sum((actual == 'not_recom') & (predict == 'spec_prior'))\n",
        "\n",
        "  T_very_recom = sum((actual == 'very_recom') & (predict == 'very_recom'))\n",
        "  F_very_recom_priority = sum((actual == 'very_recom') & (predict == 'priority'))\n",
        "  F_very_recom_not_recom = sum((actual == 'very_recom') & (predict == 'not_recom'))\n",
        "  F_very_recom_spec_prior = sum((actual == 'very_recom') & (predict == 'spec_prior'))\n",
        "\n",
        "  T_spec_prior = sum((actual == 'spec_prior') & (predict == 'spec_prior'))\n",
        "  F_spec_prior_priority = sum((actual == 'spec_prior') & (predict == 'priority'))\n",
        "  F_spec_prior_not_recom = sum((actual == 'spec_prior') & (predict == 'not_recom'))\n",
        "  F_spec_prior_very_recom = sum((actual == 'spec_prior') & (predict == 'very_recom'))\n",
        "\n",
        "  print(\"confusion_matrix:\\n\", np.array([[T_priority, F_priority_not_recom, F_priority_very_recom, F_priority_spec_prior],\n",
        "                                         [F_not_recom_priority, T_not_recom, F_not_recom_very_recom, F_not_recom_spec_prior],\n",
        "                                         [F_very_recom_priority, F_very_recom_not_recom, T_very_recom, F_very_recom_spec_prior],\n",
        "                                         [F_spec_prior_priority, F_spec_prior_not_recom, F_spec_prior_very_recom, T_spec_prior]]))"
      ],
      "execution_count": null,
      "outputs": []
    },
    {
      "cell_type": "code",
      "metadata": {
        "id": "CHjz4bL5uj6z",
        "colab": {
          "base_uri": "https://localhost:8080/"
        },
        "outputId": "a512518f-bac2-4251-c3bd-7724cc5adba8"
      },
      "source": [
        "metric(df[\"actual\"], df['predict_DTC'])"
      ],
      "execution_count": null,
      "outputs": [
        {
          "output_type": "stream",
          "name": "stdout",
          "text": [
            "confusion_matrix:\n",
            " [[25  0  0  0]\n",
            " [ 0 17  0  0]\n",
            " [ 0  0  0  0]\n",
            " [ 8  0  0  0]]\n"
          ]
        }
      ]
    },
    {
      "cell_type": "code",
      "metadata": {
        "id": "Yi1UniwfuhmH",
        "colab": {
          "base_uri": "https://localhost:8080/"
        },
        "outputId": "f037e324-7e05-4cd5-d1e8-f4e32a24708e"
      },
      "source": [
        "skplt.metrics.plot_confusion_matrix(df[\"actual\"], df['predict_DTC'], figsize=(6,6))"
      ],
      "execution_count": null,
      "outputs": [
        {
          "output_type": "execute_result",
          "data": {
            "text/plain": [
              "<matplotlib.axes._subplots.AxesSubplot at 0x7fdb85d29d50>"
            ]
          },
          "metadata": {},
          "execution_count": 26
        },
        {
          "output_type": "display_data",
          "data": {
            "image/png": "[encoded data removed]",
            "text/plain": [
              "<Figure size 432x432 with 2 Axes>"
            ]
          },
          "metadata": {
            "needs_background": "light"
          }
        }
      ]
    },
    {
      "cell_type": "markdown",
      "metadata": {
        "id": "fe0dcqvQIo5a"
      },
      "source": [
        "###KNN"
      ]
    },
    {
      "cell_type": "code",
      "metadata": {
        "id": "iGhIZ6yfvuQp"
      },
      "source": [
        "def KNN(x_train, y_train , x_test, k):\n",
        "\n",
        "    pred = []\n",
        "    for val in x_test: \n",
        "        score_length = []\n",
        "        for j in range(len(x_train)): \n",
        "            score_length.append(np.sqrt(np.sum(((np.array(x_train[j,:])) - val)**2))) \n",
        "        score_lengtht = np.array(score_length) \n",
        "        pred.append(y_train[np.argsort(score_length)[:k]])\n",
        "        x = []\n",
        "        for i in range(len(Y_test)):\n",
        "          y = pred \n",
        "          x = np.array(y)\n",
        "          predict_KNN = []\n",
        "        for i in x:\n",
        "          predict_KNN.append(i[0][0])\n",
        "\n",
        "    return predict_KNN"
      ],
      "execution_count": null,
      "outputs": []
    },
    {
      "cell_type": "code",
      "metadata": {
        "id": "EwssxWhAyki9"
      },
      "source": [
        "X_train1 = X_train.to_numpy().astype('int64')\n",
        "X_test1 = X_test.to_numpy().astype('int64')\n",
        "Y_train1 = Y_train.to_numpy()"
      ],
      "execution_count": null,
      "outputs": []
    },
    {
      "cell_type": "code",
      "metadata": {
        "id": "WVyUL2wEClh1"
      },
      "source": [
        "pred = KNN(X_train1, Y_train1, X_test1, 1)"
      ],
      "execution_count": null,
      "outputs": []
    },
    {
      "cell_type": "code",
      "metadata": {
        "id": "TjTTSXqF3C3l",
        "colab": {
          "base_uri": "https://localhost:8080/"
        },
        "outputId": "106cc661-dc22-42d1-c9b4-386e05188685"
      },
      "source": [
        "df[\"predict_KNN\"] = pred\n",
        "df"
      ],
      "execution_count": null,
      "outputs": [
        {
          "output_type": "execute_result",
          "data": {
            "text/html": [
              "\n",
              "  <div id=\"df-96a91e4a-89b0-4258-b6fd-1b0a989257ee\">\n",
              "    <div class=\"colab-df-container\">\n",
              "      <div>\n",
              "<style scoped>\n",
              "    .dataframe tbody tr th:only-of-type {\n",
              "        vertical-align: middle;\n",
              "    }\n",
              "\n",
              "    .dataframe tbody tr th {\n",
              "        vertical-align: top;\n",
              "    }\n",
              "\n",
              "    .dataframe thead th {\n",
              "        text-align: right;\n",
              "    }\n",
              "</style>\n",
              "<table border=\"1\" class=\"dataframe\">\n",
              "  <thead>\n",
              "    <tr style=\"text-align: right;\">\n",
              "      <th></th>\n",
              "      <th>actual</th>\n",
              "      <th>predict_DTC</th>\n",
              "      <th>predict_KNN</th>\n",
              "    </tr>\n",
              "  </thead>\n",
              "  <tbody>\n",
              "    <tr>\n",
              "      <th>0</th>\n",
              "      <td>priority</td>\n",
              "      <td>priority</td>\n",
              "      <td>priority</td>\n",
              "    </tr>\n",
              "    <tr>\n",
              "      <th>1</th>\n",
              "      <td>not_recom</td>\n",
              "      <td>not_recom</td>\n",
              "      <td>not_recom</td>\n",
              "    </tr>\n",
              "    <tr>\n",
              "      <th>2</th>\n",
              "      <td>priority</td>\n",
              "      <td>priority</td>\n",
              "      <td>priority</td>\n",
              "    </tr>\n",
              "    <tr>\n",
              "      <th>3</th>\n",
              "      <td>priority</td>\n",
              "      <td>priority</td>\n",
              "      <td>priority</td>\n",
              "    </tr>\n",
              "    <tr>\n",
              "      <th>4</th>\n",
              "      <td>not_recom</td>\n",
              "      <td>not_recom</td>\n",
              "      <td>priority</td>\n",
              "    </tr>\n",
              "    <tr>\n",
              "      <th>5</th>\n",
              "      <td>priority</td>\n",
              "      <td>priority</td>\n",
              "      <td>priority</td>\n",
              "    </tr>\n",
              "    <tr>\n",
              "      <th>6</th>\n",
              "      <td>priority</td>\n",
              "      <td>priority</td>\n",
              "      <td>priority</td>\n",
              "    </tr>\n",
              "    <tr>\n",
              "      <th>7</th>\n",
              "      <td>not_recom</td>\n",
              "      <td>not_recom</td>\n",
              "      <td>not_recom</td>\n",
              "    </tr>\n",
              "    <tr>\n",
              "      <th>8</th>\n",
              "      <td>priority</td>\n",
              "      <td>priority</td>\n",
              "      <td>priority</td>\n",
              "    </tr>\n",
              "    <tr>\n",
              "      <th>9</th>\n",
              "      <td>priority</td>\n",
              "      <td>priority</td>\n",
              "      <td>priority</td>\n",
              "    </tr>\n",
              "    <tr>\n",
              "      <th>10</th>\n",
              "      <td>not_recom</td>\n",
              "      <td>not_recom</td>\n",
              "      <td>not_recom</td>\n",
              "    </tr>\n",
              "    <tr>\n",
              "      <th>11</th>\n",
              "      <td>priority</td>\n",
              "      <td>priority</td>\n",
              "      <td>priority</td>\n",
              "    </tr>\n",
              "    <tr>\n",
              "      <th>12</th>\n",
              "      <td>priority</td>\n",
              "      <td>priority</td>\n",
              "      <td>priority</td>\n",
              "    </tr>\n",
              "    <tr>\n",
              "      <th>13</th>\n",
              "      <td>not_recom</td>\n",
              "      <td>not_recom</td>\n",
              "      <td>not_recom</td>\n",
              "    </tr>\n",
              "    <tr>\n",
              "      <th>14</th>\n",
              "      <td>priority</td>\n",
              "      <td>priority</td>\n",
              "      <td>priority</td>\n",
              "    </tr>\n",
              "    <tr>\n",
              "      <th>15</th>\n",
              "      <td>priority</td>\n",
              "      <td>priority</td>\n",
              "      <td>priority</td>\n",
              "    </tr>\n",
              "    <tr>\n",
              "      <th>16</th>\n",
              "      <td>not_recom</td>\n",
              "      <td>not_recom</td>\n",
              "      <td>not_recom</td>\n",
              "    </tr>\n",
              "    <tr>\n",
              "      <th>17</th>\n",
              "      <td>priority</td>\n",
              "      <td>priority</td>\n",
              "      <td>priority</td>\n",
              "    </tr>\n",
              "    <tr>\n",
              "      <th>18</th>\n",
              "      <td>priority</td>\n",
              "      <td>priority</td>\n",
              "      <td>priority</td>\n",
              "    </tr>\n",
              "    <tr>\n",
              "      <th>19</th>\n",
              "      <td>not_recom</td>\n",
              "      <td>not_recom</td>\n",
              "      <td>not_recom</td>\n",
              "    </tr>\n",
              "    <tr>\n",
              "      <th>20</th>\n",
              "      <td>priority</td>\n",
              "      <td>priority</td>\n",
              "      <td>priority</td>\n",
              "    </tr>\n",
              "    <tr>\n",
              "      <th>21</th>\n",
              "      <td>priority</td>\n",
              "      <td>priority</td>\n",
              "      <td>priority</td>\n",
              "    </tr>\n",
              "    <tr>\n",
              "      <th>22</th>\n",
              "      <td>not_recom</td>\n",
              "      <td>not_recom</td>\n",
              "      <td>not_recom</td>\n",
              "    </tr>\n",
              "    <tr>\n",
              "      <th>23</th>\n",
              "      <td>priority</td>\n",
              "      <td>priority</td>\n",
              "      <td>priority</td>\n",
              "    </tr>\n",
              "    <tr>\n",
              "      <th>24</th>\n",
              "      <td>priority</td>\n",
              "      <td>priority</td>\n",
              "      <td>priority</td>\n",
              "    </tr>\n",
              "    <tr>\n",
              "      <th>25</th>\n",
              "      <td>not_recom</td>\n",
              "      <td>not_recom</td>\n",
              "      <td>not_recom</td>\n",
              "    </tr>\n",
              "    <tr>\n",
              "      <th>26</th>\n",
              "      <td>priority</td>\n",
              "      <td>priority</td>\n",
              "      <td>priority</td>\n",
              "    </tr>\n",
              "    <tr>\n",
              "      <th>27</th>\n",
              "      <td>priority</td>\n",
              "      <td>priority</td>\n",
              "      <td>priority</td>\n",
              "    </tr>\n",
              "    <tr>\n",
              "      <th>28</th>\n",
              "      <td>not_recom</td>\n",
              "      <td>not_recom</td>\n",
              "      <td>not_recom</td>\n",
              "    </tr>\n",
              "    <tr>\n",
              "      <th>29</th>\n",
              "      <td>priority</td>\n",
              "      <td>priority</td>\n",
              "      <td>priority</td>\n",
              "    </tr>\n",
              "    <tr>\n",
              "      <th>30</th>\n",
              "      <td>priority</td>\n",
              "      <td>priority</td>\n",
              "      <td>priority</td>\n",
              "    </tr>\n",
              "    <tr>\n",
              "      <th>31</th>\n",
              "      <td>not_recom</td>\n",
              "      <td>not_recom</td>\n",
              "      <td>not_recom</td>\n",
              "    </tr>\n",
              "    <tr>\n",
              "      <th>32</th>\n",
              "      <td>priority</td>\n",
              "      <td>priority</td>\n",
              "      <td>priority</td>\n",
              "    </tr>\n",
              "    <tr>\n",
              "      <th>33</th>\n",
              "      <td>spec_prior</td>\n",
              "      <td>priority</td>\n",
              "      <td>priority</td>\n",
              "    </tr>\n",
              "    <tr>\n",
              "      <th>34</th>\n",
              "      <td>not_recom</td>\n",
              "      <td>not_recom</td>\n",
              "      <td>not_recom</td>\n",
              "    </tr>\n",
              "    <tr>\n",
              "      <th>35</th>\n",
              "      <td>priority</td>\n",
              "      <td>priority</td>\n",
              "      <td>priority</td>\n",
              "    </tr>\n",
              "    <tr>\n",
              "      <th>36</th>\n",
              "      <td>spec_prior</td>\n",
              "      <td>priority</td>\n",
              "      <td>priority</td>\n",
              "    </tr>\n",
              "    <tr>\n",
              "      <th>37</th>\n",
              "      <td>not_recom</td>\n",
              "      <td>not_recom</td>\n",
              "      <td>not_recom</td>\n",
              "    </tr>\n",
              "    <tr>\n",
              "      <th>38</th>\n",
              "      <td>spec_prior</td>\n",
              "      <td>priority</td>\n",
              "      <td>priority</td>\n",
              "    </tr>\n",
              "    <tr>\n",
              "      <th>39</th>\n",
              "      <td>spec_prior</td>\n",
              "      <td>priority</td>\n",
              "      <td>priority</td>\n",
              "    </tr>\n",
              "    <tr>\n",
              "      <th>40</th>\n",
              "      <td>not_recom</td>\n",
              "      <td>not_recom</td>\n",
              "      <td>not_recom</td>\n",
              "    </tr>\n",
              "    <tr>\n",
              "      <th>41</th>\n",
              "      <td>priority</td>\n",
              "      <td>priority</td>\n",
              "      <td>priority</td>\n",
              "    </tr>\n",
              "    <tr>\n",
              "      <th>42</th>\n",
              "      <td>spec_prior</td>\n",
              "      <td>priority</td>\n",
              "      <td>priority</td>\n",
              "    </tr>\n",
              "    <tr>\n",
              "      <th>43</th>\n",
              "      <td>not_recom</td>\n",
              "      <td>not_recom</td>\n",
              "      <td>not_recom</td>\n",
              "    </tr>\n",
              "    <tr>\n",
              "      <th>44</th>\n",
              "      <td>priority</td>\n",
              "      <td>priority</td>\n",
              "      <td>priority</td>\n",
              "    </tr>\n",
              "    <tr>\n",
              "      <th>45</th>\n",
              "      <td>spec_prior</td>\n",
              "      <td>priority</td>\n",
              "      <td>priority</td>\n",
              "    </tr>\n",
              "    <tr>\n",
              "      <th>46</th>\n",
              "      <td>not_recom</td>\n",
              "      <td>not_recom</td>\n",
              "      <td>not_recom</td>\n",
              "    </tr>\n",
              "    <tr>\n",
              "      <th>47</th>\n",
              "      <td>spec_prior</td>\n",
              "      <td>priority</td>\n",
              "      <td>priority</td>\n",
              "    </tr>\n",
              "    <tr>\n",
              "      <th>48</th>\n",
              "      <td>spec_prior</td>\n",
              "      <td>priority</td>\n",
              "      <td>priority</td>\n",
              "    </tr>\n",
              "    <tr>\n",
              "      <th>49</th>\n",
              "      <td>not_recom</td>\n",
              "      <td>not_recom</td>\n",
              "      <td>not_recom</td>\n",
              "    </tr>\n",
              "  </tbody>\n",
              "</table>\n",
              "</div>\n",
              "      <button class=\"colab-df-convert\" onclick=\"convertToInteractive('df-96a91e4a-89b0-4258-b6fd-1b0a989257ee')\"\n",
              "              title=\"Convert this dataframe to an interactive table.\"\n",
              "              style=\"display:none;\">\n",
              "        \n",
              "  <svg xmlns=\"http://www.w3.org/2000/svg\" height=\"24px\"viewBox=\"0 0 24 24\"\n",
              "       width=\"24px\">\n",
              "    <path d=\"M0 0h24v24H0V0z\" fill=\"none\"/>\n",
              "    <path d=\"M18.56 5.44l.94 2.06.94-2.06 2.06-.94-2.06-.94-.94-2.06-.94 2.06-2.06.94zm-11 1L8.5 8.5l.94-2.06 2.06-.94-2.06-.94L8.5 2.5l-.94 2.06-2.06.94zm10 10l.94 2.06.94-2.06 2.06-.94-2.06-.94-.94-2.06-.94 2.06-2.06.94z\"/><path d=\"M17.41 7.96l-1.37-1.37c-.4-.4-.92-.59-1.43-.59-.52 0-1.04.2-1.43.59L10.3 9.45l-7.72 7.72c-.78.78-.78 2.05 0 2.83L4 21.41c.39.39.9.59 1.41.59.51 0 1.02-.2 1.41-.59l7.78-7.78 2.81-2.81c.8-.78.8-2.07 0-2.86zM5.41 20L4 18.59l7.72-7.72 1.47 1.35L5.41 20z\"/>\n",
              "  </svg>\n",
              "      </button>\n",
              "      \n",
              "  <style>\n",
              "    .colab-df-container {\n",
              "      display:flex;\n",
              "      flex-wrap:wrap;\n",
              "      gap: 12px;\n",
              "    }\n",
              "\n",
              "    .colab-df-convert {\n",
              "      background-color: #E8F0FE;\n",
              "      border: none;\n",
              "      border-radius: 50%;\n",
              "      cursor: pointer;\n",
              "      display: none;\n",
              "      fill: #1967D2;\n",
              "      height: 32px;\n",
              "      padding: 0 0 0 0;\n",
              "      width: 32px;\n",
              "    }\n",
              "\n",
              "    .colab-df-convert:hover {\n",
              "      background-color: #E2EBFA;\n",
              "      box-shadow: 0px 1px 2px rgba(60, 64, 67, 0.3), 0px 1px 3px 1px rgba(60, 64, 67, 0.15);\n",
              "      fill: #174EA6;\n",
              "    }\n",
              "\n",
              "    [theme=dark] .colab-df-convert {\n",
              "      background-color: #3B4455;\n",
              "      fill: #D2E3FC;\n",
              "    }\n",
              "\n",
              "    [theme=dark] .colab-df-convert:hover {\n",
              "      background-color: #434B5C;\n",
              "      box-shadow: 0px 1px 3px 1px rgba(0, 0, 0, 0.15);\n",
              "      filter: drop-shadow(0px 1px 2px rgba(0, 0, 0, 0.3));\n",
              "      fill: #FFFFFF;\n",
              "    }\n",
              "  </style>\n",
              "\n",
              "      <script>\n",
              "        const buttonEl =\n",
              "          document.querySelector('#df-96a91e4a-89b0-4258-b6fd-1b0a989257ee button.colab-df-convert');\n",
              "        buttonEl.style.display =\n",
              "          google.colab.kernel.accessAllowed ? 'block' : 'none';\n",
              "\n",
              "        async function convertToInteractive(key) {\n",
              "          const element = document.querySelector('#df-96a91e4a-89b0-4258-b6fd-1b0a989257ee');\n",
              "          const dataTable =\n",
              "            await google.colab.kernel.invokeFunction('convertToInteractive',\n",
              "                                                     [key], {});\n",
              "          if (!dataTable) return;\n",
              "\n",
              "          const docLinkHtml = 'Like what you see? Visit the ' +\n",
              "            '<a target=\"_blank\" href=https://colab.research.google.com/notebooks/data_table.ipynb>data table notebook</a>'\n",
              "            + ' to learn more about interactive tables.';\n",
              "          element.innerHTML = '';\n",
              "          dataTable['output_type'] = 'display_data';\n",
              "          await google.colab.output.renderOutput(dataTable, element);\n",
              "          const docLink = document.createElement('div');\n",
              "          docLink.innerHTML = docLinkHtml;\n",
              "          element.appendChild(docLink);\n",
              "        }\n",
              "      </script>\n",
              "    </div>\n",
              "  </div>\n",
              "  "
            ],
            "text/plain": [
              "        actual predict_DTC predict_KNN\n",
              "0     priority    priority    priority\n",
              "1    not_recom   not_recom   not_recom\n",
              "2     priority    priority    priority\n",
              "3     priority    priority    priority\n",
              "4    not_recom   not_recom    priority\n",
              "5     priority    priority    priority\n",
              "6     priority    priority    priority\n",
              "7    not_recom   not_recom   not_recom\n",
              "8     priority    priority    priority\n",
              "9     priority    priority    priority\n",
              "10   not_recom   not_recom   not_recom\n",
              "11    priority    priority    priority\n",
              "12    priority    priority    priority\n",
              "13   not_recom   not_recom   not_recom\n",
              "14    priority    priority    priority\n",
              "15    priority    priority    priority\n",
              "16   not_recom   not_recom   not_recom\n",
              "17    priority    priority    priority\n",
              "18    priority    priority    priority\n",
              "19   not_recom   not_recom   not_recom\n",
              "20    priority    priority    priority\n",
              "21    priority    priority    priority\n",
              "22   not_recom   not_recom   not_recom\n",
              "23    priority    priority    priority\n",
              "24    priority    priority    priority\n",
              "25   not_recom   not_recom   not_recom\n",
              "26    priority    priority    priority\n",
              "27    priority    priority    priority\n",
              "28   not_recom   not_recom   not_recom\n",
              "29    priority    priority    priority\n",
              "30    priority    priority    priority\n",
              "31   not_recom   not_recom   not_recom\n",
              "32    priority    priority    priority\n",
              "33  spec_prior    priority    priority\n",
              "34   not_recom   not_recom   not_recom\n",
              "35    priority    priority    priority\n",
              "36  spec_prior    priority    priority\n",
              "37   not_recom   not_recom   not_recom\n",
              "38  spec_prior    priority    priority\n",
              "39  spec_prior    priority    priority\n",
              "40   not_recom   not_recom   not_recom\n",
              "41    priority    priority    priority\n",
              "42  spec_prior    priority    priority\n",
              "43   not_recom   not_recom   not_recom\n",
              "44    priority    priority    priority\n",
              "45  spec_prior    priority    priority\n",
              "46   not_recom   not_recom   not_recom\n",
              "47  spec_prior    priority    priority\n",
              "48  spec_prior    priority    priority\n",
              "49   not_recom   not_recom   not_recom"
            ]
          },
          "metadata": {},
          "execution_count": 30
        }
      ]
    },
    {
      "cell_type": "code",
      "metadata": {
        "id": "w78fGmCVo_Il",
        "colab": {
          "base_uri": "https://localhost:8080/"
        },
        "outputId": "0d52929d-8e4c-49b9-a01e-2869db06c5a2"
      },
      "source": [
        "deferred_sampling = (df[\"actual\"] == df[\"predict_KNN\"])\n",
        "np.count_nonzero(deferred_sampling == True)/len(df[\"predict_KNN\"])"
      ],
      "execution_count": null,
      "outputs": [
        {
          "output_type": "execute_result",
          "data": {
            "text/plain": [
              "0.82"
            ]
          },
          "metadata": {},
          "execution_count": 31
        }
      ]
    },
    {
      "cell_type": "code",
      "metadata": {
        "id": "DDhzYHiAoz3F",
        "colab": {
          "base_uri": "https://localhost:8080/"
        },
        "outputId": "656b7f49-04b2-4b80-a421-f313855e5ef1"
      },
      "source": [
        "skplt.metrics.plot_confusion_matrix(df[\"actual\"], df[\"predict_KNN\"], figsize=(6,6))"
      ],
      "execution_count": null,
      "outputs": [
        {
          "output_type": "execute_result",
          "data": {
            "text/plain": [
              "<matplotlib.axes._subplots.AxesSubplot at 0x7fdb8573ba90>"
            ]
          },
          "metadata": {},
          "execution_count": 32
        },
        {
          "output_type": "display_data",
          "data": {
            "image/png": "[encoded data removed]",
            "text/plain": [
              "<Figure size 432x432 with 2 Axes>"
            ]
          },
          "metadata": {
            "needs_background": "light"
          }
        }
      ]
    },
    {
      "cell_type": "markdown",
      "metadata": {
        "id": "CD1Cz9u_VRsu"
      },
      "source": [
        "###**Частина 2. Метод k найближчих сусідів**\n",
        "\n",
        "1. Обрати відповідний файл з даними.\n",
        "2. Використайте для класифікації перші 100 записів у файлі з даними і прокласифікуйте останні 25 записів, використовуючи метод k найближчих сусідів, використовуючи 3 різні значення k і Евклідову метрику для визначення відстані.\n",
        "3. Для зробленої класифікації:\n",
        "\n",
        "1) Обчислити метрики accuracy, точності (precision), повноти (recall), $F_1$, MCC (Коефіцієнт кореляції Метьюса), Каппа Коена.\n",
        "\n",
        "2) Обчислити матрицю помилок (confusion matrix).\n",
        "\n",
        "3) Візуалізувати результати класифікації, вивівши результати класифікації як точки в системі координат (x1, x2). В якості пар змінних x1, x2 використати будь-які три пари стовпчиків. Зафарбувати точки у відповідності до їх значень у останньому стовпчику.\n",
        "\n",
        "4. Провести таку саму класифікацію, використовуючи будь-які дві інші метрики відстані. Проаналізувати результати двох окремих класифікацій за п.3.\n",
        "\n",
        "5. Виконати пункти 2-4, використовуючи перші 200 записів з файлу для навчання моделей і 50 останніх записів з файлу для тестування.\n",
        "\n",
        "6. Виконати пункти 2-4, використавши алгоритм k-кратної крос валідації (K-Fold cross validation) до наданого датасету.\n",
        "\n",
        "7. Проаналізуйте отримані результати."
      ]
    },
    {
      "cell_type": "code",
      "metadata": {
        "id": "jtwKP7sJpp3C"
      },
      "source": [
        "import pandas as pd\n",
        "import numpy as np\n",
        "import seaborn as sns\n",
        "from matplotlib import pyplot as plt\n",
        "import plotly.graph_objects as go\n",
        "from plotly.subplots import make_subplots"
      ],
      "execution_count": null,
      "outputs": []
    },
    {
      "cell_type": "code",
      "metadata": {
        "id": "3ifFiEp3aLSP"
      },
      "source": [
        "from sklearn.metrics import accuracy_score\n",
        "from sklearn.metrics import precision_score\n",
        "from sklearn.metrics import recall_score\n",
        "from sklearn.metrics import f1_score\n",
        "from sklearn.metrics import matthews_corrcoef\n",
        "from sklearn.metrics import cohen_kappa_score\n",
        "from sklearn.metrics import confusion_matrix\n",
        "import scikitplot as skplt"
      ],
      "execution_count": null,
      "outputs": []
    },
    {
      "cell_type": "code",
      "metadata": {
        "id": "aSNh_qb9OFki",
        "colab": {
          "base_uri": "https://localhost:8080/"
        },
        "outputId": "b9e9d593-b3b2-42c9-e68c-8c79ce95b72e"
      },
      "source": [
        "file_url2 = \"https://raw.githubusercontent.com/Alexandra-Kovalenko1/data/main/MN09-Kovalenko_lab2.csv\"\n",
        "df2 = pd.read_csv(file_url2, sep=';', decimal=',')\n",
        "df2=df2.set_axis([0, 1, 2, 3, 4, 5, 6, 7] , axis=1)\n",
        "df2"
      ],
      "execution_count": null,
      "outputs": [
        {
          "output_type": "execute_result",
          "data": {
            "text/html": [
              "\n",
              "  <div id=\"df-717f7d61-5102-4ce9-a3d0-f93b9bab260d\">\n",
              "    <div class=\"colab-df-container\">\n",
              "      <div>\n",
              "<style scoped>\n",
              "    .dataframe tbody tr th:only-of-type {\n",
              "        vertical-align: middle;\n",
              "    }\n",
              "\n",
              "    .dataframe tbody tr th {\n",
              "        vertical-align: top;\n",
              "    }\n",
              "\n",
              "    .dataframe thead th {\n",
              "        text-align: right;\n",
              "    }\n",
              "</style>\n",
              "<table border=\"1\" class=\"dataframe\">\n",
              "  <thead>\n",
              "    <tr style=\"text-align: right;\">\n",
              "      <th></th>\n",
              "      <th>0</th>\n",
              "      <th>1</th>\n",
              "      <th>2</th>\n",
              "      <th>3</th>\n",
              "      <th>4</th>\n",
              "      <th>5</th>\n",
              "      <th>6</th>\n",
              "      <th>7</th>\n",
              "    </tr>\n",
              "  </thead>\n",
              "  <tbody>\n",
              "    <tr>\n",
              "      <th>0</th>\n",
              "      <td>0.395</td>\n",
              "      <td>0.270</td>\n",
              "      <td>0.100</td>\n",
              "      <td>0.2985</td>\n",
              "      <td>0.1445</td>\n",
              "      <td>0.0610</td>\n",
              "      <td>0.0820</td>\n",
              "      <td>5</td>\n",
              "    </tr>\n",
              "    <tr>\n",
              "      <th>1</th>\n",
              "      <td>0.400</td>\n",
              "      <td>0.290</td>\n",
              "      <td>0.100</td>\n",
              "      <td>0.2675</td>\n",
              "      <td>0.1205</td>\n",
              "      <td>0.0605</td>\n",
              "      <td>0.0765</td>\n",
              "      <td>5</td>\n",
              "    </tr>\n",
              "    <tr>\n",
              "      <th>2</th>\n",
              "      <td>0.405</td>\n",
              "      <td>0.285</td>\n",
              "      <td>0.090</td>\n",
              "      <td>0.2645</td>\n",
              "      <td>0.1265</td>\n",
              "      <td>0.0505</td>\n",
              "      <td>0.0750</td>\n",
              "      <td>6</td>\n",
              "    </tr>\n",
              "    <tr>\n",
              "      <th>3</th>\n",
              "      <td>0.410</td>\n",
              "      <td>0.335</td>\n",
              "      <td>0.110</td>\n",
              "      <td>0.3300</td>\n",
              "      <td>0.1570</td>\n",
              "      <td>0.0705</td>\n",
              "      <td>0.1700</td>\n",
              "      <td>7</td>\n",
              "    </tr>\n",
              "    <tr>\n",
              "      <th>4</th>\n",
              "      <td>0.420</td>\n",
              "      <td>0.305</td>\n",
              "      <td>0.090</td>\n",
              "      <td>0.3280</td>\n",
              "      <td>0.1680</td>\n",
              "      <td>0.0615</td>\n",
              "      <td>0.0820</td>\n",
              "      <td>6</td>\n",
              "    </tr>\n",
              "    <tr>\n",
              "      <th>...</th>\n",
              "      <td>...</td>\n",
              "      <td>...</td>\n",
              "      <td>...</td>\n",
              "      <td>...</td>\n",
              "      <td>...</td>\n",
              "      <td>...</td>\n",
              "      <td>...</td>\n",
              "      <td>...</td>\n",
              "    </tr>\n",
              "    <tr>\n",
              "      <th>294</th>\n",
              "      <td>0.365</td>\n",
              "      <td>0.270</td>\n",
              "      <td>0.085</td>\n",
              "      <td>0.2225</td>\n",
              "      <td>0.0935</td>\n",
              "      <td>0.0525</td>\n",
              "      <td>0.0660</td>\n",
              "      <td>7</td>\n",
              "    </tr>\n",
              "    <tr>\n",
              "      <th>295</th>\n",
              "      <td>0.370</td>\n",
              "      <td>0.270</td>\n",
              "      <td>0.095</td>\n",
              "      <td>0.2175</td>\n",
              "      <td>0.0970</td>\n",
              "      <td>0.0460</td>\n",
              "      <td>0.0650</td>\n",
              "      <td>6</td>\n",
              "    </tr>\n",
              "    <tr>\n",
              "      <th>296</th>\n",
              "      <td>0.375</td>\n",
              "      <td>0.280</td>\n",
              "      <td>0.080</td>\n",
              "      <td>0.2165</td>\n",
              "      <td>0.0935</td>\n",
              "      <td>0.0925</td>\n",
              "      <td>0.0700</td>\n",
              "      <td>7</td>\n",
              "    </tr>\n",
              "    <tr>\n",
              "      <th>297</th>\n",
              "      <td>0.380</td>\n",
              "      <td>0.285</td>\n",
              "      <td>0.095</td>\n",
              "      <td>0.2430</td>\n",
              "      <td>0.0895</td>\n",
              "      <td>0.0665</td>\n",
              "      <td>0.0750</td>\n",
              "      <td>7</td>\n",
              "    </tr>\n",
              "    <tr>\n",
              "      <th>298</th>\n",
              "      <td>0.380</td>\n",
              "      <td>0.290</td>\n",
              "      <td>0.100</td>\n",
              "      <td>0.2370</td>\n",
              "      <td>0.1080</td>\n",
              "      <td>0.0395</td>\n",
              "      <td>0.0820</td>\n",
              "      <td>6</td>\n",
              "    </tr>\n",
              "  </tbody>\n",
              "</table>\n",
              "<p>299 rows × 8 columns</p>\n",
              "</div>\n",
              "      <button class=\"colab-df-convert\" onclick=\"convertToInteractive('df-717f7d61-5102-4ce9-a3d0-f93b9bab260d')\"\n",
              "              title=\"Convert this dataframe to an interactive table.\"\n",
              "              style=\"display:none;\">\n",
              "        \n",
              "  <svg xmlns=\"http://www.w3.org/2000/svg\" height=\"24px\"viewBox=\"0 0 24 24\"\n",
              "       width=\"24px\">\n",
              "    <path d=\"M0 0h24v24H0V0z\" fill=\"none\"/>\n",
              "    <path d=\"M18.56 5.44l.94 2.06.94-2.06 2.06-.94-2.06-.94-.94-2.06-.94 2.06-2.06.94zm-11 1L8.5 8.5l.94-2.06 2.06-.94-2.06-.94L8.5 2.5l-.94 2.06-2.06.94zm10 10l.94 2.06.94-2.06 2.06-.94-2.06-.94-.94-2.06-.94 2.06-2.06.94z\"/><path d=\"M17.41 7.96l-1.37-1.37c-.4-.4-.92-.59-1.43-.59-.52 0-1.04.2-1.43.59L10.3 9.45l-7.72 7.72c-.78.78-.78 2.05 0 2.83L4 21.41c.39.39.9.59 1.41.59.51 0 1.02-.2 1.41-.59l7.78-7.78 2.81-2.81c.8-.78.8-2.07 0-2.86zM5.41 20L4 18.59l7.72-7.72 1.47 1.35L5.41 20z\"/>\n",
              "  </svg>\n",
              "      </button>\n",
              "      \n",
              "  <style>\n",
              "    .colab-df-container {\n",
              "      display:flex;\n",
              "      flex-wrap:wrap;\n",
              "      gap: 12px;\n",
              "    }\n",
              "\n",
              "    .colab-df-convert {\n",
              "      background-color: #E8F0FE;\n",
              "      border: none;\n",
              "      border-radius: 50%;\n",
              "      cursor: pointer;\n",
              "      display: none;\n",
              "      fill: #1967D2;\n",
              "      height: 32px;\n",
              "      padding: 0 0 0 0;\n",
              "      width: 32px;\n",
              "    }\n",
              "\n",
              "    .colab-df-convert:hover {\n",
              "      background-color: #E2EBFA;\n",
              "      box-shadow: 0px 1px 2px rgba(60, 64, 67, 0.3), 0px 1px 3px 1px rgba(60, 64, 67, 0.15);\n",
              "      fill: #174EA6;\n",
              "    }\n",
              "\n",
              "    [theme=dark] .colab-df-convert {\n",
              "      background-color: #3B4455;\n",
              "      fill: #D2E3FC;\n",
              "    }\n",
              "\n",
              "    [theme=dark] .colab-df-convert:hover {\n",
              "      background-color: #434B5C;\n",
              "      box-shadow: 0px 1px 3px 1px rgba(0, 0, 0, 0.15);\n",
              "      filter: drop-shadow(0px 1px 2px rgba(0, 0, 0, 0.3));\n",
              "      fill: #FFFFFF;\n",
              "    }\n",
              "  </style>\n",
              "\n",
              "      <script>\n",
              "        const buttonEl =\n",
              "          document.querySelector('#df-717f7d61-5102-4ce9-a3d0-f93b9bab260d button.colab-df-convert');\n",
              "        buttonEl.style.display =\n",
              "          google.colab.kernel.accessAllowed ? 'block' : 'none';\n",
              "\n",
              "        async function convertToInteractive(key) {\n",
              "          const element = document.querySelector('#df-717f7d61-5102-4ce9-a3d0-f93b9bab260d');\n",
              "          const dataTable =\n",
              "            await google.colab.kernel.invokeFunction('convertToInteractive',\n",
              "                                                     [key], {});\n",
              "          if (!dataTable) return;\n",
              "\n",
              "          const docLinkHtml = 'Like what you see? Visit the ' +\n",
              "            '<a target=\"_blank\" href=https://colab.research.google.com/notebooks/data_table.ipynb>data table notebook</a>'\n",
              "            + ' to learn more about interactive tables.';\n",
              "          element.innerHTML = '';\n",
              "          dataTable['output_type'] = 'display_data';\n",
              "          await google.colab.output.renderOutput(dataTable, element);\n",
              "          const docLink = document.createElement('div');\n",
              "          docLink.innerHTML = docLinkHtml;\n",
              "          element.appendChild(docLink);\n",
              "        }\n",
              "      </script>\n",
              "    </div>\n",
              "  </div>\n",
              "  "
            ],
            "text/plain": [
              "         0      1      2       3       4       5       6  7\n",
              "0    0.395  0.270  0.100  0.2985  0.1445  0.0610  0.0820  5\n",
              "1    0.400  0.290  0.100  0.2675  0.1205  0.0605  0.0765  5\n",
              "2    0.405  0.285  0.090  0.2645  0.1265  0.0505  0.0750  6\n",
              "3    0.410  0.335  0.110  0.3300  0.1570  0.0705  0.1700  7\n",
              "4    0.420  0.305  0.090  0.3280  0.1680  0.0615  0.0820  6\n",
              "..     ...    ...    ...     ...     ...     ...     ... ..\n",
              "294  0.365  0.270  0.085  0.2225  0.0935  0.0525  0.0660  7\n",
              "295  0.370  0.270  0.095  0.2175  0.0970  0.0460  0.0650  6\n",
              "296  0.375  0.280  0.080  0.2165  0.0935  0.0925  0.0700  7\n",
              "297  0.380  0.285  0.095  0.2430  0.0895  0.0665  0.0750  7\n",
              "298  0.380  0.290  0.100  0.2370  0.1080  0.0395  0.0820  6\n",
              "\n",
              "[299 rows x 8 columns]"
            ]
          },
          "metadata": {},
          "execution_count": 35
        }
      ]
    },
    {
      "cell_type": "code",
      "metadata": {
        "id": "vPi1yZWjIQUF",
        "colab": {
          "base_uri": "https://localhost:8080/"
        },
        "outputId": "c5c0e7c9-3464-4cd0-e7a4-ef429be48bcc"
      },
      "source": [
        "df2[7].unique()"
      ],
      "execution_count": null,
      "outputs": [
        {
          "output_type": "execute_result",
          "data": {
            "text/plain": [
              "array([ 5,  6,  7,  8,  9, 11, 13, 10, 12, 15, 14,  3,  4])"
            ]
          },
          "metadata": {},
          "execution_count": 36
        }
      ]
    },
    {
      "cell_type": "code",
      "metadata": {
        "id": "HS_rH48sY-Tz"
      },
      "source": [
        "train = df2.iloc[:100]\n",
        "test = df2.iloc[-25:]\n",
        "\n",
        "x_train = train.iloc[:,:-1].reset_index(drop=True).to_numpy()\n",
        "x_test = test.iloc[:,:-1].reset_index(drop=True).to_numpy()\n",
        "\n",
        "y_train = train.iloc[:,-1:].reset_index(drop=True).to_numpy()\n",
        "y_test = test.iloc[:,-1:].reset_index(drop=True).to_numpy()"
      ],
      "execution_count": null,
      "outputs": []
    },
    {
      "cell_type": "code",
      "metadata": {
        "id": "zAg5jNbFXB1l"
      },
      "source": [
        "TRAIN = df2.iloc[:200]\n",
        "TEST = df2.iloc[-50:]\n",
        "\n",
        "X_train = TRAIN.iloc[:,:-1].reset_index(drop=True).to_numpy()\n",
        "X_test = TEST.iloc[:,:-1].reset_index(drop=True).to_numpy()\n",
        "\n",
        "Y_train = TRAIN.iloc[:,-1:].reset_index(drop=True).to_numpy()\n",
        "Y_test = TEST.iloc[:,-1:].reset_index(drop=True).to_numpy()"
      ],
      "execution_count": null,
      "outputs": []
    },
    {
      "cell_type": "markdown",
      "metadata": {
        "id": "T7OLmZBQHlyR"
      },
      "source": [
        "###Евклід 100/25"
      ]
    },
    {
      "cell_type": "code",
      "metadata": {
        "id": "rNRCQY52DrCb"
      },
      "source": [
        "def KNN_eucledian(x_train, y_train , x_test, k):\n",
        "\n",
        "    pred = []\n",
        "    for val in x_test: \n",
        "        score_length = []\n",
        "        for j in range(len(x_train)): \n",
        "            score_length.append(np.sqrt(np.sum(((np.array(x_train[j,:])) - val)**2))) \n",
        "        score_lengtht = np.array(score_length) \n",
        "        pred.append(y_train[np.argsort(score_length)[:k]])\n",
        "        x = []\n",
        "        for i in range(len(Y_test)):\n",
        "          y = pred \n",
        "          x = np.array(y)\n",
        "          predict = []\n",
        "        for i in x:\n",
        "          predict.append(i[0][0])\n",
        "\n",
        "    return predict"
      ],
      "execution_count": null,
      "outputs": []
    },
    {
      "cell_type": "code",
      "metadata": {
        "id": "R1NTxp9h9WwW"
      },
      "source": [
        "predict_eucledian3 = KNN_eucledian(x_train, y_train, x_test, 3)\n",
        "predict_eucledian6 = KNN_eucledian(x_train, y_train, x_test, 6)\n",
        "predict_eucledian9 = KNN_eucledian(x_train, y_train, x_test, 9)"
      ],
      "execution_count": null,
      "outputs": []
    },
    {
      "cell_type": "code",
      "metadata": {
        "id": "fRhl7h2MJXxQ"
      },
      "source": [
        "def metric(Y_test, y_pred):\n",
        "  print('accuracy', accuracy_score(Y_test, y_pred))\n",
        "  print('precision', precision_score( Y_test, y_pred, average = 'macro'))\n",
        "  print('recall', recall_score(Y_test, y_pred, average = 'macro'))\n",
        "  print('F1', f1_score(Y_test, y_pred, average='macro'))\n",
        "  print('MCC', matthews_corrcoef(Y_test, y_pred))\n",
        "  print('Kappa Cohen', cohen_kappa_score(Y_test, y_pred))\n",
        "  print('Confusion Matrix\\n', confusion_matrix(Y_test, y_pred))"
      ],
      "execution_count": null,
      "outputs": []
    },
    {
      "cell_type": "code",
      "metadata": {
        "id": "nSOL37MyadDW",
        "colab": {
          "base_uri": "https://localhost:8080/"
        },
        "outputId": "78c17916-73d9-4725-9f28-4d6fd4947eba"
      },
      "source": [
        "metric(y_test, predict_eucledian3)"
      ],
      "execution_count": null,
      "outputs": [
        {
          "output_type": "stream",
          "name": "stdout",
          "text": [
            "accuracy 0.28\n",
            "precision 0.08806818181818182\n",
            "recall 0.22916666666666669\n",
            "F1 0.12352941176470589\n",
            "MCC 0.1508320133961877\n",
            "Kappa Cohen 0.1329479768786126\n",
            "Confusion Matrix\n",
            " [[0 4 0 0 0 0 0 0]\n",
            " [1 5 0 0 0 0 0 0]\n",
            " [4 2 0 0 0 0 0 0]\n",
            " [1 0 0 0 0 0 0 0]\n",
            " [0 0 0 0 2 0 0 0]\n",
            " [0 0 0 0 3 0 0 0]\n",
            " [0 0 0 0 2 0 0 0]\n",
            " [0 0 0 0 1 0 0 0]]\n"
          ]
        },
        {
          "output_type": "stream",
          "name": "stderr",
          "text": [
            "/usr/local/lib/python3.7/dist-packages/sklearn/metrics/_classification.py:1308: UndefinedMetricWarning:\n",
            "\n",
            "Precision is ill-defined and being set to 0.0 in labels with no predicted samples. Use `zero_division` parameter to control this behavior.\n",
            "\n"
          ]
        }
      ]
    },
    {
      "cell_type": "code",
      "metadata": {
        "id": "YPuovYGLP8jt",
        "colab": {
          "base_uri": "https://localhost:8080/"
        },
        "outputId": "44a2eb14-5b52-4785-96a3-2a56d68d839c"
      },
      "source": [
        "skplt.metrics.plot_confusion_matrix(y_test, predict_eucledian3, figsize=(6,6))"
      ],
      "execution_count": null,
      "outputs": [
        {
          "output_type": "execute_result",
          "data": {
            "text/plain": [
              "<matplotlib.axes._subplots.AxesSubplot at 0x7fdb8573b090>"
            ]
          },
          "metadata": {},
          "execution_count": 43
        },
        {
          "output_type": "display_data",
          "data": {
            "image/png": "[encoded data removed]",
            "text/plain": [
              "<Figure size 432x432 with 2 Axes>"
            ]
          },
          "metadata": {
            "needs_background": "light"
          }
        }
      ]
    },
    {
      "cell_type": "code",
      "metadata": {
        "id": "o3WnkQ9zdGPt",
        "colab": {
          "base_uri": "https://localhost:8080/"
        },
        "outputId": "412a4ba5-46f8-4663-bc0f-480a8fa125e8"
      },
      "source": [
        "metric(y_test, predict_eucledian6)"
      ],
      "execution_count": null,
      "outputs": [
        {
          "output_type": "stream",
          "name": "stdout",
          "text": [
            "accuracy 0.28\n",
            "precision 0.08806818181818182\n",
            "recall 0.22916666666666669\n",
            "F1 0.12352941176470589\n",
            "MCC 0.1508320133961877\n",
            "Kappa Cohen 0.1329479768786126\n",
            "Confusion Matrix\n",
            " [[0 4 0 0 0 0 0 0]\n",
            " [1 5 0 0 0 0 0 0]\n",
            " [4 2 0 0 0 0 0 0]\n",
            " [1 0 0 0 0 0 0 0]\n",
            " [0 0 0 0 2 0 0 0]\n",
            " [0 0 0 0 3 0 0 0]\n",
            " [0 0 0 0 2 0 0 0]\n",
            " [0 0 0 0 1 0 0 0]]\n"
          ]
        },
        {
          "output_type": "stream",
          "name": "stderr",
          "text": [
            "/usr/local/lib/python3.7/dist-packages/sklearn/metrics/_classification.py:1308: UndefinedMetricWarning:\n",
            "\n",
            "Precision is ill-defined and being set to 0.0 in labels with no predicted samples. Use `zero_division` parameter to control this behavior.\n",
            "\n"
          ]
        }
      ]
    },
    {
      "cell_type": "code",
      "metadata": {
        "id": "xtndY_2adHpc",
        "colab": {
          "base_uri": "https://localhost:8080/"
        },
        "outputId": "2209ec30-ffd5-481e-fcf3-d6ecc6b1435f"
      },
      "source": [
        "skplt.metrics.plot_confusion_matrix(y_test, predict_eucledian6, figsize=(6,6))"
      ],
      "execution_count": null,
      "outputs": [
        {
          "output_type": "execute_result",
          "data": {
            "text/plain": [
              "<matplotlib.axes._subplots.AxesSubplot at 0x7fdb85558910>"
            ]
          },
          "metadata": {},
          "execution_count": 45
        },
        {
          "output_type": "display_data",
          "data": {
            "image/png": "[encoded data removed]",
            "text/plain": [
              "<Figure size 432x432 with 2 Axes>"
            ]
          },
          "metadata": {
            "needs_background": "light"
          }
        }
      ]
    },
    {
      "cell_type": "code",
      "metadata": {
        "id": "c7pzSgY8QS71",
        "colab": {
          "base_uri": "https://localhost:8080/"
        },
        "outputId": "489be6db-0a46-404d-83d8-b27433577490"
      },
      "source": [
        "metric(y_test, predict_eucledian9)"
      ],
      "execution_count": null,
      "outputs": [
        {
          "output_type": "stream",
          "name": "stdout",
          "text": [
            "accuracy 0.28\n",
            "precision 0.08806818181818182\n",
            "recall 0.22916666666666669\n",
            "F1 0.12352941176470589\n",
            "MCC 0.1508320133961877\n",
            "Kappa Cohen 0.1329479768786126\n",
            "Confusion Matrix\n",
            " [[0 4 0 0 0 0 0 0]\n",
            " [1 5 0 0 0 0 0 0]\n",
            " [4 2 0 0 0 0 0 0]\n",
            " [1 0 0 0 0 0 0 0]\n",
            " [0 0 0 0 2 0 0 0]\n",
            " [0 0 0 0 3 0 0 0]\n",
            " [0 0 0 0 2 0 0 0]\n",
            " [0 0 0 0 1 0 0 0]]\n"
          ]
        },
        {
          "output_type": "stream",
          "name": "stderr",
          "text": [
            "/usr/local/lib/python3.7/dist-packages/sklearn/metrics/_classification.py:1308: UndefinedMetricWarning:\n",
            "\n",
            "Precision is ill-defined and being set to 0.0 in labels with no predicted samples. Use `zero_division` parameter to control this behavior.\n",
            "\n"
          ]
        }
      ]
    },
    {
      "cell_type": "code",
      "metadata": {
        "id": "LsE8aMZFQbT7",
        "colab": {
          "base_uri": "https://localhost:8080/"
        },
        "outputId": "82f46c0d-808e-4958-b8bd-58f2ed512f38"
      },
      "source": [
        "skplt.metrics.plot_confusion_matrix(y_test, predict_eucledian9, figsize=(6,6))"
      ],
      "execution_count": null,
      "outputs": [
        {
          "output_type": "execute_result",
          "data": {
            "text/plain": [
              "<matplotlib.axes._subplots.AxesSubplot at 0x7fdb85411910>"
            ]
          },
          "metadata": {},
          "execution_count": 47
        },
        {
          "output_type": "display_data",
          "data": {
            "image/png": "[encoded data removed]",
            "text/plain": [
              "<Figure size 432x432 with 2 Axes>"
            ]
          },
          "metadata": {
            "needs_background": "light"
          }
        }
      ]
    },
    {
      "cell_type": "markdown",
      "metadata": {
        "id": "n7Jvll06HpBw"
      },
      "source": [
        "###Чебишева  100/25"
      ]
    },
    {
      "cell_type": "code",
      "metadata": {
        "id": "cpf1KnXfGubi"
      },
      "source": [
        "def KNN_chebushev(x_train, y_train , x_test, k):\n",
        "\n",
        "    pred = []\n",
        "    for val in x_test: \n",
        "        score_length = []\n",
        "        for j in range(len(x_train)): \n",
        "            score_length.append(abs(max((np.array(x_train[j,:])) - val))) \n",
        "        score_lengtht = np.array(score_length) \n",
        "        pred.append(y_train[np.argsort(score_length)[:k]])\n",
        "        x = []\n",
        "        for i in range(len(Y_test)):\n",
        "          y = pred \n",
        "          x = np.array(y)\n",
        "          predict = []\n",
        "        for i in x:\n",
        "          predict.append(i[0][0])\n",
        "\n",
        "    return predict"
      ],
      "execution_count": null,
      "outputs": []
    },
    {
      "cell_type": "code",
      "metadata": {
        "id": "yUGSlCIgHDig"
      },
      "source": [
        "predict_chebushev3 = KNN_chebushev(x_train, y_train, x_test, 3)\n",
        "predict_chebushev6 = KNN_chebushev(x_train, y_train, x_test, 6)\n",
        "predict_chebushev9 = KNN_chebushev(x_train, y_train, x_test, 9)"
      ],
      "execution_count": null,
      "outputs": []
    },
    {
      "cell_type": "code",
      "metadata": {
        "id": "OZGhGSNVb1bV",
        "colab": {
          "base_uri": "https://localhost:8080/"
        },
        "outputId": "1a5893f3-f882-4566-b523-9b77d6d36b4d"
      },
      "source": [
        "metric(y_test, predict_chebushev3)"
      ],
      "execution_count": null,
      "outputs": [
        {
          "output_type": "stream",
          "name": "stdout",
          "text": [
            "accuracy 0.28\n",
            "precision 0.06018518518518518\n",
            "recall 0.16666666666666666\n",
            "F1 0.08838383838383838\n",
            "MCC 0.1528406048613942\n",
            "Kappa Cohen 0.12280701754385981\n",
            "Confusion Matrix\n",
            " [[0 4 0 0 0 0 0 0 0]\n",
            " [0 6 0 0 0 0 0 0 0]\n",
            " [1 5 0 0 0 0 0 0 0]\n",
            " [0 1 0 0 0 0 0 0 0]\n",
            " [0 0 0 0 0 0 0 0 0]\n",
            " [0 0 0 0 1 1 0 0 0]\n",
            " [0 0 0 0 1 2 0 0 0]\n",
            " [0 0 0 0 0 2 0 0 0]\n",
            " [0 0 0 0 0 1 0 0 0]]\n"
          ]
        },
        {
          "output_type": "stream",
          "name": "stderr",
          "text": [
            "/usr/local/lib/python3.7/dist-packages/sklearn/metrics/_classification.py:1308: UndefinedMetricWarning:\n",
            "\n",
            "Precision is ill-defined and being set to 0.0 in labels with no predicted samples. Use `zero_division` parameter to control this behavior.\n",
            "\n",
            "/usr/local/lib/python3.7/dist-packages/sklearn/metrics/_classification.py:1308: UndefinedMetricWarning:\n",
            "\n",
            "Recall is ill-defined and being set to 0.0 in labels with no true samples. Use `zero_division` parameter to control this behavior.\n",
            "\n"
          ]
        }
      ]
    },
    {
      "cell_type": "code",
      "metadata": {
        "id": "_Z9KIzY2Qho0",
        "colab": {
          "base_uri": "https://localhost:8080/"
        },
        "outputId": "7721b272-6c5c-4fdc-ce34-5ead9f8639af"
      },
      "source": [
        "skplt.metrics.plot_confusion_matrix(y_test, predict_chebushev3, figsize=(6,6))"
      ],
      "execution_count": null,
      "outputs": [
        {
          "output_type": "execute_result",
          "data": {
            "text/plain": [
              "<matplotlib.axes._subplots.AxesSubplot at 0x7fdb852c8fd0>"
            ]
          },
          "metadata": {},
          "execution_count": 51
        },
        {
          "output_type": "display_data",
          "data": {
            "image/png": "[encoded data removed]",
            "text/plain": [
              "<Figure size 432x432 with 2 Axes>"
            ]
          },
          "metadata": {
            "needs_background": "light"
          }
        }
      ]
    },
    {
      "cell_type": "code",
      "metadata": {
        "id": "LkyRBaXrd8F9",
        "colab": {
          "base_uri": "https://localhost:8080/"
        },
        "outputId": "430febfe-a616-4333-b07a-3d8676c23db5"
      },
      "source": [
        "metric(y_test, predict_chebushev6)"
      ],
      "execution_count": null,
      "outputs": [
        {
          "output_type": "stream",
          "name": "stdout",
          "text": [
            "accuracy 0.28\n",
            "precision 0.06018518518518518\n",
            "recall 0.16666666666666666\n",
            "F1 0.08838383838383838\n",
            "MCC 0.1528406048613942\n",
            "Kappa Cohen 0.12280701754385981\n",
            "Confusion Matrix\n",
            " [[0 4 0 0 0 0 0 0 0]\n",
            " [0 6 0 0 0 0 0 0 0]\n",
            " [1 5 0 0 0 0 0 0 0]\n",
            " [0 1 0 0 0 0 0 0 0]\n",
            " [0 0 0 0 0 0 0 0 0]\n",
            " [0 0 0 0 1 1 0 0 0]\n",
            " [0 0 0 0 1 2 0 0 0]\n",
            " [0 0 0 0 0 2 0 0 0]\n",
            " [0 0 0 0 0 1 0 0 0]]\n"
          ]
        },
        {
          "output_type": "stream",
          "name": "stderr",
          "text": [
            "/usr/local/lib/python3.7/dist-packages/sklearn/metrics/_classification.py:1308: UndefinedMetricWarning:\n",
            "\n",
            "Precision is ill-defined and being set to 0.0 in labels with no predicted samples. Use `zero_division` parameter to control this behavior.\n",
            "\n",
            "/usr/local/lib/python3.7/dist-packages/sklearn/metrics/_classification.py:1308: UndefinedMetricWarning:\n",
            "\n",
            "Recall is ill-defined and being set to 0.0 in labels with no true samples. Use `zero_division` parameter to control this behavior.\n",
            "\n"
          ]
        }
      ]
    },
    {
      "cell_type": "code",
      "metadata": {
        "id": "FGh4JsXnQsCF",
        "colab": {
          "base_uri": "https://localhost:8080/"
        },
        "outputId": "ba69647e-c336-4cbb-c799-d9818ab39840"
      },
      "source": [
        "skplt.metrics.plot_confusion_matrix(y_test, predict_chebushev6, figsize=(6,6))"
      ],
      "execution_count": null,
      "outputs": [
        {
          "output_type": "execute_result",
          "data": {
            "text/plain": [
              "<matplotlib.axes._subplots.AxesSubplot at 0x7fdb856cc050>"
            ]
          },
          "metadata": {},
          "execution_count": 53
        },
        {
          "output_type": "display_data",
          "data": {
            "image/png": "[encoded data removed]",
            "text/plain": [
              "<Figure size 432x432 with 2 Axes>"
            ]
          },
          "metadata": {
            "needs_background": "light"
          }
        }
      ]
    },
    {
      "cell_type": "code",
      "metadata": {
        "id": "yL2MufdMd8gQ",
        "colab": {
          "base_uri": "https://localhost:8080/"
        },
        "outputId": "c36896db-9b8e-44c6-ec64-cb2bc48d6147"
      },
      "source": [
        "metric(y_test, predict_chebushev9)"
      ],
      "execution_count": null,
      "outputs": [
        {
          "output_type": "stream",
          "name": "stdout",
          "text": [
            "accuracy 0.28\n",
            "precision 0.06018518518518518\n",
            "recall 0.16666666666666666\n",
            "F1 0.08838383838383838\n",
            "MCC 0.1528406048613942\n",
            "Kappa Cohen 0.12280701754385981\n",
            "Confusion Matrix\n",
            " [[0 4 0 0 0 0 0 0 0]\n",
            " [0 6 0 0 0 0 0 0 0]\n",
            " [1 5 0 0 0 0 0 0 0]\n",
            " [0 1 0 0 0 0 0 0 0]\n",
            " [0 0 0 0 0 0 0 0 0]\n",
            " [0 0 0 0 1 1 0 0 0]\n",
            " [0 0 0 0 1 2 0 0 0]\n",
            " [0 0 0 0 0 2 0 0 0]\n",
            " [0 0 0 0 0 1 0 0 0]]\n"
          ]
        },
        {
          "output_type": "stream",
          "name": "stderr",
          "text": [
            "/usr/local/lib/python3.7/dist-packages/sklearn/metrics/_classification.py:1308: UndefinedMetricWarning:\n",
            "\n",
            "Precision is ill-defined and being set to 0.0 in labels with no predicted samples. Use `zero_division` parameter to control this behavior.\n",
            "\n",
            "/usr/local/lib/python3.7/dist-packages/sklearn/metrics/_classification.py:1308: UndefinedMetricWarning:\n",
            "\n",
            "Recall is ill-defined and being set to 0.0 in labels with no true samples. Use `zero_division` parameter to control this behavior.\n",
            "\n"
          ]
        }
      ]
    },
    {
      "cell_type": "code",
      "metadata": {
        "id": "pJ-7-RYHQuoT",
        "colab": {
          "base_uri": "https://localhost:8080/"
        },
        "outputId": "e9f0a847-4500-409c-991f-a667d0fd8a07"
      },
      "source": [
        "skplt.metrics.plot_confusion_matrix(y_test, predict_chebushev9, figsize=(6,6))"
      ],
      "execution_count": null,
      "outputs": [
        {
          "output_type": "execute_result",
          "data": {
            "text/plain": [
              "<matplotlib.axes._subplots.AxesSubplot at 0x7fdb8505efd0>"
            ]
          },
          "metadata": {},
          "execution_count": 55
        },
        {
          "output_type": "display_data",
          "data": {
            "image/png": "[encoded data removed]",
            "text/plain": [
              "<Figure size 432x432 with 2 Axes>"
            ]
          },
          "metadata": {
            "needs_background": "light"
          }
        }
      ]
    },
    {
      "cell_type": "markdown",
      "metadata": {
        "id": "imyhcOOgb20V"
      },
      "source": [
        "###L1  100/25"
      ]
    },
    {
      "cell_type": "code",
      "metadata": {
        "id": "aIc0KEnEHoR-"
      },
      "source": [
        "def KNN_L1(x_train, y_train , x_test, k):\n",
        "\n",
        "    pred = []\n",
        "    for val in x_test: \n",
        "        score_length = []\n",
        "        for j in range(len(x_train)): \n",
        "            score_length.append(abs((np.array(x_train[j,:])) - val)) \n",
        "        score_lengtht = np.array(score_length) \n",
        "        pred.append(y_train[np.argsort(score_length)[:k]])\n",
        "        x = []\n",
        "        for i in range(len(Y_test)):\n",
        "          y = pred \n",
        "          x = np.array(y)\n",
        "          predict = []\n",
        "        for i in x:\n",
        "          predict.append(i[0][0])\n",
        "\n",
        "    return predict"
      ],
      "execution_count": null,
      "outputs": []
    },
    {
      "cell_type": "code",
      "metadata": {
        "id": "oECtyWiWIB9c"
      },
      "source": [
        "predict_L13 = KNN_L1(x_train, y_train, x_test, 3)\n",
        "predict_L16 = KNN_L1(x_train, y_train, x_test, 6)\n",
        "predict_L19 = KNN_L1(x_train, y_train, x_test, 9)"
      ],
      "execution_count": null,
      "outputs": []
    },
    {
      "cell_type": "code",
      "metadata": {
        "id": "hMu_dlgZcAVV",
        "colab": {
          "base_uri": "https://localhost:8080/"
        },
        "outputId": "110c8e9d-0a1b-4e2a-ff9d-cad5989604ca"
      },
      "source": [
        "metric(y_test, predict_L13)"
      ],
      "execution_count": null,
      "outputs": [
        {
          "output_type": "stream",
          "name": "stdout",
          "text": [
            "accuracy 0.24\n",
            "precision 0.06346153846153846\n",
            "recall 0.14583333333333331\n",
            "F1 0.08834586466165414\n",
            "MCC 0.046837508406748045\n",
            "Kappa Cohen 0.04040404040404022\n",
            "Confusion Matrix\n",
            " [[2 0 2 0 0 0 0 0]\n",
            " [2 4 0 0 0 0 0 0]\n",
            " [5 1 0 0 0 0 0 0]\n",
            " [1 0 0 0 0 0 0 0]\n",
            " [0 2 0 0 0 0 0 0]\n",
            " [0 3 0 0 0 0 0 0]\n",
            " [0 2 0 0 0 0 0 0]\n",
            " [0 1 0 0 0 0 0 0]]\n"
          ]
        },
        {
          "output_type": "stream",
          "name": "stderr",
          "text": [
            "/usr/local/lib/python3.7/dist-packages/sklearn/metrics/_classification.py:1308: UndefinedMetricWarning:\n",
            "\n",
            "Precision is ill-defined and being set to 0.0 in labels with no predicted samples. Use `zero_division` parameter to control this behavior.\n",
            "\n"
          ]
        }
      ]
    },
    {
      "cell_type": "code",
      "metadata": {
        "id": "qalX6W6gQzTt",
        "colab": {
          "base_uri": "https://localhost:8080/"
        },
        "outputId": "f3bd9b82-0759-4c6f-806f-4204f60a4468"
      },
      "source": [
        "skplt.metrics.plot_confusion_matrix(y_test, predict_L13, figsize=(6,6))"
      ],
      "execution_count": null,
      "outputs": [
        {
          "output_type": "execute_result",
          "data": {
            "text/plain": [
              "<matplotlib.axes._subplots.AxesSubplot at 0x7fdb84ee4fd0>"
            ]
          },
          "metadata": {},
          "execution_count": 59
        },
        {
          "output_type": "display_data",
          "data": {
            "image/png": "[encoded data removed]",
            "text/plain": [
              "<Figure size 432x432 with 2 Axes>"
            ]
          },
          "metadata": {
            "needs_background": "light"
          }
        }
      ]
    },
    {
      "cell_type": "code",
      "metadata": {
        "id": "guGNMQSweFqM",
        "colab": {
          "base_uri": "https://localhost:8080/"
        },
        "outputId": "491fc210-3b7d-45f8-89e5-5f0594652c7f"
      },
      "source": [
        "metric(y_test, predict_L16)"
      ],
      "execution_count": null,
      "outputs": [
        {
          "output_type": "stream",
          "name": "stdout",
          "text": [
            "accuracy 0.24\n",
            "precision 0.06346153846153846\n",
            "recall 0.14583333333333331\n",
            "F1 0.08834586466165414\n",
            "MCC 0.046837508406748045\n",
            "Kappa Cohen 0.04040404040404022\n",
            "Confusion Matrix\n",
            " [[2 0 2 0 0 0 0 0]\n",
            " [2 4 0 0 0 0 0 0]\n",
            " [5 1 0 0 0 0 0 0]\n",
            " [1 0 0 0 0 0 0 0]\n",
            " [0 2 0 0 0 0 0 0]\n",
            " [0 3 0 0 0 0 0 0]\n",
            " [0 2 0 0 0 0 0 0]\n",
            " [0 1 0 0 0 0 0 0]]\n"
          ]
        },
        {
          "output_type": "stream",
          "name": "stderr",
          "text": [
            "/usr/local/lib/python3.7/dist-packages/sklearn/metrics/_classification.py:1308: UndefinedMetricWarning:\n",
            "\n",
            "Precision is ill-defined and being set to 0.0 in labels with no predicted samples. Use `zero_division` parameter to control this behavior.\n",
            "\n"
          ]
        }
      ]
    },
    {
      "cell_type": "code",
      "metadata": {
        "id": "_4OEXjeEQ45U",
        "colab": {
          "base_uri": "https://localhost:8080/"
        },
        "outputId": "00410a11-4a13-46ce-8f5a-ae9a1853c9dc"
      },
      "source": [
        "skplt.metrics.plot_confusion_matrix(y_test, predict_L16, figsize=(6,6))"
      ],
      "execution_count": null,
      "outputs": [
        {
          "output_type": "execute_result",
          "data": {
            "text/plain": [
              "<matplotlib.axes._subplots.AxesSubplot at 0x7fdb84e3de50>"
            ]
          },
          "metadata": {},
          "execution_count": 61
        },
        {
          "output_type": "display_data",
          "data": {
            "image/png": "[encoded data removed]",
            "text/plain": [
              "<Figure size 432x432 with 2 Axes>"
            ]
          },
          "metadata": {
            "needs_background": "light"
          }
        }
      ]
    },
    {
      "cell_type": "code",
      "metadata": {
        "id": "aNoc_HDMeGzA",
        "colab": {
          "base_uri": "https://localhost:8080/"
        },
        "outputId": "113986d8-492f-45b8-a3a0-3578a76732cc"
      },
      "source": [
        "metric(y_test, predict_L19)"
      ],
      "execution_count": null,
      "outputs": [
        {
          "output_type": "stream",
          "name": "stdout",
          "text": [
            "accuracy 0.24\n",
            "precision 0.06346153846153846\n",
            "recall 0.14583333333333331\n",
            "F1 0.08834586466165414\n",
            "MCC 0.046837508406748045\n",
            "Kappa Cohen 0.04040404040404022\n",
            "Confusion Matrix\n",
            " [[2 0 2 0 0 0 0 0]\n",
            " [2 4 0 0 0 0 0 0]\n",
            " [5 1 0 0 0 0 0 0]\n",
            " [1 0 0 0 0 0 0 0]\n",
            " [0 2 0 0 0 0 0 0]\n",
            " [0 3 0 0 0 0 0 0]\n",
            " [0 2 0 0 0 0 0 0]\n",
            " [0 1 0 0 0 0 0 0]]\n"
          ]
        },
        {
          "output_type": "stream",
          "name": "stderr",
          "text": [
            "/usr/local/lib/python3.7/dist-packages/sklearn/metrics/_classification.py:1308: UndefinedMetricWarning:\n",
            "\n",
            "Precision is ill-defined and being set to 0.0 in labels with no predicted samples. Use `zero_division` parameter to control this behavior.\n",
            "\n"
          ]
        }
      ]
    },
    {
      "cell_type": "code",
      "metadata": {
        "id": "vpsbEb_1Q9h0",
        "colab": {
          "base_uri": "https://localhost:8080/"
        },
        "outputId": "36bdbb52-1472-4bdb-ad00-914c45b7fbad"
      },
      "source": [
        "skplt.metrics.plot_confusion_matrix(y_test, predict_L19, figsize=(6,6))"
      ],
      "execution_count": null,
      "outputs": [
        {
          "output_type": "execute_result",
          "data": {
            "text/plain": [
              "<matplotlib.axes._subplots.AxesSubplot at 0x7fdb84c43590>"
            ]
          },
          "metadata": {},
          "execution_count": 63
        },
        {
          "output_type": "display_data",
          "data": {
            "image/png": "[encoded data removed]",
            "text/plain": [
              "<Figure size 432x432 with 2 Axes>"
            ]
          },
          "metadata": {
            "needs_background": "light"
          }
        }
      ]
    },
    {
      "cell_type": "markdown",
      "metadata": {
        "id": "QyqAQW3NhPjC"
      },
      "source": [
        "### Евклід 200/50"
      ]
    },
    {
      "cell_type": "code",
      "metadata": {
        "id": "BUIr6iOQ4iZ2"
      },
      "source": [
        "predict_eucledian3 = KNN_eucledian(X_train, Y_train, X_test, 3)\n",
        "predict_eucledian6 = KNN_eucledian(X_train, Y_train, X_test, 6)\n",
        "predict_eucledian9 = KNN_eucledian(X_train, Y_train, X_test, 9)"
      ],
      "execution_count": null,
      "outputs": []
    },
    {
      "cell_type": "code",
      "metadata": {
        "id": "NKyBpaBDhgkm",
        "colab": {
          "base_uri": "https://localhost:8080/"
        },
        "outputId": "cc76b8c5-c5f8-4135-c9da-11e8e067a067"
      },
      "source": [
        "metric(Y_test, predict_eucledian3)"
      ],
      "execution_count": null,
      "outputs": [
        {
          "output_type": "stream",
          "name": "stdout",
          "text": [
            "accuracy 0.3\n",
            "precision 0.12261904761904763\n",
            "recall 0.1628787878787879\n",
            "F1 0.13272946859903384\n",
            "MCC 0.19227926343849758\n",
            "Kappa Cohen 0.18338777414838991\n",
            "Confusion Matrix\n",
            " [[0 0 0 0 0 0 0 0 0 0]\n",
            " [2 2 0 0 0 0 0 0 0 0]\n",
            " [1 5 0 0 0 0 0 0 0 0]\n",
            " [0 6 0 0 0 0 0 0 0 0]\n",
            " [0 1 0 0 0 0 2 0 0 0]\n",
            " [0 0 0 0 0 0 2 1 1 0]\n",
            " [0 0 0 0 0 1 7 3 0 1]\n",
            " [0 0 0 0 0 2 1 6 1 1]\n",
            " [0 0 0 0 0 0 0 2 0 1]\n",
            " [0 0 0 0 0 1 0 0 0 0]]\n"
          ]
        },
        {
          "output_type": "stream",
          "name": "stderr",
          "text": [
            "/usr/local/lib/python3.7/dist-packages/sklearn/metrics/_classification.py:1308: UndefinedMetricWarning:\n",
            "\n",
            "Precision is ill-defined and being set to 0.0 in labels with no predicted samples. Use `zero_division` parameter to control this behavior.\n",
            "\n",
            "/usr/local/lib/python3.7/dist-packages/sklearn/metrics/_classification.py:1308: UndefinedMetricWarning:\n",
            "\n",
            "Recall is ill-defined and being set to 0.0 in labels with no true samples. Use `zero_division` parameter to control this behavior.\n",
            "\n"
          ]
        }
      ]
    },
    {
      "cell_type": "code",
      "metadata": {
        "id": "Cyhmp4pSRDPh",
        "colab": {
          "base_uri": "https://localhost:8080/"
        },
        "outputId": "134173a9-db61-451c-b98f-cb2ef2b7f635"
      },
      "source": [
        "skplt.metrics.plot_confusion_matrix(Y_test, predict_eucledian3, figsize=(6,6))"
      ],
      "execution_count": null,
      "outputs": [
        {
          "output_type": "execute_result",
          "data": {
            "text/plain": [
              "<matplotlib.axes._subplots.AxesSubplot at 0x7fdb84af8410>"
            ]
          },
          "metadata": {},
          "execution_count": 66
        },
        {
          "output_type": "display_data",
          "data": {
            "image/png": "[encoded data removed]",
            "text/plain": [
              "<Figure size 432x432 with 2 Axes>"
            ]
          },
          "metadata": {
            "needs_background": "light"
          }
        }
      ]
    },
    {
      "cell_type": "code",
      "metadata": {
        "id": "LWebXODE43mD"
      },
      "source": [
        "predict_eucledian6 = KNN_eucledian(X_train, Y_train, X_test, 6)"
      ],
      "execution_count": null,
      "outputs": []
    },
    {
      "cell_type": "code",
      "metadata": {
        "id": "aCT8Xw9vhiOa",
        "colab": {
          "base_uri": "https://localhost:8080/"
        },
        "outputId": "2567dde3-2c80-43b8-d44a-c7be9340abce"
      },
      "source": [
        "metric(Y_test, predict_eucledian6)"
      ],
      "execution_count": null,
      "outputs": [
        {
          "output_type": "stream",
          "name": "stdout",
          "text": [
            "accuracy 0.3\n",
            "precision 0.12261904761904763\n",
            "recall 0.1628787878787879\n",
            "F1 0.13272946859903384\n",
            "MCC 0.19227926343849758\n",
            "Kappa Cohen 0.18338777414838991\n",
            "Confusion Matrix\n",
            " [[0 0 0 0 0 0 0 0 0 0]\n",
            " [2 2 0 0 0 0 0 0 0 0]\n",
            " [1 5 0 0 0 0 0 0 0 0]\n",
            " [0 6 0 0 0 0 0 0 0 0]\n",
            " [0 1 0 0 0 0 2 0 0 0]\n",
            " [0 0 0 0 0 0 2 1 1 0]\n",
            " [0 0 0 0 0 1 7 3 0 1]\n",
            " [0 0 0 0 0 2 1 6 1 1]\n",
            " [0 0 0 0 0 0 0 2 0 1]\n",
            " [0 0 0 0 0 1 0 0 0 0]]\n"
          ]
        },
        {
          "output_type": "stream",
          "name": "stderr",
          "text": [
            "/usr/local/lib/python3.7/dist-packages/sklearn/metrics/_classification.py:1308: UndefinedMetricWarning:\n",
            "\n",
            "Precision is ill-defined and being set to 0.0 in labels with no predicted samples. Use `zero_division` parameter to control this behavior.\n",
            "\n",
            "/usr/local/lib/python3.7/dist-packages/sklearn/metrics/_classification.py:1308: UndefinedMetricWarning:\n",
            "\n",
            "Recall is ill-defined and being set to 0.0 in labels with no true samples. Use `zero_division` parameter to control this behavior.\n",
            "\n"
          ]
        }
      ]
    },
    {
      "cell_type": "code",
      "metadata": {
        "id": "whgHBOaSRJ_A",
        "colab": {
          "base_uri": "https://localhost:8080/"
        },
        "outputId": "1ab9484d-80cd-4182-db24-90791af23c55"
      },
      "source": [
        "skplt.metrics.plot_confusion_matrix(Y_test, predict_eucledian6, figsize=(6,6))"
      ],
      "execution_count": null,
      "outputs": [
        {
          "output_type": "execute_result",
          "data": {
            "text/plain": [
              "<matplotlib.axes._subplots.AxesSubplot at 0x7fdb84980610>"
            ]
          },
          "metadata": {},
          "execution_count": 69
        },
        {
          "output_type": "display_data",
          "data": {
            "image/png": "[encoded data removed]",
            "text/plain": [
              "<Figure size 432x432 with 2 Axes>"
            ]
          },
          "metadata": {
            "needs_background": "light"
          }
        }
      ]
    },
    {
      "cell_type": "code",
      "metadata": {
        "id": "JMoiqCTihja7",
        "colab": {
          "base_uri": "https://localhost:8080/"
        },
        "outputId": "3bcf1c1e-cb9c-417c-cc1d-73b0252a255c"
      },
      "source": [
        "metric(Y_test, predict_eucledian9)"
      ],
      "execution_count": null,
      "outputs": [
        {
          "output_type": "stream",
          "name": "stdout",
          "text": [
            "accuracy 0.3\n",
            "precision 0.12261904761904763\n",
            "recall 0.1628787878787879\n",
            "F1 0.13272946859903384\n",
            "MCC 0.19227926343849758\n",
            "Kappa Cohen 0.18338777414838991\n",
            "Confusion Matrix\n",
            " [[0 0 0 0 0 0 0 0 0 0]\n",
            " [2 2 0 0 0 0 0 0 0 0]\n",
            " [1 5 0 0 0 0 0 0 0 0]\n",
            " [0 6 0 0 0 0 0 0 0 0]\n",
            " [0 1 0 0 0 0 2 0 0 0]\n",
            " [0 0 0 0 0 0 2 1 1 0]\n",
            " [0 0 0 0 0 1 7 3 0 1]\n",
            " [0 0 0 0 0 2 1 6 1 1]\n",
            " [0 0 0 0 0 0 0 2 0 1]\n",
            " [0 0 0 0 0 1 0 0 0 0]]\n"
          ]
        },
        {
          "output_type": "stream",
          "name": "stderr",
          "text": [
            "/usr/local/lib/python3.7/dist-packages/sklearn/metrics/_classification.py:1308: UndefinedMetricWarning:\n",
            "\n",
            "Precision is ill-defined and being set to 0.0 in labels with no predicted samples. Use `zero_division` parameter to control this behavior.\n",
            "\n",
            "/usr/local/lib/python3.7/dist-packages/sklearn/metrics/_classification.py:1308: UndefinedMetricWarning:\n",
            "\n",
            "Recall is ill-defined and being set to 0.0 in labels with no true samples. Use `zero_division` parameter to control this behavior.\n",
            "\n"
          ]
        }
      ]
    },
    {
      "cell_type": "code",
      "metadata": {
        "id": "3VPA_LkZRMVR",
        "colab": {
          "base_uri": "https://localhost:8080/"
        },
        "outputId": "6acec251-a78e-49f5-8e7f-413efac4dc5c"
      },
      "source": [
        "skplt.metrics.plot_confusion_matrix(Y_test, predict_eucledian9, figsize=(6,6))"
      ],
      "execution_count": null,
      "outputs": [
        {
          "output_type": "execute_result",
          "data": {
            "text/plain": [
              "<matplotlib.axes._subplots.AxesSubplot at 0x7fdb84fc2110>"
            ]
          },
          "metadata": {},
          "execution_count": 71
        },
        {
          "output_type": "display_data",
          "data": {
            "image/png": "[encoded data removed]",
            "text/plain": [
              "<Figure size 432x432 with 2 Axes>"
            ]
          },
          "metadata": {
            "needs_background": "light"
          }
        }
      ]
    },
    {
      "cell_type": "markdown",
      "metadata": {
        "id": "MIJxUIb4hrSy"
      },
      "source": [
        "###Чебишев 200/50\n"
      ]
    },
    {
      "cell_type": "code",
      "metadata": {
        "id": "2KzfDK885V_s"
      },
      "source": [
        "predict_chebushev3 = KNN_chebushev(X_train, Y_train, X_test, 3)\n",
        "predict_chebushev6 = KNN_chebushev(X_train, Y_train, X_test, 6)\n",
        "predict_chebushev9 = KNN_chebushev(X_train, Y_train, X_test, 9)"
      ],
      "execution_count": null,
      "outputs": []
    },
    {
      "cell_type": "code",
      "metadata": {
        "id": "ReVrxUl1h5HJ",
        "colab": {
          "base_uri": "https://localhost:8080/"
        },
        "outputId": "6ff0a970-906e-49e4-a962-8d5550d86cf3"
      },
      "source": [
        "metric(Y_test, predict_chebushev3)"
      ],
      "execution_count": null,
      "outputs": [
        {
          "output_type": "stream",
          "name": "stdout",
          "text": [
            "accuracy 0.1\n",
            "precision 0.04297520661157025\n",
            "recall 0.06818181818181818\n",
            "F1 0.04968944099378882\n",
            "MCC -0.022857516044124723\n",
            "Kappa Cohen -0.021798365122615904\n",
            "Confusion Matrix\n",
            " [[0 0 0 0 0 0 0 0 0 0 0]\n",
            " [0 0 0 0 0 0 0 0 0 0 0]\n",
            " [1 3 0 0 0 0 0 0 0 0 0]\n",
            " [0 4 2 0 0 0 0 0 0 0 0]\n",
            " [0 0 6 0 0 0 0 0 0 0 0]\n",
            " [0 0 1 0 0 0 1 1 0 0 0]\n",
            " [0 0 0 0 0 0 2 2 0 0 0]\n",
            " [0 0 0 0 0 0 2 3 5 2 0]\n",
            " [0 0 0 0 0 1 4 4 0 1 1]\n",
            " [0 0 0 0 0 0 0 1 2 0 0]\n",
            " [0 0 0 0 0 0 1 0 0 0 0]]\n"
          ]
        },
        {
          "output_type": "stream",
          "name": "stderr",
          "text": [
            "/usr/local/lib/python3.7/dist-packages/sklearn/metrics/_classification.py:1308: UndefinedMetricWarning:\n",
            "\n",
            "Precision is ill-defined and being set to 0.0 in labels with no predicted samples. Use `zero_division` parameter to control this behavior.\n",
            "\n",
            "/usr/local/lib/python3.7/dist-packages/sklearn/metrics/_classification.py:1308: UndefinedMetricWarning:\n",
            "\n",
            "Recall is ill-defined and being set to 0.0 in labels with no true samples. Use `zero_division` parameter to control this behavior.\n",
            "\n"
          ]
        }
      ]
    },
    {
      "cell_type": "code",
      "metadata": {
        "id": "SaQ1vS9sRRjw",
        "colab": {
          "base_uri": "https://localhost:8080/",
          "height": 384
        },
        "outputId": "30235c38-238a-412e-d028-1aece0d2fdfe"
      },
      "source": [
        "skplt.metrics.plot_confusion_matrix(Y_test, predict_chebushev3, figsize=(6,6))"
      ],
      "execution_count": null,
      "outputs": [
        {
          "output_type": "execute_result",
          "data": {
            "text/plain": [
              "<matplotlib.axes._subplots.AxesSubplot at 0x7fdb8469bad0>"
            ]
          },
          "metadata": {},
          "execution_count": 74
        },
        {
          "output_type": "display_data",
          "data": {
            "image/png": "[encoded data removed]",
            "text/plain": [
              "<Figure size 432x432 with 2 Axes>"
            ]
          },
          "metadata": {
            "needs_background": "light"
          }
        }
      ]
    },
    {
      "cell_type": "code",
      "metadata": {
        "id": "n5qCbIrJiHSh",
        "colab": {
          "base_uri": "https://localhost:8080/"
        },
        "outputId": "bcff0475-b194-4434-c584-fbb8afe107bd"
      },
      "source": [
        "metric(Y_test, predict_chebushev6)"
      ],
      "execution_count": null,
      "outputs": [
        {
          "output_type": "stream",
          "name": "stdout",
          "text": [
            "accuracy 0.1\n",
            "precision 0.04297520661157025\n",
            "recall 0.06818181818181818\n",
            "F1 0.04968944099378882\n",
            "MCC -0.022857516044124723\n",
            "Kappa Cohen -0.021798365122615904\n",
            "Confusion Matrix\n",
            " [[0 0 0 0 0 0 0 0 0 0 0]\n",
            " [0 0 0 0 0 0 0 0 0 0 0]\n",
            " [1 3 0 0 0 0 0 0 0 0 0]\n",
            " [0 4 2 0 0 0 0 0 0 0 0]\n",
            " [0 0 6 0 0 0 0 0 0 0 0]\n",
            " [0 0 1 0 0 0 1 1 0 0 0]\n",
            " [0 0 0 0 0 0 2 2 0 0 0]\n",
            " [0 0 0 0 0 0 2 3 5 2 0]\n",
            " [0 0 0 0 0 1 4 4 0 1 1]\n",
            " [0 0 0 0 0 0 0 1 2 0 0]\n",
            " [0 0 0 0 0 0 1 0 0 0 0]]\n"
          ]
        },
        {
          "output_type": "stream",
          "name": "stderr",
          "text": [
            "/usr/local/lib/python3.7/dist-packages/sklearn/metrics/_classification.py:1308: UndefinedMetricWarning:\n",
            "\n",
            "Precision is ill-defined and being set to 0.0 in labels with no predicted samples. Use `zero_division` parameter to control this behavior.\n",
            "\n",
            "/usr/local/lib/python3.7/dist-packages/sklearn/metrics/_classification.py:1308: UndefinedMetricWarning:\n",
            "\n",
            "Recall is ill-defined and being set to 0.0 in labels with no true samples. Use `zero_division` parameter to control this behavior.\n",
            "\n"
          ]
        }
      ]
    },
    {
      "cell_type": "code",
      "metadata": {
        "id": "eETKyKq7Rab_",
        "colab": {
          "base_uri": "https://localhost:8080/",
          "height": 384
        },
        "outputId": "54fa8656-390c-444a-b7e0-d7516b298d30"
      },
      "source": [
        "skplt.metrics.plot_confusion_matrix(Y_test, predict_chebushev6, figsize=(6,6))"
      ],
      "execution_count": null,
      "outputs": [
        {
          "output_type": "execute_result",
          "data": {
            "text/plain": [
              "<matplotlib.axes._subplots.AxesSubplot at 0x7fdb844dbcd0>"
            ]
          },
          "metadata": {},
          "execution_count": 76
        },
        {
          "output_type": "display_data",
          "data": {
            "image/png": "[encoded data removed]",
            "text/plain": [
              "<Figure size 432x432 with 2 Axes>"
            ]
          },
          "metadata": {
            "needs_background": "light"
          }
        }
      ]
    },
    {
      "cell_type": "code",
      "metadata": {
        "id": "nRPhNO9RiJUB",
        "colab": {
          "base_uri": "https://localhost:8080/"
        },
        "outputId": "f7a00c28-bb40-4c07-ab6b-5ee597bd3326"
      },
      "source": [
        "metric(Y_test, predict_chebushev9)"
      ],
      "execution_count": null,
      "outputs": [
        {
          "output_type": "stream",
          "name": "stdout",
          "text": [
            "accuracy 0.1\n",
            "precision 0.04297520661157025\n",
            "recall 0.06818181818181818\n",
            "F1 0.04968944099378882\n",
            "MCC -0.022857516044124723\n",
            "Kappa Cohen -0.021798365122615904\n",
            "Confusion Matrix\n",
            " [[0 0 0 0 0 0 0 0 0 0 0]\n",
            " [0 0 0 0 0 0 0 0 0 0 0]\n",
            " [1 3 0 0 0 0 0 0 0 0 0]\n",
            " [0 4 2 0 0 0 0 0 0 0 0]\n",
            " [0 0 6 0 0 0 0 0 0 0 0]\n",
            " [0 0 1 0 0 0 1 1 0 0 0]\n",
            " [0 0 0 0 0 0 2 2 0 0 0]\n",
            " [0 0 0 0 0 0 2 3 5 2 0]\n",
            " [0 0 0 0 0 1 4 4 0 1 1]\n",
            " [0 0 0 0 0 0 0 1 2 0 0]\n",
            " [0 0 0 0 0 0 1 0 0 0 0]]\n"
          ]
        },
        {
          "output_type": "stream",
          "name": "stderr",
          "text": [
            "/usr/local/lib/python3.7/dist-packages/sklearn/metrics/_classification.py:1308: UndefinedMetricWarning:\n",
            "\n",
            "Precision is ill-defined and being set to 0.0 in labels with no predicted samples. Use `zero_division` parameter to control this behavior.\n",
            "\n",
            "/usr/local/lib/python3.7/dist-packages/sklearn/metrics/_classification.py:1308: UndefinedMetricWarning:\n",
            "\n",
            "Recall is ill-defined and being set to 0.0 in labels with no true samples. Use `zero_division` parameter to control this behavior.\n",
            "\n"
          ]
        }
      ]
    },
    {
      "cell_type": "code",
      "metadata": {
        "id": "6KbhUidlRcNX",
        "colab": {
          "base_uri": "https://localhost:8080/",
          "height": 384
        },
        "outputId": "6230b45a-965f-4cf6-fd0c-797306e1e8a9"
      },
      "source": [
        "skplt.metrics.plot_confusion_matrix(Y_test, predict_chebushev9, figsize=(6,6))"
      ],
      "execution_count": null,
      "outputs": [
        {
          "output_type": "execute_result",
          "data": {
            "text/plain": [
              "<matplotlib.axes._subplots.AxesSubplot at 0x7fdb842fd5d0>"
            ]
          },
          "metadata": {},
          "execution_count": 78
        },
        {
          "output_type": "display_data",
          "data": {
            "image/png": "[encoded data removed]",
            "text/plain": [
              "<Figure size 432x432 with 2 Axes>"
            ]
          },
          "metadata": {
            "needs_background": "light"
          }
        }
      ]
    },
    {
      "cell_type": "markdown",
      "metadata": {
        "id": "WVXPYVzDiR8Y"
      },
      "source": [
        "###L1 200/50"
      ]
    },
    {
      "cell_type": "code",
      "metadata": {
        "id": "TwTHRcJ_ibb2"
      },
      "source": [
        "predict_L13 = KNN_L1(X_train, Y_train, X_test, 3)\n",
        "predict_L16 = KNN_L1(X_train, Y_train, X_test, 6)\n",
        "predict_L19 = KNN_L1(X_train, Y_train, X_test, 9)"
      ],
      "execution_count": null,
      "outputs": []
    },
    {
      "cell_type": "code",
      "metadata": {
        "id": "CM-g88lOibUe",
        "colab": {
          "base_uri": "https://localhost:8080/"
        },
        "outputId": "bafccae9-a6c5-4047-a2fb-e326bd79bf39"
      },
      "source": [
        "metric(Y_test, predict_L13)"
      ],
      "execution_count": null,
      "outputs": [
        {
          "output_type": "stream",
          "name": "stdout",
          "text": [
            "accuracy 0.12\n",
            "precision 0.033918128654970764\n",
            "recall 0.12962962962962962\n",
            "F1 0.05194805194805195\n",
            "MCC 0.014104723097214493\n",
            "Kappa Cohen 0.009009009009009028\n",
            "Confusion Matrix\n",
            " [[ 2  0  2  0  0  0  0  0  0]\n",
            " [ 2  4  0  0  0  0  0  0  0]\n",
            " [ 5  1  0  0  0  0  0  0  0]\n",
            " [ 1  2  0  0  0  0  0  0  0]\n",
            " [ 0  4  0  0  0  0  0  0  0]\n",
            " [ 0 12  0  0  0  0  0  0  0]\n",
            " [ 0 11  0  0  0  0  0  0  0]\n",
            " [ 0  3  0  0  0  0  0  0  0]\n",
            " [ 0  1  0  0  0  0  0  0  0]]\n"
          ]
        },
        {
          "output_type": "stream",
          "name": "stderr",
          "text": [
            "/usr/local/lib/python3.7/dist-packages/sklearn/metrics/_classification.py:1308: UndefinedMetricWarning:\n",
            "\n",
            "Precision is ill-defined and being set to 0.0 in labels with no predicted samples. Use `zero_division` parameter to control this behavior.\n",
            "\n"
          ]
        }
      ]
    },
    {
      "cell_type": "code",
      "metadata": {
        "id": "gr0FNm4RRkPg",
        "colab": {
          "base_uri": "https://localhost:8080/"
        },
        "outputId": "a0fe7898-a220-4cd2-d2e7-6bf8b0057c9c"
      },
      "source": [
        "skplt.metrics.plot_confusion_matrix(Y_test, predict_L13, figsize=(6,6))"
      ],
      "execution_count": null,
      "outputs": [
        {
          "output_type": "execute_result",
          "data": {
            "text/plain": [
              "<matplotlib.axes._subplots.AxesSubplot at 0x7fdb84161f10>"
            ]
          },
          "metadata": {},
          "execution_count": 81
        },
        {
          "output_type": "display_data",
          "data": {
            "image/png": "[encoded data removed]",
            "text/plain": [
              "<Figure size 432x432 with 2 Axes>"
            ]
          },
          "metadata": {
            "needs_background": "light"
          }
        }
      ]
    },
    {
      "cell_type": "code",
      "metadata": {
        "id": "9i56PjNGibO0",
        "colab": {
          "base_uri": "https://localhost:8080/"
        },
        "outputId": "02526f0c-4b48-4075-8281-7c035f55c06f"
      },
      "source": [
        "metric(Y_test, predict_L16)"
      ],
      "execution_count": null,
      "outputs": [
        {
          "output_type": "stream",
          "name": "stdout",
          "text": [
            "accuracy 0.12\n",
            "precision 0.033918128654970764\n",
            "recall 0.12962962962962962\n",
            "F1 0.05194805194805195\n",
            "MCC 0.014104723097214493\n",
            "Kappa Cohen 0.009009009009009028\n",
            "Confusion Matrix\n",
            " [[ 2  0  2  0  0  0  0  0  0]\n",
            " [ 2  4  0  0  0  0  0  0  0]\n",
            " [ 5  1  0  0  0  0  0  0  0]\n",
            " [ 1  2  0  0  0  0  0  0  0]\n",
            " [ 0  4  0  0  0  0  0  0  0]\n",
            " [ 0 12  0  0  0  0  0  0  0]\n",
            " [ 0 11  0  0  0  0  0  0  0]\n",
            " [ 0  3  0  0  0  0  0  0  0]\n",
            " [ 0  1  0  0  0  0  0  0  0]]\n"
          ]
        },
        {
          "output_type": "stream",
          "name": "stderr",
          "text": [
            "/usr/local/lib/python3.7/dist-packages/sklearn/metrics/_classification.py:1308: UndefinedMetricWarning:\n",
            "\n",
            "Precision is ill-defined and being set to 0.0 in labels with no predicted samples. Use `zero_division` parameter to control this behavior.\n",
            "\n"
          ]
        }
      ]
    },
    {
      "cell_type": "code",
      "metadata": {
        "id": "epwgWYCqRoyw",
        "colab": {
          "base_uri": "https://localhost:8080/"
        },
        "outputId": "3f71d12b-26cc-45cf-e5a8-fce892114cb0"
      },
      "source": [
        "skplt.metrics.plot_confusion_matrix(Y_test, predict_L16, figsize=(6,6))"
      ],
      "execution_count": null,
      "outputs": [
        {
          "output_type": "execute_result",
          "data": {
            "text/plain": [
              "<matplotlib.axes._subplots.AxesSubplot at 0x7fdb84020ad0>"
            ]
          },
          "metadata": {},
          "execution_count": 83
        },
        {
          "output_type": "display_data",
          "data": {
            "image/png": "[encoded data removed]",
            "text/plain": [
              "<Figure size 432x432 with 2 Axes>"
            ]
          },
          "metadata": {
            "needs_background": "light"
          }
        }
      ]
    },
    {
      "cell_type": "code",
      "metadata": {
        "id": "c7jV7oApia6B",
        "colab": {
          "base_uri": "https://localhost:8080/"
        },
        "outputId": "ecf206d0-1692-4586-fe85-3a33fbd70794"
      },
      "source": [
        "metric(Y_test, predict_L19)"
      ],
      "execution_count": null,
      "outputs": [
        {
          "output_type": "stream",
          "name": "stdout",
          "text": [
            "accuracy 0.12\n",
            "precision 0.033918128654970764\n",
            "recall 0.12962962962962962\n",
            "F1 0.05194805194805195\n",
            "MCC 0.014104723097214493\n",
            "Kappa Cohen 0.009009009009009028\n",
            "Confusion Matrix\n",
            " [[ 2  0  2  0  0  0  0  0  0]\n",
            " [ 2  4  0  0  0  0  0  0  0]\n",
            " [ 5  1  0  0  0  0  0  0  0]\n",
            " [ 1  2  0  0  0  0  0  0  0]\n",
            " [ 0  4  0  0  0  0  0  0  0]\n",
            " [ 0 12  0  0  0  0  0  0  0]\n",
            " [ 0 11  0  0  0  0  0  0  0]\n",
            " [ 0  3  0  0  0  0  0  0  0]\n",
            " [ 0  1  0  0  0  0  0  0  0]]\n"
          ]
        },
        {
          "output_type": "stream",
          "name": "stderr",
          "text": [
            "/usr/local/lib/python3.7/dist-packages/sklearn/metrics/_classification.py:1308: UndefinedMetricWarning:\n",
            "\n",
            "Precision is ill-defined and being set to 0.0 in labels with no predicted samples. Use `zero_division` parameter to control this behavior.\n",
            "\n"
          ]
        }
      ]
    },
    {
      "cell_type": "code",
      "metadata": {
        "id": "Ilwf2C1ARqzE",
        "colab": {
          "base_uri": "https://localhost:8080/"
        },
        "outputId": "91202ae3-fb5b-431e-c406-d0132352007d"
      },
      "source": [
        "skplt.metrics.plot_confusion_matrix(Y_test, predict_L19, figsize=(6,6))"
      ],
      "execution_count": null,
      "outputs": [
        {
          "output_type": "execute_result",
          "data": {
            "text/plain": [
              "<matplotlib.axes._subplots.AxesSubplot at 0x7fdb83e94710>"
            ]
          },
          "metadata": {},
          "execution_count": 85
        },
        {
          "output_type": "display_data",
          "data": {
            "image/png": "[encoded data removed]",
            "text/plain": [
              "<Figure size 432x432 with 2 Axes>"
            ]
          },
          "metadata": {
            "needs_background": "light"
          }
        }
      ]
    },
    {
      "cell_type": "markdown",
      "metadata": {
        "id": "MBwsINaai5Xp"
      },
      "source": [
        "### K-Fold cross validation"
      ]
    },
    {
      "cell_type": "code",
      "metadata": {
        "id": "6etFUJ-ei_BY"
      },
      "source": [
        "S0=(df2[:50]).reset_index(drop=True)\n",
        "S1=(df2[50:100]).reset_index(drop=True)\n",
        "S2=(df2[100:150]).reset_index(drop=True)\n",
        "S3=(df2[150:200]).reset_index(drop=True)\n",
        "S4=(df2[200:250]).reset_index(drop=True)\n",
        "S5=(df2[-50:]).reset_index(drop=True)\n",
        "\n",
        "set0=pd.concat([S4,S3,S5,S1,S2], ignore_index=True)\n",
        "set1=pd.concat([S4,S2,S0,S3,S5], ignore_index=True)\n",
        "set2=pd.concat([S1,S0,S4,S5,S3], ignore_index=True)\n",
        "set3=pd.concat([S0,S5,S4,S1,S2], ignore_index=True)\n",
        "set4=pd.concat([S3,S2,S1,S5,S0], ignore_index=True)\n",
        "set5=pd.concat([S3,S2,S1,S4,S0], ignore_index=True)"
      ],
      "execution_count": null,
      "outputs": []
    },
    {
      "cell_type": "code",
      "metadata": {
        "id": "wAcRAYx2jHXA"
      },
      "source": [
        "def k_fold(method, KFV_train, KFV_test):\n",
        "  \n",
        "    KFV_x_train = KFV_train.iloc[:,:-1].to_numpy()\n",
        "    KFV_y_train = KFV_train.iloc[:,-1:].to_numpy()\n",
        "\n",
        "    KFV_x_test = KFV_test.iloc[:,:-1].to_numpy()\n",
        "    KFV_y_test = KFV_test.iloc[:,-1:].to_numpy()\n",
        "\n",
        "    KFV_predict = method(KFV_x_train, KFV_y_train, KFV_x_test, 3)\n",
        "\n",
        "    print('MCC', matthews_corrcoef(KFV_y_test, KFV_predict))"
      ],
      "execution_count": null,
      "outputs": []
    },
    {
      "cell_type": "markdown",
      "metadata": {
        "id": "R_kuLgSAV9E6"
      },
      "source": [
        "Евклід"
      ]
    },
    {
      "cell_type": "code",
      "metadata": {
        "id": "uYU_Y_r3jQbZ",
        "colab": {
          "base_uri": "https://localhost:8080/"
        },
        "outputId": "9b1ba717-3b33-43fe-e1da-0a64e26b440f"
      },
      "source": [
        "k_fold(KNN_eucledian, set0, S0)\n",
        "k_fold(KNN_eucledian, set1, S1)\n",
        "k_fold(KNN_eucledian, set2, S2)\n",
        "k_fold(KNN_eucledian, set3, S3)\n",
        "k_fold(KNN_eucledian, set4, S4)\n",
        "k_fold(KNN_eucledian, set5, S5)"
      ],
      "execution_count": null,
      "outputs": [
        {
          "output_type": "stream",
          "name": "stdout",
          "text": [
            "MCC 0.12442075862498438\n",
            "MCC 0.013220093859400926\n",
            "MCC 0.037789376660022064\n",
            "MCC 0.20223356070141285\n",
            "MCC 0.1174314570837404\n",
            "MCC 0.21429473285495232\n"
          ]
        }
      ]
    },
    {
      "cell_type": "code",
      "metadata": {
        "id": "N9fiBUruV0ky"
      },
      "source": [
        "eucledian_x_train = set0.iloc[:,:-1].to_numpy()\n",
        "eucledian_y_train = set0.iloc[:,-1:].to_numpy()\n",
        "eucledian_x_test = S0.iloc[:,:-1].to_numpy()\n",
        "eucledian_y_test = S0.iloc[:,-1:].to_numpy()\n",
        "eucledian_predict = KNN_eucledian(eucledian_x_train, eucledian_y_train, eucledian_x_test, 3)"
      ],
      "execution_count": null,
      "outputs": []
    },
    {
      "cell_type": "code",
      "metadata": {
        "id": "rclkqFPjWNDg",
        "colab": {
          "base_uri": "https://localhost:8080/"
        },
        "outputId": "821a2de8-6211-4ec3-8b7a-86dcbf8313fc"
      },
      "source": [
        "metric(eucledian_y_test, eucledian_predict)"
      ],
      "execution_count": null,
      "outputs": [
        {
          "output_type": "stream",
          "name": "stdout",
          "text": [
            "accuracy 0.28\n",
            "precision 0.1701388888888889\n",
            "recall 0.18333333333333335\n",
            "F1 0.15574009324009325\n",
            "MCC 0.12442075862498438\n",
            "Kappa Cohen 0.11764705882352933\n",
            "Confusion Matrix\n",
            " [[1 0 1 0 0 0 0 0]\n",
            " [0 0 1 1 0 0 0 0]\n",
            " [4 1 3 1 1 0 0 0]\n",
            " [3 7 1 3 4 0 0 0]\n",
            " [1 1 1 3 7 1 0 0]\n",
            " [0 0 1 0 1 0 0 0]\n",
            " [0 1 0 0 0 0 0 0]\n",
            " [0 0 0 0 1 0 0 0]]\n"
          ]
        },
        {
          "output_type": "stream",
          "name": "stderr",
          "text": [
            "/usr/local/lib/python3.7/dist-packages/sklearn/metrics/_classification.py:1308: UndefinedMetricWarning:\n",
            "\n",
            "Precision is ill-defined and being set to 0.0 in labels with no predicted samples. Use `zero_division` parameter to control this behavior.\n",
            "\n"
          ]
        }
      ]
    },
    {
      "cell_type": "code",
      "metadata": {
        "id": "QsCI1QMcXF-t",
        "colab": {
          "base_uri": "https://localhost:8080/"
        },
        "outputId": "44b85b82-fc50-45d1-985b-93b3b1cb9a59"
      },
      "source": [
        "skplt.metrics.plot_confusion_matrix(eucledian_y_test, eucledian_predict, figsize=(6,6))"
      ],
      "execution_count": null,
      "outputs": [
        {
          "output_type": "execute_result",
          "data": {
            "text/plain": [
              "<matplotlib.axes._subplots.AxesSubplot at 0x7fdb85546950>"
            ]
          },
          "metadata": {},
          "execution_count": 91
        },
        {
          "output_type": "display_data",
          "data": {
            "image/png": "[encoded data removed]",
            "text/plain": [
              "<Figure size 432x432 with 2 Axes>"
            ]
          },
          "metadata": {
            "needs_background": "light"
          }
        }
      ]
    },
    {
      "cell_type": "markdown",
      "metadata": {
        "id": "eJr7ki6jXJq8"
      },
      "source": [
        "Чебишев"
      ]
    },
    {
      "cell_type": "code",
      "metadata": {
        "id": "7j9Kg4p6Ubqq",
        "colab": {
          "base_uri": "https://localhost:8080/"
        },
        "outputId": "afdc3005-00de-4a6c-dc59-b1a7559388db"
      },
      "source": [
        "k_fold(KNN_chebushev, set0, S0)\n",
        "k_fold(KNN_chebushev, set1, S1)\n",
        "k_fold(KNN_chebushev, set2, S2)\n",
        "k_fold(KNN_chebushev, set3, S3)\n",
        "k_fold(KNN_chebushev, set4, S4)\n",
        "k_fold(KNN_chebushev, set5, S5)"
      ],
      "execution_count": null,
      "outputs": [
        {
          "output_type": "stream",
          "name": "stdout",
          "text": [
            "MCC 0.04055818155870759\n",
            "MCC -0.03172799135835669\n",
            "MCC 0.08847521070560323\n",
            "MCC 0.1143020993762243\n",
            "MCC 0.00542299668209158\n",
            "MCC 0.0038114118334869112\n"
          ]
        }
      ]
    },
    {
      "cell_type": "code",
      "metadata": {
        "id": "ZEK7D5acXPTc"
      },
      "source": [
        "chebushev_x_train = set2.iloc[:,:-1].to_numpy()\n",
        "chebushev_y_train = set2.iloc[:,-1:].to_numpy()\n",
        "chebushev_x_test = S2.iloc[:,:-1].to_numpy()\n",
        "chebushev_y_test = S2.iloc[:,-1:].to_numpy()\n",
        "chebushev_predict = KNN_chebushev(chebushev_x_train, chebushev_y_train, chebushev_x_test, 3)"
      ],
      "execution_count": null,
      "outputs": []
    },
    {
      "cell_type": "code",
      "metadata": {
        "id": "a2pto2YbXkZX",
        "colab": {
          "base_uri": "https://localhost:8080/"
        },
        "outputId": "a0f8f9d7-b5c9-49a7-bb02-26275460cbf9"
      },
      "source": [
        "metric(chebushev_y_test, chebushev_predict)"
      ],
      "execution_count": null,
      "outputs": [
        {
          "output_type": "stream",
          "name": "stdout",
          "text": [
            "accuracy 0.26\n",
            "precision 0.21666666666666667\n",
            "recall 0.14351851851851852\n",
            "F1 0.15070436809567242\n",
            "MCC 0.08847521070560323\n",
            "Kappa Cohen 0.07592407592407602\n",
            "Confusion Matrix\n",
            " [[ 0  0  0  0  0  0]\n",
            " [ 2  3  2  1  0  0]\n",
            " [10  5  9  0  0  0]\n",
            " [ 0  6  2  1  0  0]\n",
            " [ 6  0  2  0  0  0]\n",
            " [ 0  1  0  0  0  0]]\n"
          ]
        },
        {
          "output_type": "stream",
          "name": "stderr",
          "text": [
            "/usr/local/lib/python3.7/dist-packages/sklearn/metrics/_classification.py:1308: UndefinedMetricWarning:\n",
            "\n",
            "Precision is ill-defined and being set to 0.0 in labels with no predicted samples. Use `zero_division` parameter to control this behavior.\n",
            "\n",
            "/usr/local/lib/python3.7/dist-packages/sklearn/metrics/_classification.py:1308: UndefinedMetricWarning:\n",
            "\n",
            "Recall is ill-defined and being set to 0.0 in labels with no true samples. Use `zero_division` parameter to control this behavior.\n",
            "\n"
          ]
        }
      ]
    },
    {
      "cell_type": "code",
      "metadata": {
        "id": "bMCLWWKvXxLD",
        "colab": {
          "base_uri": "https://localhost:8080/"
        },
        "outputId": "db4a16f6-ff17-4eb4-d432-8609945a0a99"
      },
      "source": [
        "skplt.metrics.plot_confusion_matrix(chebushev_y_test, chebushev_predict, figsize=(6,6))"
      ],
      "execution_count": null,
      "outputs": [
        {
          "output_type": "execute_result",
          "data": {
            "text/plain": [
              "<matplotlib.axes._subplots.AxesSubplot at 0x7fdb83c29610>"
            ]
          },
          "metadata": {},
          "execution_count": 95
        },
        {
          "output_type": "display_data",
          "data": {
            "image/png": "[encoded data removed]",
            "text/plain": [
              "<Figure size 432x432 with 2 Axes>"
            ]
          },
          "metadata": {
            "needs_background": "light"
          }
        }
      ]
    },
    {
      "cell_type": "markdown",
      "metadata": {
        "id": "h5rpreWdXglc"
      },
      "source": [
        "L1"
      ]
    },
    {
      "cell_type": "code",
      "metadata": {
        "id": "gbq6B3VFUeJ9",
        "colab": {
          "base_uri": "https://localhost:8080/"
        },
        "outputId": "e20cb4cb-fc7d-454c-962b-475dd8e44976"
      },
      "source": [
        "k_fold(KNN_L1, set0, S0)\n",
        "k_fold(KNN_L1, set1, S1)\n",
        "k_fold(KNN_L1, set2, S2)\n",
        "k_fold(KNN_L1, set3, S3)\n",
        "k_fold(KNN_L1, set4, S4)\n",
        "k_fold(KNN_L1, set5, S5)"
      ],
      "execution_count": null,
      "outputs": [
        {
          "output_type": "stream",
          "name": "stdout",
          "text": [
            "MCC -0.07114807684288156\n",
            "MCC -0.03414680792221374\n",
            "MCC 0.08295841969034026\n",
            "MCC 0.0673640407879381\n",
            "MCC 0.07326953593978393\n",
            "MCC 0.06413455676098913\n"
          ]
        }
      ]
    },
    {
      "cell_type": "code",
      "metadata": {
        "id": "BtL0uEuoR0JA"
      },
      "source": [
        "L1_x_train = set3.iloc[:,:-1].to_numpy()\n",
        "L1_y_train = set3.iloc[:,-1:].to_numpy()\n",
        "L1_x_test = S3.iloc[:,:-1].to_numpy()\n",
        "L1_y_test = S3.iloc[:,-1:].to_numpy()\n",
        "L1_predict = KNN_L1(L1_x_train, L1_y_train, L1_x_test, 3)"
      ],
      "execution_count": null,
      "outputs": []
    },
    {
      "cell_type": "code",
      "metadata": {
        "id": "msH2x5GuYepq",
        "colab": {
          "base_uri": "https://localhost:8080/"
        },
        "outputId": "2adb9db7-54c0-4152-a949-4b74be202d88"
      },
      "source": [
        "metric(L1_y_test, L1_predict)"
      ],
      "execution_count": null,
      "outputs": [
        {
          "output_type": "stream",
          "name": "stdout",
          "text": [
            "accuracy 0.14\n",
            "precision 0.061309523809523814\n",
            "recall 0.125\n",
            "F1 0.07777777777777778\n",
            "MCC 0.0673640407879381\n",
            "Kappa Cohen 0.04782993799822843\n",
            "Confusion Matrix\n",
            " [[0 0 0 0 1 0 0 0 0 0 0 0]\n",
            " [0 0 0 1 0 0 0 0 0 0 0 0]\n",
            " [0 0 3 1 1 0 0 0 0 0 0 0]\n",
            " [0 0 1 2 2 0 0 0 0 0 0 0]\n",
            " [0 0 2 0 2 0 0 0 0 0 0 0]\n",
            " [0 0 0 1 1 0 0 0 0 0 0 0]\n",
            " [0 0 0 4 1 0 0 0 0 0 0 0]\n",
            " [0 0 1 8 0 0 0 0 0 0 0 0]\n",
            " [0 0 0 9 0 0 0 0 0 0 0 0]\n",
            " [0 0 0 4 0 0 0 0 0 0 0 0]\n",
            " [0 0 0 3 0 0 0 0 0 0 0 0]\n",
            " [0 0 0 2 0 0 0 0 0 0 0 0]]\n"
          ]
        },
        {
          "output_type": "stream",
          "name": "stderr",
          "text": [
            "/usr/local/lib/python3.7/dist-packages/sklearn/metrics/_classification.py:1308: UndefinedMetricWarning:\n",
            "\n",
            "Precision is ill-defined and being set to 0.0 in labels with no predicted samples. Use `zero_division` parameter to control this behavior.\n",
            "\n"
          ]
        }
      ]
    },
    {
      "cell_type": "code",
      "metadata": {
        "id": "12RohqWxf9mF",
        "colab": {
          "base_uri": "https://localhost:8080/"
        },
        "outputId": "2032b1ea-0751-48be-f86b-d388ce822882"
      },
      "source": [
        "skplt.metrics.plot_confusion_matrix(L1_y_test, L1_predict, figsize=(6,6))"
      ],
      "execution_count": null,
      "outputs": [
        {
          "output_type": "execute_result",
          "data": {
            "text/plain": [
              "<matplotlib.axes._subplots.AxesSubplot at 0x7fdb83ab2bd0>"
            ]
          },
          "metadata": {},
          "execution_count": 99
        },
        {
          "output_type": "display_data",
          "data": {
            "image/png": "[encoded data removed]",
            "text/plain": [
              "<Figure size 432x432 with 2 Axes>"
            ]
          },
          "metadata": {
            "needs_background": "light"
          }
        }
      ]
    },
    {
      "cell_type": "markdown",
      "metadata": {
        "id": "hw3MqLsRbJSt"
      },
      "source": [
        "###**Частина 3. Байєсівський класифікатор.**\n",
        "1. Розділити файл з даними на навчальну та тестову вибірки.\n",
        "2. Збудувати наївний байєсівський класифікатор для визначення значення\n",
        "цільової характеристики (останній стовпчик) на основі вхідних\n",
        "аргументів (початкові стовпчики).\n",
        "3. Перевірити якість його роботи, використовуючи файл із даними\n",
        "тестової вибірки.\n",
        "4. Для зробленої класифікації:\n",
        "\n",
        "1) Обчислити метрики accuracy, точності (precision), повноти (recall), $F_1$, MCC (Коефіцієнт кореляції Метьюса), Каппа Коена.\n",
        "\n",
        "2) Обчислити матрицю помилок (confusion matrix).\n",
        "\n",
        "3) Надати графічне представлення результатів.\n",
        "\n",
        "5. Виконати пункти 2-4, використавши алгоритм k-кратної крос валідації (K-Fold cross validation) до наданого датасету.\n",
        "\n",
        "6. Проаналізуйте отримані результати.\n"
      ]
    },
    {
      "cell_type": "code",
      "metadata": {
        "id": "JXeX5-poYkWP"
      },
      "source": [
        "from sklearn.metrics import accuracy_score\n",
        "from sklearn.metrics import precision_score\n",
        "from sklearn.metrics import recall_score\n",
        "from sklearn.metrics import f1_score\n",
        "from sklearn.metrics import matthews_corrcoef\n",
        "from sklearn.metrics import cohen_kappa_score\n",
        "from sklearn.metrics import confusion_matrix\n",
        "import scikitplot as skplt"
      ],
      "execution_count": null,
      "outputs": []
    },
    {
      "cell_type": "code",
      "metadata": {
        "id": "QSXzOS3OVCkE"
      },
      "source": [
        "import pandas as pd\n",
        "import numpy as np\n",
        "import seaborn as sns\n",
        "from matplotlib import pyplot as plt\n",
        "import plotly.graph_objects as go\n",
        "from plotly.subplots import make_subplots\n",
        "import math"
      ],
      "execution_count": null,
      "outputs": []
    },
    {
      "cell_type": "code",
      "metadata": {
        "id": "QSL-mpbdP9uV",
        "colab": {
          "base_uri": "https://localhost:8080/"
        },
        "outputId": "03daca7d-3691-4cc7-f01f-e864412f534d"
      },
      "source": [
        "file_url3 = \"https://raw.githubusercontent.com/IvanSergeyevichZhuk/ML_KPI/main/Data/Lab2/Part3/MN/MN09-Kovalenko.csv\"\n",
        "data3 = pd.read_csv(file_url3, header=None)\n",
        "data3"
      ],
      "execution_count": null,
      "outputs": [
        {
          "output_type": "execute_result",
          "data": {
            "text/html": [
              "\n",
              "  <div id=\"df-a821a25d-8024-4972-935f-80f8a8bfa520\">\n",
              "    <div class=\"colab-df-container\">\n",
              "      <div>\n",
              "<style scoped>\n",
              "    .dataframe tbody tr th:only-of-type {\n",
              "        vertical-align: middle;\n",
              "    }\n",
              "\n",
              "    .dataframe tbody tr th {\n",
              "        vertical-align: top;\n",
              "    }\n",
              "\n",
              "    .dataframe thead th {\n",
              "        text-align: right;\n",
              "    }\n",
              "</style>\n",
              "<table border=\"1\" class=\"dataframe\">\n",
              "  <thead>\n",
              "    <tr style=\"text-align: right;\">\n",
              "      <th></th>\n",
              "      <th>0</th>\n",
              "      <th>1</th>\n",
              "      <th>2</th>\n",
              "      <th>3</th>\n",
              "      <th>4</th>\n",
              "      <th>5</th>\n",
              "      <th>6</th>\n",
              "      <th>7</th>\n",
              "      <th>8</th>\n",
              "    </tr>\n",
              "  </thead>\n",
              "  <tbody>\n",
              "    <tr>\n",
              "      <th>0</th>\n",
              "      <td>32</td>\n",
              "      <td>State-gov</td>\n",
              "      <td>117927</td>\n",
              "      <td>Some-college</td>\n",
              "      <td>10</td>\n",
              "      <td>Never-married</td>\n",
              "      <td>Adm-clerical</td>\n",
              "      <td>Not-in-family</td>\n",
              "      <td>Black</td>\n",
              "    </tr>\n",
              "    <tr>\n",
              "      <th>1</th>\n",
              "      <td>20</td>\n",
              "      <td>Private</td>\n",
              "      <td>137651</td>\n",
              "      <td>Some-college</td>\n",
              "      <td>10</td>\n",
              "      <td>Never-married</td>\n",
              "      <td>Machine-op-inspct</td>\n",
              "      <td>Own-child</td>\n",
              "      <td>Amer-Indian-Eskimo</td>\n",
              "    </tr>\n",
              "    <tr>\n",
              "      <th>2</th>\n",
              "      <td>70</td>\n",
              "      <td>Private</td>\n",
              "      <td>131060</td>\n",
              "      <td>7th-8th</td>\n",
              "      <td>4</td>\n",
              "      <td>Married-civ-spouse</td>\n",
              "      <td>Other-service</td>\n",
              "      <td>Husband</td>\n",
              "      <td>White</td>\n",
              "    </tr>\n",
              "    <tr>\n",
              "      <th>3</th>\n",
              "      <td>57</td>\n",
              "      <td>Private</td>\n",
              "      <td>346963</td>\n",
              "      <td>Bachelors</td>\n",
              "      <td>13</td>\n",
              "      <td>Married-civ-spouse</td>\n",
              "      <td>Exec-managerial</td>\n",
              "      <td>Husband</td>\n",
              "      <td>White</td>\n",
              "    </tr>\n",
              "    <tr>\n",
              "      <th>4</th>\n",
              "      <td>54</td>\n",
              "      <td>Private</td>\n",
              "      <td>183611</td>\n",
              "      <td>Some-college</td>\n",
              "      <td>10</td>\n",
              "      <td>Married-civ-spouse</td>\n",
              "      <td>Sales</td>\n",
              "      <td>Husband</td>\n",
              "      <td>White</td>\n",
              "    </tr>\n",
              "    <tr>\n",
              "      <th>...</th>\n",
              "      <td>...</td>\n",
              "      <td>...</td>\n",
              "      <td>...</td>\n",
              "      <td>...</td>\n",
              "      <td>...</td>\n",
              "      <td>...</td>\n",
              "      <td>...</td>\n",
              "      <td>...</td>\n",
              "      <td>...</td>\n",
              "    </tr>\n",
              "    <tr>\n",
              "      <th>295</th>\n",
              "      <td>47</td>\n",
              "      <td>Private</td>\n",
              "      <td>155489</td>\n",
              "      <td>HS-grad</td>\n",
              "      <td>9</td>\n",
              "      <td>Married-civ-spouse</td>\n",
              "      <td>Transport-moving</td>\n",
              "      <td>Husband</td>\n",
              "      <td>White</td>\n",
              "    </tr>\n",
              "    <tr>\n",
              "      <th>296</th>\n",
              "      <td>18</td>\n",
              "      <td>Private</td>\n",
              "      <td>57413</td>\n",
              "      <td>Some-college</td>\n",
              "      <td>10</td>\n",
              "      <td>Divorced</td>\n",
              "      <td>Other-service</td>\n",
              "      <td>Own-child</td>\n",
              "      <td>White</td>\n",
              "    </tr>\n",
              "    <tr>\n",
              "      <th>297</th>\n",
              "      <td>48</td>\n",
              "      <td>Private</td>\n",
              "      <td>320421</td>\n",
              "      <td>HS-grad</td>\n",
              "      <td>9</td>\n",
              "      <td>Married-civ-spouse</td>\n",
              "      <td>Sales</td>\n",
              "      <td>Husband</td>\n",
              "      <td>White</td>\n",
              "    </tr>\n",
              "    <tr>\n",
              "      <th>298</th>\n",
              "      <td>50</td>\n",
              "      <td>Self-emp-not-inc</td>\n",
              "      <td>174752</td>\n",
              "      <td>HS-grad</td>\n",
              "      <td>9</td>\n",
              "      <td>Divorced</td>\n",
              "      <td>Farming-fishing</td>\n",
              "      <td>Not-in-family</td>\n",
              "      <td>White</td>\n",
              "    </tr>\n",
              "    <tr>\n",
              "      <th>299</th>\n",
              "      <td>40</td>\n",
              "      <td>State-gov</td>\n",
              "      <td>229364</td>\n",
              "      <td>Masters</td>\n",
              "      <td>14</td>\n",
              "      <td>Divorced</td>\n",
              "      <td>Prof-specialty</td>\n",
              "      <td>Not-in-family</td>\n",
              "      <td>White</td>\n",
              "    </tr>\n",
              "  </tbody>\n",
              "</table>\n",
              "<p>300 rows × 9 columns</p>\n",
              "</div>\n",
              "      <button class=\"colab-df-convert\" onclick=\"convertToInteractive('df-a821a25d-8024-4972-935f-80f8a8bfa520')\"\n",
              "              title=\"Convert this dataframe to an interactive table.\"\n",
              "              style=\"display:none;\">\n",
              "        \n",
              "  <svg xmlns=\"http://www.w3.org/2000/svg\" height=\"24px\"viewBox=\"0 0 24 24\"\n",
              "       width=\"24px\">\n",
              "    <path d=\"M0 0h24v24H0V0z\" fill=\"none\"/>\n",
              "    <path d=\"M18.56 5.44l.94 2.06.94-2.06 2.06-.94-2.06-.94-.94-2.06-.94 2.06-2.06.94zm-11 1L8.5 8.5l.94-2.06 2.06-.94-2.06-.94L8.5 2.5l-.94 2.06-2.06.94zm10 10l.94 2.06.94-2.06 2.06-.94-2.06-.94-.94-2.06-.94 2.06-2.06.94z\"/><path d=\"M17.41 7.96l-1.37-1.37c-.4-.4-.92-.59-1.43-.59-.52 0-1.04.2-1.43.59L10.3 9.45l-7.72 7.72c-.78.78-.78 2.05 0 2.83L4 21.41c.39.39.9.59 1.41.59.51 0 1.02-.2 1.41-.59l7.78-7.78 2.81-2.81c.8-.78.8-2.07 0-2.86zM5.41 20L4 18.59l7.72-7.72 1.47 1.35L5.41 20z\"/>\n",
              "  </svg>\n",
              "      </button>\n",
              "      \n",
              "  <style>\n",
              "    .colab-df-container {\n",
              "      display:flex;\n",
              "      flex-wrap:wrap;\n",
              "      gap: 12px;\n",
              "    }\n",
              "\n",
              "    .colab-df-convert {\n",
              "      background-color: #E8F0FE;\n",
              "      border: none;\n",
              "      border-radius: 50%;\n",
              "      cursor: pointer;\n",
              "      display: none;\n",
              "      fill: #1967D2;\n",
              "      height: 32px;\n",
              "      padding: 0 0 0 0;\n",
              "      width: 32px;\n",
              "    }\n",
              "\n",
              "    .colab-df-convert:hover {\n",
              "      background-color: #E2EBFA;\n",
              "      box-shadow: 0px 1px 2px rgba(60, 64, 67, 0.3), 0px 1px 3px 1px rgba(60, 64, 67, 0.15);\n",
              "      fill: #174EA6;\n",
              "    }\n",
              "\n",
              "    [theme=dark] .colab-df-convert {\n",
              "      background-color: #3B4455;\n",
              "      fill: #D2E3FC;\n",
              "    }\n",
              "\n",
              "    [theme=dark] .colab-df-convert:hover {\n",
              "      background-color: #434B5C;\n",
              "      box-shadow: 0px 1px 3px 1px rgba(0, 0, 0, 0.15);\n",
              "      filter: drop-shadow(0px 1px 2px rgba(0, 0, 0, 0.3));\n",
              "      fill: #FFFFFF;\n",
              "    }\n",
              "  </style>\n",
              "\n",
              "      <script>\n",
              "        const buttonEl =\n",
              "          document.querySelector('#df-a821a25d-8024-4972-935f-80f8a8bfa520 button.colab-df-convert');\n",
              "        buttonEl.style.display =\n",
              "          google.colab.kernel.accessAllowed ? 'block' : 'none';\n",
              "\n",
              "        async function convertToInteractive(key) {\n",
              "          const element = document.querySelector('#df-a821a25d-8024-4972-935f-80f8a8bfa520');\n",
              "          const dataTable =\n",
              "            await google.colab.kernel.invokeFunction('convertToInteractive',\n",
              "                                                     [key], {});\n",
              "          if (!dataTable) return;\n",
              "\n",
              "          const docLinkHtml = 'Like what you see? Visit the ' +\n",
              "            '<a target=\"_blank\" href=https://colab.research.google.com/notebooks/data_table.ipynb>data table notebook</a>'\n",
              "            + ' to learn more about interactive tables.';\n",
              "          element.innerHTML = '';\n",
              "          dataTable['output_type'] = 'display_data';\n",
              "          await google.colab.output.renderOutput(dataTable, element);\n",
              "          const docLink = document.createElement('div');\n",
              "          docLink.innerHTML = docLinkHtml;\n",
              "          element.appendChild(docLink);\n",
              "        }\n",
              "      </script>\n",
              "    </div>\n",
              "  </div>\n",
              "  "
            ],
            "text/plain": [
              "      0                  1  ...               7                    8\n",
              "0    32          State-gov  ...   Not-in-family                Black\n",
              "1    20            Private  ...       Own-child   Amer-Indian-Eskimo\n",
              "2    70            Private  ...         Husband                White\n",
              "3    57            Private  ...         Husband                White\n",
              "4    54            Private  ...         Husband                White\n",
              "..   ..                ...  ...             ...                  ...\n",
              "295  47            Private  ...         Husband                White\n",
              "296  18            Private  ...       Own-child                White\n",
              "297  48            Private  ...         Husband                White\n",
              "298  50   Self-emp-not-inc  ...   Not-in-family                White\n",
              "299  40          State-gov  ...   Not-in-family                White\n",
              "\n",
              "[300 rows x 9 columns]"
            ]
          },
          "metadata": {},
          "execution_count": 102
        }
      ]
    },
    {
      "cell_type": "code",
      "metadata": {
        "id": "BlTE7pyEQiX4",
        "colab": {
          "base_uri": "https://localhost:8080/"
        },
        "outputId": "5a76e54f-5761-4e66-dc8f-cea2131bc349"
      },
      "source": [
        "data3[8].unique()"
      ],
      "execution_count": null,
      "outputs": [
        {
          "output_type": "execute_result",
          "data": {
            "text/plain": [
              "array([' Black', ' Amer-Indian-Eskimo', ' White', ' Asian-Pac-Islander',\n",
              "       ' Other'], dtype=object)"
            ]
          },
          "metadata": {},
          "execution_count": 103
        }
      ]
    },
    {
      "cell_type": "code",
      "metadata": {
        "id": "Z-M7bi5pU4Dl",
        "colab": {
          "base_uri": "https://localhost:8080/"
        },
        "outputId": "d457eaf5-5807-4d41-b622-d96bbbf8e64d"
      },
      "source": [
        "df3 = data3.set_axis([0, 1, 2, 3, 4, 5, 6, 7, 8] , axis=1)\n",
        "df3 = pd.get_dummies(data=df3, columns=[1, 3, 5, 6, 7])\n",
        "df3"
      ],
      "execution_count": null,
      "outputs": [
        {
          "output_type": "execute_result",
          "data": {
            "text/html": [
              "\n",
              "  <div id=\"df-f891987e-76e2-4e2d-9380-3889b1b33643\">\n",
              "    <div class=\"colab-df-container\">\n",
              "      <div>\n",
              "<style scoped>\n",
              "    .dataframe tbody tr th:only-of-type {\n",
              "        vertical-align: middle;\n",
              "    }\n",
              "\n",
              "    .dataframe tbody tr th {\n",
              "        vertical-align: top;\n",
              "    }\n",
              "\n",
              "    .dataframe thead th {\n",
              "        text-align: right;\n",
              "    }\n",
              "</style>\n",
              "<table border=\"1\" class=\"dataframe\">\n",
              "  <thead>\n",
              "    <tr style=\"text-align: right;\">\n",
              "      <th></th>\n",
              "      <th>0</th>\n",
              "      <th>2</th>\n",
              "      <th>4</th>\n",
              "      <th>8</th>\n",
              "      <th>1_ ?</th>\n",
              "      <th>1_ Federal-gov</th>\n",
              "      <th>1_ Local-gov</th>\n",
              "      <th>1_ Private</th>\n",
              "      <th>1_ Self-emp-inc</th>\n",
              "      <th>1_ Self-emp-not-inc</th>\n",
              "      <th>1_ State-gov</th>\n",
              "      <th>3_ 10th</th>\n",
              "      <th>3_ 11th</th>\n",
              "      <th>3_ 12th</th>\n",
              "      <th>3_ 1st-4th</th>\n",
              "      <th>3_ 5th-6th</th>\n",
              "      <th>3_ 7th-8th</th>\n",
              "      <th>3_ 9th</th>\n",
              "      <th>3_ Assoc-acdm</th>\n",
              "      <th>3_ Assoc-voc</th>\n",
              "      <th>3_ Bachelors</th>\n",
              "      <th>3_ Doctorate</th>\n",
              "      <th>3_ HS-grad</th>\n",
              "      <th>3_ Masters</th>\n",
              "      <th>3_ Prof-school</th>\n",
              "      <th>3_ Some-college</th>\n",
              "      <th>5_ Divorced</th>\n",
              "      <th>5_ Married-civ-spouse</th>\n",
              "      <th>5_ Married-spouse-absent</th>\n",
              "      <th>5_ Never-married</th>\n",
              "      <th>5_ Separated</th>\n",
              "      <th>5_ Widowed</th>\n",
              "      <th>6_ ?</th>\n",
              "      <th>6_ Adm-clerical</th>\n",
              "      <th>6_ Craft-repair</th>\n",
              "      <th>6_ Exec-managerial</th>\n",
              "      <th>6_ Farming-fishing</th>\n",
              "      <th>6_ Handlers-cleaners</th>\n",
              "      <th>6_ Machine-op-inspct</th>\n",
              "      <th>6_ Other-service</th>\n",
              "      <th>6_ Prof-specialty</th>\n",
              "      <th>6_ Protective-serv</th>\n",
              "      <th>6_ Sales</th>\n",
              "      <th>6_ Tech-support</th>\n",
              "      <th>6_ Transport-moving</th>\n",
              "      <th>7_ Husband</th>\n",
              "      <th>7_ Not-in-family</th>\n",
              "      <th>7_ Other-relative</th>\n",
              "      <th>7_ Own-child</th>\n",
              "      <th>7_ Unmarried</th>\n",
              "      <th>7_ Wife</th>\n",
              "    </tr>\n",
              "  </thead>\n",
              "  <tbody>\n",
              "    <tr>\n",
              "      <th>0</th>\n",
              "      <td>32</td>\n",
              "      <td>117927</td>\n",
              "      <td>10</td>\n",
              "      <td>Black</td>\n",
              "      <td>0</td>\n",
              "      <td>0</td>\n",
              "      <td>0</td>\n",
              "      <td>0</td>\n",
              "      <td>0</td>\n",
              "      <td>0</td>\n",
              "      <td>1</td>\n",
              "      <td>0</td>\n",
              "      <td>0</td>\n",
              "      <td>0</td>\n",
              "      <td>0</td>\n",
              "      <td>0</td>\n",
              "      <td>0</td>\n",
              "      <td>0</td>\n",
              "      <td>0</td>\n",
              "      <td>0</td>\n",
              "      <td>0</td>\n",
              "      <td>0</td>\n",
              "      <td>0</td>\n",
              "      <td>0</td>\n",
              "      <td>0</td>\n",
              "      <td>1</td>\n",
              "      <td>0</td>\n",
              "      <td>0</td>\n",
              "      <td>0</td>\n",
              "      <td>1</td>\n",
              "      <td>0</td>\n",
              "      <td>0</td>\n",
              "      <td>0</td>\n",
              "      <td>1</td>\n",
              "      <td>0</td>\n",
              "      <td>0</td>\n",
              "      <td>0</td>\n",
              "      <td>0</td>\n",
              "      <td>0</td>\n",
              "      <td>0</td>\n",
              "      <td>0</td>\n",
              "      <td>0</td>\n",
              "      <td>0</td>\n",
              "      <td>0</td>\n",
              "      <td>0</td>\n",
              "      <td>0</td>\n",
              "      <td>1</td>\n",
              "      <td>0</td>\n",
              "      <td>0</td>\n",
              "      <td>0</td>\n",
              "      <td>0</td>\n",
              "    </tr>\n",
              "    <tr>\n",
              "      <th>1</th>\n",
              "      <td>20</td>\n",
              "      <td>137651</td>\n",
              "      <td>10</td>\n",
              "      <td>Amer-Indian-Eskimo</td>\n",
              "      <td>0</td>\n",
              "      <td>0</td>\n",
              "      <td>0</td>\n",
              "      <td>1</td>\n",
              "      <td>0</td>\n",
              "      <td>0</td>\n",
              "      <td>0</td>\n",
              "      <td>0</td>\n",
              "      <td>0</td>\n",
              "      <td>0</td>\n",
              "      <td>0</td>\n",
              "      <td>0</td>\n",
              "      <td>0</td>\n",
              "      <td>0</td>\n",
              "      <td>0</td>\n",
              "      <td>0</td>\n",
              "      <td>0</td>\n",
              "      <td>0</td>\n",
              "      <td>0</td>\n",
              "      <td>0</td>\n",
              "      <td>0</td>\n",
              "      <td>1</td>\n",
              "      <td>0</td>\n",
              "      <td>0</td>\n",
              "      <td>0</td>\n",
              "      <td>1</td>\n",
              "      <td>0</td>\n",
              "      <td>0</td>\n",
              "      <td>0</td>\n",
              "      <td>0</td>\n",
              "      <td>0</td>\n",
              "      <td>0</td>\n",
              "      <td>0</td>\n",
              "      <td>0</td>\n",
              "      <td>1</td>\n",
              "      <td>0</td>\n",
              "      <td>0</td>\n",
              "      <td>0</td>\n",
              "      <td>0</td>\n",
              "      <td>0</td>\n",
              "      <td>0</td>\n",
              "      <td>0</td>\n",
              "      <td>0</td>\n",
              "      <td>0</td>\n",
              "      <td>1</td>\n",
              "      <td>0</td>\n",
              "      <td>0</td>\n",
              "    </tr>\n",
              "    <tr>\n",
              "      <th>2</th>\n",
              "      <td>70</td>\n",
              "      <td>131060</td>\n",
              "      <td>4</td>\n",
              "      <td>White</td>\n",
              "      <td>0</td>\n",
              "      <td>0</td>\n",
              "      <td>0</td>\n",
              "      <td>1</td>\n",
              "      <td>0</td>\n",
              "      <td>0</td>\n",
              "      <td>0</td>\n",
              "      <td>0</td>\n",
              "      <td>0</td>\n",
              "      <td>0</td>\n",
              "      <td>0</td>\n",
              "      <td>0</td>\n",
              "      <td>1</td>\n",
              "      <td>0</td>\n",
              "      <td>0</td>\n",
              "      <td>0</td>\n",
              "      <td>0</td>\n",
              "      <td>0</td>\n",
              "      <td>0</td>\n",
              "      <td>0</td>\n",
              "      <td>0</td>\n",
              "      <td>0</td>\n",
              "      <td>0</td>\n",
              "      <td>1</td>\n",
              "      <td>0</td>\n",
              "      <td>0</td>\n",
              "      <td>0</td>\n",
              "      <td>0</td>\n",
              "      <td>0</td>\n",
              "      <td>0</td>\n",
              "      <td>0</td>\n",
              "      <td>0</td>\n",
              "      <td>0</td>\n",
              "      <td>0</td>\n",
              "      <td>0</td>\n",
              "      <td>1</td>\n",
              "      <td>0</td>\n",
              "      <td>0</td>\n",
              "      <td>0</td>\n",
              "      <td>0</td>\n",
              "      <td>0</td>\n",
              "      <td>1</td>\n",
              "      <td>0</td>\n",
              "      <td>0</td>\n",
              "      <td>0</td>\n",
              "      <td>0</td>\n",
              "      <td>0</td>\n",
              "    </tr>\n",
              "    <tr>\n",
              "      <th>3</th>\n",
              "      <td>57</td>\n",
              "      <td>346963</td>\n",
              "      <td>13</td>\n",
              "      <td>White</td>\n",
              "      <td>0</td>\n",
              "      <td>0</td>\n",
              "      <td>0</td>\n",
              "      <td>1</td>\n",
              "      <td>0</td>\n",
              "      <td>0</td>\n",
              "      <td>0</td>\n",
              "      <td>0</td>\n",
              "      <td>0</td>\n",
              "      <td>0</td>\n",
              "      <td>0</td>\n",
              "      <td>0</td>\n",
              "      <td>0</td>\n",
              "      <td>0</td>\n",
              "      <td>0</td>\n",
              "      <td>0</td>\n",
              "      <td>1</td>\n",
              "      <td>0</td>\n",
              "      <td>0</td>\n",
              "      <td>0</td>\n",
              "      <td>0</td>\n",
              "      <td>0</td>\n",
              "      <td>0</td>\n",
              "      <td>1</td>\n",
              "      <td>0</td>\n",
              "      <td>0</td>\n",
              "      <td>0</td>\n",
              "      <td>0</td>\n",
              "      <td>0</td>\n",
              "      <td>0</td>\n",
              "      <td>0</td>\n",
              "      <td>1</td>\n",
              "      <td>0</td>\n",
              "      <td>0</td>\n",
              "      <td>0</td>\n",
              "      <td>0</td>\n",
              "      <td>0</td>\n",
              "      <td>0</td>\n",
              "      <td>0</td>\n",
              "      <td>0</td>\n",
              "      <td>0</td>\n",
              "      <td>1</td>\n",
              "      <td>0</td>\n",
              "      <td>0</td>\n",
              "      <td>0</td>\n",
              "      <td>0</td>\n",
              "      <td>0</td>\n",
              "    </tr>\n",
              "    <tr>\n",
              "      <th>4</th>\n",
              "      <td>54</td>\n",
              "      <td>183611</td>\n",
              "      <td>10</td>\n",
              "      <td>White</td>\n",
              "      <td>0</td>\n",
              "      <td>0</td>\n",
              "      <td>0</td>\n",
              "      <td>1</td>\n",
              "      <td>0</td>\n",
              "      <td>0</td>\n",
              "      <td>0</td>\n",
              "      <td>0</td>\n",
              "      <td>0</td>\n",
              "      <td>0</td>\n",
              "      <td>0</td>\n",
              "      <td>0</td>\n",
              "      <td>0</td>\n",
              "      <td>0</td>\n",
              "      <td>0</td>\n",
              "      <td>0</td>\n",
              "      <td>0</td>\n",
              "      <td>0</td>\n",
              "      <td>0</td>\n",
              "      <td>0</td>\n",
              "      <td>0</td>\n",
              "      <td>1</td>\n",
              "      <td>0</td>\n",
              "      <td>1</td>\n",
              "      <td>0</td>\n",
              "      <td>0</td>\n",
              "      <td>0</td>\n",
              "      <td>0</td>\n",
              "      <td>0</td>\n",
              "      <td>0</td>\n",
              "      <td>0</td>\n",
              "      <td>0</td>\n",
              "      <td>0</td>\n",
              "      <td>0</td>\n",
              "      <td>0</td>\n",
              "      <td>0</td>\n",
              "      <td>0</td>\n",
              "      <td>0</td>\n",
              "      <td>1</td>\n",
              "      <td>0</td>\n",
              "      <td>0</td>\n",
              "      <td>1</td>\n",
              "      <td>0</td>\n",
              "      <td>0</td>\n",
              "      <td>0</td>\n",
              "      <td>0</td>\n",
              "      <td>0</td>\n",
              "    </tr>\n",
              "    <tr>\n",
              "      <th>...</th>\n",
              "      <td>...</td>\n",
              "      <td>...</td>\n",
              "      <td>...</td>\n",
              "      <td>...</td>\n",
              "      <td>...</td>\n",
              "      <td>...</td>\n",
              "      <td>...</td>\n",
              "      <td>...</td>\n",
              "      <td>...</td>\n",
              "      <td>...</td>\n",
              "      <td>...</td>\n",
              "      <td>...</td>\n",
              "      <td>...</td>\n",
              "      <td>...</td>\n",
              "      <td>...</td>\n",
              "      <td>...</td>\n",
              "      <td>...</td>\n",
              "      <td>...</td>\n",
              "      <td>...</td>\n",
              "      <td>...</td>\n",
              "      <td>...</td>\n",
              "      <td>...</td>\n",
              "      <td>...</td>\n",
              "      <td>...</td>\n",
              "      <td>...</td>\n",
              "      <td>...</td>\n",
              "      <td>...</td>\n",
              "      <td>...</td>\n",
              "      <td>...</td>\n",
              "      <td>...</td>\n",
              "      <td>...</td>\n",
              "      <td>...</td>\n",
              "      <td>...</td>\n",
              "      <td>...</td>\n",
              "      <td>...</td>\n",
              "      <td>...</td>\n",
              "      <td>...</td>\n",
              "      <td>...</td>\n",
              "      <td>...</td>\n",
              "      <td>...</td>\n",
              "      <td>...</td>\n",
              "      <td>...</td>\n",
              "      <td>...</td>\n",
              "      <td>...</td>\n",
              "      <td>...</td>\n",
              "      <td>...</td>\n",
              "      <td>...</td>\n",
              "      <td>...</td>\n",
              "      <td>...</td>\n",
              "      <td>...</td>\n",
              "      <td>...</td>\n",
              "    </tr>\n",
              "    <tr>\n",
              "      <th>295</th>\n",
              "      <td>47</td>\n",
              "      <td>155489</td>\n",
              "      <td>9</td>\n",
              "      <td>White</td>\n",
              "      <td>0</td>\n",
              "      <td>0</td>\n",
              "      <td>0</td>\n",
              "      <td>1</td>\n",
              "      <td>0</td>\n",
              "      <td>0</td>\n",
              "      <td>0</td>\n",
              "      <td>0</td>\n",
              "      <td>0</td>\n",
              "      <td>0</td>\n",
              "      <td>0</td>\n",
              "      <td>0</td>\n",
              "      <td>0</td>\n",
              "      <td>0</td>\n",
              "      <td>0</td>\n",
              "      <td>0</td>\n",
              "      <td>0</td>\n",
              "      <td>0</td>\n",
              "      <td>1</td>\n",
              "      <td>0</td>\n",
              "      <td>0</td>\n",
              "      <td>0</td>\n",
              "      <td>0</td>\n",
              "      <td>1</td>\n",
              "      <td>0</td>\n",
              "      <td>0</td>\n",
              "      <td>0</td>\n",
              "      <td>0</td>\n",
              "      <td>0</td>\n",
              "      <td>0</td>\n",
              "      <td>0</td>\n",
              "      <td>0</td>\n",
              "      <td>0</td>\n",
              "      <td>0</td>\n",
              "      <td>0</td>\n",
              "      <td>0</td>\n",
              "      <td>0</td>\n",
              "      <td>0</td>\n",
              "      <td>0</td>\n",
              "      <td>0</td>\n",
              "      <td>1</td>\n",
              "      <td>1</td>\n",
              "      <td>0</td>\n",
              "      <td>0</td>\n",
              "      <td>0</td>\n",
              "      <td>0</td>\n",
              "      <td>0</td>\n",
              "    </tr>\n",
              "    <tr>\n",
              "      <th>296</th>\n",
              "      <td>18</td>\n",
              "      <td>57413</td>\n",
              "      <td>10</td>\n",
              "      <td>White</td>\n",
              "      <td>0</td>\n",
              "      <td>0</td>\n",
              "      <td>0</td>\n",
              "      <td>1</td>\n",
              "      <td>0</td>\n",
              "      <td>0</td>\n",
              "      <td>0</td>\n",
              "      <td>0</td>\n",
              "      <td>0</td>\n",
              "      <td>0</td>\n",
              "      <td>0</td>\n",
              "      <td>0</td>\n",
              "      <td>0</td>\n",
              "      <td>0</td>\n",
              "      <td>0</td>\n",
              "      <td>0</td>\n",
              "      <td>0</td>\n",
              "      <td>0</td>\n",
              "      <td>0</td>\n",
              "      <td>0</td>\n",
              "      <td>0</td>\n",
              "      <td>1</td>\n",
              "      <td>1</td>\n",
              "      <td>0</td>\n",
              "      <td>0</td>\n",
              "      <td>0</td>\n",
              "      <td>0</td>\n",
              "      <td>0</td>\n",
              "      <td>0</td>\n",
              "      <td>0</td>\n",
              "      <td>0</td>\n",
              "      <td>0</td>\n",
              "      <td>0</td>\n",
              "      <td>0</td>\n",
              "      <td>0</td>\n",
              "      <td>1</td>\n",
              "      <td>0</td>\n",
              "      <td>0</td>\n",
              "      <td>0</td>\n",
              "      <td>0</td>\n",
              "      <td>0</td>\n",
              "      <td>0</td>\n",
              "      <td>0</td>\n",
              "      <td>0</td>\n",
              "      <td>1</td>\n",
              "      <td>0</td>\n",
              "      <td>0</td>\n",
              "    </tr>\n",
              "    <tr>\n",
              "      <th>297</th>\n",
              "      <td>48</td>\n",
              "      <td>320421</td>\n",
              "      <td>9</td>\n",
              "      <td>White</td>\n",
              "      <td>0</td>\n",
              "      <td>0</td>\n",
              "      <td>0</td>\n",
              "      <td>1</td>\n",
              "      <td>0</td>\n",
              "      <td>0</td>\n",
              "      <td>0</td>\n",
              "      <td>0</td>\n",
              "      <td>0</td>\n",
              "      <td>0</td>\n",
              "      <td>0</td>\n",
              "      <td>0</td>\n",
              "      <td>0</td>\n",
              "      <td>0</td>\n",
              "      <td>0</td>\n",
              "      <td>0</td>\n",
              "      <td>0</td>\n",
              "      <td>0</td>\n",
              "      <td>1</td>\n",
              "      <td>0</td>\n",
              "      <td>0</td>\n",
              "      <td>0</td>\n",
              "      <td>0</td>\n",
              "      <td>1</td>\n",
              "      <td>0</td>\n",
              "      <td>0</td>\n",
              "      <td>0</td>\n",
              "      <td>0</td>\n",
              "      <td>0</td>\n",
              "      <td>0</td>\n",
              "      <td>0</td>\n",
              "      <td>0</td>\n",
              "      <td>0</td>\n",
              "      <td>0</td>\n",
              "      <td>0</td>\n",
              "      <td>0</td>\n",
              "      <td>0</td>\n",
              "      <td>0</td>\n",
              "      <td>1</td>\n",
              "      <td>0</td>\n",
              "      <td>0</td>\n",
              "      <td>1</td>\n",
              "      <td>0</td>\n",
              "      <td>0</td>\n",
              "      <td>0</td>\n",
              "      <td>0</td>\n",
              "      <td>0</td>\n",
              "    </tr>\n",
              "    <tr>\n",
              "      <th>298</th>\n",
              "      <td>50</td>\n",
              "      <td>174752</td>\n",
              "      <td>9</td>\n",
              "      <td>White</td>\n",
              "      <td>0</td>\n",
              "      <td>0</td>\n",
              "      <td>0</td>\n",
              "      <td>0</td>\n",
              "      <td>0</td>\n",
              "      <td>1</td>\n",
              "      <td>0</td>\n",
              "      <td>0</td>\n",
              "      <td>0</td>\n",
              "      <td>0</td>\n",
              "      <td>0</td>\n",
              "      <td>0</td>\n",
              "      <td>0</td>\n",
              "      <td>0</td>\n",
              "      <td>0</td>\n",
              "      <td>0</td>\n",
              "      <td>0</td>\n",
              "      <td>0</td>\n",
              "      <td>1</td>\n",
              "      <td>0</td>\n",
              "      <td>0</td>\n",
              "      <td>0</td>\n",
              "      <td>1</td>\n",
              "      <td>0</td>\n",
              "      <td>0</td>\n",
              "      <td>0</td>\n",
              "      <td>0</td>\n",
              "      <td>0</td>\n",
              "      <td>0</td>\n",
              "      <td>0</td>\n",
              "      <td>0</td>\n",
              "      <td>0</td>\n",
              "      <td>1</td>\n",
              "      <td>0</td>\n",
              "      <td>0</td>\n",
              "      <td>0</td>\n",
              "      <td>0</td>\n",
              "      <td>0</td>\n",
              "      <td>0</td>\n",
              "      <td>0</td>\n",
              "      <td>0</td>\n",
              "      <td>0</td>\n",
              "      <td>1</td>\n",
              "      <td>0</td>\n",
              "      <td>0</td>\n",
              "      <td>0</td>\n",
              "      <td>0</td>\n",
              "    </tr>\n",
              "    <tr>\n",
              "      <th>299</th>\n",
              "      <td>40</td>\n",
              "      <td>229364</td>\n",
              "      <td>14</td>\n",
              "      <td>White</td>\n",
              "      <td>0</td>\n",
              "      <td>0</td>\n",
              "      <td>0</td>\n",
              "      <td>0</td>\n",
              "      <td>0</td>\n",
              "      <td>0</td>\n",
              "      <td>1</td>\n",
              "      <td>0</td>\n",
              "      <td>0</td>\n",
              "      <td>0</td>\n",
              "      <td>0</td>\n",
              "      <td>0</td>\n",
              "      <td>0</td>\n",
              "      <td>0</td>\n",
              "      <td>0</td>\n",
              "      <td>0</td>\n",
              "      <td>0</td>\n",
              "      <td>0</td>\n",
              "      <td>0</td>\n",
              "      <td>1</td>\n",
              "      <td>0</td>\n",
              "      <td>0</td>\n",
              "      <td>1</td>\n",
              "      <td>0</td>\n",
              "      <td>0</td>\n",
              "      <td>0</td>\n",
              "      <td>0</td>\n",
              "      <td>0</td>\n",
              "      <td>0</td>\n",
              "      <td>0</td>\n",
              "      <td>0</td>\n",
              "      <td>0</td>\n",
              "      <td>0</td>\n",
              "      <td>0</td>\n",
              "      <td>0</td>\n",
              "      <td>0</td>\n",
              "      <td>1</td>\n",
              "      <td>0</td>\n",
              "      <td>0</td>\n",
              "      <td>0</td>\n",
              "      <td>0</td>\n",
              "      <td>0</td>\n",
              "      <td>1</td>\n",
              "      <td>0</td>\n",
              "      <td>0</td>\n",
              "      <td>0</td>\n",
              "      <td>0</td>\n",
              "    </tr>\n",
              "  </tbody>\n",
              "</table>\n",
              "<p>300 rows × 51 columns</p>\n",
              "</div>\n",
              "      <button class=\"colab-df-convert\" onclick=\"convertToInteractive('df-f891987e-76e2-4e2d-9380-3889b1b33643')\"\n",
              "              title=\"Convert this dataframe to an interactive table.\"\n",
              "              style=\"display:none;\">\n",
              "        \n",
              "  <svg xmlns=\"http://www.w3.org/2000/svg\" height=\"24px\"viewBox=\"0 0 24 24\"\n",
              "       width=\"24px\">\n",
              "    <path d=\"M0 0h24v24H0V0z\" fill=\"none\"/>\n",
              "    <path d=\"M18.56 5.44l.94 2.06.94-2.06 2.06-.94-2.06-.94-.94-2.06-.94 2.06-2.06.94zm-11 1L8.5 8.5l.94-2.06 2.06-.94-2.06-.94L8.5 2.5l-.94 2.06-2.06.94zm10 10l.94 2.06.94-2.06 2.06-.94-2.06-.94-.94-2.06-.94 2.06-2.06.94z\"/><path d=\"M17.41 7.96l-1.37-1.37c-.4-.4-.92-.59-1.43-.59-.52 0-1.04.2-1.43.59L10.3 9.45l-7.72 7.72c-.78.78-.78 2.05 0 2.83L4 21.41c.39.39.9.59 1.41.59.51 0 1.02-.2 1.41-.59l7.78-7.78 2.81-2.81c.8-.78.8-2.07 0-2.86zM5.41 20L4 18.59l7.72-7.72 1.47 1.35L5.41 20z\"/>\n",
              "  </svg>\n",
              "      </button>\n",
              "      \n",
              "  <style>\n",
              "    .colab-df-container {\n",
              "      display:flex;\n",
              "      flex-wrap:wrap;\n",
              "      gap: 12px;\n",
              "    }\n",
              "\n",
              "    .colab-df-convert {\n",
              "      background-color: #E8F0FE;\n",
              "      border: none;\n",
              "      border-radius: 50%;\n",
              "      cursor: pointer;\n",
              "      display: none;\n",
              "      fill: #1967D2;\n",
              "      height: 32px;\n",
              "      padding: 0 0 0 0;\n",
              "      width: 32px;\n",
              "    }\n",
              "\n",
              "    .colab-df-convert:hover {\n",
              "      background-color: #E2EBFA;\n",
              "      box-shadow: 0px 1px 2px rgba(60, 64, 67, 0.3), 0px 1px 3px 1px rgba(60, 64, 67, 0.15);\n",
              "      fill: #174EA6;\n",
              "    }\n",
              "\n",
              "    [theme=dark] .colab-df-convert {\n",
              "      background-color: #3B4455;\n",
              "      fill: #D2E3FC;\n",
              "    }\n",
              "\n",
              "    [theme=dark] .colab-df-convert:hover {\n",
              "      background-color: #434B5C;\n",
              "      box-shadow: 0px 1px 3px 1px rgba(0, 0, 0, 0.15);\n",
              "      filter: drop-shadow(0px 1px 2px rgba(0, 0, 0, 0.3));\n",
              "      fill: #FFFFFF;\n",
              "    }\n",
              "  </style>\n",
              "\n",
              "      <script>\n",
              "        const buttonEl =\n",
              "          document.querySelector('#df-f891987e-76e2-4e2d-9380-3889b1b33643 button.colab-df-convert');\n",
              "        buttonEl.style.display =\n",
              "          google.colab.kernel.accessAllowed ? 'block' : 'none';\n",
              "\n",
              "        async function convertToInteractive(key) {\n",
              "          const element = document.querySelector('#df-f891987e-76e2-4e2d-9380-3889b1b33643');\n",
              "          const dataTable =\n",
              "            await google.colab.kernel.invokeFunction('convertToInteractive',\n",
              "                                                     [key], {});\n",
              "          if (!dataTable) return;\n",
              "\n",
              "          const docLinkHtml = 'Like what you see? Visit the ' +\n",
              "            '<a target=\"_blank\" href=https://colab.research.google.com/notebooks/data_table.ipynb>data table notebook</a>'\n",
              "            + ' to learn more about interactive tables.';\n",
              "          element.innerHTML = '';\n",
              "          dataTable['output_type'] = 'display_data';\n",
              "          await google.colab.output.renderOutput(dataTable, element);\n",
              "          const docLink = document.createElement('div');\n",
              "          docLink.innerHTML = docLinkHtml;\n",
              "          element.appendChild(docLink);\n",
              "        }\n",
              "      </script>\n",
              "    </div>\n",
              "  </div>\n",
              "  "
            ],
            "text/plain": [
              "      0       2   4  ... 7_ Own-child  7_ Unmarried  7_ Wife\n",
              "0    32  117927  10  ...            0             0        0\n",
              "1    20  137651  10  ...            1             0        0\n",
              "2    70  131060   4  ...            0             0        0\n",
              "3    57  346963  13  ...            0             0        0\n",
              "4    54  183611  10  ...            0             0        0\n",
              "..   ..     ...  ..  ...          ...           ...      ...\n",
              "295  47  155489   9  ...            0             0        0\n",
              "296  18   57413  10  ...            1             0        0\n",
              "297  48  320421   9  ...            0             0        0\n",
              "298  50  174752   9  ...            0             0        0\n",
              "299  40  229364  14  ...            0             0        0\n",
              "\n",
              "[300 rows x 51 columns]"
            ]
          },
          "metadata": {},
          "execution_count": 104
        }
      ]
    },
    {
      "cell_type": "code",
      "metadata": {
        "id": "0G_Zhck-VtGi"
      },
      "source": [
        "TRAIN = df3.iloc[:250]\n",
        "TEST = df3.iloc[-50:]\n",
        "\n",
        "X_train = TRAIN.drop(columns=[8]).reset_index(drop=True).to_numpy()\n",
        "X_test = TEST.drop(columns=[8]).reset_index(drop=True).to_numpy()\n",
        "\n",
        "Y_train = TRAIN[8].reset_index(drop=True).to_numpy()\n",
        "Y_test = TEST[8].reset_index(drop=True).to_numpy()"
      ],
      "execution_count": null,
      "outputs": []
    },
    {
      "cell_type": "code",
      "metadata": {
        "id": "Jg5RIvGeIMlv"
      },
      "source": [
        "class NB():\n",
        "\n",
        "    def fit(self, X, y):\n",
        "        self.X, self.y = X, y\n",
        "        self.classes = np.unique(y)\n",
        "        self.parameters = []\n",
        "        for i, c in enumerate(self.classes):\n",
        "            X_where_c = X[np.where(y == c)]\n",
        "            self.parameters.append([])\n",
        "\n",
        "            for col in X_where_c.T:\n",
        "                parameters = {'mean': col.mean(),'var': col.var()}\n",
        "                self.parameters[i].append(parameters)\n",
        "\n",
        "    def classify(self, sample):\n",
        "        posteriors = []\n",
        "        for i, c in enumerate(self.classes):\n",
        "            posterior = np.mean(self.y == c)\n",
        "            for feature_value, param in zip(sample, self.parameters[i]):\n",
        "                probability = (1.0 / math.sqrt(2.0 * math.pi * param['var'] + 1e-4)) * (math.exp(-(math.pow(feature_value - param['mean'], 2) / (2 * param['var'] + 1e-4))))\n",
        "                posterior *= probability\n",
        "            posteriors.append(posterior)\n",
        "        return self.classes[np.argmax(posteriors)]\n",
        "\n",
        "    def predict(self, X):\n",
        "        y_pred = [self.classify(sample) for sample in X]\n",
        "        return y_pred"
      ],
      "execution_count": null,
      "outputs": []
    },
    {
      "cell_type": "code",
      "metadata": {
        "id": "nbmsIgtrRHzl"
      },
      "source": [
        "clf = NB()\n",
        "clf.fit(X_train, Y_train)\n",
        "y_pred = clf.predict(X_test)"
      ],
      "execution_count": null,
      "outputs": []
    },
    {
      "cell_type": "markdown",
      "metadata": {
        "id": "YzYyoM7wI1G5"
      },
      "source": [
        "###Оцінка"
      ]
    },
    {
      "cell_type": "code",
      "metadata": {
        "id": "E_eOyy9gYHKk"
      },
      "source": [
        "def metric(Y_test, y_pred):\n",
        "  print('accuracy', accuracy_score(Y_test, y_pred))\n",
        "  print('precision', precision_score( Y_test, y_pred, average = 'macro'))\n",
        "  print('recall', recall_score(Y_test, y_pred, average = 'macro'))\n",
        "  print('F1', f1_score(Y_test, y_pred, average='macro'))\n",
        "  print('MCC', matthews_corrcoef(Y_test, y_pred))\n",
        "  print('Kappa Cohen', cohen_kappa_score(Y_test, y_pred))\n",
        "  print('Confusion Matrix\\n', confusion_matrix(Y_test, y_pred))"
      ],
      "execution_count": null,
      "outputs": []
    },
    {
      "cell_type": "code",
      "metadata": {
        "id": "g-HWZHKpYNeI",
        "colab": {
          "base_uri": "https://localhost:8080/"
        },
        "outputId": "1de6abfd-19e2-4755-940d-c0f5bf793ce6"
      },
      "source": [
        "metric(Y_test, y_pred)"
      ],
      "execution_count": null,
      "outputs": [
        {
          "output_type": "stream",
          "name": "stdout",
          "text": [
            "accuracy 0.36\n",
            "precision 0.26153846153846155\n",
            "recall 0.33030303030303027\n",
            "F1 0.19655172413793104\n",
            "MCC 0.20235912598690803\n",
            "Kappa Cohen 0.11406423034330004\n",
            "Confusion Matrix\n",
            " [[ 0  0  0  0  0]\n",
            " [ 0  3  0  0  0]\n",
            " [ 1  1  1  0  0]\n",
            " [ 0  0  0  0  0]\n",
            " [ 7  9 12  2 14]]\n"
          ]
        },
        {
          "output_type": "stream",
          "name": "stderr",
          "text": [
            "/usr/local/lib/python3.7/dist-packages/sklearn/metrics/_classification.py:1308: UndefinedMetricWarning:\n",
            "\n",
            "Recall is ill-defined and being set to 0.0 in labels with no true samples. Use `zero_division` parameter to control this behavior.\n",
            "\n"
          ]
        }
      ]
    },
    {
      "cell_type": "code",
      "metadata": {
        "colab": {
          "base_uri": "https://localhost:8080/"
        },
        "id": "HHResMjGOsZ2",
        "outputId": "cc92eecb-befc-4deb-9437-8844d056d188"
      },
      "source": [
        "skplt.metrics.plot_confusion_matrix(Y_test, y_pred, figsize=(6,6))"
      ],
      "execution_count": null,
      "outputs": [
        {
          "output_type": "execute_result",
          "data": {
            "text/plain": [
              "<matplotlib.axes._subplots.AxesSubplot at 0x7fdb867b4890>"
            ]
          },
          "metadata": {},
          "execution_count": 110
        },
        {
          "output_type": "display_data",
          "data": {
            "image/png": "[encoded data removed]",
            "text/plain": [
              "<Figure size 432x432 with 2 Axes>"
            ]
          },
          "metadata": {
            "needs_background": "light"
          }
        }
      ]
    },
    {
      "cell_type": "markdown",
      "metadata": {
        "id": "sOBP-kAHJAOR"
      },
      "source": [
        "###K-Fold cross validation"
      ]
    },
    {
      "cell_type": "code",
      "metadata": {
        "id": "j4AEf7kjY04_"
      },
      "source": [
        "S0=(df3[:50]).reset_index(drop=True)\n",
        "S1=(df3[50:100]).reset_index(drop=True)\n",
        "S2=(df3[100:150]).reset_index(drop=True)\n",
        "S3=(df3[150:200]).reset_index(drop=True)\n",
        "S4=(df3[200:250]).reset_index(drop=True)\n",
        "S5=(df3[-50:]).reset_index(drop=True)\n",
        "\n",
        "set0=pd.concat([S4,S3,S5,S1,S2], ignore_index=True)\n",
        "set1=pd.concat([S4,S2,S0,S3,S5], ignore_index=True)\n",
        "set2=pd.concat([S1,S0,S4,S5,S3], ignore_index=True)\n",
        "set3=pd.concat([S0,S5,S4,S1,S2], ignore_index=True)\n",
        "set4=pd.concat([S3,S2,S1,S5,S0], ignore_index=True)\n",
        "set5=pd.concat([S3,S2,S1,S4,S0], ignore_index=True)"
      ],
      "execution_count": null,
      "outputs": []
    },
    {
      "cell_type": "code",
      "metadata": {
        "id": "a8jU80k4Zx72"
      },
      "source": [
        "def k_fold(KFV_train, KFV_test):\n",
        "  \n",
        "    KFV_x_train = KFV_train.drop(columns=[8]).reset_index(drop=True).to_numpy()\n",
        "    KFV_y_train = KFV_train[8].reset_index(drop=True).to_numpy()\n",
        "\n",
        "    KFV_x_test = KFV_test.drop(columns=[8]).reset_index(drop=True).to_numpy()\n",
        "    KFV_y_test = KFV_test[8].reset_index(drop=True).to_numpy()\n",
        "\n",
        "    clf = NB()\n",
        "    clf.fit(KFV_x_train, KFV_y_train)\n",
        "    KFV_predict = clf.predict(KFV_x_test)\n",
        "    print('accuracy', accuracy_score(KFV_y_test, KFV_predict))"
      ],
      "execution_count": null,
      "outputs": []
    },
    {
      "cell_type": "code",
      "metadata": {
        "id": "bc-KaiROanMy",
        "colab": {
          "base_uri": "https://localhost:8080/"
        },
        "outputId": "b5989551-997c-4aa6-ac6c-b4c86167dd36"
      },
      "source": [
        "k_fold(set0, S0)\n",
        "k_fold(set1, S1)\n",
        "k_fold(set2, S2)\n",
        "k_fold(set3, S3)\n",
        "k_fold(set4, S4)\n",
        "k_fold(set5, S5)"
      ],
      "execution_count": null,
      "outputs": [
        {
          "output_type": "stream",
          "name": "stdout",
          "text": [
            "accuracy 0.3\n",
            "accuracy 0.34\n",
            "accuracy 0.24\n",
            "accuracy 0.3\n",
            "accuracy 0.24\n",
            "accuracy 0.36\n"
          ]
        }
      ]
    },
    {
      "cell_type": "code",
      "metadata": {
        "id": "YtoG4spBOqOv"
      },
      "source": [
        "NB_x_train = set5.drop(columns=[8]).reset_index(drop=True).to_numpy()\n",
        "NB_y_train = set5[8].reset_index(drop=True).to_numpy()\n",
        "NB_x_test = S5.drop(columns=[8]).reset_index(drop=True).to_numpy()\n",
        "NB_y_test = S5[8].reset_index(drop=True).to_numpy()\n",
        "\n",
        "clf = NB()\n",
        "clf.fit(NB_x_train, NB_y_train)\n",
        "NB_predict = clf.predict(NB_x_test) "
      ],
      "execution_count": null,
      "outputs": []
    },
    {
      "cell_type": "code",
      "metadata": {
        "colab": {
          "base_uri": "https://localhost:8080/"
        },
        "id": "ilKEH8F0QRcH",
        "outputId": "a6ea5bc4-ab4a-46ae-bffb-6ec444420026"
      },
      "source": [
        "metric(Y_test, y_pred)"
      ],
      "execution_count": null,
      "outputs": [
        {
          "output_type": "stream",
          "name": "stdout",
          "text": [
            "accuracy 0.36\n",
            "precision 0.26153846153846155\n",
            "recall 0.33030303030303027\n",
            "F1 0.19655172413793104\n",
            "MCC 0.20235912598690803\n",
            "Kappa Cohen 0.11406423034330004\n",
            "Confusion Matrix\n",
            " [[ 0  0  0  0  0]\n",
            " [ 0  3  0  0  0]\n",
            " [ 1  1  1  0  0]\n",
            " [ 0  0  0  0  0]\n",
            " [ 7  9 12  2 14]]\n"
          ]
        },
        {
          "output_type": "stream",
          "name": "stderr",
          "text": [
            "/usr/local/lib/python3.7/dist-packages/sklearn/metrics/_classification.py:1308: UndefinedMetricWarning:\n",
            "\n",
            "Recall is ill-defined and being set to 0.0 in labels with no true samples. Use `zero_division` parameter to control this behavior.\n",
            "\n"
          ]
        }
      ]
    },
    {
      "cell_type": "code",
      "metadata": {
        "colab": {
          "base_uri": "https://localhost:8080/"
        },
        "id": "NH-moq4gRzuG",
        "outputId": "38dca188-cb4c-444e-b420-1d9611a210c1"
      },
      "source": [
        "skplt.metrics.plot_confusion_matrix(Y_test, y_pred, figsize=(6,6))"
      ],
      "execution_count": null,
      "outputs": [
        {
          "output_type": "execute_result",
          "data": {
            "text/plain": [
              "<matplotlib.axes._subplots.AxesSubplot at 0x7fdb86c853d0>"
            ]
          },
          "metadata": {},
          "execution_count": 116
        },
        {
          "output_type": "display_data",
          "data": {
            "image/png": "[encoded data removed]",
            "text/plain": [
              "<Figure size 432x432 with 2 Axes>"
            ]
          },
          "metadata": {
            "needs_background": "light"
          }
        }
      ]
    }
  ]
}